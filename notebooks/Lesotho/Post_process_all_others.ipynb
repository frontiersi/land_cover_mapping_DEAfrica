{
 "cells": [
  {
   "cell_type": "markdown",
   "id": "3ecab9f1-1919-4915-862c-e9143e44d159",
   "metadata": {},
   "source": [
    "This notebook applies morphological smoothing and reclassification using 2015 land cover map and external layers."
   ]
  },
  {
   "cell_type": "code",
   "execution_count": 4,
   "id": "a1fb5d20-1648-45df-a3b8-f665cced018d",
   "metadata": {},
   "outputs": [
    {
     "name": "stdout",
     "output_type": "stream",
     "text": [
      "Lethoso bbox:  27.011232336601374 -30.67784748254426 29.4573649650311 -28.57059736718119\n"
     ]
    }
   ],
   "source": [
    "%matplotlib inline\n",
    "import os\n",
    "import datacube\n",
    "import warnings\n",
    "import numpy as np\n",
    "import geopandas as gpd\n",
    "import pandas as pd\n",
    "import xarray as xr\n",
    "import rioxarray\n",
    "from rasterio.enums import Resampling\n",
    "from datacube.utils.cog import write_cog\n",
    "from deafrica_tools.spatial import xr_rasterize\n",
    "from skimage.morphology import binary_dilation,disk\n",
    "from skimage.filters.rank import modal\n",
    "from odc.algo import xr_reproject\n",
    "import matplotlib.pyplot as plt\n",
    "\n",
    "output_crs='epsg:32735' # output crs: WGS84/UTM Zone 35S\n",
    "\n",
    "# file paths\n",
    "lesotho_tiles_shp='Data/Lesotho_boundaries_projected_epsg32735_tiles.shp' # Lesotho tiles shapefile\n",
    "river_network_shp='Data/river_network.shp' # OSM river network data\n",
    "road_network_shp='Data/road_network.shp' # OSM road network data\n",
    "google_building_shp='Data/GoogleBuildingLayer.shp' # google bulding layer\n",
    "road_network_shp='Data/road_network.shp' # OSM road network data\n",
    "classification2015_raster='Data/classification2015.tif' # land cover map of 2015\n",
    "classification2021_raster='Results/Land_cover2021_postproc_step2_mosaic.tif' # land cover map of 2021\n",
    "hand_raster='Data/hand_Lesotho.tif' # Hydrologically adjusted elevations, i.e. height above the nearest drainage (hand)\n",
    "\n",
    "# import Lesotho tiles and get bounding box\n",
    "lesotho_tiles=gpd.read_file(lesotho_tiles_shp).to_crs(output_crs) # get bounding boxes of tiles covering Lesotho\n",
    "tile_bboxes=lesotho_tiles.bounds\n",
    "\n",
    "# load land cover maps\n",
    "landcover2021=rioxarray.open_rasterio(classification2021_raster).astype(np.uint8).squeeze() # import land cover map of 2021\n",
    "landcover2015=rioxarray.open_rasterio(classification2015_raster).astype(np.uint8).squeeze() # import land cover map of 2015\n",
    "landcover2021=landcover2021.rio.reproject(output_crs) # reproject land cover map 2021\n",
    "# remapping pixel values of 2015 land cover map to be consistent with 2021\n",
    "original_class=[11, 12, 21, 22, 23, 24, 31, 33, 41, 42, 43, 44, 51, 61, 62, 71, 72, 73, 74, 75, 13, 14, 25, 32, 34, 35, 36, 37, 52]\n",
    "mapped_class=[1, 1, 2, 2, 3, 14, 4, 5, 6, 6, 7, 8, 9, 10, 11, 12, 12, 12, 15, 13, 0, 0, 0, 0, 0, 0, 0, 0, 0]\n",
    "landcover2015_mapped=landcover2015.copy()\n",
    "crs_copy_2015=landcover2015.rio.crs\n",
    "for i in range(len(original_class)):\n",
    "    landcover2015_mapped=xr.where(landcover2015==original_class[i],mapped_class[i],landcover2015_mapped)\n",
    "del landcover2015\n",
    "if landcover2015_mapped.rio.crs is None: # reassign crs which was lost during last step of using xr.where\n",
    "    landcover2015_mapped.rio.write_crs(crs_copy_2015,inplace=True)\n",
    "if landcover2015_mapped.rio.crs!=output_crs: # reproject 2015 land cover map if needed\n",
    "    landcover2015_mapped=landcover2015_mapped.rio.reproject(resolution=10, dst_crs=output_crs,resampling=Resampling.nearest)\n",
    "\n",
    "# load and pre-process external layers\n",
    "road_network=gpd.read_file(road_network_shp).to_crs(output_crs) # import OSM road network data and reproject\n",
    "road_network=road_network.loc[road_network['surface'].isin(['asphalt', 'paved', 'compacted', 'cobblestone', \n",
    "                                                             'concrete', 'metal', 'paving_stones', \n",
    "                                                             'paving_stones:30'])] # select road network by attributes\n",
    "road_network.geometry=road_network.geometry.buffer(10) # buffer the road network by 10m\n",
    "river_network=gpd.read_file(river_network_shp).to_crs(output_crs) # import OSM river network data and reproject\n",
    "river_network=river_network.loc[river_network['waterway'].isin(['canal','river'])] # select river network by attribute\n",
    "hand=xr.open_dataset(hand_raster,engine=\"rasterio\").squeeze() # import hand layer\n",
    "google_buildings=gpd.read_file(google_building_shp).to_crs(output_crs) # import google bulding layer\n",
    "google_buildings=google_buildings.loc[google_buildings['confidence']>=0.6] # filter out low confidence polygons"
   ]
  },
  {
   "cell_type": "code",
   "execution_count": null,
   "id": "c77d5018-3925-49cf-b357-d28bc8109b09",
   "metadata": {},
   "outputs": [],
   "source": [
    "# loop through tiles for reclassification\n",
    "for i in range(len(tile_bboxes)):\n",
    "    # get tile bbox\n",
    "    x_min,y_min,x_max,y_max=tile_bboxes.iloc[i]\n",
    "    print('Processing tile ',i,'with bbox of ',x_min,y_min,x_max,y_max)\n",
    "    \n",
    "    # clip land cover maps 2015 and 2021 to tile boundary\n",
    "    landcover2021_tile=landcover2021.rio.clip_box(minx=x_min,miny=y_min,maxx=x_max,maxy=y_max)\n",
    "    ds_geobox=landcover2021_tile.geobox # get bbox\n",
    "    np_landcover2021=landcover2021_tile.squeeze().to_numpy() # data array to numpy array\n",
    "    np_landcover2021_post=np_landcover2021.copy() # initialise post-processed numpy array\n",
    "    landcover2015_mapped_tile=xr_reproject(landcover2015_mapped.to_dataset(name='band_data'), ds_geobox, resampling=\"nearest\")\n",
    "    np_landcover2015_mapped=landcover2015_mapped_tile.to_array().squeeze().to_numpy() # dataset to numpy array\n",
    "    \n",
    "    # mode filtering for a smoother classification map\n",
    "    np_landcover2021_post=modal(np_landcover2021,selem=disk(2.5),mask=np_landcover2021!=0)\n",
    "#     carry over mining class of previous year as barren\n",
    "#     np_landcover2021_post[np_landcover2021==13]=12\n",
    "    # carry over gullies of previous year again as some small areas were smoothed out due to median filtering\n",
    "    np_landcover2021_post[np_landcover2015_mapped==15]=15\n",
    "    \n",
    "    # load and clip hand layer\n",
    "    hand=xr_reproject(hand, ds_geobox, resampling=\"average\")\n",
    "    np_hand=hand.to_array().squeeze().to_numpy()\n",
    "    \n",
    "    # Make sure water is (only occuring at bottom of watersheds) or fallen within OSM river networks\n",
    "    river_network_mask=xr_rasterize(gdf=river_network,\n",
    "                                      da=landcover2015_mapped_tile.to_array().squeeze(),\n",
    "                                      transform=ds_geobox.transform,\n",
    "                                      crs=output_crs) # rasterise OSM river network layer\n",
    "    np_river_network_mask=river_network_mask.to_numpy() # data array to numpy array\n",
    "    np_landcover2021_post[((np_landcover2021==6)&(np_hand<=45))|(np_river_network_mask==1)]=6 # apply rules\n",
    "    \n",
    "    # assign pixels overlapping google building polygons as built-up\n",
    "    google_buildings_mask=xr_rasterize(gdf=google_buildings,\n",
    "                                      da=landcover2015_mapped_tile.to_array().squeeze(),\n",
    "                                      transform=ds_geobox.transform,\n",
    "                                      crs=output_crs) # rasterise google building layer\n",
    "    np_google_buildings_mask=google_buildings_mask.to_numpy() # data array to numpy array\n",
    "    np_landcover2021_post[np_google_buildings_mask==1]=1 # burn in building polygons\n",
    "    \n",
    "    # reclassify wetlands around (within 50m of) built-up areas as croplands\n",
    "    urban_buffered=binary_dilation(np_landcover2021==1,selem=disk(5)) # dilating built-up regions\n",
    "    np_landcover2021_post[(urban_buffered==1)&(np_landcover2021==7)]=2 # apply rule\n",
    "    \n",
    "    # assign pixesl overlapping OSM road network as built-up class\n",
    "    road_network_mask=xr_rasterize(gdf=road_network,\n",
    "                                  da=landcover2015_mapped_tile.to_array().squeeze(),\n",
    "                                  transform=ds_geobox.transform,\n",
    "                                  crs=output_crs) # # rasterise OSM road network layer\n",
    "    np_road_network_mask=road_network_mask.to_numpy() # data array to numpy array\n",
    "    np_landcover2021_post[np_road_network_mask==1]=1 # burn in road polygons\n",
    "    \n",
    "    # convert back result back to DataArray\n",
    "    landcover2021_tile_post=xr.DataArray(data=np_landcover2021_post,dims=['y','x'],coords={'y':landcover2021_tile.y.to_numpy(), 'x':landcover2021_tile.x.to_numpy()})\n",
    "    landcover2021_tile_post.rio.write_crs(output_crs, inplace=True)\n",
    "    \n",
    "    # export as geotiff\n",
    "    write_cog(landcover2021_tile_post, 'Results/Land_cover2021_postproc_step3_tile_'+str(i)+'.tif', overwrite=True)"
   ]
  },
  {
   "cell_type": "code",
   "execution_count": 6,
   "id": "880214b8-3feb-4e43-a443-6aca932d0590",
   "metadata": {},
   "outputs": [
    {
     "name": "stdout",
     "output_type": "stream",
     "text": [
      "0...10...20...30...40...50...60...70...80...90...100 - done.\n"
     ]
    }
   ],
   "source": [
    "# merge into a mosaic once all tiles are processed\n",
    "! gdal_merge.py -o Results/Land_cover2021_postproc_step3_mosaic.tif -co COMPRESS=Deflate -ot Byte Results/Land_cover2021_postproc_step3_tile_*.tif"
   ]
  }
 ],
 "metadata": {
  "kernelspec": {
   "display_name": "Python 3 (ipykernel)",
   "language": "python",
   "name": "python3"
  },
  "language_info": {
   "codemirror_mode": {
    "name": "ipython",
    "version": 3
   },
   "file_extension": ".py",
   "mimetype": "text/x-python",
   "name": "python",
   "nbconvert_exporter": "python",
   "pygments_lexer": "ipython3",
   "version": "3.8.10"
  }
 },
 "nbformat": 4,
 "nbformat_minor": 5
}

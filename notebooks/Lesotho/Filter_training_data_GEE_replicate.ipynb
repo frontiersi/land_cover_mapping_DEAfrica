{
 "cells": [
  {
   "cell_type": "markdown",
   "id": "1d84d234-9a98-42e3-a761-a6ddd5b71328",
   "metadata": {},
   "source": [
    "This notebook filters training data on a per-class basis using a reference/baseline land cover map based on k-means clustering. It incudes steps:\n",
    "1. Generate a set of randomly distributed samples for a class using the reference/baseline land cover map\n",
    "2. Extract features of the random samples\n",
    "3. Fit a kmeans clustering model\n",
    "4. Predict clustering labels of the training data\n",
    "5. Filter training points based on cluster frequency\n",
    "6. Merge filtered points for all classes and export filtered data \n",
    "\n",
    "The filtered training data will then be used to train a classifier and produce a land cover classification map in 2021."
   ]
  },
  {
   "cell_type": "code",
   "execution_count": null,
   "id": "7e1a7ca0-5eee-42ef-9e1e-85d0b1db4d5b",
   "metadata": {},
   "outputs": [],
   "source": [
    "%matplotlib inline\n",
    "import os\n",
    "import datacube\n",
    "import warnings\n",
    "import numpy as np\n",
    "import geopandas as gpd\n",
    "import pandas as pd\n",
    "import matplotlib.pyplot as plt\n",
    "import xarray as xr\n",
    "from odc.io.cgroups import get_cpu_quota\n",
    "from odc.algo import xr_geomedian\n",
    "from deafrica_tools.datahandling import load_ard\n",
    "from deafrica_tools.bandindices import calculate_indices\n",
    "from deafrica_tools.classification import collect_training_data\n",
    "from sklearn.cluster import KMeans\n",
    "from sklearn import metrics\n",
    "from rasterio.enums import Resampling\n",
    "from random_sampling import random_sampling # adapted from function by Chad Burton: https://gist.github.com/cbur24/04760d645aa123a3b1817b07786e7d9f\n",
    "\n",
    "# get number of cpus\n",
    "ncpus=round(get_cpu_quota())\n",
    "print('ncpus = '+str(ncpus))\n",
    "\n",
    "# file paths and attributes\n",
    "rf2021_path='Results/landcover2021baseline.tif' # baseline classification map\n",
    "training_data2021='Results/landcover_training_data_2021_GEE.txt' # training data 2021\n",
    "class_name = 'LC_Class_I' # class label in integer format\n",
    "output_crs='epsg:32735' # output crs: WGS84/UTM Zone 35S\n",
    "\n",
    "# load baseline classification map\n",
    "rf_2021_raster = xr.open_dataset(rf2021_path,engine=\"rasterio\").astype(np.uint8).squeeze(\"band\", drop=True)\n",
    "# reproject the raster\n",
    "rf_2021_raster= rf_2021_raster.rio.reproject(resolution=10, dst_crs=output_crs,resampling=Resampling.nearest)\n",
    "print('baseline classifcation raster:\\n',rf_2021_raster)\n",
    "\n",
    "# load training data as geodataframe\n",
    "gdf_training_data2021= gpd.read_file(training_data2021,delimiter=' ').to_crs(output_crs)"
   ]
  },
  {
   "cell_type": "code",
   "execution_count": 5,
   "id": "248b6cde-ba36-45fe-8bdd-1dc3260db33a",
   "metadata": {},
   "outputs": [],
   "source": [
    "# define ODC query\n",
    "measurements = ['blue','green','red','red_edge_1','red_edge_2', 'red_edge_3','nir_1','nir_2','swir_1','swir_2']\n",
    "query = {\n",
    "    'time': ('2021-01', '2021-12'),\n",
    "    'measurements': measurements,\n",
    "    'output_crs': output_crs,\n",
    "    'resolution': (-10, 10)\n",
    "}\n",
    "\n",
    "# define a function to feature layers\n",
    "def feature_layers(query): \n",
    "    #connect to the datacube\n",
    "    dc = datacube.Datacube(app='feature_layers')\n",
    "    # query bands\n",
    "    ds = load_ard(dc=dc,\n",
    "                  products=['s2_l2a'],\n",
    "                  group_by='solar_day',\n",
    "                  verbose=False,\n",
    "                  **query)\n",
    "    # calculate NDVI\n",
    "    ds = calculate_indices(ds,\n",
    "                           index=['NDVI'],\n",
    "                           drop=False,\n",
    "                           satellite_mission='s2')\n",
    "    # scale NDVI\n",
    "    ds['NDVI']=ds['NDVI']*10000\n",
    "    # calculate geomedians within each two-month interval\n",
    "    ds=ds.resample(time='2MS').map(xr_geomedian)\n",
    "    # interpolate nodata using mean of previous and next observation\n",
    "    ds=ds.interpolate_na(dim='time',method='linear',use_coordinate=False,fill_value='extrapolate').astype(np.int16)\n",
    "    # replace nan with a value so that the collect_training_data function will work\n",
    "#     ds=ds.fillna(fill_nan_value)\n",
    "    # stack multi-temporal measurements and rename them\n",
    "    n_time=ds.dims['time']\n",
    "    list_measurements=list(ds.keys())\n",
    "    list_stack_measures=[]\n",
    "    for j in range(len(list_measurements)):\n",
    "        for k in range(n_time):\n",
    "            variable_name=list_measurements[j]+'_'+str(k)\n",
    "            # print ('Stacking band ',list_measurements[j],' at time ',k)\n",
    "            measure_single=ds[list_measurements[j]].isel(time=k).rename(variable_name)\n",
    "            list_stack_measures.append(measure_single)\n",
    "    ds_stacked=xr.merge(list_stack_measures,compat='override')\n",
    "    return ds_stacked"
   ]
  },
  {
   "cell_type": "code",
   "execution_count": 6,
   "id": "153398d1-7cdf-4812-8d49-a58b646b7c4b",
   "metadata": {},
   "outputs": [
    {
     "name": "stdout",
     "output_type": "stream",
     "text": [
      "Processing class  1.0\n",
      "Class 1.0: sampling at 1000 coordinates\n",
      "radomly sampled points for class  1.0 \n",
      "                            geometry  LC_Class_I\n",
      "0    POINT (562566.582 6746136.183)           1\n",
      "1    POINT (600666.582 6661816.183)           1\n",
      "2    POINT (542386.582 6737866.183)           1\n",
      "3    POINT (542716.582 6667676.183)           1\n",
      "4    POINT (682666.582 6677616.183)           1\n",
      "..                              ...         ...\n",
      "995  POINT (545446.582 6753356.183)           1\n",
      "996  POINT (531116.582 6719206.183)           1\n",
      "997  POINT (551496.582 6744056.183)           1\n",
      "998  POINT (532696.582 6683606.183)           1\n",
      "999  POINT (592076.582 6786006.183)           1\n",
      "\n",
      "[1000 rows x 2 columns]\n",
      "Collecting training data in parallel mode\n"
     ]
    },
    {
     "data": {
      "application/vnd.jupyter.widget-view+json": {
       "model_id": "b6c417789e184928ac6bdfa8fbfe5191",
       "version_major": 2,
       "version_minor": 0
      },
      "text/plain": [
       "  0%|          | 0/1000 [00:00<?, ?it/s]"
      ]
     },
     "metadata": {},
     "output_type": "display_data"
    },
    {
     "name": "stdout",
     "output_type": "stream",
     "text": [
      "Percentage of possible fails after run 1 = 0.0 %\n",
      "Removed 0 rows wth NaNs &/or Infs\n",
      "Output shape:  (1000, 67)\n",
      "Calinski-Harabasz score for  2  clusters is:  449.6185325600296\n",
      "Calinski-Harabasz score for  3  clusters is:  420.3190018740609\n",
      "Calinski-Harabasz score for  4  clusters is:  349.7360664604567\n",
      "Calinski-Harabasz score for  5  clusters is:  305.96864591571796\n",
      "Best number of clusters for class 1.0: 2\n",
      "Number of training data after filtering using reference map:  54\n",
      "Number of training data after filtering based on frequency:  54\n",
      "Processing class  7.0\n"
     ]
    },
    {
     "name": "stderr",
     "output_type": "stream",
     "text": [
      "/usr/local/lib/python3.8/dist-packages/geopandas/geodataframe.py:1456: SettingWithCopyWarning: \n",
      "A value is trying to be set on a copy of a slice from a DataFrame.\n",
      "Try using .loc[row_indexer,col_indexer] = value instead\n",
      "\n",
      "See the caveats in the documentation: https://pandas.pydata.org/pandas-docs/stable/user_guide/indexing.html#returning-a-view-versus-a-copy\n",
      "  super().__setitem__(key, value)\n"
     ]
    },
    {
     "name": "stdout",
     "output_type": "stream",
     "text": [
      "Class 7.0: sampling at 1000 coordinates\n",
      "radomly sampled points for class  7.0 \n",
      "                            geometry  LC_Class_I\n",
      "0    POINT (614106.582 6699396.183)           7\n",
      "1    POINT (680306.582 6727516.183)           7\n",
      "2    POINT (647836.582 6771976.183)           7\n",
      "3    POINT (546476.582 6727066.183)           7\n",
      "4    POINT (585756.582 6733776.183)           7\n",
      "..                              ...         ...\n",
      "995  POINT (631296.582 6799836.183)           7\n",
      "996  POINT (594576.582 6795626.183)           7\n",
      "997  POINT (630136.582 6822906.183)           7\n",
      "998  POINT (628476.582 6760536.183)           7\n",
      "999  POINT (593286.582 6715866.183)           7\n",
      "\n",
      "[1000 rows x 2 columns]\n",
      "Collecting training data in parallel mode\n"
     ]
    },
    {
     "data": {
      "application/vnd.jupyter.widget-view+json": {
       "model_id": "70e687f5e7f1486292d9e4cbbfcda03f",
       "version_major": 2,
       "version_minor": 0
      },
      "text/plain": [
       "  0%|          | 0/1000 [00:00<?, ?it/s]"
      ]
     },
     "metadata": {},
     "output_type": "display_data"
    },
    {
     "name": "stdout",
     "output_type": "stream",
     "text": [
      "Percentage of possible fails after run 1 = 0.0 %\n",
      "Removed 0 rows wth NaNs &/or Infs\n",
      "Output shape:  (1000, 67)\n",
      "Calinski-Harabasz score for  2  clusters is:  274.680044033439\n",
      "Calinski-Harabasz score for  3  clusters is:  250.71896485677942\n",
      "Calinski-Harabasz score for  4  clusters is:  211.07946627898912\n",
      "Calinski-Harabasz score for  5  clusters is:  183.65239253645424\n",
      "Best number of clusters for class 7.0: 2\n",
      "Number of training data after filtering using reference map:  389\n",
      "Number of training data after filtering based on frequency:  389\n"
     ]
    },
    {
     "name": "stderr",
     "output_type": "stream",
     "text": [
      "/usr/local/lib/python3.8/dist-packages/geopandas/geodataframe.py:1456: SettingWithCopyWarning: \n",
      "A value is trying to be set on a copy of a slice from a DataFrame.\n",
      "Try using .loc[row_indexer,col_indexer] = value instead\n",
      "\n",
      "See the caveats in the documentation: https://pandas.pydata.org/pandas-docs/stable/user_guide/indexing.html#returning-a-view-versus-a-copy\n",
      "  super().__setitem__(key, value)\n"
     ]
    },
    {
     "name": "stdout",
     "output_type": "stream",
     "text": [
      "Processing class  2.0\n",
      "Class 2.0: sampling at 1000 coordinates\n",
      "radomly sampled points for class  2.0 \n",
      "                            geometry  LC_Class_I\n",
      "0    POINT (531726.582 6665546.183)           2\n",
      "1    POINT (597496.582 6783976.183)           2\n",
      "2    POINT (537446.582 6736946.183)           2\n",
      "3    POINT (554116.582 6636376.183)           2\n",
      "4    POINT (596906.582 6661576.183)           2\n",
      "..                              ...         ...\n",
      "995  POINT (542806.582 6731776.183)           2\n",
      "996  POINT (551376.582 6713266.183)           2\n",
      "997  POINT (597226.582 6771006.183)           2\n",
      "998  POINT (532476.582 6688986.183)           2\n",
      "999  POINT (613656.582 6785696.183)           2\n",
      "\n",
      "[1000 rows x 2 columns]\n",
      "Collecting training data in parallel mode\n"
     ]
    },
    {
     "data": {
      "application/vnd.jupyter.widget-view+json": {
       "model_id": "83d6fb1d0c954445b3c49366e04aff0c",
       "version_major": 2,
       "version_minor": 0
      },
      "text/plain": [
       "  0%|          | 0/1000 [00:00<?, ?it/s]"
      ]
     },
     "metadata": {},
     "output_type": "display_data"
    },
    {
     "name": "stdout",
     "output_type": "stream",
     "text": [
      "Percentage of possible fails after run 1 = 0.0 %\n",
      "Removed 0 rows wth NaNs &/or Infs\n",
      "Output shape:  (1000, 67)\n",
      "Calinski-Harabasz score for  2  clusters is:  874.6949797696825\n",
      "Calinski-Harabasz score for  3  clusters is:  685.6921038788735\n",
      "Calinski-Harabasz score for  4  clusters is:  559.2286652606849\n",
      "Calinski-Harabasz score for  5  clusters is:  488.7561467763753\n",
      "Best number of clusters for class 2.0: 2\n",
      "Number of training data after filtering using reference map:  492\n",
      "Number of training data after filtering based on frequency:  492\n"
     ]
    },
    {
     "name": "stderr",
     "output_type": "stream",
     "text": [
      "/usr/local/lib/python3.8/dist-packages/geopandas/geodataframe.py:1456: SettingWithCopyWarning: \n",
      "A value is trying to be set on a copy of a slice from a DataFrame.\n",
      "Try using .loc[row_indexer,col_indexer] = value instead\n",
      "\n",
      "See the caveats in the documentation: https://pandas.pydata.org/pandas-docs/stable/user_guide/indexing.html#returning-a-view-versus-a-copy\n",
      "  super().__setitem__(key, value)\n"
     ]
    },
    {
     "name": "stdout",
     "output_type": "stream",
     "text": [
      "Processing class  10.0\n",
      "Class 10.0: sampling at 1000 coordinates\n",
      "radomly sampled points for class  10.0 \n",
      "                            geometry  LC_Class_I\n",
      "0    POINT (694076.582 6757586.183)          10\n",
      "1    POINT (689486.582 6677936.183)          10\n",
      "2    POINT (593616.582 6693516.183)          10\n",
      "3    POINT (653406.582 6698546.183)          10\n",
      "4    POINT (590396.582 6621456.183)          10\n",
      "..                              ...         ...\n",
      "995  POINT (686266.582 6790206.183)          10\n",
      "996  POINT (638046.582 6773816.183)          10\n",
      "997  POINT (594006.582 6629026.183)          10\n",
      "998  POINT (694576.582 6731036.183)          10\n",
      "999  POINT (566756.582 6769716.183)          10\n",
      "\n",
      "[1000 rows x 2 columns]\n",
      "Collecting training data in parallel mode\n"
     ]
    },
    {
     "data": {
      "application/vnd.jupyter.widget-view+json": {
       "model_id": "7508015e423449e7947308f9a7587761",
       "version_major": 2,
       "version_minor": 0
      },
      "text/plain": [
       "  0%|          | 0/1000 [00:00<?, ?it/s]"
      ]
     },
     "metadata": {},
     "output_type": "display_data"
    },
    {
     "name": "stdout",
     "output_type": "stream",
     "text": [
      "Percentage of possible fails after run 1 = 0.0 %\n",
      "Removed 0 rows wth NaNs &/or Infs\n",
      "Output shape:  (1000, 67)\n",
      "Calinski-Harabasz score for  2  clusters is:  419.969063439913\n",
      "Calinski-Harabasz score for  3  clusters is:  450.62158189540736\n",
      "Calinski-Harabasz score for  4  clusters is:  383.0545854692194\n",
      "Calinski-Harabasz score for  5  clusters is:  352.2681206161454\n",
      "Best number of clusters for class 10.0: 3\n",
      "Number of training data after filtering using reference map:  1011\n",
      "Number of training data after filtering based on frequency:  1011\n"
     ]
    },
    {
     "name": "stderr",
     "output_type": "stream",
     "text": [
      "/usr/local/lib/python3.8/dist-packages/geopandas/geodataframe.py:1456: SettingWithCopyWarning: \n",
      "A value is trying to be set on a copy of a slice from a DataFrame.\n",
      "Try using .loc[row_indexer,col_indexer] = value instead\n",
      "\n",
      "See the caveats in the documentation: https://pandas.pydata.org/pandas-docs/stable/user_guide/indexing.html#returning-a-view-versus-a-copy\n",
      "  super().__setitem__(key, value)\n"
     ]
    },
    {
     "name": "stdout",
     "output_type": "stream",
     "text": [
      "Processing class  9.0\n",
      "Class 9.0: sampling at 1000 coordinates\n",
      "radomly sampled points for class  9.0 \n",
      "                            geometry  LC_Class_I\n",
      "0    POINT (574696.582 6756976.183)           9\n",
      "1    POINT (571626.582 6688316.183)           9\n",
      "2    POINT (568146.582 6713006.183)           9\n",
      "3    POINT (616726.582 6743026.183)           9\n",
      "4    POINT (614416.582 6785966.183)           9\n",
      "..                              ...         ...\n",
      "995  POINT (626226.582 6767996.183)           9\n",
      "996  POINT (593006.582 6760236.183)           9\n",
      "997  POINT (608536.582 6688306.183)           9\n",
      "998  POINT (548166.582 6699056.183)           9\n",
      "999  POINT (659296.582 6788726.183)           9\n",
      "\n",
      "[1000 rows x 2 columns]\n",
      "Collecting training data in parallel mode\n"
     ]
    },
    {
     "data": {
      "application/vnd.jupyter.widget-view+json": {
       "model_id": "0be199a155de43509e36a7bd6245145e",
       "version_major": 2,
       "version_minor": 0
      },
      "text/plain": [
       "  0%|          | 0/1000 [00:00<?, ?it/s]"
      ]
     },
     "metadata": {},
     "output_type": "display_data"
    },
    {
     "name": "stdout",
     "output_type": "stream",
     "text": [
      "Percentage of possible fails after run 1 = 0.0 %\n",
      "Removed 0 rows wth NaNs &/or Infs\n",
      "Output shape:  (1000, 67)\n",
      "Calinski-Harabasz score for  2  clusters is:  486.15135016391827\n",
      "Calinski-Harabasz score for  3  clusters is:  438.13766977054496\n",
      "Calinski-Harabasz score for  4  clusters is:  356.08493395382544\n",
      "Calinski-Harabasz score for  5  clusters is:  311.84972809475187\n",
      "Best number of clusters for class 9.0: 2\n",
      "Number of training data after filtering using reference map:  345\n",
      "Number of training data after filtering based on frequency:  345\n"
     ]
    },
    {
     "name": "stderr",
     "output_type": "stream",
     "text": [
      "/usr/local/lib/python3.8/dist-packages/geopandas/geodataframe.py:1456: SettingWithCopyWarning: \n",
      "A value is trying to be set on a copy of a slice from a DataFrame.\n",
      "Try using .loc[row_indexer,col_indexer] = value instead\n",
      "\n",
      "See the caveats in the documentation: https://pandas.pydata.org/pandas-docs/stable/user_guide/indexing.html#returning-a-view-versus-a-copy\n",
      "  super().__setitem__(key, value)\n"
     ]
    },
    {
     "name": "stdout",
     "output_type": "stream",
     "text": [
      "Processing class  12.0\n",
      "Class 12.0: sampling at 1000 coordinates\n",
      "radomly sampled points for class  12.0 \n",
      "                            geometry  LC_Class_I\n",
      "0    POINT (624126.582 6805446.183)          12\n",
      "1    POINT (524506.582 6716326.183)          12\n",
      "2    POINT (714916.582 6776046.183)          12\n",
      "3    POINT (563776.582 6776426.183)          12\n",
      "4    POINT (606146.582 6795096.183)          12\n",
      "..                              ...         ...\n",
      "995  POINT (539126.582 6654876.183)          12\n",
      "996  POINT (572506.582 6769886.183)          12\n",
      "997  POINT (544306.582 6752856.183)          12\n",
      "998  POINT (622596.582 6684546.183)          12\n",
      "999  POINT (634566.582 6683426.183)          12\n",
      "\n",
      "[1000 rows x 2 columns]\n",
      "Collecting training data in parallel mode\n"
     ]
    },
    {
     "data": {
      "application/vnd.jupyter.widget-view+json": {
       "model_id": "584eb28dcd404b03a5ac6be6d19ff189",
       "version_major": 2,
       "version_minor": 0
      },
      "text/plain": [
       "  0%|          | 0/1000 [00:00<?, ?it/s]"
      ]
     },
     "metadata": {},
     "output_type": "display_data"
    },
    {
     "name": "stderr",
     "output_type": "stream",
     "text": [
      "/usr/local/lib/python3.8/dist-packages/odc/algo/_geomedian.py:106: RuntimeWarning: Mean of empty slice\n",
      "  data = nangeomedian_pcm(xx_data, **kw)\n"
     ]
    },
    {
     "name": "stdout",
     "output_type": "stream",
     "text": [
      "Percentage of possible fails after run 1 = 0.0 %\n",
      "Removed 0 rows wth NaNs &/or Infs\n",
      "Output shape:  (1000, 67)\n",
      "Calinski-Harabasz score for  2  clusters is:  872.6168801501209\n",
      "Calinski-Harabasz score for  3  clusters is:  929.1007756690589\n",
      "Calinski-Harabasz score for  4  clusters is:  801.7783376259185\n",
      "Calinski-Harabasz score for  5  clusters is:  704.0620664263389\n",
      "Best number of clusters for class 12.0: 3\n",
      "Number of training data after filtering using reference map:  98\n",
      "Number of training data after filtering based on frequency:  98\n",
      "Processing class  6.0\n"
     ]
    },
    {
     "name": "stderr",
     "output_type": "stream",
     "text": [
      "/usr/local/lib/python3.8/dist-packages/geopandas/geodataframe.py:1456: SettingWithCopyWarning: \n",
      "A value is trying to be set on a copy of a slice from a DataFrame.\n",
      "Try using .loc[row_indexer,col_indexer] = value instead\n",
      "\n",
      "See the caveats in the documentation: https://pandas.pydata.org/pandas-docs/stable/user_guide/indexing.html#returning-a-view-versus-a-copy\n",
      "  super().__setitem__(key, value)\n"
     ]
    },
    {
     "name": "stdout",
     "output_type": "stream",
     "text": [
      "Class 6.0: sampling at 1000 coordinates\n",
      "radomly sampled points for class  6.0 \n",
      "                            geometry  LC_Class_I\n",
      "0    POINT (649406.582 6786386.183)           6\n",
      "1    POINT (642086.582 6762106.183)           6\n",
      "2    POINT (556296.582 6640796.183)           6\n",
      "3    POINT (658276.582 6676146.183)           6\n",
      "4    POINT (560126.582 6650746.183)           6\n",
      "..                              ...         ...\n",
      "995  POINT (645036.582 6757196.183)           6\n",
      "996  POINT (572466.582 6649876.183)           6\n",
      "997  POINT (606426.582 6743466.183)           6\n",
      "998  POINT (603186.582 6744836.183)           6\n",
      "999  POINT (540556.582 6751206.183)           6\n",
      "\n",
      "[1000 rows x 2 columns]\n",
      "Collecting training data in parallel mode\n"
     ]
    },
    {
     "data": {
      "application/vnd.jupyter.widget-view+json": {
       "model_id": "a2d11bb65fb94747a0bc5bd8230ae2bd",
       "version_major": 2,
       "version_minor": 0
      },
      "text/plain": [
       "  0%|          | 0/1000 [00:00<?, ?it/s]"
      ]
     },
     "metadata": {},
     "output_type": "display_data"
    },
    {
     "name": "stdout",
     "output_type": "stream",
     "text": [
      "Percentage of possible fails after run 1 = 0.0 %\n",
      "Removed 0 rows wth NaNs &/or Infs\n",
      "Output shape:  (1000, 67)\n",
      "Calinski-Harabasz score for  2  clusters is:  1275.7316621291757\n",
      "Calinski-Harabasz score for  3  clusters is:  1267.8402522840008\n",
      "Calinski-Harabasz score for  4  clusters is:  1071.2714567823873\n",
      "Calinski-Harabasz score for  5  clusters is:  901.998263234913\n",
      "Best number of clusters for class 6.0: 2\n",
      "Number of training data after filtering using reference map:  165\n",
      "Number of training data after filtering based on frequency:  165\n"
     ]
    },
    {
     "name": "stderr",
     "output_type": "stream",
     "text": [
      "/usr/local/lib/python3.8/dist-packages/geopandas/geodataframe.py:1456: SettingWithCopyWarning: \n",
      "A value is trying to be set on a copy of a slice from a DataFrame.\n",
      "Try using .loc[row_indexer,col_indexer] = value instead\n",
      "\n",
      "See the caveats in the documentation: https://pandas.pydata.org/pandas-docs/stable/user_guide/indexing.html#returning-a-view-versus-a-copy\n",
      "  super().__setitem__(key, value)\n"
     ]
    },
    {
     "name": "stdout",
     "output_type": "stream",
     "text": [
      "Processing class  4.0\n",
      "Class 4.0: sampling at 1000 coordinates\n",
      "radomly sampled points for class  4.0 \n",
      "                            geometry  LC_Class_I\n",
      "0    POINT (566666.582 6764666.183)           4\n",
      "1    POINT (628286.582 6824436.183)           4\n",
      "2    POINT (603016.582 6800586.183)           4\n",
      "3    POINT (563846.582 6645256.183)           4\n",
      "4    POINT (559006.582 6716366.183)           4\n",
      "..                              ...         ...\n",
      "995  POINT (635096.582 6800906.183)           4\n",
      "996  POINT (641506.582 6811946.183)           4\n",
      "997  POINT (591856.582 6767676.183)           4\n",
      "998  POINT (581426.582 6624816.183)           4\n",
      "999  POINT (611886.582 6735756.183)           4\n",
      "\n",
      "[1000 rows x 2 columns]\n",
      "Collecting training data in parallel mode\n"
     ]
    },
    {
     "data": {
      "application/vnd.jupyter.widget-view+json": {
       "model_id": "f7c4f5bddce945829dca5d3872525a80",
       "version_major": 2,
       "version_minor": 0
      },
      "text/plain": [
       "  0%|          | 0/1000 [00:00<?, ?it/s]"
      ]
     },
     "metadata": {},
     "output_type": "display_data"
    },
    {
     "name": "stdout",
     "output_type": "stream",
     "text": [
      "Percentage of possible fails after run 1 = 0.0 %\n",
      "Removed 0 rows wth NaNs &/or Infs\n",
      "Output shape:  (1000, 67)\n",
      "Calinski-Harabasz score for  2  clusters is:  327.0477412489597\n",
      "Calinski-Harabasz score for  3  clusters is:  265.1471117570227\n",
      "Calinski-Harabasz score for  4  clusters is:  226.4567437749835\n",
      "Calinski-Harabasz score for  5  clusters is:  201.22782385523516\n",
      "Best number of clusters for class 4.0: 2\n",
      "Number of training data after filtering using reference map:  566\n",
      "Number of training data after filtering based on frequency:  566\n"
     ]
    },
    {
     "name": "stderr",
     "output_type": "stream",
     "text": [
      "/usr/local/lib/python3.8/dist-packages/geopandas/geodataframe.py:1456: SettingWithCopyWarning: \n",
      "A value is trying to be set on a copy of a slice from a DataFrame.\n",
      "Try using .loc[row_indexer,col_indexer] = value instead\n",
      "\n",
      "See the caveats in the documentation: https://pandas.pydata.org/pandas-docs/stable/user_guide/indexing.html#returning-a-view-versus-a-copy\n",
      "  super().__setitem__(key, value)\n"
     ]
    },
    {
     "name": "stdout",
     "output_type": "stream",
     "text": [
      "Processing class  14.0\n",
      "Class 14.0: sampling at 1000 coordinates\n",
      "radomly sampled points for class  14.0 \n",
      "                            geometry  LC_Class_I\n",
      "0    POINT (558536.582 6644266.183)          14\n",
      "1    POINT (537326.582 6706766.183)          14\n",
      "2    POINT (570326.582 6791476.183)          14\n",
      "3    POINT (589536.582 6641636.183)          14\n",
      "4    POINT (570366.582 6791256.183)          14\n",
      "..                              ...         ...\n",
      "995  POINT (567116.582 6638566.183)          14\n",
      "996  POINT (560166.582 6631566.183)          14\n",
      "997  POINT (531026.582 6673936.183)          14\n",
      "998  POINT (626916.582 6808026.183)          14\n",
      "999  POINT (566926.582 6628686.183)          14\n",
      "\n",
      "[1000 rows x 2 columns]\n",
      "Collecting training data in parallel mode\n"
     ]
    },
    {
     "data": {
      "application/vnd.jupyter.widget-view+json": {
       "model_id": "47d8819ee4814ab79b60a66a19880661",
       "version_major": 2,
       "version_minor": 0
      },
      "text/plain": [
       "  0%|          | 0/1000 [00:00<?, ?it/s]"
      ]
     },
     "metadata": {},
     "output_type": "display_data"
    },
    {
     "name": "stdout",
     "output_type": "stream",
     "text": [
      "Percentage of possible fails after run 1 = 0.0 %\n",
      "Removed 0 rows wth NaNs &/or Infs\n",
      "Output shape:  (1000, 67)\n",
      "Calinski-Harabasz score for  2  clusters is:  382.27341619360374\n",
      "Calinski-Harabasz score for  3  clusters is:  335.2928472820683\n",
      "Calinski-Harabasz score for  4  clusters is:  298.2932886791621\n",
      "Calinski-Harabasz score for  5  clusters is:  271.2812999473915\n",
      "Best number of clusters for class 14.0: 2\n",
      "Number of training data after filtering using reference map:  17\n",
      "Number of training data after filtering based on frequency:  17\n",
      "filtered training data:\n",
      "       LC_Class_I  blue_0  blue_1  blue_2  blue_3  blue_4  blue_5  green_0  \\\n",
      "0            1.0   530.0   526.0   772.0   876.0   640.0   602.0    862.0   \n",
      "2            1.0   923.0   835.0   834.0   918.0  1020.0  1108.0   1185.0   \n",
      "3            1.0   616.0   525.0   574.0   603.0   676.0   884.0    875.0   \n",
      "6            1.0   885.0   652.0   821.0   988.0   957.0   836.0   1211.0   \n",
      "7            1.0  1267.0  1093.0  1062.0  1128.0  1286.0  1395.0   1803.0   \n",
      "...          ...     ...     ...     ...     ...     ...     ...      ...   \n",
      "3470        14.0   346.0   382.0   476.0   575.0   729.0   474.0    720.0   \n",
      "3471        14.0   380.0   375.0   400.0   742.0   838.0   584.0    790.0   \n",
      "3472        14.0   429.0   358.0   446.0   563.0   684.0   424.0    839.0   \n",
      "3488        14.0   453.0   354.0   349.0   389.0   418.0   501.0    691.0   \n",
      "3493        14.0   462.0   306.0   317.0   300.0   386.0   429.0    698.0   \n",
      "\n",
      "      green_1  green_2  ...  NDVI_2  NDVI_3  NDVI_4  NDVI_5   x_coord  \\\n",
      "0       897.0   1050.0  ...  2224.0  1776.0  3175.0  4405.0  655055.0   \n",
      "2      1170.0   1120.0  ...  1521.0  1361.0  1423.0  1610.0  652625.0   \n",
      "3       834.0    857.0  ...  2716.0  2000.0  2140.0  2904.0  658835.0   \n",
      "6      1024.0   1172.0  ...  3535.0  2119.0  3040.0  5309.0  621165.0   \n",
      "7      1626.0   1577.0  ...   238.0  -106.0    76.0   467.0  531375.0   \n",
      "...       ...      ...  ...     ...     ...     ...     ...       ...   \n",
      "3470    797.0    776.0  ...  2317.0  2183.0  2516.0  2979.0  575315.0   \n",
      "3471    789.0    676.0  ...  2500.0  2121.0  2327.0  4214.0  575375.0   \n",
      "3472    783.0    776.0  ...  1981.0  1700.0  1818.0  2151.0  575515.0   \n",
      "3488    581.0    535.0  ...  3291.0  2509.0  2250.0  3633.0  608285.0   \n",
      "3493    515.0    450.0  ...  3494.0  2523.0  2427.0  4560.0  608325.0   \n",
      "\n",
      "        y_coord                        geometry  ref_class  cluster  \\\n",
      "0     6739795.0  POINT (655055.000 6739795.000)        1.0        1   \n",
      "2     6672015.0  POINT (652625.000 6672015.000)        1.0        1   \n",
      "3     6789415.0  POINT (658835.000 6789415.000)        1.0        1   \n",
      "6     6816605.0  POINT (621165.000 6816605.000)        1.0        1   \n",
      "7     6682825.0  POINT (531375.000 6682825.000)        1.0        1   \n",
      "...         ...                             ...        ...      ...   \n",
      "3470  6633345.0  POINT (575315.000 6633345.000)       14.0        0   \n",
      "3471  6633305.0  POINT (575375.000 6633305.000)       14.0        1   \n",
      "3472  6633225.0  POINT (575515.000 6633225.000)       14.0        0   \n",
      "3488  6659605.0  POINT (608285.000 6659605.000)       14.0        0   \n",
      "3493  6659635.0  POINT (608325.000 6659635.000)       14.0        0   \n",
      "\n",
      "      cluster_frequency  \n",
      "0              0.703704  \n",
      "2              0.703704  \n",
      "3              0.703704  \n",
      "6              0.703704  \n",
      "7              0.703704  \n",
      "...                 ...  \n",
      "3470           0.470588  \n",
      "3471           0.529412  \n",
      "3472           0.470588  \n",
      "3488           0.470588  \n",
      "3493           0.470588  \n",
      "\n",
      "[3137 rows x 73 columns]\n"
     ]
    },
    {
     "name": "stderr",
     "output_type": "stream",
     "text": [
      "/usr/local/lib/python3.8/dist-packages/geopandas/geodataframe.py:1456: SettingWithCopyWarning: \n",
      "A value is trying to be set on a copy of a slice from a DataFrame.\n",
      "Try using .loc[row_indexer,col_indexer] = value instead\n",
      "\n",
      "See the caveats in the documentation: https://pandas.pydata.org/pandas-docs/stable/user_guide/indexing.html#returning-a-view-versus-a-copy\n",
      "  super().__setitem__(key, value)\n"
     ]
    }
   ],
   "source": [
    "# parameters and variables for training data filtering\n",
    "lc_classes=gdf_training_data2021[class_name].unique() # get class labels\n",
    "n_samples=1000 # number of random samples to optimise number of clusters for kmeans\n",
    "zonal_stats = None\n",
    "td2021_filtered=None # initialise filtered training data\n",
    "frequency_threshold=0.05 # threshold of cluter frequency\n",
    "\n",
    "# filtering training data for each class\n",
    "for i in lc_classes:\n",
    "    print('Processing class ',i)\n",
    "    \n",
    "    # generate spatially randomly distributed samples\n",
    "    da_mask=rf_2021_raster.band_data # get data array\n",
    "    da_mask=da_mask.where(da_mask==i,np.nan) # replace other class values as nan so they won't be sampled\n",
    "    gpd_samples=random_sampling(da_mask,n_samples,sampling='stratified_random',manual_class_ratios=None,out_fname=None) # stratified random sampling\n",
    "    gpd_samples=gpd_samples.drop(columns=['spatial_ref','class']) # drop the unused attributes derived from random_sampling function\n",
    "    gpd_samples[class_name]=i.astype(int) # add class attribute field so that we can use collect_training_data function\n",
    "    if gpd_samples.crs is None:\n",
    "        gpd_samples=gpd_samples.set_crs(output_crs) # set crs if it somehow is lost\n",
    "    print('radomly sampled points for class ',i,'\\n',gpd_samples)\n",
    "    \n",
    "    # extract data for the random samples\n",
    "    column_names, sampled_data = collect_training_data(gdf=gpd_samples,\n",
    "                                                          dc_query=query,\n",
    "                                                          ncpus=30,\n",
    "#                                                           ncpus=1,\n",
    "                                                          field=class_name, \n",
    "                                                          zonal_stats=zonal_stats,\n",
    "                                                          feature_func=feature_layers,\n",
    "                                                          return_coords=False)\n",
    "    \n",
    "    # fit and find optimal kmeans model using the sample training data\n",
    "    # first find optimal number of clusters which corresponds to maximum Calinski-Harabasz score\n",
    "    sampled_data=sampled_data[:,1:] # exclude the class column which won't be used for clustering\n",
    "    highest_score=-999 # initialise score\n",
    "    n_cluster_optimal=2 # initialise number of clusters\n",
    "    kmeans_model_optimal=None # initialise optimal model\n",
    "    for n_cluster in range(2,6): # loop to find optimal clusterer\n",
    "        kmeans_model = KMeans(n_clusters=n_cluster, random_state=1).fit(sampled_data)\n",
    "        labels=kmeans_model.predict(sampled_data)\n",
    "        score=metrics.calinski_harabasz_score(sampled_data, labels)\n",
    "        print('Calinski-Harabasz score for ',n_cluster,' clusters is: ',score)\n",
    "        if (highest_score==-999)or(highest_score<score):\n",
    "            highest_score=score\n",
    "            n_cluster_optimal=n_cluster\n",
    "            kmeans_model_optimal=kmeans_model\n",
    "    print('Best number of clusters for class %s: %s'%(i,n_cluster_optimal))\n",
    "    \n",
    "    # filter out points with class attribute inconsistent with baseline/reference land cover map\n",
    "    td_single_class_filtered=gdf_training_data2021[gdf_training_data2021[class_name]==i] # subset training points assigned to this class\n",
    "    reference_class=da_mask.sel(x=td_single_class_filtered.centroid.x, \n",
    "                                y=td_single_class_filtered.centroid.y, \n",
    "                                method=\"nearest\").squeeze() # extract the data on the map based on closest coordinates\n",
    "    td_single_class_filtered['ref_class']=np.diagonal(reference_class) # append class attribute\n",
    "    td_single_class_filtered=td_single_class_filtered[td_single_class_filtered['ref_class']==i] # filter out points of different class than reference map\n",
    "    print('Number of training data after filtering using reference map: ',len(td_single_class_filtered))\n",
    "    \n",
    "    # predict clusters of the training points using the optimal clusterer\n",
    "    input_data=td_single_class_filtered[column_names] # exclude unused attributes/columns \n",
    "    labels_kmeans = kmeans_model_optimal.predict(input_data.to_numpy()[:,1:]) # exclude the class column which won't be used for clustering\n",
    "    td_single_class_filtered['cluster']=labels_kmeans # append clustering results\n",
    "    \n",
    "    # filter minor clusters by cluster frequency\n",
    "    cluster_frequency=td_single_class_filtered['cluster'].map(td_single_class_filtered['cluster'].value_counts(normalize=True)) # calculate cluster frequencies\n",
    "    td_single_class_filtered['cluster_frequency']=cluster_frequency # append cluster frequency attribute\n",
    "    td_single_class_filtered=td_single_class_filtered[td_single_class_filtered['cluster_frequency']>=frequency_threshold] # remove points with cluster frequency below treshold\n",
    "    print('Number of training data after filtering based on frequency: ',len(td_single_class_filtered))\n",
    "    \n",
    "    # export filtered training data for this class as geojson file\n",
    "    td_single_class_filtered.to_file('Results/landcover_td2021_filtered_class_'+str(i)+'.geojson', driver=\"GeoJSON\")\n",
    "    \n",
    "    # append the filtered training points of this class to final filtered training data (all classes)\n",
    "    if td2021_filtered is None:\n",
    "        td2021_filtered=td_single_class_filtered\n",
    "    else:\n",
    "        td2021_filtered=pd.concat([td2021_filtered, td_single_class_filtered])\n",
    "        \n",
    "# save filtered training data for all classes\n",
    "print('filtered training data:\\n',td2021_filtered)\n",
    "td2021_filtered.to_file('Results/landcover_td2021_filtered.geojson', driver=\"GeoJSON\")\n",
    "\n",
    "# export the filtered training data for all classes as txt file\n",
    "output_file = \"Results/landcover_td2021_filtered.txt\"\n",
    "td2021_filtered.to_csv(output_file, header=True, index=None, sep=' ')"
   ]
  },
  {
   "cell_type": "code",
   "execution_count": null,
   "id": "1a665197-82ef-4a28-8635-bbcdbeeb3a68",
   "metadata": {},
   "outputs": [],
   "source": []
  }
 ],
 "metadata": {
  "kernelspec": {
   "display_name": "Python 3 (ipykernel)",
   "language": "python",
   "name": "python3"
  },
  "language_info": {
   "codemirror_mode": {
    "name": "ipython",
    "version": 3
   },
   "file_extension": ".py",
   "mimetype": "text/x-python",
   "name": "python",
   "nbconvert_exporter": "python",
   "pygments_lexer": "ipython3",
   "version": "3.8.10"
  }
 },
 "nbformat": 4,
 "nbformat_minor": 5
}

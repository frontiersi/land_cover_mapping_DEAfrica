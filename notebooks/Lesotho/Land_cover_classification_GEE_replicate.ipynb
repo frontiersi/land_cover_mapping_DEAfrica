{
 "cells": [
  {
   "cell_type": "markdown",
   "id": "0df9f519-b37f-40bb-bd1b-7423b7f84dbe",
   "metadata": {},
   "source": [
    "This notebook loads in satellite data, predict land covers using pre-trained models and calculate majority vote of the predicted classification results. For Lesotho this notebook is used twice in the workflow, first to produce a reference/baseline land cover map using the unfiltered training data, second to produce a land cover map for a target year (2021) using the filtered training data."
   ]
  },
  {
   "cell_type": "code",
   "execution_count": 1,
   "id": "b06cb161-dc4e-471b-8a0e-da7020df05a8",
   "metadata": {},
   "outputs": [
    {
     "name": "stderr",
     "output_type": "stream",
     "text": [
      "/usr/local/lib/python3.8/dist-packages/geopandas/_compat.py:112: UserWarning: The Shapely GEOS version (3.8.0-CAPI-1.13.1 ) is incompatible with the GEOS version PyGEOS was compiled with (3.10.1-CAPI-1.16.0). Conversions between both will be slow.\n",
      "  warnings.warn(\n",
      "/usr/local/lib/python3.8/dist-packages/dask/dataframe/utils.py:367: FutureWarning: pandas.Int64Index is deprecated and will be removed from pandas in a future version. Use pandas.Index with the appropriate dtype instead.\n",
      "  _numeric_index_types = (pd.Int64Index, pd.Float64Index, pd.UInt64Index)\n",
      "/usr/local/lib/python3.8/dist-packages/dask/dataframe/utils.py:367: FutureWarning: pandas.Float64Index is deprecated and will be removed from pandas in a future version. Use pandas.Index with the appropriate dtype instead.\n",
      "  _numeric_index_types = (pd.Int64Index, pd.Float64Index, pd.UInt64Index)\n",
      "/usr/local/lib/python3.8/dist-packages/dask/dataframe/utils.py:367: FutureWarning: pandas.UInt64Index is deprecated and will be removed from pandas in a future version. Use pandas.Index with the appropriate dtype instead.\n",
      "  _numeric_index_types = (pd.Int64Index, pd.Float64Index, pd.UInt64Index)\n"
     ]
    },
    {
     "name": "stdout",
     "output_type": "stream",
     "text": [
      "ncpus = 62\n",
      "tile boundaries for Lesotho: \n",
      "          minx       miny       maxx       maxy\n",
      "0   27.635700 -29.477456  27.646070 -29.468382\n",
      "1   28.847423 -29.636949  28.857913 -29.627784\n",
      "2   28.130782 -28.910120  28.141136 -28.901010\n",
      "3   28.102968 -28.898528  28.113318 -28.889419\n",
      "4   27.557625 -29.382681  27.567979 -29.373612\n",
      "..        ...        ...        ...        ...\n",
      "85  29.460999 -29.928268  29.471572 -29.919058\n",
      "86  29.482590 -30.455901  29.493226 -30.446687\n",
      "87  28.046525 -30.684943  28.057061 -30.675836\n",
      "88  29.462675 -29.582384  29.473209 -29.573175\n",
      "89  27.846329 -30.699937  27.856849 -30.690845\n",
      "\n",
      "[90 rows x 4 columns]\n",
      "loaded random forest models:\n",
      " [RandomForestClassifier(max_samples=0.5, n_estimators=50, n_jobs=-1), RandomForestClassifier(max_samples=0.5, n_estimators=50, n_jobs=-1), RandomForestClassifier(max_samples=0.5, n_estimators=50, n_jobs=-1), RandomForestClassifier(max_samples=0.5, n_estimators=50, n_jobs=-1), RandomForestClassifier(max_samples=0.5, n_estimators=50, n_jobs=-1)]\n"
     ]
    },
    {
     "data": {
      "text/html": [
       "<table style=\"border: 2px solid white;\">\n",
       "<tr>\n",
       "<td style=\"vertical-align: top; border: 0px solid white\">\n",
       "<h3 style=\"text-align: left;\">Client</h3>\n",
       "<ul style=\"text-align: left; list-style: none; margin: 0; padding: 0;\">\n",
       "  <li><b>Scheduler: </b>tcp://127.0.0.1:35007</li>\n",
       "  <li><b>Dashboard: </b><a href='/user/whusggliuqx@gmail.com/proxy/8787/status' target='_blank'>/user/whusggliuqx@gmail.com/proxy/8787/status</a></li>\n",
       "</ul>\n",
       "</td>\n",
       "<td style=\"vertical-align: top; border: 0px solid white\">\n",
       "<h3 style=\"text-align: left;\">Cluster</h3>\n",
       "<ul style=\"text-align: left; list-style:none; margin: 0; padding: 0;\">\n",
       "  <li><b>Workers: </b>1</li>\n",
       "  <li><b>Cores: </b>62</li>\n",
       "  <li><b>Memory: </b>512.40 GB</li>\n",
       "</ul>\n",
       "</td>\n",
       "</tr>\n",
       "</table>"
      ],
      "text/plain": [
       "<Client: 'tcp://127.0.0.1:35007' processes=1 threads=62, memory=512.40 GB>"
      ]
     },
     "metadata": {},
     "output_type": "display_data"
    }
   ],
   "source": [
    "%matplotlib inline\n",
    "import os\n",
    "import datacube\n",
    "import warnings\n",
    "import time\n",
    "import numpy as np\n",
    "from scipy import stats\n",
    "import pandas as pd\n",
    "import geopandas as gpd\n",
    "import matplotlib.pyplot as plt\n",
    "from odc.algo import xr_geomedian\n",
    "import xarray as xr\n",
    "from joblib import load\n",
    "from deafrica_tools.classification import predict_xr\n",
    "from deafrica_tools.dask import create_local_dask_cluster\n",
    "from deafrica_tools.datahandling import load_ard\n",
    "from deafrica_tools.bandindices import calculate_indices\n",
    "from datacube.utils.cog import write_cog\n",
    "\n",
    "# file paths and attributes\n",
    "lesotho_tiles_shp='Results/stratified_sampling_AOIs.geojson' # randomly selected small regions\n",
    "# lesotho_tiles_shp='Data/Lesotho_boundaries_projected_epsg32735_tiles.shp'\n",
    "# lesotho_tiles_shp='Data/Lesotho_boundaries_projected_epsg32735_tiles_smaller.shp'\n",
    "# lesotho_tiles_shp='Data/Lesotho_boundaries_projected_epsg32735_tiles_bigger.shp'\n",
    "\n",
    "# rf_model_path='Results/RF_models_GEE_replicate.joblib' # models trained on unfiltered training data\n",
    "rf_model_path='Results/RF_models_using_filtered_td_GEE_replicate.joblib' # models trained on filtered training data\n",
    "\n",
    "class_name = 'LC_Class_I' # class label in integer format\n",
    "crs='epsg:4326' # input crs: WGS84\n",
    "output_crs='epsg:32735' # output crs: WGS84/UTM Zone 35S\n",
    "\n",
    "# load and get bounding boxes of tiles covering Lesotho\n",
    "lesotho_tiles=gpd.read_file(lesotho_tiles_shp).to_crs(crs)\n",
    "tile_bboxes=lesotho_tiles.bounds\n",
    "print('tile boundaries for Lesotho: \\n',tile_bboxes)\n",
    "\n",
    "# load trained classifier\n",
    "rf_models = load(rf_model_path)\n",
    "print('loaded random forest models:\\n',rf_models)\n",
    "\n",
    "# band mesurements for query\n",
    "measurements = ['blue','green','red','red_edge_1','red_edge_2', 'red_edge_3','nir_1','nir_2','swir_1','swir_2']\n",
    "\n",
    "# Set up a dask cluster\n",
    "create_local_dask_cluster(n_workers=1)"
   ]
  },
  {
   "cell_type": "code",
   "execution_count": null,
   "id": "6de9392c-53f9-4cad-9622-22ecdfe783f1",
   "metadata": {},
   "outputs": [],
   "source": [
    "# define a function to feature layers\n",
    "def feature_layers(query): \n",
    "    #connect to the datacube\n",
    "    dc = datacube.Datacube(app='feature_layers')\n",
    "    # query bands\n",
    "    ds = load_ard(dc=dc,\n",
    "                  products=['s2_l2a'],\n",
    "                  group_by='solar_day',\n",
    "                  verbose=False,\n",
    "                  #mask_filters=[(\"opening\", 2)], # morphological opening by 2 pixels to remove small masked regions\n",
    "                  **query)\n",
    "    ds_index = calculate_indices(ds,index=['NDVI'],drop=False,satellite_mission='s2')\n",
    "    del ds\n",
    "    # calculate NDVI\n",
    "    ds_index['NDVI']=ds_index['NDVI']*10000\n",
    "    # calculate geomedians within each two-month interval\n",
    "    ds_geomedian=ds_index.resample(time='2MS').map(xr_geomedian).astype(np.int16)\n",
    "    del ds_index\n",
    "#     # rechunk to a single array along time dimension so that interpolate_na can be applied: note: this may consume more memory\n",
    "#     ds_geomedian=ds_geomedian.chunk({'time':-1})\n",
    "#     # interpolate nodata using mean of previous and next observation\n",
    "#     ds_geomedian=ds_geomedian.interpolate_na(dim='time',method='linear',use_coordinate=False)\n",
    "    # stack multi-temporal measurements and rename them\n",
    "    n_time=ds_geomedian.dims['time']\n",
    "    list_measurements=list(ds_geomedian.keys())\n",
    "    list_stack_measures=[]\n",
    "    for j in range(len(list_measurements)):\n",
    "        for k in range(n_time):\n",
    "            variable_name=list_measurements[j]+'_'+str(k)\n",
    "            # print ('Stacking band ',list_measurements[j],' at time ',k)\n",
    "            measure_single=ds_geomedian[list_measurements[j]].isel(time=k).rename(variable_name)\n",
    "            list_stack_measures.append(measure_single)\n",
    "    ds_stacked=xr.merge(list_stack_measures,compat='override')\n",
    "    return ds_stacked"
   ]
  },
  {
   "cell_type": "code",
   "execution_count": null,
   "id": "1b2103aa-1ed2-4081-ac0d-467bb715ae23",
   "metadata": {},
   "outputs": [],
   "source": [
    "# loop through all tiles and predict land cover\n",
    "for i in range(0,len(tile_bboxes)):\n",
    "    # extract bounding box of each tile\n",
    "    minx,miny,maxx,maxy=tile_bboxes.iloc[i]\n",
    "    print('bounding box ',': minx: ',minx,'miny: ',miny,'maxx: ',maxx,'maxy: ',maxy)\n",
    "    \n",
    "    # define ODC query\n",
    "    query = {\n",
    "        'x': (minx,maxx),\n",
    "        'y': (miny,maxy),\n",
    "        'time': ('2021-01', '2021-12'),\n",
    "        'measurements': measurements,\n",
    "        'resolution': (-10, 10),\n",
    "        'crs':crs,\n",
    "        'output_crs':output_crs,\n",
    "        'dask_chunks' : {'x':1700, 'y':1700}, # chunk size should be adjusted based on sandbox instance\n",
    "#         'dask_chunks' : {'x':-1, 'y':-1}\n",
    "    }\n",
    "    \n",
    "    # calculate features\n",
    "    all_data = feature_layers(query)\n",
    "    print('stacked Sentinel-2 dataset:\\n',all_data)\n",
    "    start_time = time.time() # start timing how long it takes for the prediction\n",
    "    \n",
    "    # predict land cover using the RF models\n",
    "    list_xr_merge=[] # initialise a list of predicted results\n",
    "    for j in range(len(rf_models)): # loop through the list of trained model\n",
    "        print('predicting split ',j)\n",
    "        rf_model=rf_models[j]\n",
    "        predicted = predict_xr(rf_model,all_data,persist=False,clean=True).compute()\n",
    "        prediction_single=predicted.Predictions.rename('prediction_'+str(j)) # rename each result\n",
    "        list_xr_merge.append(prediction_single) # append to the list of predicted results\n",
    "    predictions_all=xr.merge(list_xr_merge,compat='override') # merge as a multi-variable dataset\n",
    "    print(\"%s seconds spent on predicting\" % (time.time() - start_time)) # print time spent on prediction\n",
    "    print('predictions:\\n',predictions_all)\n",
    "    \n",
    "    # majority vote of the predicted results\n",
    "    arr_predictions_all=predictions_all.to_array() # convert dataset to data array\n",
    "    predictions_mode=stats.mode(arr_predictions_all).mode.squeeze() # apply majority voting\n",
    "    \n",
    "    # write final prediction as cog file\n",
    "#     outname_prediction='Results/Land_cover_prediction_basline_Lesotho_2021_GEE_replicate_tile'+str(i)+'.tif'\n",
    "#     outname_prediction='Results/Land_cover_prediction_Lesotho_2021_GEE_replicate_tile'+str(i)+'.tif'\n",
    "    outname_prediction='Results/Land_cover_prediction_Lesotho_2021_GEE_replicate_sampling_AOI_'+str(i)+'.tif'\n",
    "    xr_predictions_mode=xr.DataArray(predictions_mode, coords=prediction_single.coords, dims=prediction_single.dims,\n",
    "                                     attrs=prediction_single.attrs).astype(np.int16) # numpy array to data array\n",
    "    print('writing majority vote prediction cog file...')\n",
    "    write_cog(xr_predictions_mode, outname_prediction, overwrite=True) # write as cog"
   ]
  },
  {
   "cell_type": "code",
   "execution_count": 1,
   "id": "119e3cd7-5fa2-45b0-a867-2af796c33619",
   "metadata": {},
   "outputs": [
    {
     "name": "stdout",
     "output_type": "stream",
     "text": [
      "0...10...20...30...40...50...60...70...80...90...100 - done.\n"
     ]
    }
   ],
   "source": [
    "# merge multiple tiles as a mosaic tif\n",
    "! gdal_merge.py -o Results/Land_cover_prediction_Lesotho_2021_GEE_replicate_sampling_mosiac_AOI.tif -co COMPRESS=Deflate -ot Byte Results/Land_cover_prediction_Lesotho_2021_GEE_replicate_sampling_AOI_*.tif"
   ]
  }
 ],
 "metadata": {
  "kernelspec": {
   "display_name": "Python 3 (ipykernel)",
   "language": "python",
   "name": "python3"
  },
  "language_info": {
   "codemirror_mode": {
    "name": "ipython",
    "version": 3
   },
   "file_extension": ".py",
   "mimetype": "text/x-python",
   "name": "python",
   "nbconvert_exporter": "python",
   "pygments_lexer": "ipython3",
   "version": "3.8.10"
  }
 },
 "nbformat": 4,
 "nbformat_minor": 5
}

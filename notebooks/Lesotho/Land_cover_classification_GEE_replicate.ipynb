{
 "cells": [
  {
   "cell_type": "markdown",
   "id": "0df9f519-b37f-40bb-bd1b-7423b7f84dbe",
   "metadata": {},
   "source": [
    "This notebook loads in satellite data, predict land covers using pre-trained models and calculate majority vote of the predicted classification results. For Lesotho this notebook is used twice in the workflow, first to produce a reference/baseline land cover map using the unfiltered training data, second to produce a land cover map for a target year (2021) using the filtered training data."
   ]
  },
  {
   "cell_type": "code",
   "execution_count": 1,
   "id": "b06cb161-dc4e-471b-8a0e-da7020df05a8",
   "metadata": {},
   "outputs": [
    {
     "name": "stderr",
     "output_type": "stream",
     "text": [
      "/usr/local/lib/python3.8/dist-packages/geopandas/_compat.py:112: UserWarning: The Shapely GEOS version (3.8.0-CAPI-1.13.1 ) is incompatible with the GEOS version PyGEOS was compiled with (3.10.1-CAPI-1.16.0). Conversions between both will be slow.\n",
      "  warnings.warn(\n",
      "/usr/local/lib/python3.8/dist-packages/dask/dataframe/utils.py:367: FutureWarning: pandas.Int64Index is deprecated and will be removed from pandas in a future version. Use pandas.Index with the appropriate dtype instead.\n",
      "  _numeric_index_types = (pd.Int64Index, pd.Float64Index, pd.UInt64Index)\n",
      "/usr/local/lib/python3.8/dist-packages/dask/dataframe/utils.py:367: FutureWarning: pandas.Float64Index is deprecated and will be removed from pandas in a future version. Use pandas.Index with the appropriate dtype instead.\n",
      "  _numeric_index_types = (pd.Int64Index, pd.Float64Index, pd.UInt64Index)\n",
      "/usr/local/lib/python3.8/dist-packages/dask/dataframe/utils.py:367: FutureWarning: pandas.UInt64Index is deprecated and will be removed from pandas in a future version. Use pandas.Index with the appropriate dtype instead.\n",
      "  _numeric_index_types = (pd.Int64Index, pd.Float64Index, pd.UInt64Index)\n"
     ]
    },
    {
     "name": "stdout",
     "output_type": "stream",
     "text": [
      "ncpus = 62\n",
      "tile boundaries for Lesotho: \n",
      "          minx       miny       maxx       maxy\n",
      "0   27.635700 -29.477456  27.646070 -29.468382\n",
      "1   28.847423 -29.636949  28.857913 -29.627784\n",
      "2   28.130782 -28.910120  28.141136 -28.901010\n",
      "3   28.102968 -28.898528  28.113318 -28.889419\n",
      "4   27.557625 -29.382681  27.567979 -29.373612\n",
      "..        ...        ...        ...        ...\n",
      "85  29.460999 -29.928268  29.471572 -29.919058\n",
      "86  29.482590 -30.455901  29.493226 -30.446687\n",
      "87  28.046525 -30.684943  28.057061 -30.675836\n",
      "88  29.462675 -29.582384  29.473209 -29.573175\n",
      "89  27.846329 -30.699937  27.856849 -30.690845\n",
      "\n",
      "[90 rows x 4 columns]\n",
      "loaded random forest models:\n",
      " [RandomForestClassifier(max_samples=0.5, n_estimators=50, n_jobs=-1), RandomForestClassifier(max_samples=0.5, n_estimators=50, n_jobs=-1), RandomForestClassifier(max_samples=0.5, n_estimators=50, n_jobs=-1), RandomForestClassifier(max_samples=0.5, n_estimators=50, n_jobs=-1), RandomForestClassifier(max_samples=0.5, n_estimators=50, n_jobs=-1)]\n"
     ]
    },
    {
     "data": {
      "text/html": [
       "<table style=\"border: 2px solid white;\">\n",
       "<tr>\n",
       "<td style=\"vertical-align: top; border: 0px solid white\">\n",
       "<h3 style=\"text-align: left;\">Client</h3>\n",
       "<ul style=\"text-align: left; list-style: none; margin: 0; padding: 0;\">\n",
       "  <li><b>Scheduler: </b>tcp://127.0.0.1:35007</li>\n",
       "  <li><b>Dashboard: </b><a href='/user/whusggliuqx@gmail.com/proxy/8787/status' target='_blank'>/user/whusggliuqx@gmail.com/proxy/8787/status</a></li>\n",
       "</ul>\n",
       "</td>\n",
       "<td style=\"vertical-align: top; border: 0px solid white\">\n",
       "<h3 style=\"text-align: left;\">Cluster</h3>\n",
       "<ul style=\"text-align: left; list-style:none; margin: 0; padding: 0;\">\n",
       "  <li><b>Workers: </b>1</li>\n",
       "  <li><b>Cores: </b>62</li>\n",
       "  <li><b>Memory: </b>512.40 GB</li>\n",
       "</ul>\n",
       "</td>\n",
       "</tr>\n",
       "</table>"
      ],
      "text/plain": [
       "<Client: 'tcp://127.0.0.1:35007' processes=1 threads=62, memory=512.40 GB>"
      ]
     },
     "metadata": {},
     "output_type": "display_data"
    }
   ],
   "source": [
    "%matplotlib inline\n",
    "import os\n",
    "import datacube\n",
    "import warnings\n",
    "import time\n",
    "import numpy as np\n",
    "from scipy import stats\n",
    "import pandas as pd\n",
    "import geopandas as gpd\n",
    "import matplotlib.pyplot as plt\n",
    "from odc.algo import xr_geomedian\n",
    "import xarray as xr\n",
    "from joblib import load\n",
    "from deafrica_tools.classification import predict_xr\n",
    "from deafrica_tools.dask import create_local_dask_cluster\n",
    "from deafrica_tools.datahandling import load_ard\n",
    "from deafrica_tools.bandindices import calculate_indices\n",
    "from datacube.utils.cog import write_cog\n",
    "\n",
    "# file paths and attributes\n",
    "lesotho_tiles_shp='Results/stratified_sampling_AOIs.geojson' # randomly selected small regions\n",
    "# lesotho_tiles_shp='Data/Lesotho_boundaries_projected_epsg32735_tiles.shp'\n",
    "# lesotho_tiles_shp='Data/Lesotho_boundaries_projected_epsg32735_tiles_smaller.shp'\n",
    "# lesotho_tiles_shp='Data/Lesotho_boundaries_projected_epsg32735_tiles_bigger.shp'\n",
    "\n",
    "# rf_model_path='Results/RF_models_GEE_replicate.joblib' # models trained on unfiltered training data\n",
    "rf_model_path='Results/RF_models_using_filtered_td_GEE_replicate.joblib' # models trained on filtered training data\n",
    "\n",
    "class_name = 'LC_Class_I' # class label in integer format\n",
    "crs='epsg:4326' # input crs: WGS84\n",
    "output_crs='epsg:32735' # output crs: WGS84/UTM Zone 35S\n",
    "\n",
    "# load and get bounding boxes of tiles covering Lesotho\n",
    "lesotho_tiles=gpd.read_file(lesotho_tiles_shp).to_crs(crs)\n",
    "tile_bboxes=lesotho_tiles.bounds\n",
    "print('tile boundaries for Lesotho: \\n',tile_bboxes)\n",
    "\n",
    "# load trained classifier\n",
    "rf_models = load(rf_model_path)\n",
    "print('loaded random forest models:\\n',rf_models)\n",
    "\n",
    "# Set up a dask cluster\n",
    "create_local_dask_cluster(n_workers=1)"
   ]
  },
  {
   "cell_type": "code",
   "execution_count": null,
   "id": "6de9392c-53f9-4cad-9622-22ecdfe783f1",
   "metadata": {},
   "outputs": [],
   "source": [
    "# define a function to feature layers\n",
    "def feature_layers(query): \n",
    "    #connect to the datacube\n",
    "    dc = datacube.Datacube(app='feature_layers')\n",
    "    # query bands\n",
    "    ds = load_ard(dc=dc,\n",
    "                  products=['s2_l2a'],\n",
    "                  group_by='solar_day',\n",
    "                  verbose=False,\n",
    "                  #mask_filters=[(\"opening\", 2)], # morphological opening by 2 pixels to remove small masked regions\n",
    "                  **query)\n",
    "    ds_index = calculate_indices(ds,index=['NDVI'],drop=False,satellite_mission='s2')\n",
    "    del ds\n",
    "    # calculate NDVI\n",
    "    ds_index['NDVI']=ds_index['NDVI']*10000\n",
    "    # calculate geomedians within each two-month interval\n",
    "    ds_geomedian=ds_index.resample(time='2MS').map(xr_geomedian).astype(np.int16)\n",
    "    del ds_index\n",
    "#     # rechunk to a single array along time dimension so that interpolate_na can be applied: note: this may consume more memory\n",
    "#     ds_geomedian=ds_geomedian.chunk({'time':-1})\n",
    "#     # interpolate nodata using mean of previous and next observation\n",
    "#     ds_geomedian=ds_geomedian.interpolate_na(dim='time',method='linear',use_coordinate=False)\n",
    "    # stack multi-temporal measurements and rename them\n",
    "    n_time=ds_geomedian.dims['time']\n",
    "    list_measurements=list(ds_geomedian.keys())\n",
    "    list_stack_measures=[]\n",
    "    for j in range(len(list_measurements)):\n",
    "        for k in range(n_time):\n",
    "            variable_name=list_measurements[j]+'_'+str(k)\n",
    "            # print ('Stacking band ',list_measurements[j],' at time ',k)\n",
    "            measure_single=ds_geomedian[list_measurements[j]].isel(time=k).rename(variable_name)\n",
    "            list_stack_measures.append(measure_single)\n",
    "    ds_stacked=xr.merge(list_stack_measures,compat='override')\n",
    "    return ds_stacked"
   ]
  },
  {
   "cell_type": "code",
   "execution_count": null,
   "id": "1b2103aa-1ed2-4081-ac0d-467bb715ae23",
   "metadata": {},
   "outputs": [
    {
     "name": "stdout",
     "output_type": "stream",
     "text": [
      "bounding box  : minx:  27.635700132887333 miny:  -29.477456035069487 maxx:  27.64607049431996 maxy:  -29.468381602463115\n",
      "stacked Sentinel-2 dataset:\n",
      " <xarray.Dataset>\n",
      "Dimensions:       (y: 102, x: 102)\n",
      "Coordinates:\n",
      "    time          datetime64[ns] 2021-01-01\n",
      "  * y             (y) float64 6.74e+06 6.74e+06 6.74e+06 ... 6.739e+06 6.739e+06\n",
      "  * x             (x) float64 5.616e+05 5.616e+05 ... 5.626e+05 5.626e+05\n",
      "Data variables: (12/66)\n",
      "    blue_0        (y, x) int16 dask.array<chunksize=(102, 102), meta=np.ndarray>\n",
      "    blue_1        (y, x) int16 dask.array<chunksize=(102, 102), meta=np.ndarray>\n",
      "    blue_2        (y, x) int16 dask.array<chunksize=(102, 102), meta=np.ndarray>\n",
      "    blue_3        (y, x) int16 dask.array<chunksize=(102, 102), meta=np.ndarray>\n",
      "    blue_4        (y, x) int16 dask.array<chunksize=(102, 102), meta=np.ndarray>\n",
      "    blue_5        (y, x) int16 dask.array<chunksize=(102, 102), meta=np.ndarray>\n",
      "    ...            ...\n",
      "    NDVI_0        (y, x) int16 dask.array<chunksize=(102, 102), meta=np.ndarray>\n",
      "    NDVI_1        (y, x) int16 dask.array<chunksize=(102, 102), meta=np.ndarray>\n",
      "    NDVI_2        (y, x) int16 dask.array<chunksize=(102, 102), meta=np.ndarray>\n",
      "    NDVI_3        (y, x) int16 dask.array<chunksize=(102, 102), meta=np.ndarray>\n",
      "    NDVI_4        (y, x) int16 dask.array<chunksize=(102, 102), meta=np.ndarray>\n",
      "    NDVI_5        (y, x) int16 dask.array<chunksize=(102, 102), meta=np.ndarray>\n",
      "Attributes:\n",
      "    units:         1\n",
      "    nodata:        0\n",
      "    crs:           EPSG:32735\n",
      "    grid_mapping:  spatial_ref\n",
      "predicting split  0\n",
      "predicting...\n",
      "predicting split  1\n",
      "predicting...\n",
      "predicting split  2\n",
      "predicting...\n",
      "predicting split  3\n",
      "predicting...\n",
      "predicting split  4\n",
      "predicting...\n",
      "102.60862994194031 seconds spent on predicting\n",
      "predictions:\n",
      " <xarray.Dataset>\n",
      "Dimensions:       (x: 102, y: 102)\n",
      "Coordinates:\n",
      "  * x             (x) float64 5.616e+05 5.616e+05 ... 5.626e+05 5.626e+05\n",
      "  * y             (y) float64 6.74e+06 6.74e+06 6.74e+06 ... 6.739e+06 6.739e+06\n",
      "    spatial_ref   int32 32735\n",
      "Data variables:\n",
      "    prediction_0  (y, x) float64 2.0 2.0 2.0 2.0 2.0 ... 4.0 4.0 9.0 9.0 10.0\n",
      "    prediction_1  (y, x) float64 10.0 10.0 10.0 2.0 2.0 ... 4.0 4.0 9.0 4.0 9.0\n",
      "    prediction_2  (y, x) float64 2.0 10.0 10.0 2.0 2.0 ... 4.0 4.0 9.0 9.0 9.0\n",
      "    prediction_3  (y, x) float64 2.0 2.0 10.0 2.0 2.0 ... 4.0 4.0 9.0 9.0 9.0\n",
      "    prediction_4  (y, x) float64 2.0 2.0 2.0 2.0 2.0 ... 4.0 4.0 9.0 9.0 10.0\n",
      "Attributes:\n",
      "    grid_mapping:  spatial_ref\n",
      "writing majority vote prediction cog file...\n",
      "bounding box  : minx:  28.84742333472361 miny:  -29.636949125576578 maxx:  28.857913495432335 maxy:  -29.627784483316148\n",
      "stacked Sentinel-2 dataset:\n",
      " <xarray.Dataset>\n",
      "Dimensions:       (y: 104, x: 104)\n",
      "Coordinates:\n",
      "    time          datetime64[ns] 2021-01-01\n",
      "  * y             (y) float64 6.721e+06 6.721e+06 ... 6.72e+06 6.72e+06\n",
      "  * x             (x) float64 6.788e+05 6.789e+05 ... 6.799e+05 6.799e+05\n",
      "Data variables: (12/66)\n",
      "    blue_0        (y, x) int16 dask.array<chunksize=(104, 104), meta=np.ndarray>\n",
      "    blue_1        (y, x) int16 dask.array<chunksize=(104, 104), meta=np.ndarray>\n",
      "    blue_2        (y, x) int16 dask.array<chunksize=(104, 104), meta=np.ndarray>\n",
      "    blue_3        (y, x) int16 dask.array<chunksize=(104, 104), meta=np.ndarray>\n",
      "    blue_4        (y, x) int16 dask.array<chunksize=(104, 104), meta=np.ndarray>\n",
      "    blue_5        (y, x) int16 dask.array<chunksize=(104, 104), meta=np.ndarray>\n",
      "    ...            ...\n",
      "    NDVI_0        (y, x) int16 dask.array<chunksize=(104, 104), meta=np.ndarray>\n",
      "    NDVI_1        (y, x) int16 dask.array<chunksize=(104, 104), meta=np.ndarray>\n",
      "    NDVI_2        (y, x) int16 dask.array<chunksize=(104, 104), meta=np.ndarray>\n",
      "    NDVI_3        (y, x) int16 dask.array<chunksize=(104, 104), meta=np.ndarray>\n",
      "    NDVI_4        (y, x) int16 dask.array<chunksize=(104, 104), meta=np.ndarray>\n",
      "    NDVI_5        (y, x) int16 dask.array<chunksize=(104, 104), meta=np.ndarray>\n",
      "Attributes:\n",
      "    units:         1\n",
      "    nodata:        0\n",
      "    crs:           EPSG:32735\n",
      "    grid_mapping:  spatial_ref\n",
      "predicting split  0\n",
      "predicting...\n",
      "predicting split  1\n",
      "predicting...\n",
      "predicting split  2\n",
      "predicting...\n",
      "predicting split  3\n",
      "predicting...\n",
      "predicting split  4\n",
      "predicting...\n",
      "97.21188354492188 seconds spent on predicting\n",
      "predictions:\n",
      " <xarray.Dataset>\n",
      "Dimensions:       (x: 104, y: 104)\n",
      "Coordinates:\n",
      "  * x             (x) float64 6.788e+05 6.789e+05 ... 6.799e+05 6.799e+05\n",
      "  * y             (y) float64 6.721e+06 6.721e+06 ... 6.72e+06 6.72e+06\n",
      "    spatial_ref   int32 32735\n",
      "Data variables:\n",
      "    prediction_0  (y, x) float64 10.0 10.0 10.0 10.0 ... 10.0 10.0 10.0 10.0\n",
      "    prediction_1  (y, x) float64 10.0 10.0 10.0 10.0 ... 10.0 10.0 10.0 10.0\n",
      "    prediction_2  (y, x) float64 10.0 10.0 10.0 10.0 ... 10.0 10.0 10.0 10.0\n",
      "    prediction_3  (y, x) float64 10.0 10.0 10.0 10.0 ... 10.0 10.0 10.0 10.0\n",
      "    prediction_4  (y, x) float64 10.0 10.0 10.0 10.0 ... 10.0 10.0 10.0 10.0\n",
      "Attributes:\n",
      "    grid_mapping:  spatial_ref\n",
      "writing majority vote prediction cog file...\n",
      "bounding box  : minx:  28.13078168306298 miny:  -28.91012040134997 maxx:  28.14113559332835 maxy:  -28.90100959211932\n",
      "stacked Sentinel-2 dataset:\n",
      " <xarray.Dataset>\n",
      "Dimensions:       (y: 103, x: 103)\n",
      "Coordinates:\n",
      "    time          datetime64[ns] 2021-01-01\n",
      "  * y             (y) float64 6.802e+06 6.802e+06 ... 6.801e+06 6.801e+06\n",
      "  * x             (x) float64 6.102e+05 6.102e+05 ... 6.112e+05 6.113e+05\n",
      "Data variables: (12/66)\n",
      "    blue_0        (y, x) int16 dask.array<chunksize=(103, 103), meta=np.ndarray>\n",
      "    blue_1        (y, x) int16 dask.array<chunksize=(103, 103), meta=np.ndarray>\n",
      "    blue_2        (y, x) int16 dask.array<chunksize=(103, 103), meta=np.ndarray>\n",
      "    blue_3        (y, x) int16 dask.array<chunksize=(103, 103), meta=np.ndarray>\n",
      "    blue_4        (y, x) int16 dask.array<chunksize=(103, 103), meta=np.ndarray>\n",
      "    blue_5        (y, x) int16 dask.array<chunksize=(103, 103), meta=np.ndarray>\n",
      "    ...            ...\n",
      "    NDVI_0        (y, x) int16 dask.array<chunksize=(103, 103), meta=np.ndarray>\n",
      "    NDVI_1        (y, x) int16 dask.array<chunksize=(103, 103), meta=np.ndarray>\n",
      "    NDVI_2        (y, x) int16 dask.array<chunksize=(103, 103), meta=np.ndarray>\n",
      "    NDVI_3        (y, x) int16 dask.array<chunksize=(103, 103), meta=np.ndarray>\n",
      "    NDVI_4        (y, x) int16 dask.array<chunksize=(103, 103), meta=np.ndarray>\n",
      "    NDVI_5        (y, x) int16 dask.array<chunksize=(103, 103), meta=np.ndarray>\n",
      "Attributes:\n",
      "    units:         1\n",
      "    nodata:        0\n",
      "    crs:           EPSG:32735\n",
      "    grid_mapping:  spatial_ref\n",
      "predicting split  0\n",
      "predicting...\n",
      "predicting split  1\n",
      "predicting...\n",
      "predicting split  2\n",
      "predicting...\n",
      "predicting split  3\n",
      "predicting...\n"
     ]
    },
    {
     "name": "stderr",
     "output_type": "stream",
     "text": [
      "/usr/local/lib/python3.8/dist-packages/dask/dataframe/utils.py:367: FutureWarning: pandas.Int64Index is deprecated and will be removed from pandas in a future version. Use pandas.Index with the appropriate dtype instead.\n",
      "  _numeric_index_types = (pd.Int64Index, pd.Float64Index, pd.UInt64Index)\n",
      "/usr/local/lib/python3.8/dist-packages/dask/dataframe/utils.py:367: FutureWarning: pandas.Float64Index is deprecated and will be removed from pandas in a future version. Use pandas.Index with the appropriate dtype instead.\n",
      "  _numeric_index_types = (pd.Int64Index, pd.Float64Index, pd.UInt64Index)\n",
      "/usr/local/lib/python3.8/dist-packages/dask/dataframe/utils.py:367: FutureWarning: pandas.UInt64Index is deprecated and will be removed from pandas in a future version. Use pandas.Index with the appropriate dtype instead.\n",
      "  _numeric_index_types = (pd.Int64Index, pd.Float64Index, pd.UInt64Index)\n",
      "/usr/local/lib/python3.8/dist-packages/sklearn/ensemble/_base.py:209: UserWarning: Loky-backed parallel loops cannot be called in a multiprocessing, setting n_jobs=1\n",
      "  n_jobs = min(effective_n_jobs(n_jobs), n_estimators)\n",
      "/usr/local/lib/python3.8/dist-packages/sklearn/ensemble/_base.py:209: UserWarning: Loky-backed parallel loops cannot be called in a multiprocessing, setting n_jobs=1\n",
      "  n_jobs = min(effective_n_jobs(n_jobs), n_estimators)\n",
      "/usr/local/lib/python3.8/dist-packages/sklearn/ensemble/_base.py:209: UserWarning: Loky-backed parallel loops cannot be called in a multiprocessing, setting n_jobs=1\n",
      "  n_jobs = min(effective_n_jobs(n_jobs), n_estimators)\n",
      "/usr/local/lib/python3.8/dist-packages/sklearn/ensemble/_base.py:209: UserWarning: Loky-backed parallel loops cannot be called in a multiprocessing, setting n_jobs=1\n",
      "  n_jobs = min(effective_n_jobs(n_jobs), n_estimators)\n",
      "/usr/local/lib/python3.8/dist-packages/sklearn/ensemble/_base.py:209: UserWarning: Loky-backed parallel loops cannot be called in a multiprocessing, setting n_jobs=1\n",
      "  n_jobs = min(effective_n_jobs(n_jobs), n_estimators)\n",
      "/usr/local/lib/python3.8/dist-packages/sklearn/ensemble/_base.py:209: UserWarning: Loky-backed parallel loops cannot be called in a multiprocessing, setting n_jobs=1\n",
      "  n_jobs = min(effective_n_jobs(n_jobs), n_estimators)\n",
      "/usr/local/lib/python3.8/dist-packages/sklearn/ensemble/_base.py:209: UserWarning: Loky-backed parallel loops cannot be called in a multiprocessing, setting n_jobs=1\n",
      "  n_jobs = min(effective_n_jobs(n_jobs), n_estimators)\n",
      "/usr/local/lib/python3.8/dist-packages/sklearn/ensemble/_base.py:209: UserWarning: Loky-backed parallel loops cannot be called in a multiprocessing, setting n_jobs=1\n",
      "  n_jobs = min(effective_n_jobs(n_jobs), n_estimators)\n",
      "/usr/local/lib/python3.8/dist-packages/sklearn/ensemble/_base.py:209: UserWarning: Loky-backed parallel loops cannot be called in a multiprocessing, setting n_jobs=1\n",
      "  n_jobs = min(effective_n_jobs(n_jobs), n_estimators)\n",
      "/usr/local/lib/python3.8/dist-packages/sklearn/ensemble/_base.py:209: UserWarning: Loky-backed parallel loops cannot be called in a multiprocessing, setting n_jobs=1\n",
      "  n_jobs = min(effective_n_jobs(n_jobs), n_estimators)\n",
      "/usr/local/lib/python3.8/dist-packages/sklearn/ensemble/_base.py:209: UserWarning: Loky-backed parallel loops cannot be called in a multiprocessing, setting n_jobs=1\n",
      "  n_jobs = min(effective_n_jobs(n_jobs), n_estimators)\n",
      "/usr/local/lib/python3.8/dist-packages/sklearn/ensemble/_base.py:209: UserWarning: Loky-backed parallel loops cannot be called in a multiprocessing, setting n_jobs=1\n",
      "  n_jobs = min(effective_n_jobs(n_jobs), n_estimators)\n",
      "/usr/local/lib/python3.8/dist-packages/sklearn/ensemble/_base.py:209: UserWarning: Loky-backed parallel loops cannot be called in a multiprocessing, setting n_jobs=1\n",
      "  n_jobs = min(effective_n_jobs(n_jobs), n_estimators)\n",
      "distributed.utils_perf - WARNING - full garbage collections took 18% CPU time recently (threshold: 10%)\n",
      "distributed.utils_perf - WARNING - full garbage collections took 18% CPU time recently (threshold: 10%)\n",
      "distributed.utils_perf - WARNING - full garbage collections took 18% CPU time recently (threshold: 10%)\n"
     ]
    },
    {
     "name": "stdout",
     "output_type": "stream",
     "text": [
      "predicting split  4\n",
      "predicting...\n"
     ]
    },
    {
     "name": "stderr",
     "output_type": "stream",
     "text": [
      "/usr/local/lib/python3.8/dist-packages/sklearn/ensemble/_base.py:209: UserWarning: Loky-backed parallel loops cannot be called in a multiprocessing, setting n_jobs=1\n",
      "  n_jobs = min(effective_n_jobs(n_jobs), n_estimators)\n",
      "distributed.utils_perf - WARNING - full garbage collections took 18% CPU time recently (threshold: 10%)\n",
      "distributed.utils_perf - WARNING - full garbage collections took 18% CPU time recently (threshold: 10%)\n"
     ]
    },
    {
     "name": "stdout",
     "output_type": "stream",
     "text": [
      "100.04767107963562 seconds spent on predicting\n",
      "predictions:\n",
      " <xarray.Dataset>\n",
      "Dimensions:       (x: 103, y: 103)\n",
      "Coordinates:\n",
      "  * x             (x) float64 6.102e+05 6.102e+05 ... 6.112e+05 6.113e+05\n",
      "  * y             (y) float64 6.802e+06 6.802e+06 ... 6.801e+06 6.801e+06\n",
      "    spatial_ref   int32 32735\n",
      "Data variables:\n",
      "    prediction_0  (y, x) float64 2.0 2.0 2.0 2.0 2.0 2.0 ... 2.0 2.0 2.0 2.0 2.0\n",
      "    prediction_1  (y, x) float64 2.0 2.0 2.0 2.0 2.0 2.0 ... 2.0 2.0 2.0 2.0 2.0\n",
      "    prediction_2  (y, x) float64 2.0 2.0 2.0 2.0 2.0 2.0 ... 2.0 2.0 2.0 2.0 2.0\n",
      "    prediction_3  (y, x) float64 2.0 2.0 2.0 2.0 2.0 2.0 ... 2.0 2.0 2.0 2.0 2.0\n",
      "    prediction_4  (y, x) float64 2.0 2.0 2.0 2.0 2.0 2.0 ... 2.0 2.0 2.0 2.0 2.0\n",
      "Attributes:\n",
      "    grid_mapping:  spatial_ref\n",
      "writing majority vote prediction cog file...\n",
      "bounding box  : minx:  28.10296751601942 miny:  -28.89852809327875 maxx:  28.113317932361547 maxy:  -28.889419330842923\n",
      "stacked Sentinel-2 dataset:\n",
      " <xarray.Dataset>\n",
      "Dimensions:       (y: 103, x: 103)\n",
      "Coordinates:\n",
      "    time          datetime64[ns] 2021-01-01\n",
      "  * y             (y) float64 6.804e+06 6.804e+06 ... 6.803e+06 6.803e+06\n",
      "  * x             (x) float64 6.075e+05 6.075e+05 ... 6.085e+05 6.086e+05\n",
      "Data variables: (12/66)\n",
      "    blue_0        (y, x) int16 dask.array<chunksize=(103, 103), meta=np.ndarray>\n",
      "    blue_1        (y, x) int16 dask.array<chunksize=(103, 103), meta=np.ndarray>\n",
      "    blue_2        (y, x) int16 dask.array<chunksize=(103, 103), meta=np.ndarray>\n",
      "    blue_3        (y, x) int16 dask.array<chunksize=(103, 103), meta=np.ndarray>\n",
      "    blue_4        (y, x) int16 dask.array<chunksize=(103, 103), meta=np.ndarray>\n",
      "    blue_5        (y, x) int16 dask.array<chunksize=(103, 103), meta=np.ndarray>\n",
      "    ...            ...\n",
      "    NDVI_0        (y, x) int16 dask.array<chunksize=(103, 103), meta=np.ndarray>\n",
      "    NDVI_1        (y, x) int16 dask.array<chunksize=(103, 103), meta=np.ndarray>\n",
      "    NDVI_2        (y, x) int16 dask.array<chunksize=(103, 103), meta=np.ndarray>\n",
      "    NDVI_3        (y, x) int16 dask.array<chunksize=(103, 103), meta=np.ndarray>\n",
      "    NDVI_4        (y, x) int16 dask.array<chunksize=(103, 103), meta=np.ndarray>\n",
      "    NDVI_5        (y, x) int16 dask.array<chunksize=(103, 103), meta=np.ndarray>\n",
      "Attributes:\n",
      "    units:         1\n",
      "    nodata:        0\n",
      "    crs:           EPSG:32735\n",
      "    grid_mapping:  spatial_ref\n",
      "predicting split  0\n",
      "predicting...\n"
     ]
    },
    {
     "name": "stderr",
     "output_type": "stream",
     "text": [
      "/usr/local/lib/python3.8/dist-packages/sklearn/ensemble/_base.py:209: UserWarning: Loky-backed parallel loops cannot be called in a multiprocessing, setting n_jobs=1\n",
      "  n_jobs = min(effective_n_jobs(n_jobs), n_estimators)\n",
      "distributed.utils_perf - WARNING - full garbage collections took 18% CPU time recently (threshold: 10%)\n",
      "distributed.utils_perf - WARNING - full garbage collections took 18% CPU time recently (threshold: 10%)\n"
     ]
    },
    {
     "name": "stdout",
     "output_type": "stream",
     "text": [
      "predicting split  1\n",
      "predicting...\n"
     ]
    },
    {
     "name": "stderr",
     "output_type": "stream",
     "text": [
      "/usr/local/lib/python3.8/dist-packages/sklearn/ensemble/_base.py:209: UserWarning: Loky-backed parallel loops cannot be called in a multiprocessing, setting n_jobs=1\n",
      "  n_jobs = min(effective_n_jobs(n_jobs), n_estimators)\n",
      "distributed.utils_perf - WARNING - full garbage collections took 18% CPU time recently (threshold: 10%)\n",
      "distributed.utils_perf - WARNING - full garbage collections took 19% CPU time recently (threshold: 10%)\n",
      "distributed.utils_perf - WARNING - full garbage collections took 19% CPU time recently (threshold: 10%)\n"
     ]
    },
    {
     "name": "stdout",
     "output_type": "stream",
     "text": [
      "predicting split  2\n",
      "predicting...\n"
     ]
    },
    {
     "name": "stderr",
     "output_type": "stream",
     "text": [
      "/usr/local/lib/python3.8/dist-packages/sklearn/ensemble/_base.py:209: UserWarning: Loky-backed parallel loops cannot be called in a multiprocessing, setting n_jobs=1\n",
      "  n_jobs = min(effective_n_jobs(n_jobs), n_estimators)\n",
      "distributed.utils_perf - WARNING - full garbage collections took 18% CPU time recently (threshold: 10%)\n",
      "distributed.utils_perf - WARNING - full garbage collections took 19% CPU time recently (threshold: 10%)\n",
      "distributed.utils_perf - WARNING - full garbage collections took 19% CPU time recently (threshold: 10%)\n"
     ]
    },
    {
     "name": "stdout",
     "output_type": "stream",
     "text": [
      "predicting split  3\n",
      "predicting...\n"
     ]
    },
    {
     "name": "stderr",
     "output_type": "stream",
     "text": [
      "/usr/local/lib/python3.8/dist-packages/sklearn/ensemble/_base.py:209: UserWarning: Loky-backed parallel loops cannot be called in a multiprocessing, setting n_jobs=1\n",
      "  n_jobs = min(effective_n_jobs(n_jobs), n_estimators)\n",
      "distributed.utils_perf - WARNING - full garbage collections took 19% CPU time recently (threshold: 10%)\n",
      "distributed.utils_perf - WARNING - full garbage collections took 20% CPU time recently (threshold: 10%)\n"
     ]
    },
    {
     "name": "stdout",
     "output_type": "stream",
     "text": [
      "predicting split  4\n",
      "predicting...\n"
     ]
    },
    {
     "name": "stderr",
     "output_type": "stream",
     "text": [
      "/usr/local/lib/python3.8/dist-packages/sklearn/ensemble/_base.py:209: UserWarning: Loky-backed parallel loops cannot be called in a multiprocessing, setting n_jobs=1\n",
      "  n_jobs = min(effective_n_jobs(n_jobs), n_estimators)\n",
      "distributed.utils_perf - WARNING - full garbage collections took 20% CPU time recently (threshold: 10%)\n",
      "distributed.utils_perf - WARNING - full garbage collections took 20% CPU time recently (threshold: 10%)\n",
      "distributed.utils_perf - WARNING - full garbage collections took 20% CPU time recently (threshold: 10%)\n"
     ]
    },
    {
     "name": "stdout",
     "output_type": "stream",
     "text": [
      "118.00811743736267 seconds spent on predicting\n",
      "predictions:\n",
      " <xarray.Dataset>\n",
      "Dimensions:       (x: 103, y: 103)\n",
      "Coordinates:\n",
      "  * x             (x) float64 6.075e+05 6.075e+05 ... 6.085e+05 6.086e+05\n",
      "  * y             (y) float64 6.804e+06 6.804e+06 ... 6.803e+06 6.803e+06\n",
      "    spatial_ref   int32 32735\n",
      "Data variables:\n",
      "    prediction_0  (y, x) float64 10.0 10.0 10.0 10.0 10.0 ... 2.0 12.0 2.0 2.0\n",
      "    prediction_1  (y, x) float64 10.0 10.0 10.0 10.0 10.0 ... 2.0 2.0 2.0 2.0\n",
      "    prediction_2  (y, x) float64 10.0 10.0 10.0 10.0 10.0 ... 2.0 2.0 2.0 2.0\n",
      "    prediction_3  (y, x) float64 10.0 10.0 10.0 10.0 10.0 ... 2.0 2.0 2.0 2.0\n",
      "    prediction_4  (y, x) float64 10.0 10.0 10.0 10.0 10.0 ... 2.0 2.0 2.0 2.0\n",
      "Attributes:\n",
      "    grid_mapping:  spatial_ref\n",
      "writing majority vote prediction cog file...\n",
      "bounding box  : minx:  27.55762480780172 miny:  -29.38268094535906 maxx:  27.567978640475655 maxy:  -29.373612433017367\n",
      "stacked Sentinel-2 dataset:\n",
      " <xarray.Dataset>\n",
      "Dimensions:       (y: 102, x: 102)\n",
      "Coordinates:\n",
      "    time          datetime64[ns] 2021-01-01\n",
      "  * y             (y) float64 6.75e+06 6.75e+06 6.75e+06 ... 6.749e+06 6.749e+06\n",
      "  * x             (x) float64 5.541e+05 5.541e+05 ... 5.551e+05 5.551e+05\n",
      "Data variables: (12/66)\n",
      "    blue_0        (y, x) int16 dask.array<chunksize=(102, 102), meta=np.ndarray>\n",
      "    blue_1        (y, x) int16 dask.array<chunksize=(102, 102), meta=np.ndarray>\n",
      "    blue_2        (y, x) int16 dask.array<chunksize=(102, 102), meta=np.ndarray>\n",
      "    blue_3        (y, x) int16 dask.array<chunksize=(102, 102), meta=np.ndarray>\n",
      "    blue_4        (y, x) int16 dask.array<chunksize=(102, 102), meta=np.ndarray>\n",
      "    blue_5        (y, x) int16 dask.array<chunksize=(102, 102), meta=np.ndarray>\n",
      "    ...            ...\n",
      "    NDVI_0        (y, x) int16 dask.array<chunksize=(102, 102), meta=np.ndarray>\n",
      "    NDVI_1        (y, x) int16 dask.array<chunksize=(102, 102), meta=np.ndarray>\n",
      "    NDVI_2        (y, x) int16 dask.array<chunksize=(102, 102), meta=np.ndarray>\n",
      "    NDVI_3        (y, x) int16 dask.array<chunksize=(102, 102), meta=np.ndarray>\n",
      "    NDVI_4        (y, x) int16 dask.array<chunksize=(102, 102), meta=np.ndarray>\n",
      "    NDVI_5        (y, x) int16 dask.array<chunksize=(102, 102), meta=np.ndarray>\n",
      "Attributes:\n",
      "    units:         1\n",
      "    nodata:        0\n",
      "    crs:           EPSG:32735\n",
      "    grid_mapping:  spatial_ref\n",
      "predicting split  0\n",
      "predicting...\n"
     ]
    },
    {
     "name": "stderr",
     "output_type": "stream",
     "text": [
      "/usr/local/lib/python3.8/dist-packages/sklearn/ensemble/_base.py:209: UserWarning: Loky-backed parallel loops cannot be called in a multiprocessing, setting n_jobs=1\n",
      "  n_jobs = min(effective_n_jobs(n_jobs), n_estimators)\n",
      "distributed.utils_perf - WARNING - full garbage collections took 20% CPU time recently (threshold: 10%)\n",
      "distributed.utils_perf - WARNING - full garbage collections took 20% CPU time recently (threshold: 10%)\n"
     ]
    },
    {
     "name": "stdout",
     "output_type": "stream",
     "text": [
      "predicting split  1\n",
      "predicting...\n"
     ]
    },
    {
     "name": "stderr",
     "output_type": "stream",
     "text": [
      "/usr/local/lib/python3.8/dist-packages/sklearn/ensemble/_base.py:209: UserWarning: Loky-backed parallel loops cannot be called in a multiprocessing, setting n_jobs=1\n",
      "  n_jobs = min(effective_n_jobs(n_jobs), n_estimators)\n",
      "distributed.utils_perf - WARNING - full garbage collections took 20% CPU time recently (threshold: 10%)\n",
      "distributed.utils_perf - WARNING - full garbage collections took 20% CPU time recently (threshold: 10%)\n"
     ]
    },
    {
     "name": "stdout",
     "output_type": "stream",
     "text": [
      "predicting split  2\n",
      "predicting...\n"
     ]
    },
    {
     "name": "stderr",
     "output_type": "stream",
     "text": [
      "/usr/local/lib/python3.8/dist-packages/sklearn/ensemble/_base.py:209: UserWarning: Loky-backed parallel loops cannot be called in a multiprocessing, setting n_jobs=1\n",
      "  n_jobs = min(effective_n_jobs(n_jobs), n_estimators)\n",
      "distributed.utils_perf - WARNING - full garbage collections took 20% CPU time recently (threshold: 10%)\n",
      "distributed.utils_perf - WARNING - full garbage collections took 20% CPU time recently (threshold: 10%)\n"
     ]
    },
    {
     "name": "stdout",
     "output_type": "stream",
     "text": [
      "predicting split  3\n",
      "predicting...\n"
     ]
    },
    {
     "name": "stderr",
     "output_type": "stream",
     "text": [
      "/usr/local/lib/python3.8/dist-packages/sklearn/ensemble/_base.py:209: UserWarning: Loky-backed parallel loops cannot be called in a multiprocessing, setting n_jobs=1\n",
      "  n_jobs = min(effective_n_jobs(n_jobs), n_estimators)\n",
      "distributed.utils_perf - WARNING - full garbage collections took 21% CPU time recently (threshold: 10%)\n",
      "distributed.utils_perf - WARNING - full garbage collections took 21% CPU time recently (threshold: 10%)\n"
     ]
    },
    {
     "name": "stdout",
     "output_type": "stream",
     "text": [
      "predicting split  4\n",
      "predicting...\n"
     ]
    },
    {
     "name": "stderr",
     "output_type": "stream",
     "text": [
      "/usr/local/lib/python3.8/dist-packages/sklearn/ensemble/_base.py:209: UserWarning: Loky-backed parallel loops cannot be called in a multiprocessing, setting n_jobs=1\n",
      "  n_jobs = min(effective_n_jobs(n_jobs), n_estimators)\n",
      "distributed.utils_perf - WARNING - full garbage collections took 21% CPU time recently (threshold: 10%)\n",
      "distributed.utils_perf - WARNING - full garbage collections took 21% CPU time recently (threshold: 10%)\n"
     ]
    },
    {
     "name": "stdout",
     "output_type": "stream",
     "text": [
      "100.11721611022949 seconds spent on predicting\n",
      "predictions:\n",
      " <xarray.Dataset>\n",
      "Dimensions:       (x: 102, y: 102)\n",
      "Coordinates:\n",
      "  * x             (x) float64 5.541e+05 5.541e+05 ... 5.551e+05 5.551e+05\n",
      "  * y             (y) float64 6.75e+06 6.75e+06 6.75e+06 ... 6.749e+06 6.749e+06\n",
      "    spatial_ref   int32 32735\n",
      "Data variables:\n",
      "    prediction_0  (y, x) float64 2.0 2.0 12.0 1.0 9.0 ... 2.0 2.0 10.0 2.0 2.0\n",
      "    prediction_1  (y, x) float64 12.0 2.0 12.0 1.0 1.0 ... 2.0 2.0 10.0 10.0 2.0\n",
      "    prediction_2  (y, x) float64 1.0 2.0 2.0 2.0 9.0 ... 2.0 2.0 10.0 2.0 2.0\n",
      "    prediction_3  (y, x) float64 10.0 10.0 2.0 12.0 9.0 ... 2.0 2.0 10.0 2.0 2.0\n",
      "    prediction_4  (y, x) float64 10.0 2.0 2.0 2.0 9.0 ... 2.0 2.0 12.0 2.0 2.0\n",
      "Attributes:\n",
      "    grid_mapping:  spatial_ref\n",
      "writing majority vote prediction cog file...\n",
      "bounding box  : minx:  27.50158191742997 miny:  -29.342831267712082 maxx:  27.511926817288597 maxy:  -29.333766997821293\n",
      "stacked Sentinel-2 dataset:\n",
      " <xarray.Dataset>\n",
      "Dimensions:       (y: 102, x: 101)\n",
      "Coordinates:\n",
      "    time          datetime64[ns] 2021-01-01\n",
      "  * y             (y) float64 6.755e+06 6.755e+06 ... 6.754e+06 6.754e+06\n",
      "  * x             (x) float64 5.487e+05 5.487e+05 ... 5.497e+05 5.497e+05\n",
      "Data variables: (12/66)\n",
      "    blue_0        (y, x) int16 dask.array<chunksize=(102, 101), meta=np.ndarray>\n",
      "    blue_1        (y, x) int16 dask.array<chunksize=(102, 101), meta=np.ndarray>\n",
      "    blue_2        (y, x) int16 dask.array<chunksize=(102, 101), meta=np.ndarray>\n",
      "    blue_3        (y, x) int16 dask.array<chunksize=(102, 101), meta=np.ndarray>\n",
      "    blue_4        (y, x) int16 dask.array<chunksize=(102, 101), meta=np.ndarray>\n",
      "    blue_5        (y, x) int16 dask.array<chunksize=(102, 101), meta=np.ndarray>\n",
      "    ...            ...\n",
      "    NDVI_0        (y, x) int16 dask.array<chunksize=(102, 101), meta=np.ndarray>\n",
      "    NDVI_1        (y, x) int16 dask.array<chunksize=(102, 101), meta=np.ndarray>\n",
      "    NDVI_2        (y, x) int16 dask.array<chunksize=(102, 101), meta=np.ndarray>\n",
      "    NDVI_3        (y, x) int16 dask.array<chunksize=(102, 101), meta=np.ndarray>\n",
      "    NDVI_4        (y, x) int16 dask.array<chunksize=(102, 101), meta=np.ndarray>\n",
      "    NDVI_5        (y, x) int16 dask.array<chunksize=(102, 101), meta=np.ndarray>\n",
      "Attributes:\n",
      "    units:         1\n",
      "    nodata:        0\n",
      "    crs:           EPSG:32735\n",
      "    grid_mapping:  spatial_ref\n",
      "predicting split  0\n",
      "predicting...\n"
     ]
    },
    {
     "name": "stderr",
     "output_type": "stream",
     "text": [
      "/usr/local/lib/python3.8/dist-packages/sklearn/ensemble/_base.py:209: UserWarning: Loky-backed parallel loops cannot be called in a multiprocessing, setting n_jobs=1\n",
      "  n_jobs = min(effective_n_jobs(n_jobs), n_estimators)\n",
      "distributed.utils_perf - WARNING - full garbage collections took 22% CPU time recently (threshold: 10%)\n"
     ]
    },
    {
     "name": "stdout",
     "output_type": "stream",
     "text": [
      "predicting split  1\n",
      "predicting...\n"
     ]
    },
    {
     "name": "stderr",
     "output_type": "stream",
     "text": [
      "/usr/local/lib/python3.8/dist-packages/sklearn/ensemble/_base.py:209: UserWarning: Loky-backed parallel loops cannot be called in a multiprocessing, setting n_jobs=1\n",
      "  n_jobs = min(effective_n_jobs(n_jobs), n_estimators)\n",
      "distributed.utils_perf - WARNING - full garbage collections took 22% CPU time recently (threshold: 10%)\n",
      "distributed.utils_perf - WARNING - full garbage collections took 23% CPU time recently (threshold: 10%)\n"
     ]
    },
    {
     "name": "stdout",
     "output_type": "stream",
     "text": [
      "predicting split  2\n",
      "predicting...\n"
     ]
    },
    {
     "name": "stderr",
     "output_type": "stream",
     "text": [
      "/usr/local/lib/python3.8/dist-packages/sklearn/ensemble/_base.py:209: UserWarning: Loky-backed parallel loops cannot be called in a multiprocessing, setting n_jobs=1\n",
      "  n_jobs = min(effective_n_jobs(n_jobs), n_estimators)\n",
      "distributed.utils_perf - WARNING - full garbage collections took 23% CPU time recently (threshold: 10%)\n",
      "distributed.utils_perf - WARNING - full garbage collections took 23% CPU time recently (threshold: 10%)\n"
     ]
    },
    {
     "name": "stdout",
     "output_type": "stream",
     "text": [
      "predicting split  3\n",
      "predicting...\n"
     ]
    },
    {
     "name": "stderr",
     "output_type": "stream",
     "text": [
      "/usr/local/lib/python3.8/dist-packages/sklearn/ensemble/_base.py:209: UserWarning: Loky-backed parallel loops cannot be called in a multiprocessing, setting n_jobs=1\n",
      "  n_jobs = min(effective_n_jobs(n_jobs), n_estimators)\n",
      "distributed.utils_perf - WARNING - full garbage collections took 23% CPU time recently (threshold: 10%)\n"
     ]
    },
    {
     "name": "stdout",
     "output_type": "stream",
     "text": [
      "predicting split  4\n",
      "predicting...\n"
     ]
    },
    {
     "name": "stderr",
     "output_type": "stream",
     "text": [
      "/usr/local/lib/python3.8/dist-packages/sklearn/ensemble/_base.py:209: UserWarning: Loky-backed parallel loops cannot be called in a multiprocessing, setting n_jobs=1\n",
      "  n_jobs = min(effective_n_jobs(n_jobs), n_estimators)\n",
      "distributed.utils_perf - WARNING - full garbage collections took 22% CPU time recently (threshold: 10%)\n",
      "distributed.utils_perf - WARNING - full garbage collections took 23% CPU time recently (threshold: 10%)\n"
     ]
    },
    {
     "name": "stdout",
     "output_type": "stream",
     "text": [
      "99.320383310318 seconds spent on predicting\n",
      "predictions:\n",
      " <xarray.Dataset>\n",
      "Dimensions:       (x: 101, y: 102)\n",
      "Coordinates:\n",
      "  * x             (x) float64 5.487e+05 5.487e+05 ... 5.497e+05 5.497e+05\n",
      "  * y             (y) float64 6.755e+06 6.755e+06 ... 6.754e+06 6.754e+06\n",
      "    spatial_ref   int32 32735\n",
      "Data variables:\n",
      "    prediction_0  (y, x) float64 2.0 10.0 10.0 10.0 10.0 ... 10.0 10.0 10.0 10.0\n",
      "    prediction_1  (y, x) float64 10.0 10.0 10.0 10.0 1.0 ... 10.0 10.0 10.0 10.0\n",
      "    prediction_2  (y, x) float64 9.0 10.0 10.0 10.0 1.0 ... 10.0 10.0 10.0 10.0\n",
      "    prediction_3  (y, x) float64 2.0 10.0 10.0 10.0 1.0 ... 10.0 10.0 10.0 10.0\n",
      "    prediction_4  (y, x) float64 10.0 10.0 10.0 10.0 1.0 ... 10.0 10.0 10.0 10.0\n",
      "Attributes:\n",
      "    grid_mapping:  spatial_ref\n",
      "writing majority vote prediction cog file...\n",
      "bounding box  : minx:  27.42901296263378 miny:  -29.57449092919322 maxx:  27.43937536705271 maxy:  -29.565432239879293\n",
      "stacked Sentinel-2 dataset:\n",
      " <xarray.Dataset>\n",
      "Dimensions:       (y: 101, x: 101)\n",
      "Coordinates:\n",
      "    time          datetime64[ns] 2021-01-01\n",
      "  * y             (y) float64 6.729e+06 6.729e+06 ... 6.728e+06 6.728e+06\n",
      "  * x             (x) float64 5.416e+05 5.416e+05 ... 5.425e+05 5.426e+05\n",
      "Data variables: (12/66)\n",
      "    blue_0        (y, x) int16 dask.array<chunksize=(101, 101), meta=np.ndarray>\n",
      "    blue_1        (y, x) int16 dask.array<chunksize=(101, 101), meta=np.ndarray>\n",
      "    blue_2        (y, x) int16 dask.array<chunksize=(101, 101), meta=np.ndarray>\n",
      "    blue_3        (y, x) int16 dask.array<chunksize=(101, 101), meta=np.ndarray>\n",
      "    blue_4        (y, x) int16 dask.array<chunksize=(101, 101), meta=np.ndarray>\n",
      "    blue_5        (y, x) int16 dask.array<chunksize=(101, 101), meta=np.ndarray>\n",
      "    ...            ...\n",
      "    NDVI_0        (y, x) int16 dask.array<chunksize=(101, 101), meta=np.ndarray>\n",
      "    NDVI_1        (y, x) int16 dask.array<chunksize=(101, 101), meta=np.ndarray>\n",
      "    NDVI_2        (y, x) int16 dask.array<chunksize=(101, 101), meta=np.ndarray>\n",
      "    NDVI_3        (y, x) int16 dask.array<chunksize=(101, 101), meta=np.ndarray>\n",
      "    NDVI_4        (y, x) int16 dask.array<chunksize=(101, 101), meta=np.ndarray>\n",
      "    NDVI_5        (y, x) int16 dask.array<chunksize=(101, 101), meta=np.ndarray>\n",
      "Attributes:\n",
      "    units:         1\n",
      "    nodata:        0\n",
      "    crs:           EPSG:32735\n",
      "    grid_mapping:  spatial_ref\n",
      "predicting split  0\n",
      "predicting...\n"
     ]
    },
    {
     "name": "stderr",
     "output_type": "stream",
     "text": [
      "/usr/local/lib/python3.8/dist-packages/sklearn/ensemble/_base.py:209: UserWarning: Loky-backed parallel loops cannot be called in a multiprocessing, setting n_jobs=1\n",
      "  n_jobs = min(effective_n_jobs(n_jobs), n_estimators)\n",
      "distributed.utils_perf - WARNING - full garbage collections took 22% CPU time recently (threshold: 10%)\n",
      "distributed.utils_perf - WARNING - full garbage collections took 22% CPU time recently (threshold: 10%)\n"
     ]
    },
    {
     "name": "stdout",
     "output_type": "stream",
     "text": [
      "predicting split  1\n",
      "predicting...\n"
     ]
    },
    {
     "name": "stderr",
     "output_type": "stream",
     "text": [
      "/usr/local/lib/python3.8/dist-packages/sklearn/ensemble/_base.py:209: UserWarning: Loky-backed parallel loops cannot be called in a multiprocessing, setting n_jobs=1\n",
      "  n_jobs = min(effective_n_jobs(n_jobs), n_estimators)\n",
      "distributed.utils_perf - WARNING - full garbage collections took 22% CPU time recently (threshold: 10%)\n"
     ]
    },
    {
     "name": "stdout",
     "output_type": "stream",
     "text": [
      "predicting split  2\n",
      "predicting...\n"
     ]
    },
    {
     "name": "stderr",
     "output_type": "stream",
     "text": [
      "/usr/local/lib/python3.8/dist-packages/sklearn/ensemble/_base.py:209: UserWarning: Loky-backed parallel loops cannot be called in a multiprocessing, setting n_jobs=1\n",
      "  n_jobs = min(effective_n_jobs(n_jobs), n_estimators)\n",
      "distributed.utils_perf - WARNING - full garbage collections took 23% CPU time recently (threshold: 10%)\n",
      "distributed.utils_perf - WARNING - full garbage collections took 24% CPU time recently (threshold: 10%)\n"
     ]
    },
    {
     "name": "stdout",
     "output_type": "stream",
     "text": [
      "predicting split  3\n",
      "predicting...\n"
     ]
    },
    {
     "name": "stderr",
     "output_type": "stream",
     "text": [
      "/usr/local/lib/python3.8/dist-packages/sklearn/ensemble/_base.py:209: UserWarning: Loky-backed parallel loops cannot be called in a multiprocessing, setting n_jobs=1\n",
      "  n_jobs = min(effective_n_jobs(n_jobs), n_estimators)\n",
      "distributed.utils_perf - WARNING - full garbage collections took 23% CPU time recently (threshold: 10%)\n",
      "distributed.utils_perf - WARNING - full garbage collections took 23% CPU time recently (threshold: 10%)\n"
     ]
    },
    {
     "name": "stdout",
     "output_type": "stream",
     "text": [
      "predicting split  4\n",
      "predicting...\n"
     ]
    },
    {
     "name": "stderr",
     "output_type": "stream",
     "text": [
      "/usr/local/lib/python3.8/dist-packages/sklearn/ensemble/_base.py:209: UserWarning: Loky-backed parallel loops cannot be called in a multiprocessing, setting n_jobs=1\n",
      "  n_jobs = min(effective_n_jobs(n_jobs), n_estimators)\n",
      "distributed.utils_perf - WARNING - full garbage collections took 23% CPU time recently (threshold: 10%)\n"
     ]
    },
    {
     "name": "stdout",
     "output_type": "stream",
     "text": [
      "84.23714470863342 seconds spent on predicting\n",
      "predictions:\n",
      " <xarray.Dataset>\n",
      "Dimensions:       (x: 101, y: 101)\n",
      "Coordinates:\n",
      "  * x             (x) float64 5.416e+05 5.416e+05 ... 5.425e+05 5.426e+05\n",
      "  * y             (y) float64 6.729e+06 6.729e+06 ... 6.728e+06 6.728e+06\n",
      "    spatial_ref   int32 32735\n",
      "Data variables:\n",
      "    prediction_0  (y, x) float64 2.0 2.0 2.0 2.0 2.0 ... 10.0 10.0 10.0 10.0\n",
      "    prediction_1  (y, x) float64 2.0 2.0 2.0 2.0 2.0 ... 10.0 10.0 10.0 10.0\n",
      "    prediction_2  (y, x) float64 2.0 2.0 2.0 2.0 2.0 ... 10.0 10.0 10.0 10.0\n",
      "    prediction_3  (y, x) float64 2.0 2.0 2.0 2.0 2.0 ... 10.0 10.0 10.0 10.0\n",
      "    prediction_4  (y, x) float64 2.0 2.0 2.0 2.0 2.0 ... 10.0 10.0 10.0 10.0\n",
      "Attributes:\n",
      "    grid_mapping:  spatial_ref\n",
      "writing majority vote prediction cog file...\n",
      "bounding box  : minx:  27.55790408439962 miny:  -29.452715188441374 maxx:  27.568265150583493 maxy:  -29.443646655621574\n",
      "stacked Sentinel-2 dataset:\n",
      " <xarray.Dataset>\n",
      "Dimensions:       (y: 102, x: 102)\n",
      "Coordinates:\n",
      "    time          datetime64[ns] 2021-01-01\n",
      "  * y             (y) float64 6.743e+06 6.743e+06 ... 6.742e+06 6.742e+06\n",
      "  * x             (x) float64 5.541e+05 5.541e+05 ... 5.551e+05 5.551e+05\n",
      "Data variables: (12/66)\n",
      "    blue_0        (y, x) int16 dask.array<chunksize=(102, 102), meta=np.ndarray>\n",
      "    blue_1        (y, x) int16 dask.array<chunksize=(102, 102), meta=np.ndarray>\n",
      "    blue_2        (y, x) int16 dask.array<chunksize=(102, 102), meta=np.ndarray>\n",
      "    blue_3        (y, x) int16 dask.array<chunksize=(102, 102), meta=np.ndarray>\n",
      "    blue_4        (y, x) int16 dask.array<chunksize=(102, 102), meta=np.ndarray>\n",
      "    blue_5        (y, x) int16 dask.array<chunksize=(102, 102), meta=np.ndarray>\n",
      "    ...            ...\n",
      "    NDVI_0        (y, x) int16 dask.array<chunksize=(102, 102), meta=np.ndarray>\n",
      "    NDVI_1        (y, x) int16 dask.array<chunksize=(102, 102), meta=np.ndarray>\n",
      "    NDVI_2        (y, x) int16 dask.array<chunksize=(102, 102), meta=np.ndarray>\n",
      "    NDVI_3        (y, x) int16 dask.array<chunksize=(102, 102), meta=np.ndarray>\n",
      "    NDVI_4        (y, x) int16 dask.array<chunksize=(102, 102), meta=np.ndarray>\n",
      "    NDVI_5        (y, x) int16 dask.array<chunksize=(102, 102), meta=np.ndarray>\n",
      "Attributes:\n",
      "    units:         1\n",
      "    nodata:        0\n",
      "    crs:           EPSG:32735\n",
      "    grid_mapping:  spatial_ref\n",
      "predicting split  0\n",
      "predicting...\n"
     ]
    },
    {
     "name": "stderr",
     "output_type": "stream",
     "text": [
      "/usr/local/lib/python3.8/dist-packages/sklearn/ensemble/_base.py:209: UserWarning: Loky-backed parallel loops cannot be called in a multiprocessing, setting n_jobs=1\n",
      "  n_jobs = min(effective_n_jobs(n_jobs), n_estimators)\n",
      "distributed.utils_perf - WARNING - full garbage collections took 22% CPU time recently (threshold: 10%)\n",
      "distributed.utils_perf - WARNING - full garbage collections took 23% CPU time recently (threshold: 10%)\n"
     ]
    },
    {
     "name": "stdout",
     "output_type": "stream",
     "text": [
      "predicting split  1\n",
      "predicting...\n"
     ]
    },
    {
     "name": "stderr",
     "output_type": "stream",
     "text": [
      "/usr/local/lib/python3.8/dist-packages/sklearn/ensemble/_base.py:209: UserWarning: Loky-backed parallel loops cannot be called in a multiprocessing, setting n_jobs=1\n",
      "  n_jobs = min(effective_n_jobs(n_jobs), n_estimators)\n",
      "distributed.utils_perf - WARNING - full garbage collections took 23% CPU time recently (threshold: 10%)\n"
     ]
    },
    {
     "name": "stdout",
     "output_type": "stream",
     "text": [
      "predicting split  2\n",
      "predicting...\n"
     ]
    },
    {
     "name": "stderr",
     "output_type": "stream",
     "text": [
      "/usr/local/lib/python3.8/dist-packages/sklearn/ensemble/_base.py:209: UserWarning: Loky-backed parallel loops cannot be called in a multiprocessing, setting n_jobs=1\n",
      "  n_jobs = min(effective_n_jobs(n_jobs), n_estimators)\n",
      "distributed.utils_perf - WARNING - full garbage collections took 22% CPU time recently (threshold: 10%)\n",
      "distributed.utils_perf - WARNING - full garbage collections took 23% CPU time recently (threshold: 10%)\n"
     ]
    },
    {
     "name": "stdout",
     "output_type": "stream",
     "text": [
      "predicting split  3\n",
      "predicting...\n"
     ]
    },
    {
     "name": "stderr",
     "output_type": "stream",
     "text": [
      "/usr/local/lib/python3.8/dist-packages/sklearn/ensemble/_base.py:209: UserWarning: Loky-backed parallel loops cannot be called in a multiprocessing, setting n_jobs=1\n",
      "  n_jobs = min(effective_n_jobs(n_jobs), n_estimators)\n",
      "distributed.utils_perf - WARNING - full garbage collections took 22% CPU time recently (threshold: 10%)\n",
      "distributed.utils_perf - WARNING - full garbage collections took 23% CPU time recently (threshold: 10%)\n"
     ]
    },
    {
     "name": "stdout",
     "output_type": "stream",
     "text": [
      "predicting split  4\n",
      "predicting...\n"
     ]
    },
    {
     "name": "stderr",
     "output_type": "stream",
     "text": [
      "/usr/local/lib/python3.8/dist-packages/sklearn/ensemble/_base.py:209: UserWarning: Loky-backed parallel loops cannot be called in a multiprocessing, setting n_jobs=1\n",
      "  n_jobs = min(effective_n_jobs(n_jobs), n_estimators)\n",
      "distributed.utils_perf - WARNING - full garbage collections took 22% CPU time recently (threshold: 10%)\n"
     ]
    },
    {
     "name": "stdout",
     "output_type": "stream",
     "text": [
      "101.37366199493408 seconds spent on predicting\n",
      "predictions:\n",
      " <xarray.Dataset>\n",
      "Dimensions:       (x: 102, y: 102)\n",
      "Coordinates:\n",
      "  * x             (x) float64 5.541e+05 5.541e+05 ... 5.551e+05 5.551e+05\n",
      "  * y             (y) float64 6.743e+06 6.743e+06 ... 6.742e+06 6.742e+06\n",
      "    spatial_ref   int32 32735\n",
      "Data variables:\n",
      "    prediction_0  (y, x) float64 9.0 10.0 10.0 12.0 12.0 ... 10.0 10.0 2.0 2.0\n",
      "    prediction_1  (y, x) float64 10.0 2.0 10.0 10.0 12.0 ... 10.0 10.0 2.0 2.0\n",
      "    prediction_2  (y, x) float64 9.0 2.0 10.0 10.0 12.0 ... 10.0 10.0 2.0 2.0\n",
      "    prediction_3  (y, x) float64 9.0 2.0 10.0 12.0 12.0 ... 10.0 10.0 2.0 2.0\n",
      "    prediction_4  (y, x) float64 10.0 10.0 10.0 12.0 12.0 ... 10.0 10.0 2.0 2.0\n",
      "Attributes:\n",
      "    grid_mapping:  spatial_ref\n",
      "writing majority vote prediction cog file...\n",
      "bounding box  : minx:  27.26683553901597 miny:  -29.850267239329916 maxx:  27.277212224206274 maxy:  -29.841221195705884\n",
      "stacked Sentinel-2 dataset:\n",
      " <xarray.Dataset>\n",
      "Dimensions:       (y: 101, x: 101)\n",
      "Coordinates:\n",
      "    time          datetime64[ns] 2021-01-01\n",
      "  * y             (y) float64 6.699e+06 6.699e+06 ... 6.698e+06 6.698e+06\n",
      "  * x             (x) float64 5.258e+05 5.258e+05 ... 5.268e+05 5.268e+05\n",
      "Data variables: (12/66)\n",
      "    blue_0        (y, x) int16 dask.array<chunksize=(101, 101), meta=np.ndarray>\n",
      "    blue_1        (y, x) int16 dask.array<chunksize=(101, 101), meta=np.ndarray>\n",
      "    blue_2        (y, x) int16 dask.array<chunksize=(101, 101), meta=np.ndarray>\n",
      "    blue_3        (y, x) int16 dask.array<chunksize=(101, 101), meta=np.ndarray>\n",
      "    blue_4        (y, x) int16 dask.array<chunksize=(101, 101), meta=np.ndarray>\n",
      "    blue_5        (y, x) int16 dask.array<chunksize=(101, 101), meta=np.ndarray>\n",
      "    ...            ...\n",
      "    NDVI_0        (y, x) int16 dask.array<chunksize=(101, 101), meta=np.ndarray>\n",
      "    NDVI_1        (y, x) int16 dask.array<chunksize=(101, 101), meta=np.ndarray>\n",
      "    NDVI_2        (y, x) int16 dask.array<chunksize=(101, 101), meta=np.ndarray>\n",
      "    NDVI_3        (y, x) int16 dask.array<chunksize=(101, 101), meta=np.ndarray>\n",
      "    NDVI_4        (y, x) int16 dask.array<chunksize=(101, 101), meta=np.ndarray>\n",
      "    NDVI_5        (y, x) int16 dask.array<chunksize=(101, 101), meta=np.ndarray>\n",
      "Attributes:\n",
      "    units:         1\n",
      "    nodata:        0\n",
      "    crs:           EPSG:32735\n",
      "    grid_mapping:  spatial_ref\n",
      "predicting split  0\n",
      "predicting...\n"
     ]
    },
    {
     "name": "stderr",
     "output_type": "stream",
     "text": [
      "/usr/local/lib/python3.8/dist-packages/sklearn/ensemble/_base.py:209: UserWarning: Loky-backed parallel loops cannot be called in a multiprocessing, setting n_jobs=1\n",
      "  n_jobs = min(effective_n_jobs(n_jobs), n_estimators)\n",
      "distributed.utils_perf - WARNING - full garbage collections took 23% CPU time recently (threshold: 10%)\n",
      "distributed.utils_perf - WARNING - full garbage collections took 24% CPU time recently (threshold: 10%)\n"
     ]
    },
    {
     "name": "stdout",
     "output_type": "stream",
     "text": [
      "predicting split  1\n",
      "predicting...\n"
     ]
    },
    {
     "name": "stderr",
     "output_type": "stream",
     "text": [
      "/usr/local/lib/python3.8/dist-packages/sklearn/ensemble/_base.py:209: UserWarning: Loky-backed parallel loops cannot be called in a multiprocessing, setting n_jobs=1\n",
      "  n_jobs = min(effective_n_jobs(n_jobs), n_estimators)\n",
      "distributed.utils_perf - WARNING - full garbage collections took 23% CPU time recently (threshold: 10%)\n",
      "distributed.utils_perf - WARNING - full garbage collections took 24% CPU time recently (threshold: 10%)\n"
     ]
    },
    {
     "name": "stdout",
     "output_type": "stream",
     "text": [
      "predicting split  2\n",
      "predicting...\n"
     ]
    },
    {
     "name": "stderr",
     "output_type": "stream",
     "text": [
      "/usr/local/lib/python3.8/dist-packages/sklearn/ensemble/_base.py:209: UserWarning: Loky-backed parallel loops cannot be called in a multiprocessing, setting n_jobs=1\n",
      "  n_jobs = min(effective_n_jobs(n_jobs), n_estimators)\n",
      "distributed.utils_perf - WARNING - full garbage collections took 24% CPU time recently (threshold: 10%)\n",
      "distributed.utils_perf - WARNING - full garbage collections took 24% CPU time recently (threshold: 10%)\n"
     ]
    },
    {
     "name": "stdout",
     "output_type": "stream",
     "text": [
      "predicting split  3\n",
      "predicting...\n"
     ]
    },
    {
     "name": "stderr",
     "output_type": "stream",
     "text": [
      "/usr/local/lib/python3.8/dist-packages/sklearn/ensemble/_base.py:209: UserWarning: Loky-backed parallel loops cannot be called in a multiprocessing, setting n_jobs=1\n",
      "  n_jobs = min(effective_n_jobs(n_jobs), n_estimators)\n",
      "distributed.utils_perf - WARNING - full garbage collections took 24% CPU time recently (threshold: 10%)\n",
      "distributed.utils_perf - WARNING - full garbage collections took 25% CPU time recently (threshold: 10%)\n"
     ]
    },
    {
     "name": "stdout",
     "output_type": "stream",
     "text": [
      "predicting split  4\n",
      "predicting...\n"
     ]
    },
    {
     "name": "stderr",
     "output_type": "stream",
     "text": [
      "/usr/local/lib/python3.8/dist-packages/sklearn/ensemble/_base.py:209: UserWarning: Loky-backed parallel loops cannot be called in a multiprocessing, setting n_jobs=1\n",
      "  n_jobs = min(effective_n_jobs(n_jobs), n_estimators)\n",
      "distributed.utils_perf - WARNING - full garbage collections took 24% CPU time recently (threshold: 10%)\n",
      "distributed.utils_perf - WARNING - full garbage collections took 25% CPU time recently (threshold: 10%)\n"
     ]
    },
    {
     "name": "stdout",
     "output_type": "stream",
     "text": [
      "121.17645740509033 seconds spent on predicting\n",
      "predictions:\n",
      " <xarray.Dataset>\n",
      "Dimensions:       (x: 101, y: 101)\n",
      "Coordinates:\n",
      "  * x             (x) float64 5.258e+05 5.258e+05 ... 5.268e+05 5.268e+05\n",
      "  * y             (y) float64 6.699e+06 6.699e+06 ... 6.698e+06 6.698e+06\n",
      "    spatial_ref   int32 32735\n",
      "Data variables:\n",
      "    prediction_0  (y, x) float64 2.0 2.0 2.0 2.0 2.0 ... 10.0 10.0 10.0 10.0\n",
      "    prediction_1  (y, x) float64 2.0 2.0 2.0 2.0 2.0 ... 10.0 10.0 10.0 10.0\n",
      "    prediction_2  (y, x) float64 2.0 2.0 2.0 2.0 2.0 ... 10.0 10.0 10.0 10.0\n",
      "    prediction_3  (y, x) float64 2.0 2.0 2.0 2.0 2.0 ... 10.0 10.0 10.0 10.0\n",
      "    prediction_4  (y, x) float64 2.0 2.0 2.0 2.0 2.0 ... 10.0 10.0 10.0 10.0 9.0\n",
      "Attributes:\n",
      "    grid_mapping:  spatial_ref\n",
      "writing majority vote prediction cog file...\n",
      "bounding box  : minx:  28.357345245677323 miny:  -29.789237524060812 maxx:  28.367810570649798 maxy:  -29.780108576578705\n",
      "stacked Sentinel-2 dataset:\n",
      " <xarray.Dataset>\n",
      "Dimensions:       (y: 103, x: 103)\n",
      "Coordinates:\n",
      "    time          datetime64[ns] 2021-01-01\n",
      "  * y             (y) float64 6.705e+06 6.705e+06 ... 6.704e+06 6.704e+06\n",
      "  * x             (x) float64 6.312e+05 6.312e+05 ... 6.322e+05 6.322e+05\n",
      "Data variables: (12/66)\n",
      "    blue_0        (y, x) int16 dask.array<chunksize=(103, 103), meta=np.ndarray>\n",
      "    blue_1        (y, x) int16 dask.array<chunksize=(103, 103), meta=np.ndarray>\n",
      "    blue_2        (y, x) int16 dask.array<chunksize=(103, 103), meta=np.ndarray>\n",
      "    blue_3        (y, x) int16 dask.array<chunksize=(103, 103), meta=np.ndarray>\n",
      "    blue_4        (y, x) int16 dask.array<chunksize=(103, 103), meta=np.ndarray>\n",
      "    blue_5        (y, x) int16 dask.array<chunksize=(103, 103), meta=np.ndarray>\n",
      "    ...            ...\n",
      "    NDVI_0        (y, x) int16 dask.array<chunksize=(103, 103), meta=np.ndarray>\n",
      "    NDVI_1        (y, x) int16 dask.array<chunksize=(103, 103), meta=np.ndarray>\n",
      "    NDVI_2        (y, x) int16 dask.array<chunksize=(103, 103), meta=np.ndarray>\n",
      "    NDVI_3        (y, x) int16 dask.array<chunksize=(103, 103), meta=np.ndarray>\n",
      "    NDVI_4        (y, x) int16 dask.array<chunksize=(103, 103), meta=np.ndarray>\n",
      "    NDVI_5        (y, x) int16 dask.array<chunksize=(103, 103), meta=np.ndarray>\n",
      "Attributes:\n",
      "    units:         1\n",
      "    nodata:        0\n",
      "    crs:           EPSG:32735\n",
      "    grid_mapping:  spatial_ref\n",
      "predicting split  0\n",
      "predicting...\n"
     ]
    },
    {
     "name": "stderr",
     "output_type": "stream",
     "text": [
      "/usr/local/lib/python3.8/dist-packages/sklearn/ensemble/_base.py:209: UserWarning: Loky-backed parallel loops cannot be called in a multiprocessing, setting n_jobs=1\n",
      "  n_jobs = min(effective_n_jobs(n_jobs), n_estimators)\n",
      "distributed.utils_perf - WARNING - full garbage collections took 25% CPU time recently (threshold: 10%)\n",
      "distributed.utils_perf - WARNING - full garbage collections took 25% CPU time recently (threshold: 10%)\n"
     ]
    },
    {
     "name": "stdout",
     "output_type": "stream",
     "text": [
      "predicting split  1\n",
      "predicting...\n"
     ]
    },
    {
     "name": "stderr",
     "output_type": "stream",
     "text": [
      "/usr/local/lib/python3.8/dist-packages/sklearn/ensemble/_base.py:209: UserWarning: Loky-backed parallel loops cannot be called in a multiprocessing, setting n_jobs=1\n",
      "  n_jobs = min(effective_n_jobs(n_jobs), n_estimators)\n",
      "distributed.utils_perf - WARNING - full garbage collections took 25% CPU time recently (threshold: 10%)\n"
     ]
    },
    {
     "name": "stdout",
     "output_type": "stream",
     "text": [
      "predicting split  2\n",
      "predicting...\n"
     ]
    },
    {
     "name": "stderr",
     "output_type": "stream",
     "text": [
      "/usr/local/lib/python3.8/dist-packages/sklearn/ensemble/_base.py:209: UserWarning: Loky-backed parallel loops cannot be called in a multiprocessing, setting n_jobs=1\n",
      "  n_jobs = min(effective_n_jobs(n_jobs), n_estimators)\n",
      "distributed.utils_perf - WARNING - full garbage collections took 25% CPU time recently (threshold: 10%)\n"
     ]
    },
    {
     "name": "stdout",
     "output_type": "stream",
     "text": [
      "predicting split  3\n",
      "predicting...\n"
     ]
    },
    {
     "name": "stderr",
     "output_type": "stream",
     "text": [
      "distributed.utils_perf - WARNING - full garbage collections took 10% CPU time recently (threshold: 10%)\n",
      "/usr/local/lib/python3.8/dist-packages/sklearn/ensemble/_base.py:209: UserWarning: Loky-backed parallel loops cannot be called in a multiprocessing, setting n_jobs=1\n",
      "  n_jobs = min(effective_n_jobs(n_jobs), n_estimators)\n",
      "distributed.utils_perf - WARNING - full garbage collections took 25% CPU time recently (threshold: 10%)\n"
     ]
    },
    {
     "name": "stdout",
     "output_type": "stream",
     "text": [
      "predicting split  4\n",
      "predicting...\n"
     ]
    },
    {
     "name": "stderr",
     "output_type": "stream",
     "text": [
      "distributed.utils_perf - WARNING - full garbage collections took 10% CPU time recently (threshold: 10%)\n",
      "/usr/local/lib/python3.8/dist-packages/sklearn/ensemble/_base.py:209: UserWarning: Loky-backed parallel loops cannot be called in a multiprocessing, setting n_jobs=1\n",
      "  n_jobs = min(effective_n_jobs(n_jobs), n_estimators)\n",
      "distributed.utils_perf - WARNING - full garbage collections took 25% CPU time recently (threshold: 10%)\n",
      "distributed.utils_perf - WARNING - full garbage collections took 25% CPU time recently (threshold: 10%)\n"
     ]
    },
    {
     "name": "stdout",
     "output_type": "stream",
     "text": [
      "91.97844529151917 seconds spent on predicting\n",
      "predictions:\n",
      " <xarray.Dataset>\n",
      "Dimensions:       (x: 103, y: 103)\n",
      "Coordinates:\n",
      "  * x             (x) float64 6.312e+05 6.312e+05 ... 6.322e+05 6.322e+05\n",
      "  * y             (y) float64 6.705e+06 6.705e+06 ... 6.704e+06 6.704e+06\n",
      "    spatial_ref   int32 32735\n",
      "Data variables:\n",
      "    prediction_0  (y, x) float64 2.0 2.0 2.0 2.0 2.0 ... 10.0 10.0 10.0 10.0\n",
      "    prediction_1  (y, x) float64 2.0 2.0 2.0 2.0 10.0 ... 10.0 10.0 10.0 10.0\n",
      "    prediction_2  (y, x) float64 2.0 2.0 2.0 2.0 2.0 ... 10.0 10.0 10.0 10.0\n",
      "    prediction_3  (y, x) float64 2.0 2.0 2.0 2.0 2.0 ... 10.0 10.0 10.0 10.0\n",
      "    prediction_4  (y, x) float64 2.0 2.0 2.0 2.0 2.0 ... 10.0 10.0 10.0 10.0\n",
      "Attributes:\n",
      "    grid_mapping:  spatial_ref\n",
      "writing majority vote prediction cog file...\n",
      "bounding box  : minx:  27.59227034020646 miny:  -29.333434249912482 maxx:  27.60262210572915 maxy:  -29.324363119459605\n",
      "stacked Sentinel-2 dataset:\n",
      " <xarray.Dataset>\n",
      "Dimensions:       (y: 102, x: 102)\n",
      "Coordinates:\n",
      "    time          datetime64[ns] 2021-01-01\n",
      "  * y             (y) float64 6.756e+06 6.756e+06 ... 6.755e+06 6.755e+06\n",
      "  * x             (x) float64 5.575e+05 5.575e+05 ... 5.585e+05 5.585e+05\n",
      "Data variables: (12/66)\n",
      "    blue_0        (y, x) int16 dask.array<chunksize=(102, 102), meta=np.ndarray>\n",
      "    blue_1        (y, x) int16 dask.array<chunksize=(102, 102), meta=np.ndarray>\n",
      "    blue_2        (y, x) int16 dask.array<chunksize=(102, 102), meta=np.ndarray>\n",
      "    blue_3        (y, x) int16 dask.array<chunksize=(102, 102), meta=np.ndarray>\n",
      "    blue_4        (y, x) int16 dask.array<chunksize=(102, 102), meta=np.ndarray>\n",
      "    blue_5        (y, x) int16 dask.array<chunksize=(102, 102), meta=np.ndarray>\n",
      "    ...            ...\n",
      "    NDVI_0        (y, x) int16 dask.array<chunksize=(102, 102), meta=np.ndarray>\n",
      "    NDVI_1        (y, x) int16 dask.array<chunksize=(102, 102), meta=np.ndarray>\n",
      "    NDVI_2        (y, x) int16 dask.array<chunksize=(102, 102), meta=np.ndarray>\n",
      "    NDVI_3        (y, x) int16 dask.array<chunksize=(102, 102), meta=np.ndarray>\n",
      "    NDVI_4        (y, x) int16 dask.array<chunksize=(102, 102), meta=np.ndarray>\n",
      "    NDVI_5        (y, x) int16 dask.array<chunksize=(102, 102), meta=np.ndarray>\n",
      "Attributes:\n",
      "    units:         1\n",
      "    nodata:        0\n",
      "    crs:           EPSG:32735\n",
      "    grid_mapping:  spatial_ref\n",
      "predicting split  0\n",
      "predicting...\n"
     ]
    },
    {
     "name": "stderr",
     "output_type": "stream",
     "text": [
      "distributed.utils_perf - WARNING - full garbage collections took 10% CPU time recently (threshold: 10%)\n",
      "/usr/local/lib/python3.8/dist-packages/sklearn/ensemble/_base.py:209: UserWarning: Loky-backed parallel loops cannot be called in a multiprocessing, setting n_jobs=1\n",
      "  n_jobs = min(effective_n_jobs(n_jobs), n_estimators)\n",
      "distributed.utils_perf - WARNING - full garbage collections took 25% CPU time recently (threshold: 10%)\n"
     ]
    },
    {
     "name": "stdout",
     "output_type": "stream",
     "text": [
      "predicting split  1\n",
      "predicting...\n"
     ]
    },
    {
     "name": "stderr",
     "output_type": "stream",
     "text": [
      "distributed.utils_perf - WARNING - full garbage collections took 10% CPU time recently (threshold: 10%)\n",
      "/usr/local/lib/python3.8/dist-packages/sklearn/ensemble/_base.py:209: UserWarning: Loky-backed parallel loops cannot be called in a multiprocessing, setting n_jobs=1\n",
      "  n_jobs = min(effective_n_jobs(n_jobs), n_estimators)\n",
      "distributed.utils_perf - WARNING - full garbage collections took 25% CPU time recently (threshold: 10%)\n"
     ]
    },
    {
     "name": "stdout",
     "output_type": "stream",
     "text": [
      "predicting split  2\n",
      "predicting...\n"
     ]
    },
    {
     "name": "stderr",
     "output_type": "stream",
     "text": [
      "distributed.utils_perf - WARNING - full garbage collections took 10% CPU time recently (threshold: 10%)\n",
      "/usr/local/lib/python3.8/dist-packages/sklearn/ensemble/_base.py:209: UserWarning: Loky-backed parallel loops cannot be called in a multiprocessing, setting n_jobs=1\n",
      "  n_jobs = min(effective_n_jobs(n_jobs), n_estimators)\n",
      "distributed.utils_perf - WARNING - full garbage collections took 26% CPU time recently (threshold: 10%)\n",
      "distributed.utils_perf - WARNING - full garbage collections took 26% CPU time recently (threshold: 10%)\n"
     ]
    },
    {
     "name": "stdout",
     "output_type": "stream",
     "text": [
      "predicting split  3\n",
      "predicting...\n"
     ]
    },
    {
     "name": "stderr",
     "output_type": "stream",
     "text": [
      "distributed.utils_perf - WARNING - full garbage collections took 10% CPU time recently (threshold: 10%)\n",
      "/usr/local/lib/python3.8/dist-packages/sklearn/ensemble/_base.py:209: UserWarning: Loky-backed parallel loops cannot be called in a multiprocessing, setting n_jobs=1\n",
      "  n_jobs = min(effective_n_jobs(n_jobs), n_estimators)\n",
      "distributed.utils_perf - WARNING - full garbage collections took 26% CPU time recently (threshold: 10%)\n"
     ]
    },
    {
     "name": "stdout",
     "output_type": "stream",
     "text": [
      "predicting split  4\n",
      "predicting...\n"
     ]
    },
    {
     "name": "stderr",
     "output_type": "stream",
     "text": [
      "distributed.utils_perf - WARNING - full garbage collections took 10% CPU time recently (threshold: 10%)\n",
      "/usr/local/lib/python3.8/dist-packages/sklearn/ensemble/_base.py:209: UserWarning: Loky-backed parallel loops cannot be called in a multiprocessing, setting n_jobs=1\n",
      "  n_jobs = min(effective_n_jobs(n_jobs), n_estimators)\n",
      "distributed.utils_perf - WARNING - full garbage collections took 25% CPU time recently (threshold: 10%)\n"
     ]
    },
    {
     "name": "stdout",
     "output_type": "stream",
     "text": [
      "97.29101181030273 seconds spent on predicting\n",
      "predictions:\n",
      " <xarray.Dataset>\n",
      "Dimensions:       (x: 102, y: 102)\n",
      "Coordinates:\n",
      "  * x             (x) float64 5.575e+05 5.575e+05 ... 5.585e+05 5.585e+05\n",
      "  * y             (y) float64 6.756e+06 6.756e+06 ... 6.755e+06 6.755e+06\n",
      "    spatial_ref   int32 32735\n",
      "Data variables:\n",
      "    prediction_0  (y, x) float64 2.0 2.0 2.0 2.0 2.0 ... 10.0 10.0 10.0 10.0\n",
      "    prediction_1  (y, x) float64 2.0 2.0 2.0 2.0 2.0 ... 10.0 10.0 10.0 10.0\n",
      "    prediction_2  (y, x) float64 2.0 2.0 2.0 2.0 2.0 ... 10.0 10.0 10.0 10.0\n",
      "    prediction_3  (y, x) float64 2.0 2.0 2.0 2.0 2.0 ... 10.0 10.0 10.0 10.0\n",
      "    prediction_4  (y, x) float64 2.0 2.0 2.0 2.0 2.0 ... 10.0 10.0 10.0 10.0\n",
      "Attributes:\n",
      "    grid_mapping:  spatial_ref\n",
      "writing majority vote prediction cog file...\n",
      "bounding box  : minx:  27.31290485516562 miny:  -29.51768605347386 maxx:  27.323251238065108 maxy:  -29.508636235356672\n",
      "stacked Sentinel-2 dataset:\n",
      " <xarray.Dataset>\n",
      "Dimensions:       (y: 101, x: 101)\n",
      "Coordinates:\n",
      "    time          datetime64[ns] 2021-01-01\n",
      "  * y             (y) float64 6.736e+06 6.736e+06 ... 6.735e+06 6.735e+06\n",
      "  * x             (x) float64 5.303e+05 5.303e+05 ... 5.313e+05 5.313e+05\n",
      "Data variables: (12/66)\n",
      "    blue_0        (y, x) int16 dask.array<chunksize=(101, 101), meta=np.ndarray>\n",
      "    blue_1        (y, x) int16 dask.array<chunksize=(101, 101), meta=np.ndarray>\n",
      "    blue_2        (y, x) int16 dask.array<chunksize=(101, 101), meta=np.ndarray>\n",
      "    blue_3        (y, x) int16 dask.array<chunksize=(101, 101), meta=np.ndarray>\n",
      "    blue_4        (y, x) int16 dask.array<chunksize=(101, 101), meta=np.ndarray>\n",
      "    blue_5        (y, x) int16 dask.array<chunksize=(101, 101), meta=np.ndarray>\n",
      "    ...            ...\n",
      "    NDVI_0        (y, x) int16 dask.array<chunksize=(101, 101), meta=np.ndarray>\n",
      "    NDVI_1        (y, x) int16 dask.array<chunksize=(101, 101), meta=np.ndarray>\n",
      "    NDVI_2        (y, x) int16 dask.array<chunksize=(101, 101), meta=np.ndarray>\n",
      "    NDVI_3        (y, x) int16 dask.array<chunksize=(101, 101), meta=np.ndarray>\n",
      "    NDVI_4        (y, x) int16 dask.array<chunksize=(101, 101), meta=np.ndarray>\n",
      "    NDVI_5        (y, x) int16 dask.array<chunksize=(101, 101), meta=np.ndarray>\n",
      "Attributes:\n",
      "    units:         1\n",
      "    nodata:        0\n",
      "    crs:           EPSG:32735\n",
      "    grid_mapping:  spatial_ref\n",
      "predicting split  0\n",
      "predicting...\n"
     ]
    },
    {
     "name": "stderr",
     "output_type": "stream",
     "text": [
      "distributed.utils_perf - WARNING - full garbage collections took 10% CPU time recently (threshold: 10%)\n",
      "/usr/local/lib/python3.8/dist-packages/sklearn/ensemble/_base.py:209: UserWarning: Loky-backed parallel loops cannot be called in a multiprocessing, setting n_jobs=1\n",
      "  n_jobs = min(effective_n_jobs(n_jobs), n_estimators)\n",
      "distributed.utils_perf - WARNING - full garbage collections took 25% CPU time recently (threshold: 10%)\n",
      "distributed.utils_perf - WARNING - full garbage collections took 26% CPU time recently (threshold: 10%)\n"
     ]
    },
    {
     "name": "stdout",
     "output_type": "stream",
     "text": [
      "predicting split  1\n",
      "predicting...\n"
     ]
    },
    {
     "name": "stderr",
     "output_type": "stream",
     "text": [
      "distributed.utils_perf - WARNING - full garbage collections took 10% CPU time recently (threshold: 10%)\n",
      "/usr/local/lib/python3.8/dist-packages/sklearn/ensemble/_base.py:209: UserWarning: Loky-backed parallel loops cannot be called in a multiprocessing, setting n_jobs=1\n",
      "  n_jobs = min(effective_n_jobs(n_jobs), n_estimators)\n",
      "distributed.utils_perf - WARNING - full garbage collections took 26% CPU time recently (threshold: 10%)\n"
     ]
    },
    {
     "name": "stdout",
     "output_type": "stream",
     "text": [
      "predicting split  2\n",
      "predicting...\n"
     ]
    },
    {
     "name": "stderr",
     "output_type": "stream",
     "text": [
      "distributed.utils_perf - WARNING - full garbage collections took 10% CPU time recently (threshold: 10%)\n",
      "/usr/local/lib/python3.8/dist-packages/sklearn/ensemble/_base.py:209: UserWarning: Loky-backed parallel loops cannot be called in a multiprocessing, setting n_jobs=1\n",
      "  n_jobs = min(effective_n_jobs(n_jobs), n_estimators)\n",
      "distributed.utils_perf - WARNING - full garbage collections took 26% CPU time recently (threshold: 10%)\n"
     ]
    },
    {
     "name": "stdout",
     "output_type": "stream",
     "text": [
      "predicting split  3\n",
      "predicting...\n"
     ]
    },
    {
     "name": "stderr",
     "output_type": "stream",
     "text": [
      "distributed.utils_perf - WARNING - full garbage collections took 10% CPU time recently (threshold: 10%)\n",
      "/usr/local/lib/python3.8/dist-packages/sklearn/ensemble/_base.py:209: UserWarning: Loky-backed parallel loops cannot be called in a multiprocessing, setting n_jobs=1\n",
      "  n_jobs = min(effective_n_jobs(n_jobs), n_estimators)\n",
      "distributed.utils_perf - WARNING - full garbage collections took 24% CPU time recently (threshold: 10%)\n"
     ]
    },
    {
     "name": "stdout",
     "output_type": "stream",
     "text": [
      "predicting split  4\n",
      "predicting...\n"
     ]
    },
    {
     "name": "stderr",
     "output_type": "stream",
     "text": [
      "distributed.utils_perf - WARNING - full garbage collections took 10% CPU time recently (threshold: 10%)\n",
      "/usr/local/lib/python3.8/dist-packages/sklearn/ensemble/_base.py:209: UserWarning: Loky-backed parallel loops cannot be called in a multiprocessing, setting n_jobs=1\n",
      "  n_jobs = min(effective_n_jobs(n_jobs), n_estimators)\n",
      "distributed.utils_perf - WARNING - full garbage collections took 24% CPU time recently (threshold: 10%)\n",
      "distributed.utils_perf - WARNING - full garbage collections took 25% CPU time recently (threshold: 10%)\n"
     ]
    },
    {
     "name": "stdout",
     "output_type": "stream",
     "text": [
      "104.23287296295166 seconds spent on predicting\n",
      "predictions:\n",
      " <xarray.Dataset>\n",
      "Dimensions:       (x: 101, y: 101)\n",
      "Coordinates:\n",
      "  * x             (x) float64 5.303e+05 5.303e+05 ... 5.313e+05 5.313e+05\n",
      "  * y             (y) float64 6.736e+06 6.736e+06 ... 6.735e+06 6.735e+06\n",
      "    spatial_ref   int32 32735\n",
      "Data variables:\n",
      "    prediction_0  (y, x) float64 2.0 2.0 2.0 2.0 2.0 ... 10.0 10.0 2.0 2.0 2.0\n",
      "    prediction_1  (y, x) float64 2.0 10.0 10.0 2.0 2.0 ... 10.0 10.0 2.0 2.0 2.0\n",
      "    prediction_2  (y, x) float64 2.0 2.0 2.0 2.0 2.0 ... 10.0 10.0 2.0 2.0 2.0\n",
      "    prediction_3  (y, x) float64 2.0 10.0 10.0 10.0 2.0 ... 10.0 2.0 2.0 2.0\n",
      "    prediction_4  (y, x) float64 2.0 2.0 2.0 2.0 2.0 ... 10.0 10.0 2.0 2.0 2.0\n",
      "Attributes:\n",
      "    grid_mapping:  spatial_ref\n",
      "writing majority vote prediction cog file...\n",
      "bounding box  : minx:  27.539298300409747 miny:  -29.22869367571435 maxx:  27.54963479558061 maxy:  -29.219626543992522\n",
      "stacked Sentinel-2 dataset:\n",
      " <xarray.Dataset>\n",
      "Dimensions:       (y: 102, x: 102)\n",
      "Coordinates:\n",
      "    time          datetime64[ns] 2021-01-01\n",
      "  * y             (y) float64 6.768e+06 6.768e+06 ... 6.767e+06 6.767e+06\n",
      "  * x             (x) float64 5.524e+05 5.524e+05 ... 5.534e+05 5.534e+05\n",
      "Data variables: (12/66)\n",
      "    blue_0        (y, x) int16 dask.array<chunksize=(102, 102), meta=np.ndarray>\n",
      "    blue_1        (y, x) int16 dask.array<chunksize=(102, 102), meta=np.ndarray>\n",
      "    blue_2        (y, x) int16 dask.array<chunksize=(102, 102), meta=np.ndarray>\n",
      "    blue_3        (y, x) int16 dask.array<chunksize=(102, 102), meta=np.ndarray>\n",
      "    blue_4        (y, x) int16 dask.array<chunksize=(102, 102), meta=np.ndarray>\n",
      "    blue_5        (y, x) int16 dask.array<chunksize=(102, 102), meta=np.ndarray>\n",
      "    ...            ...\n",
      "    NDVI_0        (y, x) int16 dask.array<chunksize=(102, 102), meta=np.ndarray>\n",
      "    NDVI_1        (y, x) int16 dask.array<chunksize=(102, 102), meta=np.ndarray>\n",
      "    NDVI_2        (y, x) int16 dask.array<chunksize=(102, 102), meta=np.ndarray>\n",
      "    NDVI_3        (y, x) int16 dask.array<chunksize=(102, 102), meta=np.ndarray>\n",
      "    NDVI_4        (y, x) int16 dask.array<chunksize=(102, 102), meta=np.ndarray>\n",
      "    NDVI_5        (y, x) int16 dask.array<chunksize=(102, 102), meta=np.ndarray>\n",
      "Attributes:\n",
      "    units:         1\n",
      "    nodata:        0\n",
      "    crs:           EPSG:32735\n",
      "    grid_mapping:  spatial_ref\n",
      "predicting split  0\n",
      "predicting...\n"
     ]
    },
    {
     "name": "stderr",
     "output_type": "stream",
     "text": [
      "distributed.utils_perf - WARNING - full garbage collections took 10% CPU time recently (threshold: 10%)\n",
      "/usr/local/lib/python3.8/dist-packages/sklearn/ensemble/_base.py:209: UserWarning: Loky-backed parallel loops cannot be called in a multiprocessing, setting n_jobs=1\n",
      "  n_jobs = min(effective_n_jobs(n_jobs), n_estimators)\n",
      "distributed.utils_perf - WARNING - full garbage collections took 25% CPU time recently (threshold: 10%)\n"
     ]
    },
    {
     "name": "stdout",
     "output_type": "stream",
     "text": [
      "predicting split  1\n",
      "predicting...\n"
     ]
    },
    {
     "name": "stderr",
     "output_type": "stream",
     "text": [
      "distributed.utils_perf - WARNING - full garbage collections took 10% CPU time recently (threshold: 10%)\n",
      "/usr/local/lib/python3.8/dist-packages/sklearn/ensemble/_base.py:209: UserWarning: Loky-backed parallel loops cannot be called in a multiprocessing, setting n_jobs=1\n",
      "  n_jobs = min(effective_n_jobs(n_jobs), n_estimators)\n",
      "distributed.utils_perf - WARNING - full garbage collections took 24% CPU time recently (threshold: 10%)\n"
     ]
    },
    {
     "name": "stdout",
     "output_type": "stream",
     "text": [
      "predicting split  2\n",
      "predicting...\n"
     ]
    },
    {
     "name": "stderr",
     "output_type": "stream",
     "text": [
      "distributed.utils_perf - WARNING - full garbage collections took 10% CPU time recently (threshold: 10%)\n",
      "/usr/local/lib/python3.8/dist-packages/sklearn/ensemble/_base.py:209: UserWarning: Loky-backed parallel loops cannot be called in a multiprocessing, setting n_jobs=1\n",
      "  n_jobs = min(effective_n_jobs(n_jobs), n_estimators)\n",
      "distributed.utils_perf - WARNING - full garbage collections took 24% CPU time recently (threshold: 10%)\n"
     ]
    },
    {
     "name": "stdout",
     "output_type": "stream",
     "text": [
      "predicting split  3\n",
      "predicting...\n"
     ]
    },
    {
     "name": "stderr",
     "output_type": "stream",
     "text": [
      "distributed.utils_perf - WARNING - full garbage collections took 10% CPU time recently (threshold: 10%)\n",
      "/usr/local/lib/python3.8/dist-packages/sklearn/ensemble/_base.py:209: UserWarning: Loky-backed parallel loops cannot be called in a multiprocessing, setting n_jobs=1\n",
      "  n_jobs = min(effective_n_jobs(n_jobs), n_estimators)\n",
      "distributed.utils_perf - WARNING - full garbage collections took 24% CPU time recently (threshold: 10%)\n"
     ]
    },
    {
     "name": "stdout",
     "output_type": "stream",
     "text": [
      "predicting split  4\n",
      "predicting...\n"
     ]
    },
    {
     "name": "stderr",
     "output_type": "stream",
     "text": [
      "distributed.utils_perf - WARNING - full garbage collections took 10% CPU time recently (threshold: 10%)\n",
      "/usr/local/lib/python3.8/dist-packages/sklearn/ensemble/_base.py:209: UserWarning: Loky-backed parallel loops cannot be called in a multiprocessing, setting n_jobs=1\n",
      "  n_jobs = min(effective_n_jobs(n_jobs), n_estimators)\n",
      "distributed.utils_perf - WARNING - full garbage collections took 24% CPU time recently (threshold: 10%)\n",
      "distributed.utils_perf - WARNING - full garbage collections took 24% CPU time recently (threshold: 10%)\n"
     ]
    },
    {
     "name": "stdout",
     "output_type": "stream",
     "text": [
      "96.9283595085144 seconds spent on predicting\n",
      "predictions:\n",
      " <xarray.Dataset>\n",
      "Dimensions:       (x: 102, y: 102)\n",
      "Coordinates:\n",
      "  * x             (x) float64 5.524e+05 5.524e+05 ... 5.534e+05 5.534e+05\n",
      "  * y             (y) float64 6.768e+06 6.768e+06 ... 6.767e+06 6.767e+06\n",
      "    spatial_ref   int32 32735\n",
      "Data variables:\n",
      "    prediction_0  (y, x) float64 12.0 12.0 2.0 2.0 2.0 ... 10.0 10.0 10.0 10.0\n",
      "    prediction_1  (y, x) float64 12.0 12.0 2.0 2.0 2.0 ... 1.0 10.0 10.0 10.0\n",
      "    prediction_2  (y, x) float64 2.0 12.0 2.0 2.0 2.0 ... 2.0 10.0 10.0 10.0\n",
      "    prediction_3  (y, x) float64 2.0 12.0 2.0 2.0 2.0 ... 10.0 10.0 10.0 10.0\n",
      "    prediction_4  (y, x) float64 12.0 12.0 2.0 2.0 2.0 ... 2.0 10.0 10.0 10.0\n",
      "Attributes:\n",
      "    grid_mapping:  spatial_ref\n",
      "writing majority vote prediction cog file...\n",
      "bounding box  : minx:  28.093235016995763 miny:  -30.147405111444513 maxx:  28.103716277097543 maxy:  -30.138295485461185\n"
     ]
    },
    {
     "name": "stderr",
     "output_type": "stream",
     "text": [
      "distributed.utils_perf - WARNING - full garbage collections took 10% CPU time recently (threshold: 10%)\n"
     ]
    },
    {
     "name": "stdout",
     "output_type": "stream",
     "text": [
      "stacked Sentinel-2 dataset:\n",
      " <xarray.Dataset>\n",
      "Dimensions:       (y: 103, x: 103)\n",
      "Coordinates:\n",
      "    time          datetime64[ns] 2021-01-01\n",
      "  * y             (y) float64 6.665e+06 6.665e+06 ... 6.664e+06 6.664e+06\n",
      "  * x             (x) float64 6.053e+05 6.053e+05 ... 6.063e+05 6.063e+05\n",
      "Data variables: (12/66)\n",
      "    blue_0        (y, x) int16 dask.array<chunksize=(103, 103), meta=np.ndarray>\n",
      "    blue_1        (y, x) int16 dask.array<chunksize=(103, 103), meta=np.ndarray>\n",
      "    blue_2        (y, x) int16 dask.array<chunksize=(103, 103), meta=np.ndarray>\n",
      "    blue_3        (y, x) int16 dask.array<chunksize=(103, 103), meta=np.ndarray>\n",
      "    blue_4        (y, x) int16 dask.array<chunksize=(103, 103), meta=np.ndarray>\n",
      "    blue_5        (y, x) int16 dask.array<chunksize=(103, 103), meta=np.ndarray>\n",
      "    ...            ...\n",
      "    NDVI_0        (y, x) int16 dask.array<chunksize=(103, 103), meta=np.ndarray>\n",
      "    NDVI_1        (y, x) int16 dask.array<chunksize=(103, 103), meta=np.ndarray>\n",
      "    NDVI_2        (y, x) int16 dask.array<chunksize=(103, 103), meta=np.ndarray>\n",
      "    NDVI_3        (y, x) int16 dask.array<chunksize=(103, 103), meta=np.ndarray>\n",
      "    NDVI_4        (y, x) int16 dask.array<chunksize=(103, 103), meta=np.ndarray>\n",
      "    NDVI_5        (y, x) int16 dask.array<chunksize=(103, 103), meta=np.ndarray>\n",
      "Attributes:\n",
      "    units:         1\n",
      "    nodata:        0\n",
      "    crs:           EPSG:32735\n",
      "    grid_mapping:  spatial_ref\n",
      "predicting split  0\n",
      "predicting...\n"
     ]
    },
    {
     "name": "stderr",
     "output_type": "stream",
     "text": [
      "/usr/local/lib/python3.8/dist-packages/sklearn/ensemble/_base.py:209: UserWarning: Loky-backed parallel loops cannot be called in a multiprocessing, setting n_jobs=1\n",
      "  n_jobs = min(effective_n_jobs(n_jobs), n_estimators)\n",
      "distributed.utils_perf - WARNING - full garbage collections took 24% CPU time recently (threshold: 10%)\n"
     ]
    },
    {
     "name": "stdout",
     "output_type": "stream",
     "text": [
      "predicting split  1\n",
      "predicting...\n"
     ]
    },
    {
     "name": "stderr",
     "output_type": "stream",
     "text": [
      "/usr/local/lib/python3.8/dist-packages/sklearn/ensemble/_base.py:209: UserWarning: Loky-backed parallel loops cannot be called in a multiprocessing, setting n_jobs=1\n",
      "  n_jobs = min(effective_n_jobs(n_jobs), n_estimators)\n",
      "distributed.utils_perf - WARNING - full garbage collections took 23% CPU time recently (threshold: 10%)\n",
      "distributed.utils_perf - WARNING - full garbage collections took 24% CPU time recently (threshold: 10%)\n"
     ]
    },
    {
     "name": "stdout",
     "output_type": "stream",
     "text": [
      "predicting split  2\n",
      "predicting...\n"
     ]
    },
    {
     "name": "stderr",
     "output_type": "stream",
     "text": [
      "/usr/local/lib/python3.8/dist-packages/sklearn/ensemble/_base.py:209: UserWarning: Loky-backed parallel loops cannot be called in a multiprocessing, setting n_jobs=1\n",
      "  n_jobs = min(effective_n_jobs(n_jobs), n_estimators)\n",
      "distributed.utils_perf - WARNING - full garbage collections took 24% CPU time recently (threshold: 10%)\n",
      "distributed.utils_perf - WARNING - full garbage collections took 24% CPU time recently (threshold: 10%)\n"
     ]
    }
   ],
   "source": [
    "# loop through all tiles and predict land cover\n",
    "measurements = ['blue','green','red','red_edge_1','red_edge_2', 'red_edge_3','nir_1','nir_2','swir_1','swir_2'] # band mesurements for query\n",
    "for i in range(0,len(tile_bboxes)):\n",
    "    # extract bounding box of each tile\n",
    "    minx,miny,maxx,maxy=tile_bboxes.iloc[i]\n",
    "    print('bounding box ',': minx: ',minx,'miny: ',miny,'maxx: ',maxx,'maxy: ',maxy)\n",
    "    \n",
    "    # define ODC query\n",
    "    query = {\n",
    "        'x': (minx,maxx),\n",
    "        'y': (miny,maxy),\n",
    "        'time': ('2021-01', '2021-12'),\n",
    "        'measurements': measurements,\n",
    "        'resolution': (-10, 10),\n",
    "        'crs':crs,\n",
    "        'output_crs':output_crs,\n",
    "        'dask_chunks' : {'x':1700, 'y':1700}, # chunk size should be adjusted based on sandbox instance\n",
    "#         'dask_chunks' : {'x':-1, 'y':-1}\n",
    "    }\n",
    "    \n",
    "    # calculate features\n",
    "    all_data = feature_layers(query)\n",
    "    print('stacked Sentinel-2 dataset:\\n',all_data)\n",
    "    start_time = time.time() # start timing how long it takes for the prediction\n",
    "    \n",
    "    # predict land cover using the RF models\n",
    "    list_xr_merge=[] # initialise a list of predicted results\n",
    "    for j in range(len(rf_models)): # loop through the list of trained model\n",
    "        print('predicting split ',j)\n",
    "        rf_model=rf_models[j]\n",
    "        predicted = predict_xr(rf_model,all_data,persist=False,clean=True).compute()\n",
    "        prediction_single=predicted.Predictions.rename('prediction_'+str(j)) # rename each result\n",
    "        list_xr_merge.append(prediction_single) # append to the list of predicted results\n",
    "    predictions_all=xr.merge(list_xr_merge,compat='override') # merge as a multi-variable dataset\n",
    "    print(\"%s seconds spent on predicting\" % (time.time() - start_time)) # print time spent on prediction\n",
    "    print('predictions:\\n',predictions_all)\n",
    "    \n",
    "    # majority vote of the predicted results\n",
    "    arr_predictions_all=predictions_all.to_array() # convert dataset to data array\n",
    "    predictions_mode=stats.mode(arr_predictions_all).mode.squeeze() # apply majority voting\n",
    "    \n",
    "    # write final prediction as cog file\n",
    "#     outname_prediction='Results/Land_cover_prediction_basline_Lesotho_2021_GEE_replicate_tile'+str(i)+'.tif'\n",
    "#     outname_prediction='Results/Land_cover_prediction_Lesotho_2021_GEE_replicate_tile'+str(i)+'.tif'\n",
    "    outname_prediction='Results/Land_cover_prediction_Lesotho_2021_GEE_replicate_sampling_AOI_'+str(i)+'.tif'\n",
    "    xr_predictions_mode=xr.DataArray(predictions_mode, coords=prediction_single.coords, dims=prediction_single.dims,\n",
    "                                     attrs=prediction_single.attrs).astype(np.int16) # numpy array to data array\n",
    "    print('writing majority vote prediction cog file...')\n",
    "    write_cog(xr_predictions_mode, outname_prediction, overwrite=True) # write as cog"
   ]
  },
  {
   "cell_type": "code",
   "execution_count": 1,
   "id": "119e3cd7-5fa2-45b0-a867-2af796c33619",
   "metadata": {},
   "outputs": [
    {
     "name": "stdout",
     "output_type": "stream",
     "text": [
      "0...10...20...30...40...50...60...70...80...90...100 - done.\n"
     ]
    }
   ],
   "source": [
    "# merge multiple tiles as a mosaic tif\n",
    "! gdal_merge.py -o Results/Land_cover_prediction_Lesotho_2021_GEE_replicate_sampling_mosiac_AOI.tif -co COMPRESS=Deflate -ot Byte Results/Land_cover_prediction_Lesotho_2021_GEE_replicate_sampling_AOI_*.tif"
   ]
  }
 ],
 "metadata": {
  "kernelspec": {
   "display_name": "Python 3 (ipykernel)",
   "language": "python",
   "name": "python3"
  },
  "language_info": {
   "codemirror_mode": {
    "name": "ipython",
    "version": 3
   },
   "file_extension": ".py",
   "mimetype": "text/x-python",
   "name": "python",
   "nbconvert_exporter": "python",
   "pygments_lexer": "ipython3",
   "version": "3.8.10"
  }
 },
 "nbformat": 4,
 "nbformat_minor": 5
}

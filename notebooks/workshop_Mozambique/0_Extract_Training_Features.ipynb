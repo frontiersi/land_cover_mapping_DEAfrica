{
 "cells": [
  {
   "cell_type": "markdown",
   "id": "924c9dca-2e38-41f9-a495-a780652af2e0",
   "metadata": {},
   "source": [
    "# Extract Training Features\n"
   ]
  },
  {
   "cell_type": "markdown",
   "id": "cf04baac-d23d-4b9a-a64e-20331dc2fd98",
   "metadata": {
    "jp-MarkdownHeadingCollapsed": true,
    "tags": []
   },
   "source": [
    "## Background\n",
    "\n",
    "**Training data** is the most important part of any supervised machine learning workflow. The quality of the training data has a greater impact on the classification than the algorithm used. Large and accurate training data sets are preferable: increasing the training sample size results in increased classification accuracy ([Maxell et al 2018](https://www.tandfonline.com/doi/full/10.1080/01431161.2018.1433343)).  A review of training data methods in the context of Earth Observation is available [here](https://www.mdpi.com/2072-4292/12/6/1034) \n",
    "\n",
    "There are many platforms to use for gathering land cover training labels, the best one to use depends on your application. GIS platforms are great for collection training data as they are highly flexible and mature platforms; [Geo-Wiki](https://www.geo-wiki.org/) and [Collect Earth Online](https://collect.earth/home) are two open-source websites that may also be useful depending on the reference data strategy employed. Alternatively, there are many pre-existing training datasets on the web that may be useful, e.g. [Radiant Earth](https://www.radiant.earth/) manages a growing number of reference datasets for use by anyone. With locations of land cover labels available, we can extract features at these locations from satellite imagery as input for machine learning."
   ]
  },
  {
   "cell_type": "markdown",
   "id": "273bf0c5-e061-46ce-b127-775480319eaf",
   "metadata": {},
   "source": [
    "## Description\n",
    "This notebook will extract training feature layers from the `open-data-cube` of Sentinel-2 multispectral images using geometries within a geojson.\n",
    "\n",
    "To do this, we rely on a custom function called `collect_training_data`, contained within the [deafrica_tools.classification](../../Tools/deafrica_tools/classification.py) script.  The principal goal of this notebook is to familarise users with this function so they can extract the appropriate data for their use-case. The default example also highlights extracting a set of useful feature layers for land cover classification. The workflow includes the following steps:\n",
    "\n",
    "1. Preview the points in our training data by plotting them on a basemap\n",
    "2. Define a feature layer function to pass to `collect_training_data`\n",
    "3. Extract training features from the datacube using `collect_training_data`\n",
    "4. Export the training data to disk for use in subsequent scripts\n",
    "\n",
    "***\n",
    "\n",
    "To run this analysis, run all the cells in the notebook, starting with the \"Load packages\" cell."
   ]
  },
  {
   "cell_type": "markdown",
   "id": "4e2ed76c-c7be-4867-8a87-be94069fed16",
   "metadata": {},
   "source": [
    "### Load packages\n"
   ]
  },
  {
   "cell_type": "code",
   "execution_count": 1,
   "id": "bed71faf-13df-4e20-a384-a115d19e8baa",
   "metadata": {},
   "outputs": [
    {
     "name": "stderr",
     "output_type": "stream",
     "text": [
      "/usr/local/lib/python3.8/dist-packages/geopandas/_compat.py:112: UserWarning: The Shapely GEOS version (3.8.0-CAPI-1.13.1 ) is incompatible with the GEOS version PyGEOS was compiled with (3.10.3-CAPI-1.16.1). Conversions between both will be slow.\n",
      "  warnings.warn(\n",
      "/usr/local/lib/python3.8/dist-packages/dask/dataframe/utils.py:367: FutureWarning: pandas.Int64Index is deprecated and will be removed from pandas in a future version. Use pandas.Index with the appropriate dtype instead.\n",
      "  _numeric_index_types = (pd.Int64Index, pd.Float64Index, pd.UInt64Index)\n",
      "/usr/local/lib/python3.8/dist-packages/dask/dataframe/utils.py:367: FutureWarning: pandas.Float64Index is deprecated and will be removed from pandas in a future version. Use pandas.Index with the appropriate dtype instead.\n",
      "  _numeric_index_types = (pd.Int64Index, pd.Float64Index, pd.UInt64Index)\n",
      "/usr/local/lib/python3.8/dist-packages/dask/dataframe/utils.py:367: FutureWarning: pandas.UInt64Index is deprecated and will be removed from pandas in a future version. Use pandas.Index with the appropriate dtype instead.\n",
      "  _numeric_index_types = (pd.Int64Index, pd.Float64Index, pd.UInt64Index)\n"
     ]
    }
   ],
   "source": [
    "%matplotlib inline\n",
    "\n",
    "import os\n",
    "import datacube\n",
    "import warnings\n",
    "import numpy as np\n",
    "import geopandas as gpd\n",
    "import pandas as pd\n",
    "import matplotlib.pyplot as plt\n",
    "import xarray as xr\n",
    "from odc.io.cgroups import get_cpu_quota\n",
    "from odc.algo import xr_geomedian\n",
    "from deafrica_tools.plotting import map_shapefile\n",
    "from deafrica_tools.datahandling import load_ard\n",
    "from deafrica_tools.bandindices import calculate_indices\n",
    "from deafrica_tools.classification import collect_training_data"
   ]
  },
  {
   "cell_type": "markdown",
   "id": "ca7a023c-1879-4664-950e-4d4e7a88b7ea",
   "metadata": {},
   "source": [
    "## Analysis parameters\n",
    "\n",
    "* `traning_points_path`: The path to the input vector file from which we will extract training data. A default geojson is provided for this notebook.\n",
    "* `class_attr`: This is the name of column in your shapefile attribute table that contains the class labels. **The class labels must be integers**\n",
    ">**Note**: If you wish to run your own classification workflow, the first step is to replace this training data with your own in the '/Data' folder. The training data can be in other formats (e.g. shapefile) that can be read by `geopandas` but need to have a corresponding class label attribute field `class_attr`.\n",
    "* `output_crs`: Output spatial reference system."
   ]
  },
  {
   "cell_type": "code",
   "execution_count": 2,
   "id": "e0859019-9d67-49d8-a667-061c359432ff",
   "metadata": {},
   "outputs": [],
   "source": [
    "traning_points_path = 'Data/Rwanda_training_points_2015.geojson'\n",
    "class_attr = 'LC_Class_I' # class label in integer format\n",
    "output_crs='epsg:32735' # WGS84/UTM Zone 35S"
   ]
  },
  {
   "cell_type": "markdown",
   "id": "e4f2fc0f-3368-40f4-938e-5d718938f06d",
   "metadata": {},
   "source": [
    "## Load input data\n",
    "\n",
    "We can load and preview our input data shapefile using `geopandas`. The shapefile should contain a column with class labels (e.g. 'class_attr') which must be integer type. These labels will be used to train our model. "
   ]
  },
  {
   "cell_type": "code",
   "execution_count": 3,
   "id": "95bcec2a-820c-4902-b8f7-d91a0b9f3fa0",
   "metadata": {},
   "outputs": [
    {
     "data": {
      "text/html": [
       "<div>\n",
       "<style scoped>\n",
       "    .dataframe tbody tr th:only-of-type {\n",
       "        vertical-align: middle;\n",
       "    }\n",
       "\n",
       "    .dataframe tbody tr th {\n",
       "        vertical-align: top;\n",
       "    }\n",
       "\n",
       "    .dataframe thead th {\n",
       "        text-align: right;\n",
       "    }\n",
       "</style>\n",
       "<table border=\"1\" class=\"dataframe\">\n",
       "  <thead>\n",
       "    <tr style=\"text-align: right;\">\n",
       "      <th></th>\n",
       "      <th>LC_Class_I</th>\n",
       "      <th>geometry</th>\n",
       "    </tr>\n",
       "  </thead>\n",
       "  <tbody>\n",
       "    <tr>\n",
       "      <th>0</th>\n",
       "      <td>1</td>\n",
       "      <td>POINT (752845.704 9711771.901)</td>\n",
       "    </tr>\n",
       "    <tr>\n",
       "      <th>1</th>\n",
       "      <td>1</td>\n",
       "      <td>POINT (764255.704 9744911.901)</td>\n",
       "    </tr>\n",
       "    <tr>\n",
       "      <th>2</th>\n",
       "      <td>1</td>\n",
       "      <td>POINT (756945.704 9736121.901)</td>\n",
       "    </tr>\n",
       "    <tr>\n",
       "      <th>3</th>\n",
       "      <td>1</td>\n",
       "      <td>POINT (778295.704 9829191.901)</td>\n",
       "    </tr>\n",
       "    <tr>\n",
       "      <th>4</th>\n",
       "      <td>1</td>\n",
       "      <td>POINT (779155.704 9836201.901)</td>\n",
       "    </tr>\n",
       "  </tbody>\n",
       "</table>\n",
       "</div>"
      ],
      "text/plain": [
       "   LC_Class_I                        geometry\n",
       "0           1  POINT (752845.704 9711771.901)\n",
       "1           1  POINT (764255.704 9744911.901)\n",
       "2           1  POINT (756945.704 9736121.901)\n",
       "3           1  POINT (778295.704 9829191.901)\n",
       "4           1  POINT (779155.704 9836201.901)"
      ]
     },
     "execution_count": 3,
     "metadata": {},
     "output_type": "execute_result"
    }
   ],
   "source": [
    "# Load input data shapefile\n",
    "training_points= gpd.read_file(traning_points_path) # read training points as geopandas dataframe\n",
    "training_points=training_points[[class_attr,'geometry']] # select attributes\n",
    "# Plot first five rows\n",
    "training_points.head()"
   ]
  },
  {
   "cell_type": "markdown",
   "id": "e50868cf-f8df-4b40-a81a-e2bdf61bbf86",
   "metadata": {},
   "source": [
    "Now let's plot some training data in an interactive map:"
   ]
  },
  {
   "cell_type": "code",
   "execution_count": 5,
   "id": "e4bff47e-2ed7-423d-b942-bfcf92779f50",
   "metadata": {},
   "outputs": [
    {
     "data": {
      "application/vnd.jupyter.widget-view+json": {
       "model_id": "647b299731b940abb5a652a01c57e785",
       "version_major": 2,
       "version_minor": 0
      },
      "text/plain": [
       "Label(value='')"
      ]
     },
     "metadata": {},
     "output_type": "display_data"
    },
    {
     "data": {
      "application/vnd.jupyter.widget-view+json": {
       "model_id": "ad11969a96074f90bd32a1b5c6f4a8c4",
       "version_major": 2,
       "version_minor": 0
      },
      "text/plain": [
       "Map(center=[-2.0593280451360396, 29.23563234296942], controls=(ZoomControl(options=['position', 'zoom_in_text'…"
      ]
     },
     "metadata": {},
     "output_type": "display_data"
    }
   ],
   "source": [
    "# todo: how to better visualise the data\n",
    "map_shapefile(training_points[0:10], attribute=class_attr,continuous=False, hover_col=True)"
   ]
  },
  {
   "cell_type": "markdown",
   "id": "f7458b0d-7391-4d8a-83f7-4f183120a4a2",
   "metadata": {},
   "source": [
    "## Defining Query\n",
    "\n",
    "The function `collect_training_data` takes our geojson containing class labels and extracts training data (features) from the datacube over the locations specified by the input geometries. The function will also pre-process our training data by stacking the arrays into a useful format and removing any `NaN` or `inf` values.\n",
    "\n",
    "The below variables can be set within the `collect_training_data` function:\n",
    "\n",
    "* `feild`: The name of column in your geojson file attribute table that contains the class labels, which corresponds to the `class_attr` that we defined earlier.\n",
    "* `zonal_stats`: An optional string giving the names of zonal statistics to calculate across each geometry (polygon or point). Default is None (all pixel values are returned). Supported values are 'mean', 'median', 'max', and 'min'.\n",
    "* `dc_query`: A datacube query dictionary for the Open Data Cube query such as `measurements` (the bands to load from the satellite), the `resolution` (the cell size), and the `output_crs` (the output projection). \n",
    "* `feature_func`:  A function for generating feature layers that is applied to the data within the bounds of the input geometry. This function will take the 'dc_query' as the only argument.\n",
    "* `return_coords`: If True, then the training data will contain two extra columns ‘x_coord’ and ‘y_coord’ corresponding to the x,y coordinate of each sample.\n",
    "\n",
    "> Note: `collect_training_data` also has a number of additional parameters for handling ODC I/O read failures, where polygons that return an excessive number of null values can be resubmitted to the multiprocessing queue.  Check out the [docs](https://github.com/digitalearthafrica/deafrica-sandbox-notebooks/blob/83116e80ebb4f8744e3de74e7a713aadd0a7577a/Tools/deafrica_tools/classification.py#L565) to learn more.\n",
    "\n",
    "we will define the first three parameters and describe the `feature_func` seperately in a moment."
   ]
  },
  {
   "cell_type": "code",
   "execution_count": 6,
   "id": "88c428fd-6aff-44c5-9c92-b01d5eaccbf4",
   "metadata": {},
   "outputs": [],
   "source": [
    "#set up our inputs to collect_training_data\n",
    "zonal_stats = None\n",
    "# Set up the inputs for the ODC query\n",
    "time = ('2021')\n",
    "# using nine spectral bands with 10~20 m spatial resolution\n",
    "measurements = ['blue','green','red','red_edge_1','red_edge_2', 'red_edge_3','nir_1','swir_1','swir_2']\n",
    "resolution = (-10,10)"
   ]
  },
  {
   "cell_type": "markdown",
   "id": "738be341-371b-4497-85bb-3ca528302340",
   "metadata": {},
   "source": [
    "Note that we've selected nine spectral bands with spatial resolution no lower than 20 m here for demonstration. However, it is advised that you test and select the bands based on your own classification task. Using the variables above, we can generate a datacube query object from the parameters above:"
   ]
  },
  {
   "cell_type": "code",
   "execution_count": 7,
   "id": "21decf8f-5b13-4a93-9403-0ccdbf7f1e4c",
   "metadata": {},
   "outputs": [],
   "source": [
    "query = {\n",
    "    'time': time,\n",
    "    'measurements': measurements,\n",
    "    'output_crs': output_crs,\n",
    "    'resolution': resolution\n",
    "}"
   ]
  },
  {
   "cell_type": "markdown",
   "id": "bf0a2bc0-af97-4e46-89b6-4f3dffff7ce3",
   "metadata": {},
   "source": [
    "## Defining feature function\n",
    "\n",
    "To create the desired feature layers, we pass instructions to `collect_training_data` through the `feature_func` parameter. The `feature_func` must accept a `dc_query` dictionary, and return a single `xarray.Dataset` or `xarray.DataArray` containing 2D coordinates (i.e x, y - no time dimension). e.g.\n",
    "\n",
    "          def feature_function(query):\n",
    "              dc = datacube.Datacube(app='feature_layers')\n",
    "              ds = dc.load(**query)\n",
    "              ds = ds.mean('time')\n",
    "              return ds\n",
    "\n",
    "Below, we will define a more complicated feature layer function than the brief example shown above. Firstly We will calculate the Normalised Difference Vegetation Index (NDVI), which is commonly used to distinguish between vegetation and non-vegetation land cover classes. We use the function `calculate_indices` to calculate NDVI for all bands.  \n",
    "\n",
    "In addition, we'll use temporal signatures to help distinguish land cover classes with seasonal patterns (e.g. croplands) with others. To reduce data size while keeping seasonal changes, we are implementing bimonthly temporal aggregation, i.e. geomedian (sometimes referred to as the 'geometric median') for each pixel location. The significance of the geomedian is that all bands are considered simultaneously. This maintains the spectral relationship between bands, providing the most representative value. Additionally, the geomedian statistic reduces spatial noise and improves colour balance compared to similar statistics such as the median or medoid. More information on geomedian and available geomedian products can be found in [DE Africa's documentation](https://docs.digitalearthafrica.org/en/latest/data_specs/GeoMAD_specs.html).\n",
    "> Note: A shorter time interval could be chosen to obtain a finer-grained temporal signatures, but it would also result in larger data gaps in the satellite time-series due to presence of cloud and cloud shadow. If cloud presence in your study site is very frequent, you may need to choose a courser temporal aggregates, e.g. every three months.\n",
    "\n",
    "As the output of the feature layer function should only contain coordinates with no time dimension, we need to convert the temporal features of each measurement to multiple individual features. For example, we will rename and convert the bimonthly temporal features for blue band to blue_0, blue_2, ..., blue_5.\n",
    "\n",
    "Putting all above together, our final feature layer function looks like this:"
   ]
  },
  {
   "cell_type": "code",
   "execution_count": 8,
   "id": "feb83d25-3307-4b7c-9001-2577b5137bb6",
   "metadata": {},
   "outputs": [],
   "source": [
    "# define a function to feature layers\n",
    "def feature_layers(query): \n",
    "    # connect to the datacube so we can access DE Africa data\n",
    "    dc = datacube.Datacube(app='feature_layers')\n",
    "    \n",
    "    # load Sentinel-2 analysis ready data\n",
    "    ds = load_ard(dc=dc,\n",
    "                  products=['s2_l2a'],\n",
    "                  group_by='solar_day',\n",
    "                  verbose=False,\n",
    "                  **query)\n",
    "    \n",
    "    # calculate NDVI\n",
    "    ds = calculate_indices(ds,\n",
    "                           index=['NDVI'],\n",
    "                           drop=False,\n",
    "                           satellite_mission='s2')\n",
    "    \n",
    "    # interpolate nodata using mean of previous and next observation\n",
    "#     ds=ds.interpolate_na(dim='time',method='linear',use_coordinate=False,fill_value='extrapolate')\n",
    "#     ds=ds.interpolate_na(dim='time',method='linear',use_coordinate=False)\n",
    "\n",
    "    # calculate bi-monthly geomedian\n",
    "    ds=ds.resample(time='2MS').map(xr_geomedian)\n",
    "    \n",
    "    # stack multi-temporal measurements and rename them\n",
    "    n_time=ds.dims['time']\n",
    "    list_measurements=list(ds.keys())\n",
    "    list_stack_measures=[]\n",
    "    for j in range(len(list_measurements)):\n",
    "        for k in range(n_time):\n",
    "            variable_name=list_measurements[j]+'_'+str(k)\n",
    "            measure_single=ds[list_measurements[j]].isel(time=k).rename(variable_name)\n",
    "            list_stack_measures.append(measure_single)\n",
    "    ds_stacked=xr.merge(list_stack_measures,compat='override')\n",
    "    return ds_stacked"
   ]
  },
  {
   "cell_type": "markdown",
   "id": "0b8631bc-59b6-45e6-87a1-173fa1c6b158",
   "metadata": {},
   "source": [
    "Now let's run the `collect_training_data` function. This may take minutes to hours depending on your number of training points, number of measurements/bands set for the query and the calculation work in the feature function. Since we've used 10 measurements (9 spectral bands and 1 NDVI index) with 6 temporal geomedian for each band, it can be very time-consuming to finish the training features extraction. Therefore, here we are passing in `gdf=training_points[0:10]` to only run the code over the first 10 geometries as demonstration. Nevertheless, the extracted full training data file is provided in the 'Results/' folder, which will be used for next module of the workflow.\n",
    "\n",
    "> **Note**:  With supervised classification, its common to have many, many labelled geometries in the training data. `collect_training_data` can parallelize across the geometries in order to speed up the extracting of training data. Setting `ncpus>1` will automatically trigger the parallelization. However, its best to set `ncpus=1` to begin with to assist with debugging before triggering the parallelization."
   ]
  },
  {
   "cell_type": "code",
   "execution_count": 9,
   "id": "dc0c4b27-6a92-4823-85c0-f296fbc72b5d",
   "metadata": {},
   "outputs": [
    {
     "name": "stdout",
     "output_type": "stream",
     "text": [
      "ncpus = 2\n",
      "Collecting training data in parallel mode\n"
     ]
    },
    {
     "name": "stderr",
     "output_type": "stream",
     "text": [
      "/usr/local/lib/python3.8/dist-packages/geopandas/geodataframe.py:1472: SettingWithCopyWarning: \n",
      "A value is trying to be set on a copy of a slice from a DataFrame.\n",
      "Try using .loc[row_indexer,col_indexer] = value instead\n",
      "\n",
      "See the caveats in the documentation: https://pandas.pydata.org/pandas-docs/stable/user_guide/indexing.html#returning-a-view-versus-a-copy\n",
      "  super().__setitem__(key, value)\n"
     ]
    },
    {
     "data": {
      "application/vnd.jupyter.widget-view+json": {
       "model_id": "fe9216f0cc7744dca4d809f429d64761",
       "version_major": 2,
       "version_minor": 0
      },
      "text/plain": [
       "  0%|          | 0/10 [00:00<?, ?it/s]"
      ]
     },
     "metadata": {},
     "output_type": "display_data"
    },
    {
     "name": "stderr",
     "output_type": "stream",
     "text": [
      "/usr/local/lib/python3.8/dist-packages/rasterio/warp.py:346: NotGeoreferencedWarning: Dataset has no geotransform, gcps, or rpcs. The identity matrix will be returned.\n",
      "  _reproject(\n",
      "/usr/local/lib/python3.8/dist-packages/rasterio/warp.py:346: NotGeoreferencedWarning: Dataset has no geotransform, gcps, or rpcs. The identity matrix will be returned.\n",
      "  _reproject(\n"
     ]
    },
    {
     "name": "stdout",
     "output_type": "stream",
     "text": [
      "Percentage of possible fails after run 1 = 0.0 %\n",
      "Removed 0 rows wth NaNs &/or Infs\n",
      "Output shape:  (10, 63)\n"
     ]
    }
   ],
   "source": [
    "# detect the number of CPUs\n",
    "ncpus=round(get_cpu_quota())\n",
    "print('ncpus = '+str(ncpus))\n",
    "\n",
    "# collect training data\n",
    "column_names, model_input = collect_training_data(\n",
    "    gdf=training_points[0:10], # replace with gdf=training_points if you are extracting all the training data\n",
    "    dc_query=query,\n",
    "    ncpus=ncpus,\n",
    "    field=class_attr,\n",
    "    zonal_stats=zonal_stats,\n",
    "    feature_func=feature_layers,\n",
    "    return_coords=True)"
   ]
  },
  {
   "cell_type": "markdown",
   "id": "89da5489-a22e-47c6-b85f-5faa83b2fac0",
   "metadata": {},
   "source": [
    "The function returns a list (`column_names`) contains a list of the names of the `class_attr` and all the features we've computed. As we set the parameter `return_coords` above as True the list also contains the coordinates of the points:"
   ]
  },
  {
   "cell_type": "code",
   "execution_count": 10,
   "id": "0735ba9b-d7ce-4be0-aa97-0fbb5411abda",
   "metadata": {},
   "outputs": [
    {
     "name": "stdout",
     "output_type": "stream",
     "text": [
      "['LC_Class_I', 'blue_0', 'blue_1', 'blue_2', 'blue_3', 'blue_4', 'blue_5', 'green_0', 'green_1', 'green_2', 'green_3', 'green_4', 'green_5', 'red_0', 'red_1', 'red_2', 'red_3', 'red_4', 'red_5', 'red_edge_1_0', 'red_edge_1_1', 'red_edge_1_2', 'red_edge_1_3', 'red_edge_1_4', 'red_edge_1_5', 'red_edge_2_0', 'red_edge_2_1', 'red_edge_2_2', 'red_edge_2_3', 'red_edge_2_4', 'red_edge_2_5', 'red_edge_3_0', 'red_edge_3_1', 'red_edge_3_2', 'red_edge_3_3', 'red_edge_3_4', 'red_edge_3_5', 'nir_1_0', 'nir_1_1', 'nir_1_2', 'nir_1_3', 'nir_1_4', 'nir_1_5', 'swir_1_0', 'swir_1_1', 'swir_1_2', 'swir_1_3', 'swir_1_4', 'swir_1_5', 'swir_2_0', 'swir_2_1', 'swir_2_2', 'swir_2_3', 'swir_2_4', 'swir_2_5', 'NDVI_0', 'NDVI_1', 'NDVI_2', 'NDVI_3', 'NDVI_4', 'NDVI_5', 'x_coord', 'y_coord']\n"
     ]
    }
   ],
   "source": [
    "print(column_names)"
   ]
  },
  {
   "cell_type": "markdown",
   "id": "fc7499eb-1802-4005-8659-fa4a0d94c84a",
   "metadata": {},
   "source": [
    "The second object returned by the function is a numpy.array (`model_input`) and contains the data from our labelled geometries. The first item in the array is the class integer (e.g. in the default example 1. 'Forest', 5. 'Grassland', etc.), the second set of items are the values for each feature layer we computed and the coordinates:"
   ]
  },
  {
   "cell_type": "code",
   "execution_count": 11,
   "id": "7ce41957-68c7-45e3-bd44-8a0531d2bfa6",
   "metadata": {},
   "outputs": [
    {
     "name": "stdout",
     "output_type": "stream",
     "text": [
      "[[      1.       251.       277.       811.       532.58     383.19\n",
      "      731.       427.       468.      1098.       597.7      474.\n",
      "      913.       308.       386.      1180.       513.95     390.\n",
      "      839.       754.       715.      1802.       764.16     674.92\n",
      "     1164.      1749.      1584.      2663.      1444.59    1467.42\n",
      "     1951.      2001.      1824.      2965.      1743.29    1728.24\n",
      "     2218.      2116.      1922.      2378.      1811.91    1783.35\n",
      "     2218.      1128.      1018.      2251.      1123.7     1112.9\n",
      "     1404.       595.       580.      1825.       681.62     611.15\n",
      "      944.         0.75       0.67       0.34       0.58       0.65\n",
      "        0.45  764255.   9744915.  ]\n",
      " [      1.       757.35     959.58     893.93     285.01    2298.\n",
      "      421.5      830.24    1061.84     948.56     532.      2118.\n",
      "      515.5      601.52     912.75     763.98     350.      1736.\n",
      "      408.5     1055.87    1312.25    1102.64     879.      2135.\n",
      "      649.      2546.68    2405.85    2026.03    2161.      3257.\n",
      "     1435.5     3025.73    2863.66    2360.43    2616.      3685.\n",
      "     1708.5     3073.42    2670.19    2357.48    2810.      3838.\n",
      "     1732.      1741.25    1567.44    1352.63    1265.      2008.\n",
      "     1001.5      933.11     976.66     874.56     633.      1300.\n",
      "      587.5        0.68       0.5        0.56       0.78       0.38\n",
      "        0.57  752845.   9711775.  ]\n",
      " [      1.       256.       769.      1058.       343.68     401.5\n",
      "      699.       397.       892.5     1142.       497.95     496.06\n",
      "      767.       260.       626.5      868.       397.15     327.7\n",
      "      490.       647.      1103.      1402.       869.03     783.16\n",
      "      922.      1786.      2489.5     3035.      2382.39    2045.57\n",
      "     2066.      2153.      3010.5     3505.      2666.66    2485.2\n",
      "     2377.      2248.      2767.      3078.      2234.78    2543.51\n",
      "     2690.      1213.      1761.5     1874.      1532.02    1309.24\n",
      "     1331.       588.       906.5      986.       795.37     614.14\n",
      "      631.         0.79       0.69       0.56       0.7        0.78\n",
      "        0.69  756945.   9736125.  ]\n",
      " [      1.       524.      6268.       580.61     254.       469.\n",
      "      490.62     833.5     5884.       897.82     564.       807.\n",
      "      812.37     501.      5644.       506.97     270.       482.\n",
      "      459.9     1282.      5844.      1303.62    1072.      1299.\n",
      "     1300.34    3502.5     5701.      3646.56    3143.      3469.\n",
      "     3714.22    4081.      5673.      4493.61    3628.      4052.\n",
      "     4391.3     4186.      5416.      4120.75    3651.      4065.\n",
      "     4472.06    1856.5     2386.      1864.09    1880.      2014.\n",
      "     2050.8      886.      1393.       934.71     867.      1006.\n",
      "      973.71       0.78      -0.02       0.78       0.86       0.79\n",
      "        0.82  778295.   9829195.  ]\n",
      " [      1.      2023.97     521.      1019.       666.       505.\n",
      "      271.5     2052.55     563.      1052.       909.       811.\n",
      "      591.      1784.18     350.       842.       640.       480.\n",
      "      253.5     2243.47     674.      1200.      1239.      1079.\n",
      "      973.5     3517.22    1729.      2317.      2923.      2888.\n",
      "     3410.      3925.76    2076.      2627.      3358.      3398.\n",
      "     3950.5     4011.95    1893.      2425.      3605.      3754.\n",
      "     4035.5     2549.02     957.      1455.      1610.      1624.\n",
      "     1716.5     1604.       517.       910.       867.       850.\n",
      "      756.5        0.38       0.69       0.48       0.7        0.77\n",
      "        0.88  779155.   9836205.  ]\n",
      " [      1.       366.       534.       769.93    1114.       419.\n",
      "      285.       556.       661.5      819.42    1013.       545.5\n",
      "      393.       412.       616.5      642.84     829.       379.5\n",
      "      303.       788.      1026.       815.2     1016.       765.\n",
      "      647.      1805.      1544.5     1528.51    1619.      1928.\n",
      "     1798.      2149.      1891.5     1778.66    1849.      2205.\n",
      "     2151.      2180.      1438.      2200.05    1942.      2325.\n",
      "     2128.      1478.      1488.      1107.73    1284.      1491.5\n",
      "     1503.       744.      1221.5      553.37     666.       734.5\n",
      "      746.         0.68       0.41       0.59       0.4        0.72\n",
      "        0.75  738045.   9728215.  ]\n",
      " [      1.       658.5      752.5      320.14     197.13     662.\n",
      "      397.5      818.5      814.       445.44     354.55     765.\n",
      "      546.5      631.       704.5      316.28     245.08     498.\n",
      "      412.5     1121.5     1016.       741.16     752.19    1019.\n",
      "      792.      2195.      1806.5     1975.95    2101.46    2580.\n",
      "     1937.5     2461.      1954.5     2481.51    2547.34    3027.\n",
      "     2277.5     2423.      1921.      2346.41    2570.56    3086.\n",
      "     2281.      1655.      1209.5     1373.76    1213.45    1530.\n",
      "     1268.      1022.       744.       643.47     572.76     628.\n",
      "      640.         0.63       0.52       0.77       0.83       0.72\n",
      "        0.7   768495.   9708145.  ]\n",
      " [      1.       432.8      444.       249.3      384.27     926.87\n",
      "      378.5      562.08     554.01     386.1      487.77    1018.03\n",
      "      432.5      409.43     393.01     260.03     410.82     924.93\n",
      "      341.5     1094.33     981.01     854.56     952.54    1396.61\n",
      "      809.      3033.34    3327.      2938.19    2729.67    2910.81\n",
      "     2415.      3641.04    4149.98    3581.54    3316.68    3418.2\n",
      "     3017.5     3902.4     4227.98    3637.35    3515.22    3477.39\n",
      "     3152.      1846.01    1900.99    1620.9     1768.96    2078.09\n",
      "     1556.5      861.08     932.       742.18     868.14    1203.35\n",
      "      733.5        0.81       0.83       0.87       0.79       0.59\n",
      "        0.8   718215.   9722265.  ]\n",
      " [      1.       270.5     2425.5      378.       369.18     564.19\n",
      "      396.5      371.      2433.       489.       478.39     596.98\n",
      "      520.5      352.5     2273.5      368.       353.14     431.26\n",
      "      431.       608.      2313.       786.       654.54     737.18\n",
      "      793.      1218.      2563.      1581.      1491.25    1655.93\n",
      "     1781.      1472.5     2733.5     1963.      1835.85    1965.43\n",
      "     2102.      1381.      2630.      1848.      1907.49    1989.7\n",
      "     1958.       990.      1133.5     1325.      1162.28    1299.78\n",
      "     1487.5      696.5      613.5      654.       598.92     630.1\n",
      "      739.5        0.63       0.32       0.67       0.69       0.65\n",
      "        0.64  764495.   9727075.  ]\n",
      " [      1.       909.       351.87    1019.44     406.23     485.13\n",
      "     1830.      1108.       415.18     953.39     538.91     603.29\n",
      "     1810.      1059.5      280.8      679.13     464.69     420.31\n",
      "     1488.      1530.       773.11    1134.67     808.56     945.86\n",
      "     2159.      2643.      2288.77    2691.36    2132.66    2463.55\n",
      "     3737.      3066.5     2744.17    3245.29    2710.71    3016.66\n",
      "     4224.      2801.      2448.3     3029.69    2153.56    2676.01\n",
      "     4232.      1990.      1274.78    1597.21    1326.38    1541.7\n",
      "     2103.      1606.5      619.69     802.79     695.13     815.77\n",
      "     1323.         0.55       0.82       0.66       0.65       0.73\n",
      "        0.48  758405.   9742075.  ]]\n"
     ]
    }
   ],
   "source": [
    "print(np.array_str(model_input, precision=2, suppress_small=True))"
   ]
  },
  {
   "cell_type": "markdown",
   "id": "bb734ba3-c32c-489d-892e-b3c2573a19e1",
   "metadata": {},
   "source": [
    "## Export training features\n",
    "\n",
    "Once we've collected the training features we require, we can write the data to disk. For example to export the extracted first 10 training features as a text file:"
   ]
  },
  {
   "cell_type": "code",
   "execution_count": 12,
   "id": "701e6daf-1712-4a3b-af49-7c46693d06c4",
   "metadata": {},
   "outputs": [],
   "source": [
    "# convert the data to geopandas dataframe\n",
    "pd_training_features=pd.DataFrame(data=model_input,columns=column_names)\n",
    "#set the name and location of the output file\n",
    "output_file = \"Results/Rwanda_training_features_demo.txt\"\n",
    "#Export files to disk\n",
    "pd_training_features.to_csv(output_file, header=True, index=None, sep=' ')"
   ]
  },
  {
   "cell_type": "markdown",
   "id": "695bddd7",
   "metadata": {},
   "source": [
    "We would also like to allow us to check the locations of training points after training data filtering implemented through next notebook. To do that, we reconstruct a geopandas dataframe using the coordinates returned by the `collect_training_data` function and export the features as a geojson file:"
   ]
  },
  {
   "cell_type": "code",
   "execution_count": 13,
   "id": "ed4a7ce8",
   "metadata": {},
   "outputs": [],
   "source": [
    "# create geopandas dataframe\n",
    "gpd_training_features=gpd.GeoDataFrame(pd_training_features, \n",
    "geometry=gpd.points_from_xy(model_input[:,-2], model_input[:,-1],crs=output_crs))\n",
    "# save as geojson file\n",
    "output_file='Results/Rwanda_training_features_demo.geojson'\n",
    "gpd_training_features.to_file(output_file, driver=\"GeoJSON\")"
   ]
  },
  {
   "cell_type": "markdown",
   "id": "8c5b0778",
   "metadata": {},
   "source": [
    "The extracted full training features file is provided as 'Results/Rwanda_training_features.geojson', which will allow us to import the data in the next module(s) of the workflow."
   ]
  },
  {
   "cell_type": "code",
   "execution_count": null,
   "id": "cdc85898-b9d2-4117-95dd-3576f4942e75",
   "metadata": {},
   "outputs": [],
   "source": []
  }
 ],
 "metadata": {
  "kernelspec": {
   "display_name": "Python 3 (ipykernel)",
   "language": "python",
   "name": "python3"
  },
  "language_info": {
   "codemirror_mode": {
    "name": "ipython",
    "version": 3
   },
   "file_extension": ".py",
   "mimetype": "text/x-python",
   "name": "python",
   "nbconvert_exporter": "python",
   "pygments_lexer": "ipython3",
   "version": "3.8.10"
  },
  "vscode": {
   "interpreter": {
    "hash": "01a9736267bf300689e8e016092cd01f0c67384dd94651ae6e139a291bc8cc97"
   }
  }
 },
 "nbformat": 4,
 "nbformat_minor": 5
}

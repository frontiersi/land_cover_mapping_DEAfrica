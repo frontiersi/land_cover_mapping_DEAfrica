{
 "cells": [
  {
   "attachments": {},
   "cell_type": "markdown",
   "metadata": {},
   "source": [
    "This notebook implements scikit-learn Local Outlier Factor (LOF) method to filter training data as alternative to kmeans filtering."
   ]
  },
  {
   "cell_type": "markdown",
   "metadata": {},
   "source": [
    "### load packages and get number of cpus"
   ]
  },
  {
   "cell_type": "code",
   "execution_count": null,
   "metadata": {},
   "outputs": [],
   "source": [
    "%matplotlib inline\n",
    "import datacube\n",
    "import warnings\n",
    "import numpy as np\n",
    "import geopandas as gpd\n",
    "import pandas as pd\n",
    "import xarray as xr\n",
    "from odc.io.cgroups import get_cpu_quota\n",
    "from datacube.utils.cog import write_cog\n",
    "from sklearn.preprocessing import StandardScaler\n",
    "from rasterio.enums import Resampling\n",
    "from sklearn.neighbors import LocalOutlierFactor\n",
    "\n",
    "ncpus=round(get_cpu_quota())\n",
    "print('ncpus = '+str(ncpus))"
   ]
  },
  {
   "attachments": {},
   "cell_type": "markdown",
   "metadata": {},
   "source": [
    "### set parameters"
   ]
  },
  {
   "cell_type": "code",
   "execution_count": null,
   "metadata": {},
   "outputs": [],
   "source": [
    "# file paths and attributes\n",
    "training_signature_path='Results/Mozambique_training_features.txt'\n",
    "\n",
    "rf2017_path='Results/moz_lulc2016_28082019_final_remapped.tif'\n",
    "\n",
    "# tile shapefile to stratify the random sampling for kmeans\n",
    "tiles_shp='Data/Mozambique_tiles_biggest1.shp'\n",
    "\n",
    "crs='epsg:32736' # WGS84/UTM Zone 36S\n",
    "measurements = ['blue','green','red','red_edge_1','red_edge_2', 'red_edge_3','nir_1','nir_2','swir_1','swir_2','NDVI']\n",
    "class_name = 'LC_Class_I' # class label in integer format\n",
    "column_names=[class_name]\n",
    "for measurement in measurements:\n",
    "    for i in range(6):\n",
    "        column_names.append(measurement+'_'+str(i))"
   ]
  },
  {
   "attachments": {},
   "cell_type": "markdown",
   "metadata": {},
   "source": [
    "### load training features"
   ]
  },
  {
   "cell_type": "code",
   "execution_count": null,
   "metadata": {},
   "outputs": [],
   "source": [
    "training_data2017= pd.read_csv(training_signature_path,sep=' ')\n",
    "training_data2017=training_data2017[column_names] # select attributes\n",
    "training_data2017[class_name]=training_data2017[class_name].astype(int)\n",
    "print('land cover survey points 2017:\\n',training_data2017)\n",
    "lc_classes=training_data2017[class_name].unique() # get class labels"
   ]
  },
  {
   "cell_type": "markdown",
   "metadata": {},
   "source": [
    "### filter out proportion of samples using LOF"
   ]
  },
  {
   "cell_type": "code",
   "execution_count": null,
   "metadata": {},
   "outputs": [],
   "source": [
    "td2021_filtered=None # filtered training data\n",
    "scaler = StandardScaler() # standard scaler for input data standardisation\n",
    "proportion_filter=0.15 # 15% samples were assumed outliers\n",
    "# filtering training data for each class\n",
    "for i in lc_classes:\n",
    "    print('Processing class ',i)\n",
    "    # subset original training points for this class\n",
    "    td_single_class=training_data2017[training_data2017[class_name]==i].reset_index(drop=True)\n",
    "    print('Number of training data collected: ',len(td_single_class))\n",
    "    # normalisation before clustering\n",
    "    model_input=scaler.fit_transform(td_single_class.to_numpy()[:,1:-1])\n",
    "    clf = LocalOutlierFactor(contamination=proportion_filter)\n",
    "    y_pred=clf.fit_predict(model_input)\n",
    "    # append prediction to features dataframe\n",
    "    td_single_class_filtered=td_single_class.copy()\n",
    "    td_single_class_filtered['LOF_pred']=y_pred\n",
    "    td_single_class_filtered=td_single_class_filtered[td_single_class_filtered['LOF_pred']==1]\n",
    "    print('Number of training data after filtering: ',len(td_single_class_filtered))\n",
    "    # append the filtered training points of this class to final filtered training data\n",
    "    if td2021_filtered is None:\n",
    "        td2021_filtered=td_single_class_filtered\n",
    "    else:\n",
    "        td2021_filtered=pd.concat([td2021_filtered, td_single_class_filtered])\n",
    "        \n",
    "# remove NaNs which were somehow export as zeros during extraction of training data\n",
    "td2021_filtered=td2021_filtered.loc[(td2021_filtered!=0).all(axis=1)].reset_index(drop=True)\n",
    "print('training data after removing nans\\n',td2021_filtered)"
   ]
  },
  {
   "cell_type": "markdown",
   "metadata": {},
   "source": [
    "### export filtered training features"
   ]
  },
  {
   "cell_type": "code",
   "execution_count": null,
   "metadata": {},
   "outputs": [],
   "source": [
    "print('filtered training data for 2021:\\n',td2021_filtered)\n",
    "output_file = \"Results/Mozambique_training_features_filtered_LOF.txt\"\n",
    "td2021_filtered.to_csv(output_file, header=True, index=None, sep=' ')"
   ]
  }
 ],
 "metadata": {
  "kernelspec": {
   "display_name": "Python 3.7.12 ('geoenv')",
   "language": "python",
   "name": "python3"
  },
  "language_info": {
   "name": "python",
   "version": "3.7.12"
  },
  "orig_nbformat": 4,
  "vscode": {
   "interpreter": {
    "hash": "01a9736267bf300689e8e016092cd01f0c67384dd94651ae6e139a291bc8cc97"
   }
  }
 },
 "nbformat": 4,
 "nbformat_minor": 2
}

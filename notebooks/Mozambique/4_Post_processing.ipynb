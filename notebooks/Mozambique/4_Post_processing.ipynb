{
 "cells": [
  {
   "attachments": {},
   "cell_type": "markdown",
   "id": "1e1b4eb1",
   "metadata": {},
   "source": [
    "This notebook implements morphological filtering and rule-based reclassification using external layers."
   ]
  },
  {
   "cell_type": "markdown",
   "id": "b4be218a",
   "metadata": {},
   "source": [
    "### load packages"
   ]
  },
  {
   "cell_type": "code",
   "execution_count": null,
   "id": "5c15f173",
   "metadata": {},
   "outputs": [],
   "source": [
    "%matplotlib inline\n",
    "import os\n",
    "import datacube\n",
    "import warnings\n",
    "import numpy as np\n",
    "import geopandas as gpd\n",
    "import pandas as pd\n",
    "import xarray as xr\n",
    "import rioxarray\n",
    "from rasterio.enums import Resampling\n",
    "from datacube.utils.cog import write_cog\n",
    "from deafrica_tools.spatial import xr_rasterize\n",
    "from skimage.morphology import binary_dilation,disk\n",
    "from skimage.filters.rank import modal\n",
    "from odc.algo import xr_reproject\n",
    "import matplotlib.pyplot as plt\n",
    "from deafrica_tools.bandindices import calculate_indices\n",
    "from deafrica_tools.coastal import get_coastlines"
   ]
  },
  {
   "attachments": {},
   "cell_type": "markdown",
   "id": "a5a1cf9d",
   "metadata": {},
   "source": [
    "### input layers and set parameters"
   ]
  },
  {
   "cell_type": "code",
   "execution_count": null,
   "id": "f90ef50d",
   "metadata": {},
   "outputs": [],
   "source": [
    "output_crs='epsg:32736' # output crs: WGS84/UTM Zone 36S \n",
    "dict_map={'Tree crops':11,'Field crops':12,'Forest plantations':21,'Grassland':31,\n",
    "                 'Aquatic or regularly flooded herbaceous vegetation':41,'Water body':44,\n",
    "                 'Settlements':51,'Bare soils':61,'Mangrove':70,'Mecrusse':71,\n",
    "                'Broadleaved (Semi-) evergreen forest':72,'Broadleaved (Semi-) deciduous forest':74,'Mopane':75} # a dictionary of pixel value for each class\n",
    "\n",
    "# file paths\n",
    "mozambique_boundary_shp='Data/Mozambique_boundary.shp'\n",
    "mozambique_tiles_shp='Data/Mozambique_50km_sample_regions.geojson'\n",
    "# mozambique_tiles_shp='Data/mozambique_boundaries_projected_epsg32735_tiles.shp' # mozambique tiles shapefile\n",
    "river_network_shp='Data/hotosm_moz_waterways_lines_filtered.shp' # OSM river network data\n",
    "road_network_shp='Data/hotosm_moz_roads_lines_filtered.shp' # OSM road network data\n",
    "google_building_raster='Data/GoogleBuildingLayer_Mozambique_rasterised.tif' # google bulding layer\n",
    "# classification2021_raster='Results/Land_cover_prediction_15pct_td_Mozambique_50km_sample_regions_mosaic.tif' # land cover map of 2021\n",
    "classification2021_raster='Results/Land_cover_prediction_15pct_td_Mozambique_geomedian_semiannual_features_50km_sample_regions_mosaic.tif' # land cover map of 2021\n",
    "hand_raster='Data/hand_Mozambique.tif' # Hydrologically adjusted elevations, i.e. height above the nearest drainage (hand)\n",
    "wsf2019_raster='Data/WSF2019_v1_Mozambique_clipped.tif' # 2019 WSF raster"
   ]
  },
  {
   "attachments": {},
   "cell_type": "markdown",
   "id": "73816345",
   "metadata": {},
   "source": [
    "## load layers"
   ]
  },
  {
   "cell_type": "code",
   "execution_count": null,
   "id": "f62bc8d0",
   "metadata": {},
   "outputs": [],
   "source": [
    "# import mozambique boundary and get bounding box\n",
    "mozambique_boundary=gpd.read_file(mozambique_boundary_shp).to_crs(output_crs)\n",
    "\n",
    "# import mozambique tiles and get bounding box\n",
    "mozambique_tiles=gpd.read_file(mozambique_tiles_shp).to_crs(output_crs) # get bounding boxes of tiles covering mozambique\n",
    "tile_bboxes=mozambique_tiles.bounds\n",
    "\n",
    "# load land cover maps\n",
    "landcover2021=rioxarray.open_rasterio(classification2021_raster).astype(np.uint8).squeeze() # import land cover map of 2021\n",
    "\n",
    "# load and pre-process external layers\n",
    "# import OSM road network data and reproject\n",
    "road_network=gpd.read_file(road_network_shp).to_crs(output_crs) \n",
    "road_network=road_network.loc[road_network['surface'].isin(['asphalt', 'paved', 'compacted', 'cobblestone', \n",
    "                                                             'concrete', 'metal', 'paving_stones', \n",
    "                                                             'paving_stones:30'])] # select road network by attributes\n",
    "road_network.geometry=road_network.geometry.buffer(10) # buffer the road network by 10m\n",
    "road_network_mask=xr_rasterize(gdf=road_network,da=landcover2021.squeeze(),\n",
    "                               transform=landcover2021.geobox.transform,crs=output_crs) # # rasterise buffered OSM road network layer\n",
    "# import OSM river network data and reproject\n",
    "river_network=gpd.read_file(river_network_shp).to_crs(output_crs) \n",
    "river_network=river_network.loc[river_network['waterway'].isin(['canal','river'])] # select river network by attribute\n",
    "river_network_mask=xr_rasterize(gdf=river_network,da=landcover2021.squeeze(),\n",
    "                                transform=landcover2021.geobox.transform,crs=output_crs) # rasterise OSM river network layer\n",
    "# import hand layer\n",
    "hand=xr.open_dataset(hand_raster,engine=\"rasterio\").squeeze() \n",
    "# import google bulding layer\n",
    "google_buildings=xr.open_dataset(google_building_raster,engine=\"rasterio\").astype(np.int8).squeeze() \n",
    "wsf2019=xr.open_dataset(wsf2019_raster,engine=\"rasterio\").astype(np.int32).squeeze() # import WSF2019 layers\n",
    "# load coastline layer and buffer\n",
    "shorelines_gdf = get_coastlines(mozambique_boundary.bounds.iloc[0],crs=output_crs,layer='shorelines').to_crs(output_crs)\n",
    "shorelines_gdf_2021=shorelines_gdf[shorelines_gdf['year']=='2021'] # select only 2021\n",
    "shorelines_gdf_2021.geometry=shorelines_gdf_2021.geometry.buffer(50000) # buffer the road network by 50km\n",
    "shorelines_2021_mask=xr_rasterize(gdf=shorelines_gdf_2021,da=landcover2021.squeeze(),\n",
    "                                transform=landcover2021.geobox.transform,crs=output_crs) # rasterise layer"
   ]
  },
  {
   "cell_type": "markdown",
   "id": "f9080cf9",
   "metadata": {},
   "source": [
    "### loop through tiles for reclassification and export as geotiffs"
   ]
  },
  {
   "cell_type": "code",
   "execution_count": null,
   "id": "7ff6cbf9",
   "metadata": {},
   "outputs": [],
   "source": [
    "# loop through tiles for reclassification\n",
    "for i in range(0,3):\n",
    "# for i in range(0,len(tile_bboxes)):\n",
    "    # get tile bbox\n",
    "    x_min,y_min,x_max,y_max=tile_bboxes.iloc[i]\n",
    "    print('Processing tile ',i,'with bbox of ',x_min,y_min,x_max,y_max)\n",
    "    \n",
    "    # load s2 annual geomedian and calcualte MNDWI\n",
    "    dc = datacube.Datacube(app='s2_geomedian')\n",
    "    query_geomedian= {\n",
    "        'time': ('2021'),\n",
    "        'x': (x_min,x_max),\n",
    "        'y': (y_max,y_min),\n",
    "        'resolution':(-10, 10),\n",
    "        'crs':output_crs,\n",
    "        'output_crs': output_crs,\n",
    "        'measurements':['green','swir_1']\n",
    "    }\n",
    "    ds_geomedian = dc.load(product=\"gm_s2_annual\", **query_geomedian)\n",
    "    ds_MNDWI = calculate_indices(ds=ds_geomedian, index='MNDWI', satellite_mission='s2',drop=True).squeeze()\n",
    "    ds_geobox=ds_MNDWI.geobox # get bbox\n",
    "    \n",
    "    # clip land cover maps 2015 and 2021 to tile boundary\n",
    "#     landcover2021_tile=landcover2021.rio.clip_box(minx=x_min,miny=y_min,maxx=x_max,maxy=y_max)\n",
    "    landcover2021_tile=xr_reproject(landcover2021, ds_geobox, resampling=\"nearest\") # clip to tile boundary\n",
    "    np_landcover2021=landcover2021_tile.squeeze().to_numpy() # data array to numpy array\n",
    "    np_landcover2021_post=np_landcover2021.copy() # initialise post-processed numpy array\n",
    "    \n",
    "    # mode filtering for a smoother classification map\n",
    "    np_landcover2021_post=modal(np_landcover2021,footprint=disk(2.5),mask=np_landcover2021!=0)\n",
    "    \n",
    "    # load and clip hand layer\n",
    "    hand=xr_reproject(hand, ds_geobox, resampling=\"average\")\n",
    "    np_hand=hand.to_array().squeeze().to_numpy()\n",
    "    \n",
    "    # Make sure water is (only occuring at bottom of watersheds) or fallen within OSM river networks\n",
    "    river_network_mask_tile=xr_reproject(river_network_mask, ds_geobox, resampling=\"nearest\")\n",
    "    np_river_network_mask=river_network_mask_tile.squeeze().to_numpy() # data array to numpy array\n",
    "    np_landcover2021_post[((np_landcover2021==dict_map['Water body'])&(np_hand<=45))|(np_river_network_mask==1)]=dict_map['Water body'] # apply rules\n",
    "    \n",
    "    # assign pixels overlapping google building polygons or WSF 2019 but outside difference of WSF2015 and WSF2019 as built-up\n",
    "    google_buildings_mask_tile=xr_reproject(google_buildings, ds_geobox, resampling=\"nearest\")\n",
    "    np_google_buildings_mask=google_buildings_mask_tile.to_array().squeeze().to_numpy() # data array to numpy array\n",
    "\n",
    "    wsf2019_tile=xr_reproject(wsf2019, ds_geobox, resampling=\"nearest\") # load and clip WSF layers\n",
    "    np_wsf2019=wsf2019_tile.to_array().squeeze().to_numpy()\n",
    "    np_landcover2021_post[(np_google_buildings_mask==1)|(np_wsf2019==255)]=dict_map['Settlements'] # apply rules\n",
    "    \n",
    "    # assign pixesl overlapping buffered OSM road network as built-up class\n",
    "    road_network_mask_tile=xr_reproject(road_network_mask, ds_geobox, resampling=\"nearest\")\n",
    "    np_road_network_mask=road_network_mask_tile.squeeze().to_numpy() # data array to numpy array\n",
    "    np_landcover2021_post[np_road_network_mask==1]=dict_map['Settlements'] # burn in buffered OSM road network polygons\n",
    "    \n",
    "    # reclassify wetlands around (within 50m of) built-up areas as tree crops\n",
    "    urban_buffered=binary_dilation(np_landcover2021==dict_map['Settlements'],footprint=disk(5)) # dilating built-up regions\n",
    "    np_landcover2021_post[(urban_buffered==1)&(np_landcover2021==dict_map['Aquatic or regularly flooded herbaceous vegetation'])]=dict_map['Field crops'] # apply rule\n",
    "    \n",
    "    # reassign water using NDWI calculated from annual S2 geomedian\n",
    "    np_MNDWI=ds_MNDWI['MNDWI'].to_numpy()\n",
    "    np_landcover2021_post[np_MNDWI>=0]=dict_map['Water body']\n",
    "    \n",
    "    # reassign mangroves outside 50km of coastline as Forest Plantation\n",
    "    shorelines_2021_mask_tile=xr_reproject(shorelines_2021_mask, ds_geobox, resampling=\"nearest\") # load and clip shoreline mask layers\n",
    "    np_shorelines_2021_mask=shorelines_2021_mask_tile.squeeze().to_numpy()\n",
    "    np_landcover2021_post[(np_shorelines_2021_mask==0)&(np_landcover2021==dict_map['Mangrove'])]=dict_map['Forest plantations']\n",
    "    \n",
    "    # convert back result back to DataArray\n",
    "    landcover2021_tile_post=xr.DataArray(data=np_landcover2021_post,dims=['y','x'],coords={'y':landcover2021_tile.y.to_numpy(), 'x':landcover2021_tile.x.to_numpy()})\n",
    "    landcover2021_tile_post.rio.write_crs(output_crs, inplace=True)\n",
    "    \n",
    "    # export as geotiff\n",
    "#     write_cog(landcover2021_tile_post, 'Results/Land_cover_prediction_postprocessed_15pct_td_Mozambique_50km_sample_region_'+str(i)+'.tif', overwrite=True)\n",
    "    write_cog(landcover2021_tile_post, 'Results/Land_cover_prediction_postprocessed_15pct_td_Mozambique_geomedian_semiannual_features_50km_sample_region_'+str(i)+'.tif', overwrite=True)"
   ]
  },
  {
   "cell_type": "markdown",
   "id": "1cc40c5d",
   "metadata": {},
   "source": [
    "### mosaic all post-processed tiles"
   ]
  },
  {
   "cell_type": "code",
   "execution_count": 6,
   "id": "880214b8-3feb-4e43-a443-6aca932d0590",
   "metadata": {},
   "outputs": [
    {
     "name": "stdout",
     "output_type": "stream",
     "text": [
      "0...10...20...30...40...50...60...70...80...90...100 - done.\n"
     ]
    }
   ],
   "source": [
    "! gdal_merge.py -o Results/Land_cover_prediction_postprocessed_15pct_td_Mozambique_geomedian_semiannual_features_50km_sample_regions_mosaic.tif -co COMPRESS=Deflate -ot Byte Results/Land_cover_prediction_postprocessed_15pct_td_Mozambique_geomedian_semiannual_features_50km_sample_region_*.tif"
   ]
  }
 ],
 "metadata": {
  "kernelspec": {
   "display_name": "geoenv",
   "language": "python",
   "name": "python3"
  },
  "language_info": {
   "codemirror_mode": {
    "name": "ipython",
    "version": 3
   },
   "file_extension": ".py",
   "mimetype": "text/x-python",
   "name": "python",
   "nbconvert_exporter": "python",
   "pygments_lexer": "ipython3",
   "version": "3.7.12 | packaged by conda-forge | (default, Oct 26 2021, 05:37:49) [MSC v.1916 64 bit (AMD64)]"
  },
  "vscode": {
   "interpreter": {
    "hash": "01a9736267bf300689e8e016092cd01f0c67384dd94651ae6e139a291bc8cc97"
   }
  }
 },
 "nbformat": 4,
 "nbformat_minor": 5
}

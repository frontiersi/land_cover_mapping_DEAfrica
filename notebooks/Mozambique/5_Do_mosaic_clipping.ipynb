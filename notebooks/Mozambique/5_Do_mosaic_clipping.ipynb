{
 "cells": [
  {
   "cell_type": "markdown",
   "metadata": {},
   "source": [
    "Notebook to mosaic tiles and clip to country boundary."
   ]
  },
  {
   "cell_type": "markdown",
   "metadata": {},
   "source": [
    "### Mosaic probabilities, predictions and post-processed tiles"
   ]
  },
  {
   "cell_type": "code",
   "execution_count": null,
   "metadata": {},
   "outputs": [],
   "source": [
    "! gdal_merge.py -o Results/Mozmabique_land_cover_prediction_mosaic.tif -co COMPRESS=Deflate -ot Byte Results/Mozmabique_land_cover_prediction_tile_*.tif -co BIGTIFF=YES"
   ]
  },
  {
   "cell_type": "code",
   "execution_count": null,
   "metadata": {},
   "outputs": [],
   "source": [
    "! gdal_merge.py -o Results/Mozmabique_land_cover_probability_mosaic.tif -co COMPRESS=Deflate -ot Byte Results/Mozmabique_land_cover_probability_tile_*.tif -co BIGTIFF=YES"
   ]
  },
  {
   "cell_type": "code",
   "execution_count": null,
   "metadata": {},
   "outputs": [],
   "source": [
    "! gdal_merge.py -o Results/Mozmabique_land_cover_prediction_postprocessed_mosaic.tif -co COMPRESS=Deflate -ot Byte Results/Mozmabique_land_cover_prediction_postprocessed_tile_*.tif -co BIGTIFF=YES"
   ]
  },
  {
   "cell_type": "markdown",
   "metadata": {},
   "source": [
    "### clip mosaics to country boundary"
   ]
  },
  {
   "cell_type": "code",
   "execution_count": null,
   "metadata": {},
   "outputs": [],
   "source": [
    "import subprocess\n",
    "bound_file=\"Data/Mozambique_boundary.shp\""
   ]
  },
  {
   "cell_type": "code",
   "execution_count": null,
   "metadata": {},
   "outputs": [],
   "source": [
    "mosaic=\"Results/Mozmabique_land_cover_prediction_mosaic.tif\"\n",
    "mosaic_clipped=\"Results/Mozmabique_land_cover_prediction_mosaic_clipped.tif\"\n",
    "gdal_cmd=[\"gdalwarp\", \"-of\", \"GTiff\", '-cutline',bound_file,'-crop_to_cutline',\n",
    "          '-co','COMPRESS=DEFLATE',mosaic,mosaic_clipped]\n",
    "p1=subprocess.run(gdal_cmd)"
   ]
  },
  {
   "cell_type": "code",
   "execution_count": null,
   "metadata": {},
   "outputs": [],
   "source": [
    "mosaic=\"Results/Mozmabique_land_cover_probability_mosaic.tif\"\n",
    "mosaic_clipped=\"Results/Mozmabique_land_cover_probability_mosaic_clipped.tif\"\n",
    "gdal_cmd=[\"gdalwarp\", \"-of\", \"GTiff\", '-cutline',bound_file,'-crop_to_cutline',\n",
    "          '-co','COMPRESS=DEFLATE',mosaic,mosaic_clipped]\n",
    "p1=subprocess.run(gdal_cmd)"
   ]
  },
  {
   "cell_type": "code",
   "execution_count": null,
   "metadata": {},
   "outputs": [],
   "source": [
    "mosaic=\"Results/Mozmabique_land_cover_prediction_postprocessed_mosaic.tif\"\n",
    "mosaic_clipped=\"Results/Mozmabique_land_cover_prediction_postprocessed_mosaic_clipped.tif\"\n",
    "gdal_cmd=[\"gdalwarp\", \"-of\", \"GTiff\", '-cutline',bound_file,'-crop_to_cutline',\n",
    "          '-co','COMPRESS=DEFLATE',mosaic,mosaic_clipped]\n",
    "p1=subprocess.run(gdal_cmd)"
   ]
  }
 ],
 "metadata": {
  "kernelspec": {
   "display_name": "Python 3 (ipykernel)",
   "language": "python",
   "name": "python3"
  },
  "language_info": {
   "codemirror_mode": {
    "name": "ipython",
    "version": 3
   },
   "file_extension": ".py",
   "mimetype": "text/x-python",
   "name": "python",
   "nbconvert_exporter": "python",
   "pygments_lexer": "ipython3",
   "version": "3.8.10"
  }
 },
 "nbformat": 4,
 "nbformat_minor": 4
}

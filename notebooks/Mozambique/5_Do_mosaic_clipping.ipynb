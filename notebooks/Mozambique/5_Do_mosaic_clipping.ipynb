{
 "cells": [
  {
   "attachments": {},
   "cell_type": "markdown",
   "metadata": {},
   "source": [
    "Notebook to mosaic tiles and clip to country boundary."
   ]
  },
  {
   "attachments": {},
   "cell_type": "markdown",
   "metadata": {},
   "source": [
    "### Mosaic probabilities, predictions and post-processed tiles"
   ]
  },
  {
   "cell_type": "code",
   "execution_count": null,
   "metadata": {},
   "outputs": [],
   "source": [
    "! gdal_merge.py -o Results/Land_cover_prediction_kmeans_filtered_td_Mozambique_mosaic.tif -co COMPRESS=Deflate -ot Byte Results/Land_cover_prediction_kmeans_filtered_td_Mozambique_tile*.tif -co BIGTIFF=IF_NEEDED"
   ]
  },
  {
   "cell_type": "code",
   "execution_count": null,
   "metadata": {},
   "outputs": [],
   "source": [
    "! gdal_merge.py -o Results/Land_cover_probability_kmeans_filtered_td_Mozambique_mosaic.tif -co COMPRESS=Deflate -ot Byte Results/Land_cover_probability_kmeans_filtered_td_Mozambique_tile*.tif -co BIGTIFF=IF_NEEDED"
   ]
  },
  {
   "cell_type": "code",
   "execution_count": null,
   "metadata": {},
   "outputs": [],
   "source": [
    "! gdal_merge.py -o Results/Land_cover_prediction_postprocessed_kmeans_filtered_td_Mozambique_mosaic.tif -co COMPRESS=Deflate -ot Byte Results/Land_cover_prediction_postprocessed_kmeans_filtered_td_Mozambique_tile_*.tif -co BIGTIFF=IF_NEEDED"
   ]
  },
  {
   "cell_type": "markdown",
   "metadata": {},
   "source": [
    "### clip mosaics to country boundary"
   ]
  },
  {
   "cell_type": "code",
   "execution_count": null,
   "metadata": {},
   "outputs": [],
   "source": [
    "import subprocess\n",
    "bound_file=\"Data/Mozambique_boundary.shp\"\n"
   ]
  },
  {
   "cell_type": "code",
   "execution_count": null,
   "metadata": {},
   "outputs": [],
   "source": [
    "mosaic=\"Results/Land_cover_prediction_kmeans_filtered_td_Mozambique_mosaic.tif\"\n",
    "mosaic_clipped=\"Results/Land_cover_prediction_kmeans_filtered_td_Mozambique_mosaic_clipped.tif\"\n",
    "gdal_cmd=[\"gdalwarp\", \"-of\", \"GTiff\", '-cutline',bound_file,'-crop_to_cutline',\n",
    "          '-co','COMPRESS=DEFLATE',mosaic,mosaic_clipped]\n",
    "p1=subprocess.run(gdal_cmd)"
   ]
  },
  {
   "cell_type": "code",
   "execution_count": null,
   "metadata": {},
   "outputs": [],
   "source": [
    "mosaic=\"Results/Land_cover_probability_kmeans_filtered_td_Mozambique_mosaic.tif\"\n",
    "mosaic_clipped=\"Results/Land_cover_probability_kmeans_filtered_td_Mozambique_mosaic_clipped.tif\"\n",
    "gdal_cmd=[\"gdalwarp\", \"-of\", \"GTiff\", '-cutline',bound_file,'-crop_to_cutline',\n",
    "          '-co','COMPRESS=DEFLATE',mosaic,mosaic_clipped]\n",
    "p1=subprocess.run(gdal_cmd)"
   ]
  },
  {
   "cell_type": "code",
   "execution_count": null,
   "metadata": {},
   "outputs": [],
   "source": [
    "mosaic=\"Results/Land_cover_prediction_postprocessed_kmeans_filtered_td_Mozambique_mosaic.tif\"\n",
    "mosaic_clipped=\"Results/Land_cover_prediction_postprocessed_kmeans_filtered_td_Mozambique_mosaic_clipped.tif\"\n",
    "gdal_cmd=[\"gdalwarp\", \"-of\", \"GTiff\", '-cutline',bound_file,'-crop_to_cutline',\n",
    "          '-co','COMPRESS=DEFLATE',mosaic,mosaic_clipped]\n",
    "p1=subprocess.run(gdal_cmd)"
   ]
  }
 ],
 "metadata": {
  "kernelspec": {
   "display_name": "geoenv",
   "language": "python",
   "name": "python3"
  },
  "language_info": {
   "name": "python",
   "version": "3.7.12"
  },
  "orig_nbformat": 4
 },
 "nbformat": 4,
 "nbformat_minor": 2
}

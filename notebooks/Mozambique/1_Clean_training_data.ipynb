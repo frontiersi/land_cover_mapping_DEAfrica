{
 "cells": [
  {
   "cell_type": "code",
   "execution_count": 1,
   "id": "7fccc7e0-768c-4479-a777-6ce9efbf4d86",
   "metadata": {},
   "outputs": [
    {
     "name": "stderr",
     "output_type": "stream",
     "text": [
      "/usr/local/lib/python3.8/dist-packages/geopandas/_compat.py:112: UserWarning: The Shapely GEOS version (3.8.0-CAPI-1.13.1 ) is incompatible with the GEOS version PyGEOS was compiled with (3.10.1-CAPI-1.16.0). Conversions between both will be slow.\n",
      "  warnings.warn(\n",
      "/usr/local/lib/python3.8/dist-packages/dask/dataframe/utils.py:367: FutureWarning: pandas.Int64Index is deprecated and will be removed from pandas in a future version. Use pandas.Index with the appropriate dtype instead.\n",
      "  _numeric_index_types = (pd.Int64Index, pd.Float64Index, pd.UInt64Index)\n",
      "/usr/local/lib/python3.8/dist-packages/dask/dataframe/utils.py:367: FutureWarning: pandas.Float64Index is deprecated and will be removed from pandas in a future version. Use pandas.Index with the appropriate dtype instead.\n",
      "  _numeric_index_types = (pd.Int64Index, pd.Float64Index, pd.UInt64Index)\n",
      "/usr/local/lib/python3.8/dist-packages/dask/dataframe/utils.py:367: FutureWarning: pandas.UInt64Index is deprecated and will be removed from pandas in a future version. Use pandas.Index with the appropriate dtype instead.\n",
      "  _numeric_index_types = (pd.Int64Index, pd.Float64Index, pd.UInt64Index)\n"
     ]
    },
    {
     "name": "stdout",
     "output_type": "stream",
     "text": [
      "ncpus = 31\n",
      "land cover survey points 2017:\n",
      "       LC_Class_I                         geometry\n",
      "0             11   POINT (720926.179 7420038.062)\n",
      "1             11   POINT (664556.179 7439898.062)\n",
      "2             11   POINT (706736.179 7390518.062)\n",
      "3             11   POINT (669446.179 7267068.062)\n",
      "4             11  POINT (1271036.179 8536308.062)\n",
      "...          ...                              ...\n",
      "5196          62  POINT (1043126.179 8498568.062)\n",
      "5197          21   POINT (710666.179 7871448.062)\n",
      "5198          21   POINT (486476.179 7844088.062)\n",
      "5199          21   POINT (801416.179 8518578.062)\n",
      "5200          21   POINT (517916.179 7895478.062)\n",
      "\n",
      "[5201 rows x 2 columns]\n",
      "tile boundaries for Mozambique: \n",
      "            minx          miny          maxx          maxy\n",
      "0  2.007347e+05  8.332509e+06  7.007347e+05  8.832509e+06\n",
      "1  2.007347e+05  7.832519e+06  7.007347e+05  8.332519e+06\n",
      "2  2.007347e+05  7.332529e+06  7.007347e+05  7.832529e+06\n",
      "3  2.007347e+05  6.832539e+06  7.007347e+05  7.332539e+06\n",
      "4  7.007247e+05  8.332509e+06  1.200725e+06  8.832509e+06\n",
      "5  7.007247e+05  7.832519e+06  1.200725e+06  8.332519e+06\n",
      "6  7.007247e+05  7.332529e+06  1.200725e+06  7.832529e+06\n",
      "7  7.007247e+05  6.832539e+06  1.200725e+06  7.332539e+06\n",
      "8  1.200715e+06  8.332509e+06  1.700715e+06  8.832509e+06\n",
      "9  1.200715e+06  7.832519e+06  1.700715e+06  8.332519e+06\n",
      "Reference land cover classifcation raster:\n",
      " <xarray.DataArray 'band_data' (y: 62720, x: 40647)>\n",
      "array([[0, 0, 0, ..., 0, 0, 0],\n",
      "       [0, 0, 0, ..., 0, 0, 0],\n",
      "       [0, 0, 0, ..., 0, 0, 0],\n",
      "       ...,\n",
      "       [0, 0, 0, ..., 0, 0, 0],\n",
      "       [0, 0, 0, ..., 0, 0, 0],\n",
      "       [0, 0, 0, ..., 0, 0, 0]], dtype=uint8)\n",
      "Coordinates:\n",
      "  * x            (x) float64 1.113e+06 1.113e+06 ... 2.274e+06 2.274e+06\n",
      "  * y            (y) float64 -1.698e+06 -1.698e+06 ... -3.489e+06 -3.489e+06\n",
      "    spatial_ref  int64 ...\n",
      "Attributes:\n",
      "    STATISTICS_COVARIANCES:  797.4024040704207\n",
      "    STATISTICS_MAXIMUM:      79\n",
      "    STATISTICS_MEAN:         17.953952901807\n",
      "    STATISTICS_MINIMUM:      0\n",
      "    STATISTICS_SKIPFACTORX:  1\n",
      "    STATISTICS_SKIPFACTORY:  1\n",
      "    STATISTICS_STDDEV:       28.238314469359\n"
     ]
    }
   ],
   "source": [
    "%matplotlib inline\n",
    "import os\n",
    "import datacube\n",
    "import warnings\n",
    "import numpy as np\n",
    "import geopandas as gpd\n",
    "import pandas as pd\n",
    "import matplotlib.pyplot as plt\n",
    "import xarray as xr\n",
    "import rioxarray\n",
    "from odc.io.cgroups import get_cpu_quota\n",
    "from odc.algo import xr_geomedian\n",
    "from deafrica_tools.datahandling import load_ard\n",
    "from deafrica_tools.bandindices import calculate_indices\n",
    "from deafrica_tools.classification import collect_training_data\n",
    "from sklearn.cluster import KMeans\n",
    "from sklearn.preprocessing import StandardScaler\n",
    "from sklearn import metrics\n",
    "from rasterio.enums import Resampling\n",
    "from random_sampling import random_sampling # adapted from function by Chad Burton: https://gist.github.com/cbur24/04760d645aa123a3b1817b07786e7d9f\n",
    "\n",
    "ncpus=round(get_cpu_quota())\n",
    "print('ncpus = '+str(ncpus))\n",
    "\n",
    "# file paths and attributes\n",
    "# traning_points_path = 'Data/trainning_samples_FNDS_II_SOM_2016.geojson'\n",
    "traning_points_path = 'Results/stratified_random_training_points_lulc_2016_balanced.geojson'\n",
    "# rf2017_path='Data/Landcover_map_ODC_Brazil_2015_2016.tif'\n",
    "rf2017_path='Data/moz_lulc2016_28082019_final.tif'\n",
    "tiles_shp='Data/Mozambique_tiles_biggest1.shp'\n",
    "class_name = 'LC_Class_I' # class label in integer format\n",
    "crs='epsg:32736' # WGS84/UTM Zone 36S\n",
    "\n",
    "# Load reference land cover survey points and reproject\n",
    "training_data2017= gpd.read_file(traning_points_path).to_crs(crs) # read training points as geopandas dataframe\n",
    "training_data2017=training_data2017[[class_name,'geometry']] # select attributes\n",
    "print('land cover survey points 2017:\\n',training_data2017)\n",
    "\n",
    "# get bounding boxes of tiles\n",
    "tiles=gpd.read_file(tiles_shp).to_crs(crs)\n",
    "tile_bboxes=tiles.bounds\n",
    "print('tile boundaries for Mozambique: \\n',tile_bboxes)\n",
    "\n",
    "# load initial classification map\n",
    "rf_2017_raster = xr.open_dataset(rf2017_path,engine=\"rasterio\").astype(np.uint8).squeeze(\"band\", drop=True)\n",
    "# # reproject the raster\n",
    "# rf_2017_raster= rf_2017_raster.rio.reproject(resolution=10, dst_crs=crs,resampling=Resampling.nearest)\n",
    "rf_2017_raster=rf_2017_raster.band_data\n",
    "print('Reference land cover classifcation raster:\\n',rf_2017_raster) # note: 255 is nodata"
   ]
  },
  {
   "cell_type": "code",
   "execution_count": 2,
   "id": "5ff1b5f8-3028-49a2-88cc-a136fc693d43",
   "metadata": {},
   "outputs": [
    {
     "name": "stdout",
     "output_type": "stream",
     "text": [
      "land cover classes:\n",
      " [11 21 31 44 51 61 62 70 71 72 73 77 33 12 79 74 42 75]\n"
     ]
    }
   ],
   "source": [
    "lc_classes=training_data2017[class_name].unique() # get class labels\n",
    "print('land cover classes:\\n',lc_classes)\n",
    "n_samples=1000 # number of random samples to optimise number of clusters for kmeans\n",
    "zonal_stats = None\n",
    "scaler = StandardScaler() # standard scaler for input data standardisation\n",
    "frequency_threshold=0.05 # threshold of cluter frequency\n",
    "# fill_nan_value=-999 # value to replace nans in query results\n",
    "measurements = ['blue','green','red','red_edge_1','red_edge_2', 'red_edge_3','nir_1','nir_2','swir_1','swir_2']\n",
    "query = {\n",
    "    'time': ('2021-01', '2021-12'),\n",
    "    'measurements': measurements,\n",
    "    'output_crs': crs,\n",
    "    'resolution': (-10, 10)\n",
    "}\n",
    "# define a function to feature layers\n",
    "def feature_layers(query): \n",
    "    #connect to the datacube\n",
    "    dc = datacube.Datacube(app='feature_layers')\n",
    "    ds = load_ard(dc=dc,\n",
    "                  products=['s2_l2a'],\n",
    "                  group_by='solar_day',\n",
    "                  verbose=False,\n",
    "#                   mask_filters=[(\"opening\", 2)], # morphological opening by 2 pixels to remove small masked regions\n",
    "                  **query)\n",
    "    ds = calculate_indices(ds,\n",
    "                           index=['NDVI'],\n",
    "                           drop=False,\n",
    "                           satellite_mission='s2')\n",
    "    # interpolate nodata using mean of previous and next observation\n",
    "#     ds=ds.interpolate_na(dim='time',method='linear',use_coordinate=False,fill_value='extrapolate')\n",
    "#     ds=ds.interpolate_na(dim='time',method='linear',use_coordinate=False)\n",
    "    # calculate geomedians within each two-month interval\n",
    "    ds=ds.resample(time='2MS').map(xr_geomedian)\n",
    "    # replace nan with a value so that the collect_training_data function will work\n",
    "#     ds=ds.fillna(fill_nan_value)\n",
    "    # stack multi-temporal measurements and rename them\n",
    "    n_time=ds.dims['time']\n",
    "    list_measurements=list(ds.keys())\n",
    "    ds_stacked=None\n",
    "    for j in range(len(list_measurements)):\n",
    "        for k in range(n_time):\n",
    "            variable_name=list_measurements[j]+'_'+str(k)\n",
    "            # print ('Stacking band ',list_measurements[j],' at time ',k)\n",
    "            measure_single=ds[list_measurements[j]].isel(time=k).rename(variable_name)\n",
    "            if ds_stacked is None:\n",
    "                ds_stacked=measure_single\n",
    "            else:\n",
    "                ds_stacked=xr.merge([ds_stacked,measure_single],compat='override')\n",
    "    return ds_stacked"
   ]
  },
  {
   "cell_type": "code",
   "execution_count": null,
   "id": "4fd905a2-2137-4fb0-8c4b-3098c8c96b29",
   "metadata": {
    "tags": []
   },
   "outputs": [
    {
     "name": "stdout",
     "output_type": "stream",
     "text": [
      "Processing class  11\n",
      "stratified random sampling from tile  0\n",
      "Class 11: sampled at 11 coordinates\n",
      "stratified random sampling from tile  1\n",
      "Class 11: sampled at 67 coordinates\n",
      "stratified random sampling from tile  2\n",
      "Class 11: sampled at 92 coordinates\n",
      "stratified random sampling from tile  3\n",
      "Class 11: sampled at 156 coordinates\n",
      "stratified random sampling from tile  4\n",
      "Class 11: sampled at 48 coordinates\n",
      "stratified random sampling from tile  5\n",
      "Class 11: sampled at 134 coordinates\n",
      "stratified random sampling from tile  6\n",
      "Class 11: sampled at 252 coordinates\n",
      "stratified random sampling from tile  7\n",
      "Class 11: sampled at 67 coordinates\n",
      "stratified random sampling from tile  8\n",
      "Class 11: sampled at 103 coordinates\n",
      "stratified random sampling from tile  9\n",
      "Class 11: sampled at 20 coordinates\n",
      "radomly sampled points for class  11 \n",
      "                             geometry  LC_Class_I\n",
      "0     POINT (368539.879 8365205.739)          11\n",
      "1     POINT (388830.519 8362651.267)          11\n",
      "2     POINT (372487.700 8345698.858)          11\n",
      "3     POINT (389091.772 8352230.180)          11\n",
      "4     POINT (420906.567 8404074.362)          11\n",
      "..                               ...         ...\n",
      "945  POINT (1252498.701 8277875.490)          11\n",
      "946  POINT (1209560.004 8255507.288)          11\n",
      "947  POINT (1306017.352 8299005.926)          11\n",
      "948  POINT (1206996.060 8262727.590)          11\n",
      "949  POINT (1200129.405 8175023.017)          11\n",
      "\n",
      "[950 rows x 2 columns]\n",
      "Collecting training data in parallel mode\n"
     ]
    },
    {
     "data": {
      "application/vnd.jupyter.widget-view+json": {
       "model_id": "3adb6bac12a34239a6d7f0d0e5b26641",
       "version_major": 2,
       "version_minor": 0
      },
      "text/plain": [
       "  0%|          | 0/950 [00:00<?, ?it/s]"
      ]
     },
     "metadata": {},
     "output_type": "display_data"
    },
    {
     "name": "stderr",
     "output_type": "stream",
     "text": [
      "/usr/local/lib/python3.8/dist-packages/odc/algo/_geomedian.py:106: RuntimeWarning: Mean of empty slice\n",
      "  data = nangeomedian_pcm(xx_data, **kw)\n"
     ]
    },
    {
     "name": "stdout",
     "output_type": "stream",
     "text": [
      "Percentage of possible fails after run 1 = 0.0 %\n",
      "Removed 0 rows wth NaNs &/or Infs\n",
      "Output shape:  (950, 67)\n",
      "Calinski-Harabasz score for  2  clusters is:  391.7765653104752\n",
      "Calinski-Harabasz score for  3  clusters is:  292.1122840891573\n",
      "Calinski-Harabasz score for  4  clusters is:  265.434145994096\n",
      "Calinski-Harabasz score for  5  clusters is:  231.794589895595\n",
      "Calinski-Harabasz score for  6  clusters is:  206.8545765972111\n",
      "Calinski-Harabasz score for  7  clusters is:  187.70718047034285\n",
      "Calinski-Harabasz score for  8  clusters is:  173.85138187398704\n",
      "Calinski-Harabasz score for  9  clusters is:  161.14536354244004\n",
      "Best number of clusters for class 11: 2\n",
      "Number of training data collected:  171\n",
      "Collecting training data in parallel mode\n"
     ]
    },
    {
     "data": {
      "application/vnd.jupyter.widget-view+json": {
       "model_id": "7b044aac813a419e8e1afa6746e61a38",
       "version_major": 2,
       "version_minor": 0
      },
      "text/plain": [
       "  0%|          | 0/171 [00:00<?, ?it/s]"
      ]
     },
     "metadata": {},
     "output_type": "display_data"
    },
    {
     "name": "stderr",
     "output_type": "stream",
     "text": [
      "/usr/local/lib/python3.8/dist-packages/odc/algo/_geomedian.py:106: RuntimeWarning: Mean of empty slice\n",
      "  data = nangeomedian_pcm(xx_data, **kw)\n",
      "/usr/local/lib/python3.8/dist-packages/odc/algo/_geomedian.py:106: RuntimeWarning: Mean of empty slice\n",
      "  data = nangeomedian_pcm(xx_data, **kw)\n"
     ]
    },
    {
     "name": "stdout",
     "output_type": "stream",
     "text": [
      "Percentage of possible fails after run 1 = 0.0 %\n",
      "Removed 0 rows wth NaNs &/or Infs\n",
      "Output shape:  (171, 69)\n",
      "Number of training data after removing Nans and Infs:  171\n",
      "Number of training data after filtering:  171\n",
      "Processing class  21\n",
      "stratified random sampling from tile  0\n",
      "stratified random sampling from tile  1\n",
      "Class 21: sampled at 297 coordinates\n",
      "stratified random sampling from tile  2\n",
      "Class 21: sampled at 42 coordinates\n",
      "stratified random sampling from tile  3\n",
      "Class 21: sampled at 1 coordinates\n",
      "stratified random sampling from tile  4\n",
      "Class 21: sampled at 452 coordinates\n",
      "stratified random sampling from tile  5\n",
      "Class 21: sampled at 159 coordinates\n",
      "stratified random sampling from tile  6\n",
      "stratified random sampling from tile  7\n",
      "stratified random sampling from tile  8\n",
      "stratified random sampling from tile  9\n",
      "radomly sampled points for class  21 \n",
      "                            geometry  LC_Class_I\n",
      "0    POINT (563282.602 7889069.308)          21\n",
      "1    POINT (479279.172 7916448.419)          21\n",
      "2    POINT (485781.347 7844312.187)          21\n",
      "3    POINT (486860.183 7835564.867)          21\n",
      "4    POINT (519225.267 7891606.031)          21\n",
      "..                              ...         ...\n",
      "946  POINT (938573.431 8285143.145)          21\n",
      "947  POINT (917632.382 8263289.055)          21\n",
      "948  POINT (710548.678 7871800.420)          21\n",
      "949  POINT (920018.071 8263642.490)          21\n",
      "950  POINT (932447.217 8284023.933)          21\n",
      "\n",
      "[951 rows x 2 columns]\n",
      "Collecting training data in parallel mode\n"
     ]
    },
    {
     "data": {
      "application/vnd.jupyter.widget-view+json": {
       "model_id": "c8f966eee89641d6afd71ec9c4850851",
       "version_major": 2,
       "version_minor": 0
      },
      "text/plain": [
       "  0%|          | 0/951 [00:00<?, ?it/s]"
      ]
     },
     "metadata": {},
     "output_type": "display_data"
    },
    {
     "name": "stderr",
     "output_type": "stream",
     "text": [
      "/usr/local/lib/python3.8/dist-packages/odc/algo/_geomedian.py:106: RuntimeWarning: Mean of empty slice\n",
      "  data = nangeomedian_pcm(xx_data, **kw)\n",
      "/usr/local/lib/python3.8/dist-packages/odc/algo/_geomedian.py:106: RuntimeWarning: Mean of empty slice\n",
      "  data = nangeomedian_pcm(xx_data, **kw)\n",
      "/usr/local/lib/python3.8/dist-packages/odc/algo/_geomedian.py:106: RuntimeWarning: Mean of empty slice\n",
      "  data = nangeomedian_pcm(xx_data, **kw)\n",
      "/usr/local/lib/python3.8/dist-packages/odc/algo/_geomedian.py:106: RuntimeWarning: Mean of empty slice\n",
      "  data = nangeomedian_pcm(xx_data, **kw)\n",
      "/usr/local/lib/python3.8/dist-packages/odc/algo/_geomedian.py:106: RuntimeWarning: Mean of empty slice\n",
      "  data = nangeomedian_pcm(xx_data, **kw)\n",
      "/usr/local/lib/python3.8/dist-packages/odc/algo/_geomedian.py:106: RuntimeWarning: Mean of empty slice\n",
      "  data = nangeomedian_pcm(xx_data, **kw)\n",
      "/usr/local/lib/python3.8/dist-packages/odc/algo/_geomedian.py:106: RuntimeWarning: Mean of empty slice\n",
      "  data = nangeomedian_pcm(xx_data, **kw)\n",
      "/usr/local/lib/python3.8/dist-packages/odc/algo/_geomedian.py:106: RuntimeWarning: Mean of empty slice\n",
      "  data = nangeomedian_pcm(xx_data, **kw)\n",
      "/usr/local/lib/python3.8/dist-packages/odc/algo/_geomedian.py:106: RuntimeWarning: Mean of empty slice\n",
      "  data = nangeomedian_pcm(xx_data, **kw)\n",
      "/usr/local/lib/python3.8/dist-packages/odc/algo/_geomedian.py:106: RuntimeWarning: Mean of empty slice\n",
      "  data = nangeomedian_pcm(xx_data, **kw)\n",
      "/usr/local/lib/python3.8/dist-packages/odc/algo/_geomedian.py:106: RuntimeWarning: Mean of empty slice\n",
      "  data = nangeomedian_pcm(xx_data, **kw)\n",
      "/usr/local/lib/python3.8/dist-packages/odc/algo/_geomedian.py:106: RuntimeWarning: Mean of empty slice\n",
      "  data = nangeomedian_pcm(xx_data, **kw)\n",
      "/usr/local/lib/python3.8/dist-packages/odc/algo/_geomedian.py:106: RuntimeWarning: Mean of empty slice\n",
      "  data = nangeomedian_pcm(xx_data, **kw)\n",
      "/usr/local/lib/python3.8/dist-packages/odc/algo/_geomedian.py:106: RuntimeWarning: Mean of empty slice\n",
      "  data = nangeomedian_pcm(xx_data, **kw)\n",
      "/usr/local/lib/python3.8/dist-packages/odc/algo/_geomedian.py:106: RuntimeWarning: Mean of empty slice\n",
      "  data = nangeomedian_pcm(xx_data, **kw)\n",
      "/usr/local/lib/python3.8/dist-packages/odc/algo/_geomedian.py:106: RuntimeWarning: Mean of empty slice\n",
      "  data = nangeomedian_pcm(xx_data, **kw)\n",
      "/usr/local/lib/python3.8/dist-packages/odc/algo/_geomedian.py:106: RuntimeWarning: Mean of empty slice\n",
      "  data = nangeomedian_pcm(xx_data, **kw)\n",
      "/usr/local/lib/python3.8/dist-packages/odc/algo/_geomedian.py:106: RuntimeWarning: Mean of empty slice\n",
      "  data = nangeomedian_pcm(xx_data, **kw)\n",
      "/usr/local/lib/python3.8/dist-packages/odc/algo/_geomedian.py:106: RuntimeWarning: Mean of empty slice\n",
      "  data = nangeomedian_pcm(xx_data, **kw)\n",
      "/usr/local/lib/python3.8/dist-packages/odc/algo/_geomedian.py:106: RuntimeWarning: Mean of empty slice\n",
      "  data = nangeomedian_pcm(xx_data, **kw)\n",
      "/usr/local/lib/python3.8/dist-packages/odc/algo/_geomedian.py:106: RuntimeWarning: Mean of empty slice\n",
      "  data = nangeomedian_pcm(xx_data, **kw)\n",
      "/usr/local/lib/python3.8/dist-packages/odc/algo/_geomedian.py:106: RuntimeWarning: Mean of empty slice\n",
      "  data = nangeomedian_pcm(xx_data, **kw)\n",
      "/usr/local/lib/python3.8/dist-packages/odc/algo/_geomedian.py:106: RuntimeWarning: Mean of empty slice\n",
      "  data = nangeomedian_pcm(xx_data, **kw)\n",
      "/usr/local/lib/python3.8/dist-packages/odc/algo/_geomedian.py:106: RuntimeWarning: Mean of empty slice\n",
      "  data = nangeomedian_pcm(xx_data, **kw)\n",
      "/usr/local/lib/python3.8/dist-packages/odc/algo/_geomedian.py:106: RuntimeWarning: Mean of empty slice\n",
      "  data = nangeomedian_pcm(xx_data, **kw)\n",
      "/usr/local/lib/python3.8/dist-packages/odc/algo/_geomedian.py:106: RuntimeWarning: Mean of empty slice\n",
      "  data = nangeomedian_pcm(xx_data, **kw)\n",
      "/usr/local/lib/python3.8/dist-packages/odc/algo/_geomedian.py:106: RuntimeWarning: Mean of empty slice\n",
      "  data = nangeomedian_pcm(xx_data, **kw)\n",
      "/usr/local/lib/python3.8/dist-packages/odc/algo/_geomedian.py:106: RuntimeWarning: Mean of empty slice\n",
      "  data = nangeomedian_pcm(xx_data, **kw)\n",
      "/usr/local/lib/python3.8/dist-packages/odc/algo/_geomedian.py:106: RuntimeWarning: Mean of empty slice\n",
      "  data = nangeomedian_pcm(xx_data, **kw)\n",
      "/usr/local/lib/python3.8/dist-packages/odc/algo/_geomedian.py:106: RuntimeWarning: Mean of empty slice\n",
      "  data = nangeomedian_pcm(xx_data, **kw)\n",
      "/usr/local/lib/python3.8/dist-packages/odc/algo/_geomedian.py:106: RuntimeWarning: Mean of empty slice\n",
      "  data = nangeomedian_pcm(xx_data, **kw)\n",
      "/usr/local/lib/python3.8/dist-packages/odc/algo/_geomedian.py:106: RuntimeWarning: Mean of empty slice\n",
      "  data = nangeomedian_pcm(xx_data, **kw)\n",
      "/usr/local/lib/python3.8/dist-packages/odc/algo/_geomedian.py:106: RuntimeWarning: Mean of empty slice\n",
      "  data = nangeomedian_pcm(xx_data, **kw)\n",
      "/usr/local/lib/python3.8/dist-packages/odc/algo/_geomedian.py:106: RuntimeWarning: Mean of empty slice\n",
      "  data = nangeomedian_pcm(xx_data, **kw)\n",
      "/usr/local/lib/python3.8/dist-packages/odc/algo/_geomedian.py:106: RuntimeWarning: Mean of empty slice\n",
      "  data = nangeomedian_pcm(xx_data, **kw)\n",
      "/usr/local/lib/python3.8/dist-packages/odc/algo/_geomedian.py:106: RuntimeWarning: Mean of empty slice\n",
      "  data = nangeomedian_pcm(xx_data, **kw)\n",
      "/usr/local/lib/python3.8/dist-packages/odc/algo/_geomedian.py:106: RuntimeWarning: Mean of empty slice\n",
      "  data = nangeomedian_pcm(xx_data, **kw)\n",
      "/usr/local/lib/python3.8/dist-packages/odc/algo/_geomedian.py:106: RuntimeWarning: Mean of empty slice\n",
      "  data = nangeomedian_pcm(xx_data, **kw)\n",
      "/usr/local/lib/python3.8/dist-packages/odc/algo/_geomedian.py:106: RuntimeWarning: Mean of empty slice\n",
      "  data = nangeomedian_pcm(xx_data, **kw)\n",
      "/usr/local/lib/python3.8/dist-packages/odc/algo/_geomedian.py:106: RuntimeWarning: Mean of empty slice\n",
      "  data = nangeomedian_pcm(xx_data, **kw)\n",
      "/usr/local/lib/python3.8/dist-packages/odc/algo/_geomedian.py:106: RuntimeWarning: Mean of empty slice\n",
      "  data = nangeomedian_pcm(xx_data, **kw)\n",
      "/usr/local/lib/python3.8/dist-packages/odc/algo/_geomedian.py:106: RuntimeWarning: Mean of empty slice\n",
      "  data = nangeomedian_pcm(xx_data, **kw)\n",
      "/usr/local/lib/python3.8/dist-packages/odc/algo/_geomedian.py:106: RuntimeWarning: Mean of empty slice\n",
      "  data = nangeomedian_pcm(xx_data, **kw)\n",
      "/usr/local/lib/python3.8/dist-packages/odc/algo/_geomedian.py:106: RuntimeWarning: Mean of empty slice\n",
      "  data = nangeomedian_pcm(xx_data, **kw)\n",
      "/usr/local/lib/python3.8/dist-packages/odc/algo/_geomedian.py:106: RuntimeWarning: Mean of empty slice\n",
      "  data = nangeomedian_pcm(xx_data, **kw)\n",
      "/usr/local/lib/python3.8/dist-packages/odc/algo/_geomedian.py:106: RuntimeWarning: Mean of empty slice\n",
      "  data = nangeomedian_pcm(xx_data, **kw)\n",
      "/usr/local/lib/python3.8/dist-packages/odc/algo/_geomedian.py:106: RuntimeWarning: Mean of empty slice\n",
      "  data = nangeomedian_pcm(xx_data, **kw)\n",
      "/usr/local/lib/python3.8/dist-packages/odc/algo/_geomedian.py:106: RuntimeWarning: Mean of empty slice\n",
      "  data = nangeomedian_pcm(xx_data, **kw)\n",
      "/usr/local/lib/python3.8/dist-packages/odc/algo/_geomedian.py:106: RuntimeWarning: Mean of empty slice\n",
      "  data = nangeomedian_pcm(xx_data, **kw)\n",
      "/usr/local/lib/python3.8/dist-packages/odc/algo/_geomedian.py:106: RuntimeWarning: Mean of empty slice\n",
      "  data = nangeomedian_pcm(xx_data, **kw)\n",
      "/usr/local/lib/python3.8/dist-packages/odc/algo/_geomedian.py:106: RuntimeWarning: Mean of empty slice\n",
      "  data = nangeomedian_pcm(xx_data, **kw)\n",
      "/usr/local/lib/python3.8/dist-packages/odc/algo/_geomedian.py:106: RuntimeWarning: Mean of empty slice\n",
      "  data = nangeomedian_pcm(xx_data, **kw)\n",
      "/usr/local/lib/python3.8/dist-packages/odc/algo/_geomedian.py:106: RuntimeWarning: Mean of empty slice\n",
      "  data = nangeomedian_pcm(xx_data, **kw)\n",
      "/usr/local/lib/python3.8/dist-packages/odc/algo/_geomedian.py:106: RuntimeWarning: Mean of empty slice\n",
      "  data = nangeomedian_pcm(xx_data, **kw)\n",
      "/usr/local/lib/python3.8/dist-packages/odc/algo/_geomedian.py:106: RuntimeWarning: Mean of empty slice\n",
      "  data = nangeomedian_pcm(xx_data, **kw)\n",
      "/usr/local/lib/python3.8/dist-packages/odc/algo/_geomedian.py:106: RuntimeWarning: Mean of empty slice\n",
      "  data = nangeomedian_pcm(xx_data, **kw)\n",
      "/usr/local/lib/python3.8/dist-packages/odc/algo/_geomedian.py:106: RuntimeWarning: Mean of empty slice\n",
      "  data = nangeomedian_pcm(xx_data, **kw)\n",
      "/usr/local/lib/python3.8/dist-packages/odc/algo/_geomedian.py:106: RuntimeWarning: Mean of empty slice\n",
      "  data = nangeomedian_pcm(xx_data, **kw)\n",
      "/usr/local/lib/python3.8/dist-packages/odc/algo/_geomedian.py:106: RuntimeWarning: Mean of empty slice\n",
      "  data = nangeomedian_pcm(xx_data, **kw)\n",
      "/usr/local/lib/python3.8/dist-packages/odc/algo/_geomedian.py:106: RuntimeWarning: Mean of empty slice\n",
      "  data = nangeomedian_pcm(xx_data, **kw)\n",
      "/usr/local/lib/python3.8/dist-packages/odc/algo/_geomedian.py:106: RuntimeWarning: Mean of empty slice\n",
      "  data = nangeomedian_pcm(xx_data, **kw)\n",
      "/usr/local/lib/python3.8/dist-packages/odc/algo/_geomedian.py:106: RuntimeWarning: Mean of empty slice\n",
      "  data = nangeomedian_pcm(xx_data, **kw)\n",
      "/usr/local/lib/python3.8/dist-packages/odc/algo/_geomedian.py:106: RuntimeWarning: Mean of empty slice\n",
      "  data = nangeomedian_pcm(xx_data, **kw)\n",
      "/usr/local/lib/python3.8/dist-packages/odc/algo/_geomedian.py:106: RuntimeWarning: Mean of empty slice\n",
      "  data = nangeomedian_pcm(xx_data, **kw)\n",
      "/usr/local/lib/python3.8/dist-packages/odc/algo/_geomedian.py:106: RuntimeWarning: Mean of empty slice\n",
      "  data = nangeomedian_pcm(xx_data, **kw)\n",
      "/usr/local/lib/python3.8/dist-packages/odc/algo/_geomedian.py:106: RuntimeWarning: Mean of empty slice\n",
      "  data = nangeomedian_pcm(xx_data, **kw)\n",
      "/usr/local/lib/python3.8/dist-packages/odc/algo/_geomedian.py:106: RuntimeWarning: Mean of empty slice\n",
      "  data = nangeomedian_pcm(xx_data, **kw)\n",
      "/usr/local/lib/python3.8/dist-packages/odc/algo/_geomedian.py:106: RuntimeWarning: Mean of empty slice\n",
      "  data = nangeomedian_pcm(xx_data, **kw)\n",
      "/usr/local/lib/python3.8/dist-packages/odc/algo/_geomedian.py:106: RuntimeWarning: Mean of empty slice\n",
      "  data = nangeomedian_pcm(xx_data, **kw)\n",
      "/usr/local/lib/python3.8/dist-packages/odc/algo/_geomedian.py:106: RuntimeWarning: Mean of empty slice\n",
      "  data = nangeomedian_pcm(xx_data, **kw)\n",
      "/usr/local/lib/python3.8/dist-packages/odc/algo/_geomedian.py:106: RuntimeWarning: Mean of empty slice\n",
      "  data = nangeomedian_pcm(xx_data, **kw)\n",
      "/usr/local/lib/python3.8/dist-packages/odc/algo/_geomedian.py:106: RuntimeWarning: Mean of empty slice\n",
      "  data = nangeomedian_pcm(xx_data, **kw)\n",
      "/usr/local/lib/python3.8/dist-packages/odc/algo/_geomedian.py:106: RuntimeWarning: Mean of empty slice\n",
      "  data = nangeomedian_pcm(xx_data, **kw)\n",
      "/usr/local/lib/python3.8/dist-packages/odc/algo/_geomedian.py:106: RuntimeWarning: Mean of empty slice\n",
      "  data = nangeomedian_pcm(xx_data, **kw)\n",
      "/usr/local/lib/python3.8/dist-packages/odc/algo/_geomedian.py:106: RuntimeWarning: Mean of empty slice\n",
      "  data = nangeomedian_pcm(xx_data, **kw)\n",
      "/usr/local/lib/python3.8/dist-packages/odc/algo/_geomedian.py:106: RuntimeWarning: Mean of empty slice\n",
      "  data = nangeomedian_pcm(xx_data, **kw)\n",
      "/usr/local/lib/python3.8/dist-packages/odc/algo/_geomedian.py:106: RuntimeWarning: Mean of empty slice\n",
      "  data = nangeomedian_pcm(xx_data, **kw)\n",
      "/usr/local/lib/python3.8/dist-packages/odc/algo/_geomedian.py:106: RuntimeWarning: Mean of empty slice\n",
      "  data = nangeomedian_pcm(xx_data, **kw)\n",
      "/usr/local/lib/python3.8/dist-packages/odc/algo/_geomedian.py:106: RuntimeWarning: Mean of empty slice\n",
      "  data = nangeomedian_pcm(xx_data, **kw)\n",
      "/usr/local/lib/python3.8/dist-packages/odc/algo/_geomedian.py:106: RuntimeWarning: Mean of empty slice\n",
      "  data = nangeomedian_pcm(xx_data, **kw)\n"
     ]
    },
    {
     "name": "stdout",
     "output_type": "stream",
     "text": [
      "Percentage of possible fails after run 1 = 0.0 %\n",
      "Removed 0 rows wth NaNs &/or Infs\n",
      "Output shape:  (951, 67)\n",
      "Calinski-Harabasz score for  2  clusters is:  422.4430433621877\n",
      "Calinski-Harabasz score for  3  clusters is:  324.26643381835135\n",
      "Calinski-Harabasz score for  4  clusters is:  258.77212769026323\n",
      "Calinski-Harabasz score for  5  clusters is:  224.58334178364015\n",
      "Calinski-Harabasz score for  6  clusters is:  196.40903717053035\n",
      "Calinski-Harabasz score for  7  clusters is:  179.49160842363798\n",
      "Calinski-Harabasz score for  8  clusters is:  166.79796373707924\n",
      "Calinski-Harabasz score for  9  clusters is:  158.87797897011012\n",
      "Best number of clusters for class 21: 2\n",
      "Number of training data collected:  104\n",
      "Collecting training data in parallel mode\n"
     ]
    },
    {
     "data": {
      "application/vnd.jupyter.widget-view+json": {
       "model_id": "cfc05350c6704360a039f0e3683f4d2c",
       "version_major": 2,
       "version_minor": 0
      },
      "text/plain": [
       "  0%|          | 0/104 [00:00<?, ?it/s]"
      ]
     },
     "metadata": {},
     "output_type": "display_data"
    },
    {
     "name": "stderr",
     "output_type": "stream",
     "text": [
      "/usr/local/lib/python3.8/dist-packages/odc/algo/_geomedian.py:106: RuntimeWarning: Mean of empty slice\n",
      "  data = nangeomedian_pcm(xx_data, **kw)\n",
      "/usr/local/lib/python3.8/dist-packages/odc/algo/_geomedian.py:106: RuntimeWarning: Mean of empty slice\n",
      "  data = nangeomedian_pcm(xx_data, **kw)\n",
      "/usr/local/lib/python3.8/dist-packages/odc/algo/_geomedian.py:106: RuntimeWarning: Mean of empty slice\n",
      "  data = nangeomedian_pcm(xx_data, **kw)\n",
      "/usr/local/lib/python3.8/dist-packages/odc/algo/_geomedian.py:106: RuntimeWarning: Mean of empty slice\n",
      "  data = nangeomedian_pcm(xx_data, **kw)\n",
      "/usr/local/lib/python3.8/dist-packages/odc/algo/_geomedian.py:106: RuntimeWarning: Mean of empty slice\n",
      "  data = nangeomedian_pcm(xx_data, **kw)\n",
      "/usr/local/lib/python3.8/dist-packages/odc/algo/_geomedian.py:106: RuntimeWarning: Mean of empty slice\n",
      "  data = nangeomedian_pcm(xx_data, **kw)\n",
      "/usr/local/lib/python3.8/dist-packages/odc/algo/_geomedian.py:106: RuntimeWarning: Mean of empty slice\n",
      "  data = nangeomedian_pcm(xx_data, **kw)\n",
      "/usr/local/lib/python3.8/dist-packages/odc/algo/_geomedian.py:106: RuntimeWarning: Mean of empty slice\n",
      "  data = nangeomedian_pcm(xx_data, **kw)\n",
      "/usr/local/lib/python3.8/dist-packages/odc/algo/_geomedian.py:106: RuntimeWarning: Mean of empty slice\n",
      "  data = nangeomedian_pcm(xx_data, **kw)\n"
     ]
    },
    {
     "name": "stdout",
     "output_type": "stream",
     "text": [
      "Percentage of possible fails after run 1 = 0.0 %\n",
      "Removed 0 rows wth NaNs &/or Infs\n",
      "Output shape:  (104, 69)\n",
      "Number of training data after removing Nans and Infs:  104\n",
      "Number of training data after filtering:  104\n",
      "Processing class  31\n",
      "stratified random sampling from tile  0\n",
      "Class 31: sampled at 31 coordinates\n",
      "stratified random sampling from tile  1\n",
      "Class 31: sampled at 260 coordinates\n",
      "stratified random sampling from tile  2\n",
      "Class 31: sampled at 85 coordinates\n",
      "stratified random sampling from tile  3\n",
      "Class 31: sampled at 52 coordinates\n",
      "stratified random sampling from tile  4\n",
      "Class 31: sampled at 329 coordinates\n",
      "stratified random sampling from tile  5\n",
      "Class 31: sampled at 151 coordinates\n",
      "stratified random sampling from tile  6\n",
      "Class 31: sampled at 2 coordinates\n",
      "stratified random sampling from tile  7\n",
      "Class 31: sampled at 0 coordinates\n",
      "stratified random sampling from tile  8\n",
      "Class 31: sampled at 36 coordinates\n",
      "stratified random sampling from tile  9\n",
      "Class 31: sampled at 6 coordinates\n",
      "radomly sampled points for class  31 \n",
      "                             geometry  LC_Class_I\n",
      "0     POINT (604451.228 8366134.639)          31\n",
      "1     POINT (419164.881 8385177.071)          31\n",
      "2     POINT (365869.294 8370285.656)          31\n",
      "3     POINT (416262.071 8389095.864)          31\n",
      "4     POINT (432401.694 8404335.615)          31\n",
      "..                               ...         ...\n",
      "947  POINT (1220139.958 8201045.577)          31\n",
      "948  POINT (1220081.016 8313358.120)          31\n",
      "949  POINT (1208057.002 8308966.997)          31\n",
      "950  POINT (1222998.608 8191821.272)          31\n",
      "951  POINT (1205581.470 8181477.084)          31\n",
      "\n",
      "[952 rows x 2 columns]\n",
      "Collecting training data in parallel mode\n"
     ]
    },
    {
     "data": {
      "application/vnd.jupyter.widget-view+json": {
       "model_id": "0c733325e18c4306928402472d0c6806",
       "version_major": 2,
       "version_minor": 0
      },
      "text/plain": [
       "  0%|          | 0/952 [00:00<?, ?it/s]"
      ]
     },
     "metadata": {},
     "output_type": "display_data"
    },
    {
     "name": "stderr",
     "output_type": "stream",
     "text": [
      "/usr/local/lib/python3.8/dist-packages/odc/algo/_geomedian.py:106: RuntimeWarning: Mean of empty slice\n",
      "  data = nangeomedian_pcm(xx_data, **kw)\n",
      "/usr/local/lib/python3.8/dist-packages/odc/algo/_geomedian.py:106: RuntimeWarning: Mean of empty slice\n",
      "  data = nangeomedian_pcm(xx_data, **kw)\n",
      "/usr/local/lib/python3.8/dist-packages/odc/algo/_geomedian.py:106: RuntimeWarning: Mean of empty slice\n",
      "  data = nangeomedian_pcm(xx_data, **kw)\n",
      "/usr/local/lib/python3.8/dist-packages/odc/algo/_geomedian.py:106: RuntimeWarning: Mean of empty slice\n",
      "  data = nangeomedian_pcm(xx_data, **kw)\n",
      "/usr/local/lib/python3.8/dist-packages/odc/algo/_geomedian.py:106: RuntimeWarning: Mean of empty slice\n",
      "  data = nangeomedian_pcm(xx_data, **kw)\n",
      "/usr/local/lib/python3.8/dist-packages/odc/algo/_geomedian.py:106: RuntimeWarning: Mean of empty slice\n",
      "  data = nangeomedian_pcm(xx_data, **kw)\n",
      "/usr/local/lib/python3.8/dist-packages/odc/algo/_geomedian.py:106: RuntimeWarning: Mean of empty slice\n",
      "  data = nangeomedian_pcm(xx_data, **kw)\n",
      "/usr/local/lib/python3.8/dist-packages/odc/algo/_geomedian.py:106: RuntimeWarning: Mean of empty slice\n",
      "  data = nangeomedian_pcm(xx_data, **kw)\n",
      "/usr/local/lib/python3.8/dist-packages/odc/algo/_geomedian.py:106: RuntimeWarning: Mean of empty slice\n",
      "  data = nangeomedian_pcm(xx_data, **kw)\n",
      "/usr/local/lib/python3.8/dist-packages/odc/algo/_geomedian.py:106: RuntimeWarning: Mean of empty slice\n",
      "  data = nangeomedian_pcm(xx_data, **kw)\n",
      "/usr/local/lib/python3.8/dist-packages/odc/algo/_geomedian.py:106: RuntimeWarning: Mean of empty slice\n",
      "  data = nangeomedian_pcm(xx_data, **kw)\n",
      "/usr/local/lib/python3.8/dist-packages/odc/algo/_geomedian.py:106: RuntimeWarning: Mean of empty slice\n",
      "  data = nangeomedian_pcm(xx_data, **kw)\n",
      "/usr/local/lib/python3.8/dist-packages/odc/algo/_geomedian.py:106: RuntimeWarning: Mean of empty slice\n",
      "  data = nangeomedian_pcm(xx_data, **kw)\n",
      "/usr/local/lib/python3.8/dist-packages/odc/algo/_geomedian.py:106: RuntimeWarning: Mean of empty slice\n",
      "  data = nangeomedian_pcm(xx_data, **kw)\n",
      "/usr/local/lib/python3.8/dist-packages/odc/algo/_geomedian.py:106: RuntimeWarning: Mean of empty slice\n",
      "  data = nangeomedian_pcm(xx_data, **kw)\n",
      "/usr/local/lib/python3.8/dist-packages/odc/algo/_geomedian.py:106: RuntimeWarning: Mean of empty slice\n",
      "  data = nangeomedian_pcm(xx_data, **kw)\n",
      "/usr/local/lib/python3.8/dist-packages/odc/algo/_geomedian.py:106: RuntimeWarning: Mean of empty slice\n",
      "  data = nangeomedian_pcm(xx_data, **kw)\n",
      "/usr/local/lib/python3.8/dist-packages/odc/algo/_geomedian.py:106: RuntimeWarning: Mean of empty slice\n",
      "  data = nangeomedian_pcm(xx_data, **kw)\n",
      "/usr/local/lib/python3.8/dist-packages/odc/algo/_geomedian.py:106: RuntimeWarning: Mean of empty slice\n",
      "  data = nangeomedian_pcm(xx_data, **kw)\n"
     ]
    },
    {
     "name": "stdout",
     "output_type": "stream",
     "text": [
      "Percentage of possible fails after run 1 = 0.0 %\n",
      "Removed 0 rows wth NaNs &/or Infs\n",
      "Output shape:  (952, 67)\n",
      "Calinski-Harabasz score for  2  clusters is:  218.62463152685064\n",
      "Calinski-Harabasz score for  3  clusters is:  170.89617088152687\n",
      "Calinski-Harabasz score for  4  clusters is:  143.35016641329577\n",
      "Calinski-Harabasz score for  5  clusters is:  124.31932421569387\n",
      "Calinski-Harabasz score for  6  clusters is:  120.92961626431588\n",
      "Calinski-Harabasz score for  7  clusters is:  116.0610782732956\n",
      "Calinski-Harabasz score for  8  clusters is:  110.30243088143557\n",
      "Calinski-Harabasz score for  9  clusters is:  102.5226702746347\n",
      "Best number of clusters for class 31: 2\n",
      "Number of training data collected:  135\n",
      "Collecting training data in parallel mode\n"
     ]
    },
    {
     "data": {
      "application/vnd.jupyter.widget-view+json": {
       "model_id": "b4fb8380b11d4047bff61a89b11964f6",
       "version_major": 2,
       "version_minor": 0
      },
      "text/plain": [
       "  0%|          | 0/135 [00:00<?, ?it/s]"
      ]
     },
     "metadata": {},
     "output_type": "display_data"
    },
    {
     "name": "stderr",
     "output_type": "stream",
     "text": [
      "/usr/local/lib/python3.8/dist-packages/odc/algo/_geomedian.py:106: RuntimeWarning: Mean of empty slice\n",
      "  data = nangeomedian_pcm(xx_data, **kw)\n",
      "/usr/local/lib/python3.8/dist-packages/odc/algo/_geomedian.py:106: RuntimeWarning: Mean of empty slice\n",
      "  data = nangeomedian_pcm(xx_data, **kw)\n"
     ]
    },
    {
     "name": "stdout",
     "output_type": "stream",
     "text": [
      "Percentage of possible fails after run 1 = 0.0 %\n",
      "Removed 0 rows wth NaNs &/or Infs\n",
      "Output shape:  (135, 69)\n",
      "Number of training data after removing Nans and Infs:  135\n",
      "Number of training data after filtering:  135\n",
      "Processing class  44\n",
      "stratified random sampling from tile  0\n",
      "Class 44: sampled at 403 coordinates\n",
      "stratified random sampling from tile  1\n",
      "Class 44: sampled at 209 coordinates\n",
      "stratified random sampling from tile  2\n",
      "Class 44: sampled at 79 coordinates\n",
      "stratified random sampling from tile  3\n",
      "Class 44: sampled at 58 coordinates\n",
      "stratified random sampling from tile  4\n",
      "Class 44: sampled at 74 coordinates\n",
      "stratified random sampling from tile  5\n",
      "Class 44: sampled at 76 coordinates\n",
      "stratified random sampling from tile  6\n",
      "Class 44: sampled at 15 coordinates\n",
      "stratified random sampling from tile  7\n",
      "Class 44: sampled at 12 coordinates\n",
      "stratified random sampling from tile  8\n",
      "Class 44: sampled at 24 coordinates\n",
      "stratified random sampling from tile  9\n",
      "Class 44: sampled at 9 coordinates\n",
      "radomly sampled points for class  44 \n",
      "                             geometry  LC_Class_I\n",
      "0     POINT (679372.748 8621727.037)          44\n",
      "1     POINT (680853.181 8594034.232)          44\n",
      "2     POINT (674002.550 8514294.048)          44\n",
      "3     POINT (679866.225 8699086.917)          44\n",
      "4     POINT (692986.925 8589157.512)          44\n",
      "..                               ...         ...\n",
      "954  POINT (1313709.184 8276932.430)          44\n",
      "955  POINT (1254650.056 8202342.284)          44\n",
      "956  POINT (1301744.111 8263110.708)          44\n",
      "957  POINT (1324996.432 8306638.818)          44\n",
      "958  POINT (1304278.585 8267089.242)          44\n",
      "\n",
      "[959 rows x 2 columns]\n",
      "Collecting training data in parallel mode\n"
     ]
    },
    {
     "data": {
      "application/vnd.jupyter.widget-view+json": {
       "model_id": "5a17e1d5776d4258bc674707b81ea634",
       "version_major": 2,
       "version_minor": 0
      },
      "text/plain": [
       "  0%|          | 0/959 [00:00<?, ?it/s]"
      ]
     },
     "metadata": {},
     "output_type": "display_data"
    },
    {
     "name": "stderr",
     "output_type": "stream",
     "text": [
      "/usr/local/lib/python3.8/dist-packages/odc/algo/_geomedian.py:106: RuntimeWarning: Mean of empty slice\n",
      "  data = nangeomedian_pcm(xx_data, **kw)\n",
      "/usr/local/lib/python3.8/dist-packages/odc/algo/_geomedian.py:106: RuntimeWarning: Mean of empty slice\n",
      "  data = nangeomedian_pcm(xx_data, **kw)\n",
      "/usr/local/lib/python3.8/dist-packages/odc/algo/_geomedian.py:106: RuntimeWarning: Mean of empty slice\n",
      "  data = nangeomedian_pcm(xx_data, **kw)\n",
      "/usr/local/lib/python3.8/dist-packages/odc/algo/_geomedian.py:106: RuntimeWarning: Mean of empty slice\n",
      "  data = nangeomedian_pcm(xx_data, **kw)\n",
      "/usr/local/lib/python3.8/dist-packages/odc/algo/_geomedian.py:106: RuntimeWarning: Mean of empty slice\n",
      "  data = nangeomedian_pcm(xx_data, **kw)\n",
      "/usr/local/lib/python3.8/dist-packages/odc/algo/_geomedian.py:106: RuntimeWarning: Mean of empty slice\n",
      "  data = nangeomedian_pcm(xx_data, **kw)\n",
      "/usr/local/lib/python3.8/dist-packages/odc/algo/_geomedian.py:106: RuntimeWarning: Mean of empty slice\n",
      "  data = nangeomedian_pcm(xx_data, **kw)\n",
      "/usr/local/lib/python3.8/dist-packages/odc/algo/_geomedian.py:106: RuntimeWarning: Mean of empty slice\n",
      "  data = nangeomedian_pcm(xx_data, **kw)\n",
      "/usr/local/lib/python3.8/dist-packages/odc/algo/_geomedian.py:106: RuntimeWarning: Mean of empty slice\n",
      "  data = nangeomedian_pcm(xx_data, **kw)\n",
      "/usr/local/lib/python3.8/dist-packages/odc/algo/_geomedian.py:106: RuntimeWarning: Mean of empty slice\n",
      "  data = nangeomedian_pcm(xx_data, **kw)\n",
      "/usr/local/lib/python3.8/dist-packages/odc/algo/_geomedian.py:106: RuntimeWarning: Mean of empty slice\n",
      "  data = nangeomedian_pcm(xx_data, **kw)\n",
      "/usr/local/lib/python3.8/dist-packages/odc/algo/_geomedian.py:106: RuntimeWarning: Mean of empty slice\n",
      "  data = nangeomedian_pcm(xx_data, **kw)\n",
      "/usr/local/lib/python3.8/dist-packages/odc/algo/_geomedian.py:106: RuntimeWarning: Mean of empty slice\n",
      "  data = nangeomedian_pcm(xx_data, **kw)\n",
      "/usr/local/lib/python3.8/dist-packages/odc/algo/_geomedian.py:106: RuntimeWarning: Mean of empty slice\n",
      "  data = nangeomedian_pcm(xx_data, **kw)\n",
      "/usr/local/lib/python3.8/dist-packages/odc/algo/_geomedian.py:106: RuntimeWarning: Mean of empty slice\n",
      "  data = nangeomedian_pcm(xx_data, **kw)\n",
      "/usr/local/lib/python3.8/dist-packages/odc/algo/_geomedian.py:106: RuntimeWarning: Mean of empty slice\n",
      "  data = nangeomedian_pcm(xx_data, **kw)\n",
      "/usr/local/lib/python3.8/dist-packages/odc/algo/_geomedian.py:106: RuntimeWarning: Mean of empty slice\n",
      "  data = nangeomedian_pcm(xx_data, **kw)\n",
      "/usr/local/lib/python3.8/dist-packages/odc/algo/_geomedian.py:106: RuntimeWarning: Mean of empty slice\n",
      "  data = nangeomedian_pcm(xx_data, **kw)\n",
      "/usr/local/lib/python3.8/dist-packages/odc/algo/_geomedian.py:106: RuntimeWarning: Mean of empty slice\n",
      "  data = nangeomedian_pcm(xx_data, **kw)\n",
      "/usr/local/lib/python3.8/dist-packages/odc/algo/_geomedian.py:106: RuntimeWarning: Mean of empty slice\n",
      "  data = nangeomedian_pcm(xx_data, **kw)\n",
      "/usr/local/lib/python3.8/dist-packages/odc/algo/_geomedian.py:106: RuntimeWarning: Mean of empty slice\n",
      "  data = nangeomedian_pcm(xx_data, **kw)\n",
      "/usr/local/lib/python3.8/dist-packages/odc/algo/_geomedian.py:106: RuntimeWarning: Mean of empty slice\n",
      "  data = nangeomedian_pcm(xx_data, **kw)\n",
      "/usr/local/lib/python3.8/dist-packages/odc/algo/_geomedian.py:106: RuntimeWarning: Mean of empty slice\n",
      "  data = nangeomedian_pcm(xx_data, **kw)\n",
      "/usr/local/lib/python3.8/dist-packages/odc/algo/_geomedian.py:106: RuntimeWarning: Mean of empty slice\n",
      "  data = nangeomedian_pcm(xx_data, **kw)\n",
      "/usr/local/lib/python3.8/dist-packages/odc/algo/_geomedian.py:106: RuntimeWarning: Mean of empty slice\n",
      "  data = nangeomedian_pcm(xx_data, **kw)\n",
      "/usr/local/lib/python3.8/dist-packages/odc/algo/_geomedian.py:106: RuntimeWarning: Mean of empty slice\n",
      "  data = nangeomedian_pcm(xx_data, **kw)\n",
      "/usr/local/lib/python3.8/dist-packages/odc/algo/_geomedian.py:106: RuntimeWarning: Mean of empty slice\n",
      "  data = nangeomedian_pcm(xx_data, **kw)\n",
      "/usr/local/lib/python3.8/dist-packages/odc/algo/_geomedian.py:106: RuntimeWarning: Mean of empty slice\n",
      "  data = nangeomedian_pcm(xx_data, **kw)\n",
      "/usr/local/lib/python3.8/dist-packages/odc/algo/_geomedian.py:106: RuntimeWarning: Mean of empty slice\n",
      "  data = nangeomedian_pcm(xx_data, **kw)\n",
      "/usr/local/lib/python3.8/dist-packages/odc/algo/_geomedian.py:106: RuntimeWarning: Mean of empty slice\n",
      "  data = nangeomedian_pcm(xx_data, **kw)\n",
      "/usr/local/lib/python3.8/dist-packages/odc/algo/_geomedian.py:106: RuntimeWarning: Mean of empty slice\n",
      "  data = nangeomedian_pcm(xx_data, **kw)\n",
      "/usr/local/lib/python3.8/dist-packages/odc/algo/_geomedian.py:106: RuntimeWarning: Mean of empty slice\n",
      "  data = nangeomedian_pcm(xx_data, **kw)\n",
      "/usr/local/lib/python3.8/dist-packages/odc/algo/_geomedian.py:106: RuntimeWarning: Mean of empty slice\n",
      "  data = nangeomedian_pcm(xx_data, **kw)\n",
      "/usr/local/lib/python3.8/dist-packages/odc/algo/_geomedian.py:106: RuntimeWarning: Mean of empty slice\n",
      "  data = nangeomedian_pcm(xx_data, **kw)\n",
      "/usr/local/lib/python3.8/dist-packages/odc/algo/_geomedian.py:106: RuntimeWarning: Mean of empty slice\n",
      "  data = nangeomedian_pcm(xx_data, **kw)\n",
      "/usr/local/lib/python3.8/dist-packages/odc/algo/_geomedian.py:106: RuntimeWarning: Mean of empty slice\n",
      "  data = nangeomedian_pcm(xx_data, **kw)\n",
      "/usr/local/lib/python3.8/dist-packages/odc/algo/_geomedian.py:106: RuntimeWarning: Mean of empty slice\n",
      "  data = nangeomedian_pcm(xx_data, **kw)\n",
      "/usr/local/lib/python3.8/dist-packages/odc/algo/_geomedian.py:106: RuntimeWarning: Mean of empty slice\n",
      "  data = nangeomedian_pcm(xx_data, **kw)\n",
      "/usr/local/lib/python3.8/dist-packages/odc/algo/_geomedian.py:106: RuntimeWarning: Mean of empty slice\n",
      "  data = nangeomedian_pcm(xx_data, **kw)\n",
      "/usr/local/lib/python3.8/dist-packages/odc/algo/_geomedian.py:106: RuntimeWarning: Mean of empty slice\n",
      "  data = nangeomedian_pcm(xx_data, **kw)\n",
      "/usr/local/lib/python3.8/dist-packages/odc/algo/_geomedian.py:106: RuntimeWarning: Mean of empty slice\n",
      "  data = nangeomedian_pcm(xx_data, **kw)\n",
      "/usr/local/lib/python3.8/dist-packages/odc/algo/_geomedian.py:106: RuntimeWarning: Mean of empty slice\n",
      "  data = nangeomedian_pcm(xx_data, **kw)\n",
      "/usr/local/lib/python3.8/dist-packages/odc/algo/_geomedian.py:106: RuntimeWarning: Mean of empty slice\n",
      "  data = nangeomedian_pcm(xx_data, **kw)\n"
     ]
    },
    {
     "name": "stdout",
     "output_type": "stream",
     "text": [
      "Percentage of possible fails after run 1 = 0.0 %\n",
      "Removed 0 rows wth NaNs &/or Infs\n",
      "Output shape:  (959, 67)\n",
      "Calinski-Harabasz score for  2  clusters is:  966.149099249513\n",
      "Calinski-Harabasz score for  3  clusters is:  782.2552920925787\n",
      "Calinski-Harabasz score for  4  clusters is:  831.8352999428586\n",
      "Calinski-Harabasz score for  5  clusters is:  811.6748718481074\n",
      "Calinski-Harabasz score for  6  clusters is:  773.397798459548\n",
      "Calinski-Harabasz score for  7  clusters is:  719.4378191726568\n",
      "Calinski-Harabasz score for  8  clusters is:  670.5681728818683\n",
      "Calinski-Harabasz score for  9  clusters is:  637.2037133408585\n",
      "Best number of clusters for class 44: 2\n",
      "Number of training data collected:  178\n",
      "Collecting training data in parallel mode\n"
     ]
    },
    {
     "data": {
      "application/vnd.jupyter.widget-view+json": {
       "model_id": "49f0331c2f004c3aa1bc8701d04c770c",
       "version_major": 2,
       "version_minor": 0
      },
      "text/plain": [
       "  0%|          | 0/178 [00:00<?, ?it/s]"
      ]
     },
     "metadata": {},
     "output_type": "display_data"
    },
    {
     "name": "stderr",
     "output_type": "stream",
     "text": [
      "/usr/local/lib/python3.8/dist-packages/odc/algo/_geomedian.py:106: RuntimeWarning: Mean of empty slice\n",
      "  data = nangeomedian_pcm(xx_data, **kw)\n",
      "/usr/local/lib/python3.8/dist-packages/odc/algo/_geomedian.py:106: RuntimeWarning: Mean of empty slice\n",
      "  data = nangeomedian_pcm(xx_data, **kw)\n",
      "/usr/local/lib/python3.8/dist-packages/odc/algo/_geomedian.py:106: RuntimeWarning: Mean of empty slice\n",
      "  data = nangeomedian_pcm(xx_data, **kw)\n",
      "/usr/local/lib/python3.8/dist-packages/odc/algo/_geomedian.py:106: RuntimeWarning: Mean of empty slice\n",
      "  data = nangeomedian_pcm(xx_data, **kw)\n",
      "/usr/local/lib/python3.8/dist-packages/odc/algo/_geomedian.py:106: RuntimeWarning: Mean of empty slice\n",
      "  data = nangeomedian_pcm(xx_data, **kw)\n",
      "/usr/local/lib/python3.8/dist-packages/odc/algo/_geomedian.py:106: RuntimeWarning: Mean of empty slice\n",
      "  data = nangeomedian_pcm(xx_data, **kw)\n",
      "/usr/local/lib/python3.8/dist-packages/odc/algo/_geomedian.py:106: RuntimeWarning: Mean of empty slice\n",
      "  data = nangeomedian_pcm(xx_data, **kw)\n",
      "/usr/local/lib/python3.8/dist-packages/odc/algo/_geomedian.py:106: RuntimeWarning: Mean of empty slice\n",
      "  data = nangeomedian_pcm(xx_data, **kw)\n",
      "/usr/local/lib/python3.8/dist-packages/odc/algo/_geomedian.py:106: RuntimeWarning: Mean of empty slice\n",
      "  data = nangeomedian_pcm(xx_data, **kw)\n",
      "/usr/local/lib/python3.8/dist-packages/odc/algo/_geomedian.py:106: RuntimeWarning: Mean of empty slice\n",
      "  data = nangeomedian_pcm(xx_data, **kw)\n",
      "/usr/local/lib/python3.8/dist-packages/odc/algo/_geomedian.py:106: RuntimeWarning: Mean of empty slice\n",
      "  data = nangeomedian_pcm(xx_data, **kw)\n"
     ]
    },
    {
     "name": "stdout",
     "output_type": "stream",
     "text": [
      "Percentage of possible fails after run 1 = 0.0 %\n",
      "Removed 0 rows wth NaNs &/or Infs\n",
      "Output shape:  (178, 69)\n",
      "Number of training data after removing Nans and Infs:  178\n",
      "Number of training data after filtering:  178\n",
      "Processing class  51\n",
      "stratified random sampling from tile  0\n",
      "Class 51: sampled at 49 coordinates\n",
      "stratified random sampling from tile  1\n",
      "Class 51: sampled at 102 coordinates\n",
      "stratified random sampling from tile  2\n",
      "Class 51: sampled at 75 coordinates\n",
      "stratified random sampling from tile  3\n",
      "Class 51: sampled at 235 coordinates\n",
      "stratified random sampling from tile  4\n",
      "Class 51: sampled at 99 coordinates\n",
      "stratified random sampling from tile  5\n",
      "Class 51: sampled at 236 coordinates\n",
      "stratified random sampling from tile  6\n",
      "Class 51: sampled at 34 coordinates\n",
      "stratified random sampling from tile  7\n",
      "Class 51: sampled at 2 coordinates\n",
      "stratified random sampling from tile  8\n",
      "Class 51: sampled at 97 coordinates\n",
      "stratified random sampling from tile  9\n",
      "Class 51: sampled at 26 coordinates\n",
      "radomly sampled points for class  51 \n",
      "                             geometry  LC_Class_I\n",
      "0     POINT (642303.867 8343434.666)          51\n",
      "1     POINT (624538.671 8398849.304)          51\n",
      "2     POINT (565582.605 8352607.545)          51\n",
      "3     POINT (619545.839 8370488.853)          51\n",
      "4     POINT (364563.030 8388399.189)          51\n",
      "..                               ...         ...\n",
      "950  POINT (1231633.500 8234642.087)          51\n",
      "951  POINT (1237321.330 8331305.729)          51\n",
      "952  POINT (1247341.342 8220378.305)          51\n",
      "953  POINT (1332924.030 8322464.542)          51\n",
      "954  POINT (1223087.020 8233610.615)          51\n",
      "\n",
      "[955 rows x 2 columns]\n",
      "Collecting training data in parallel mode\n"
     ]
    },
    {
     "data": {
      "application/vnd.jupyter.widget-view+json": {
       "model_id": "8b336aa0af4d40eda226fefb6d8c2f5a",
       "version_major": 2,
       "version_minor": 0
      },
      "text/plain": [
       "  0%|          | 0/955 [00:00<?, ?it/s]"
      ]
     },
     "metadata": {},
     "output_type": "display_data"
    },
    {
     "name": "stderr",
     "output_type": "stream",
     "text": [
      "/usr/local/lib/python3.8/dist-packages/odc/algo/_geomedian.py:106: RuntimeWarning: Mean of empty slice\n",
      "  data = nangeomedian_pcm(xx_data, **kw)\n",
      "Error opening source dataset: s3://deafrica-sentinel-2/sentinel-s2-l2a-cogs/37/L/FE/2021/12/S2A_37LFE_20211208_0_L2A/B04.tif\n"
     ]
    },
    {
     "name": "stdout",
     "output_type": "stream",
     "text": [
      "Percentage of possible fails after run 1 = 0.0 %\n",
      "Removed 0 rows wth NaNs &/or Infs\n",
      "Output shape:  (954, 67)\n",
      "Calinski-Harabasz score for  2  clusters is:  410.6694178478213\n",
      "Calinski-Harabasz score for  3  clusters is:  306.4373923673509\n",
      "Calinski-Harabasz score for  4  clusters is:  252.98490705201814\n",
      "Calinski-Harabasz score for  5  clusters is:  219.2567855524824\n",
      "Calinski-Harabasz score for  6  clusters is:  199.7226243991408\n",
      "Calinski-Harabasz score for  7  clusters is:  179.76330806996853\n",
      "Calinski-Harabasz score for  8  clusters is:  164.7730432011007\n",
      "Calinski-Harabasz score for  9  clusters is:  151.96040142336685\n",
      "Best number of clusters for class 51: 2\n",
      "Number of training data collected:  131\n",
      "Collecting training data in parallel mode\n"
     ]
    },
    {
     "data": {
      "application/vnd.jupyter.widget-view+json": {
       "model_id": "dc9a4b0452954e3b8480d4205c81dd36",
       "version_major": 2,
       "version_minor": 0
      },
      "text/plain": [
       "  0%|          | 0/131 [00:00<?, ?it/s]"
      ]
     },
     "metadata": {},
     "output_type": "display_data"
    },
    {
     "name": "stdout",
     "output_type": "stream",
     "text": [
      "Percentage of possible fails after run 1 = 0.0 %\n",
      "Removed 0 rows wth NaNs &/or Infs\n",
      "Output shape:  (131, 69)\n",
      "Number of training data after removing Nans and Infs:  131\n",
      "Number of training data after filtering:  131\n",
      "Processing class  61\n",
      "stratified random sampling from tile  0\n",
      "Class 61: sampled at 9 coordinates\n",
      "stratified random sampling from tile  1\n",
      "Class 61: sampled at 150 coordinates\n",
      "stratified random sampling from tile  2\n",
      "Class 61: sampled at 268 coordinates\n",
      "stratified random sampling from tile  3\n",
      "Class 61: sampled at 198 coordinates\n",
      "stratified random sampling from tile  4\n",
      "Class 61: sampled at 87 coordinates\n",
      "stratified random sampling from tile  5\n",
      "Class 61: sampled at 140 coordinates\n",
      "stratified random sampling from tile  6\n",
      "Class 61: sampled at 31 coordinates\n",
      "stratified random sampling from tile  7\n",
      "Class 61: sampled at 3 coordinates\n",
      "stratified random sampling from tile  8\n",
      "Class 61: sampled at 45 coordinates\n",
      "stratified random sampling from tile  9\n",
      "Class 61: sampled at 22 coordinates\n",
      "radomly sampled points for class  61 \n",
      "                             geometry  LC_Class_I\n",
      "0     POINT (618210.546 8336322.782)          61\n",
      "1     POINT (301804.283 8371940.258)          61\n",
      "2     POINT (516525.120 8401606.974)          61\n",
      "3     POINT (686310.463 8615863.362)          61\n",
      "4     POINT (683639.878 8624194.426)          61\n",
      "..                               ...         ...\n",
      "948  POINT (1227684.437 8188314.268)          61\n",
      "949  POINT (1306842.529 8313564.414)          61\n",
      "950  POINT (1232488.148 8185661.912)          61\n",
      "951  POINT (1243716.456 8191880.213)          61\n",
      "952  POINT (1232871.266 8178588.963)          61\n",
      "\n",
      "[953 rows x 2 columns]\n",
      "Collecting training data in parallel mode\n"
     ]
    },
    {
     "data": {
      "application/vnd.jupyter.widget-view+json": {
       "model_id": "fe095452c01a4b14a958c32f1a5a3dd2",
       "version_major": 2,
       "version_minor": 0
      },
      "text/plain": [
       "  0%|          | 0/953 [00:00<?, ?it/s]"
      ]
     },
     "metadata": {},
     "output_type": "display_data"
    },
    {
     "name": "stderr",
     "output_type": "stream",
     "text": [
      "/usr/local/lib/python3.8/dist-packages/odc/algo/_geomedian.py:106: RuntimeWarning: Mean of empty slice\n",
      "  data = nangeomedian_pcm(xx_data, **kw)\n",
      "/usr/local/lib/python3.8/dist-packages/odc/algo/_geomedian.py:106: RuntimeWarning: Mean of empty slice\n",
      "  data = nangeomedian_pcm(xx_data, **kw)\n"
     ]
    },
    {
     "name": "stdout",
     "output_type": "stream",
     "text": [
      "Percentage of possible fails after run 1 = 0.0 %\n",
      "Removed 0 rows wth NaNs &/or Infs\n",
      "Output shape:  (953, 67)\n",
      "Calinski-Harabasz score for  2  clusters is:  457.50738176603045\n",
      "Calinski-Harabasz score for  3  clusters is:  360.5668441932537\n",
      "Calinski-Harabasz score for  4  clusters is:  359.5244856196999\n",
      "Calinski-Harabasz score for  5  clusters is:  321.1752309722033\n",
      "Calinski-Harabasz score for  6  clusters is:  300.6151929443659\n",
      "Calinski-Harabasz score for  7  clusters is:  282.77199362764645\n",
      "Calinski-Harabasz score for  8  clusters is:  267.9910178053293\n",
      "Calinski-Harabasz score for  9  clusters is:  255.3409939469191\n",
      "Best number of clusters for class 61: 2\n",
      "Number of training data collected:  161\n",
      "Collecting training data in parallel mode\n"
     ]
    },
    {
     "data": {
      "application/vnd.jupyter.widget-view+json": {
       "model_id": "42dfd82ebb9142adaddc4f50fa071ce1",
       "version_major": 2,
       "version_minor": 0
      },
      "text/plain": [
       "  0%|          | 0/161 [00:00<?, ?it/s]"
      ]
     },
     "metadata": {},
     "output_type": "display_data"
    },
    {
     "name": "stderr",
     "output_type": "stream",
     "text": [
      "/usr/local/lib/python3.8/dist-packages/odc/algo/_geomedian.py:106: RuntimeWarning: Mean of empty slice\n",
      "  data = nangeomedian_pcm(xx_data, **kw)\n",
      "/usr/local/lib/python3.8/dist-packages/odc/algo/_geomedian.py:106: RuntimeWarning: Mean of empty slice\n",
      "  data = nangeomedian_pcm(xx_data, **kw)\n"
     ]
    },
    {
     "name": "stdout",
     "output_type": "stream",
     "text": [
      "Percentage of possible fails after run 1 = 0.0 %\n",
      "Removed 0 rows wth NaNs &/or Infs\n",
      "Output shape:  (161, 69)\n",
      "Number of training data after removing Nans and Infs:  161\n",
      "Number of training data after filtering:  161\n",
      "Processing class  62\n",
      "stratified random sampling from tile  0\n",
      "Class 62: sampled at 30 coordinates\n",
      "stratified random sampling from tile  1\n",
      "Class 62: sampled at 46 coordinates\n",
      "stratified random sampling from tile  2\n",
      "Class 62: sampled at 51 coordinates\n",
      "stratified random sampling from tile  3\n",
      "Class 62: sampled at 1 coordinates\n",
      "stratified random sampling from tile  4\n",
      "Class 62: sampled at 410 coordinates\n",
      "stratified random sampling from tile  5\n",
      "Class 62: sampled at 301 coordinates\n",
      "stratified random sampling from tile  6\n",
      "stratified random sampling from tile  7\n",
      "stratified random sampling from tile  8\n",
      "Class 62: sampled at 106 coordinates\n",
      "stratified random sampling from tile  9\n",
      "Class 62: sampled at 9 coordinates\n",
      "radomly sampled points for class  62 \n",
      "                             geometry  LC_Class_I\n",
      "0     POINT (460558.948 8343260.498)          62\n",
      "1     POINT (409527.553 8384480.396)          62\n",
      "2     POINT (346391.441 8383087.047)          62\n",
      "3     POINT (591678.865 8347440.544)          62\n",
      "4     POINT (407379.474 8338848.227)          62\n",
      "..                               ...         ...\n",
      "949  POINT (1202634.408 8270566.776)          62\n",
      "950  POINT (1223293.314 8322877.131)          62\n",
      "951  POINT (1245573.105 8287807.090)          62\n",
      "952  POINT (1200571.464 8268916.421)          62\n",
      "953  POINT (1243981.691 8295145.275)          62\n",
      "\n",
      "[954 rows x 2 columns]\n",
      "Collecting training data in parallel mode\n"
     ]
    },
    {
     "data": {
      "application/vnd.jupyter.widget-view+json": {
       "model_id": "1285bc6031f04f53a9f1f4a971df1c9e",
       "version_major": 2,
       "version_minor": 0
      },
      "text/plain": [
       "  0%|          | 0/954 [00:00<?, ?it/s]"
      ]
     },
     "metadata": {},
     "output_type": "display_data"
    },
    {
     "name": "stderr",
     "output_type": "stream",
     "text": [
      "/usr/local/lib/python3.8/dist-packages/odc/algo/_geomedian.py:106: RuntimeWarning: Mean of empty slice\n",
      "  data = nangeomedian_pcm(xx_data, **kw)\n",
      "/usr/local/lib/python3.8/dist-packages/odc/algo/_geomedian.py:106: RuntimeWarning: Mean of empty slice\n",
      "  data = nangeomedian_pcm(xx_data, **kw)\n",
      "/usr/local/lib/python3.8/dist-packages/odc/algo/_geomedian.py:106: RuntimeWarning: Mean of empty slice\n",
      "  data = nangeomedian_pcm(xx_data, **kw)\n",
      "/usr/local/lib/python3.8/dist-packages/odc/algo/_geomedian.py:106: RuntimeWarning: Mean of empty slice\n",
      "  data = nangeomedian_pcm(xx_data, **kw)\n"
     ]
    },
    {
     "name": "stdout",
     "output_type": "stream",
     "text": [
      "Percentage of possible fails after run 1 = 0.0 %\n",
      "Removed 0 rows wth NaNs &/or Infs\n",
      "Output shape:  (954, 67)\n",
      "Calinski-Harabasz score for  2  clusters is:  247.09990346048988\n",
      "Calinski-Harabasz score for  3  clusters is:  241.7773823899388\n",
      "Calinski-Harabasz score for  4  clusters is:  206.74605432180545\n",
      "Calinski-Harabasz score for  5  clusters is:  189.11130769641176\n",
      "Calinski-Harabasz score for  6  clusters is:  178.7492470816923\n",
      "Calinski-Harabasz score for  7  clusters is:  166.16943832642576\n",
      "Calinski-Harabasz score for  8  clusters is:  156.91792508686657\n",
      "Calinski-Harabasz score for  9  clusters is:  147.6520525358138\n",
      "Best number of clusters for class 62: 2\n",
      "Number of training data collected:  112\n",
      "Collecting training data in parallel mode\n"
     ]
    },
    {
     "data": {
      "application/vnd.jupyter.widget-view+json": {
       "model_id": "3c2847712d484dc69c0ac1fab779c7fd",
       "version_major": 2,
       "version_minor": 0
      },
      "text/plain": [
       "  0%|          | 0/112 [00:00<?, ?it/s]"
      ]
     },
     "metadata": {},
     "output_type": "display_data"
    },
    {
     "name": "stdout",
     "output_type": "stream",
     "text": [
      "Percentage of possible fails after run 1 = 0.0 %\n",
      "Removed 0 rows wth NaNs &/or Infs\n",
      "Output shape:  (112, 69)\n",
      "Number of training data after removing Nans and Infs:  112\n",
      "Number of training data after filtering:  112\n",
      "Processing class  70\n",
      "stratified random sampling from tile  0\n",
      "stratified random sampling from tile  1\n",
      "Class 70: sampled at 0 coordinates\n",
      "stratified random sampling from tile  2\n",
      "Class 70: sampled at 133 coordinates\n",
      "stratified random sampling from tile  3\n",
      "Class 70: sampled at 20 coordinates\n",
      "stratified random sampling from tile  4\n",
      "stratified random sampling from tile  5\n",
      "Class 70: sampled at 459 coordinates\n",
      "stratified random sampling from tile  6\n",
      "Class 70: sampled at 109 coordinates\n",
      "stratified random sampling from tile  7\n",
      "stratified random sampling from tile  8\n",
      "Class 70: sampled at 113 coordinates\n",
      "stratified random sampling from tile  9\n",
      "Class 70: sampled at 113 coordinates\n",
      "radomly sampled points for class  70 \n",
      "                             geometry  LC_Class_I\n",
      "0     POINT (690238.091 7708291.332)          70\n",
      "1     POINT (691088.097 7706503.388)          70\n",
      "2     POINT (699558.852 7709844.792)          70\n",
      "3     POINT (671977.607 7731798.408)          70\n",
      "4     POINT (698210.566 7699761.957)          70\n",
      "..                               ...         ...\n",
      "942  POINT (1311764.123 8274751.604)          70\n",
      "943  POINT (1307078.294 8305253.698)          70\n",
      "944  POINT (1220582.017 8164236.770)          70\n",
      "945  POINT (1219963.134 8184748.323)          70\n",
      "946  POINT (1220169.428 8166918.596)          70\n",
      "\n",
      "[947 rows x 2 columns]\n",
      "Collecting training data in parallel mode\n"
     ]
    },
    {
     "data": {
      "application/vnd.jupyter.widget-view+json": {
       "model_id": "6c0c0fd8746346018a18b2566dd3bf83",
       "version_major": 2,
       "version_minor": 0
      },
      "text/plain": [
       "  0%|          | 0/947 [00:00<?, ?it/s]"
      ]
     },
     "metadata": {},
     "output_type": "display_data"
    },
    {
     "name": "stdout",
     "output_type": "stream",
     "text": [
      "Percentage of possible fails after run 1 = 0.0 %\n",
      "Removed 0 rows wth NaNs &/or Infs\n",
      "Output shape:  (947, 67)\n",
      "Calinski-Harabasz score for  2  clusters is:  404.7222560368082\n",
      "Calinski-Harabasz score for  3  clusters is:  330.6488650045943\n",
      "Calinski-Harabasz score for  4  clusters is:  305.17531356983795\n",
      "Calinski-Harabasz score for  5  clusters is:  281.9055751831285\n",
      "Calinski-Harabasz score for  6  clusters is:  274.894011692069\n",
      "Calinski-Harabasz score for  7  clusters is:  259.64942779065774\n",
      "Calinski-Harabasz score for  8  clusters is:  254.1359959881054\n",
      "Calinski-Harabasz score for  9  clusters is:  243.80448415372697\n",
      "Best number of clusters for class 70: 2\n",
      "Number of training data collected:  114\n",
      "Collecting training data in parallel mode\n"
     ]
    },
    {
     "data": {
      "application/vnd.jupyter.widget-view+json": {
       "model_id": "d3aeca5cbc1248a38319eedaf685b479",
       "version_major": 2,
       "version_minor": 0
      },
      "text/plain": [
       "  0%|          | 0/114 [00:00<?, ?it/s]"
      ]
     },
     "metadata": {},
     "output_type": "display_data"
    },
    {
     "name": "stdout",
     "output_type": "stream",
     "text": [
      "Percentage of possible fails after run 1 = 0.0 %\n",
      "Removed 0 rows wth NaNs &/or Infs\n",
      "Output shape:  (114, 69)\n",
      "Number of training data after removing Nans and Infs:  114\n",
      "Number of training data after filtering:  114\n",
      "Processing class  71\n",
      "stratified random sampling from tile  0\n",
      "stratified random sampling from tile  1\n",
      "stratified random sampling from tile  2\n",
      "Class 71: sampled at 886 coordinates\n",
      "stratified random sampling from tile  3\n",
      "Class 71: sampled at 52 coordinates\n",
      "stratified random sampling from tile  4\n",
      "stratified random sampling from tile  5\n",
      "stratified random sampling from tile  6\n",
      "Class 71: sampled at 5 coordinates\n",
      "stratified random sampling from tile  7\n",
      "Class 71: sampled at 0 coordinates\n",
      "stratified random sampling from tile  8\n",
      "Class 71: sampled at 5 coordinates\n",
      "stratified random sampling from tile  9\n",
      "radomly sampled points for class  71 \n",
      "                             geometry  LC_Class_I\n",
      "0     POINT (568804.405 7526243.390)          71\n",
      "1     POINT (467917.427 7441037.567)          71\n",
      "2     POINT (633610.072 7506312.203)          71\n",
      "3     POINT (639648.049 7514489.852)          71\n",
      "4     POINT (503119.420 7412254.588)          71\n",
      "..                               ...         ...\n",
      "943  POINT (1340578.074 8359377.186)          71\n",
      "944  POINT (1341888.961 8359581.101)          71\n",
      "945  POINT (1343840.726 8360134.587)          71\n",
      "946  POINT (1341393.737 8356668.019)          71\n",
      "947  POINT (1341510.260 8356580.627)          71\n",
      "\n",
      "[948 rows x 2 columns]\n",
      "Collecting training data in parallel mode\n"
     ]
    },
    {
     "data": {
      "application/vnd.jupyter.widget-view+json": {
       "model_id": "5acd9dcfa7c34320b07f48d8182b1388",
       "version_major": 2,
       "version_minor": 0
      },
      "text/plain": [
       "  0%|          | 0/948 [00:00<?, ?it/s]"
      ]
     },
     "metadata": {},
     "output_type": "display_data"
    },
    {
     "name": "stderr",
     "output_type": "stream",
     "text": [
      "Error opening source dataset: s3://deafrica-sentinel-2/sentinel-s2-l2a-cogs/36/K/UA/2021/6/S2B_36KUA_20210612_0_L2A/B02.tif\n",
      "Error opening source dataset: s3://deafrica-sentinel-2/sentinel-s2-l2a-cogs/36/K/WU/2021/1/S2A_36KWU_20210128_0_L2A/B06.tif\n",
      "Error opening source dataset: s3://deafrica-sentinel-2/sentinel-s2-l2a-cogs/36/K/XA/2021/3/S2B_36KXA_20210311_0_L2A/B05.tif\n",
      "Error opening source dataset: s3://deafrica-sentinel-2/sentinel-s2-l2a-cogs/36/K/XA/2021/4/S2A_36KXA_20210405_1_L2A/B11.tif\n",
      "Error opening source dataset: s3://deafrica-sentinel-2/sentinel-s2-l2a-cogs/36/K/UA/2021/6/S2B_36KUA_20210612_0_L2A/B02.tif\n",
      "Error opening source dataset: s3://deafrica-sentinel-2/sentinel-s2-l2a-cogs/36/K/WU/2021/1/S2A_36KWU_20210128_0_L2A/B06.tif\n",
      "/usr/local/lib/python3.8/dist-packages/odc/algo/_geomedian.py:106: RuntimeWarning: Mean of empty slice\n",
      "  data = nangeomedian_pcm(xx_data, **kw)\n",
      "Error opening source dataset: s3://deafrica-sentinel-2/sentinel-s2-l2a-cogs/36/K/UA/2021/6/S2B_36KUA_20210612_0_L2A/B02.tif\n",
      "Error opening source dataset: s3://deafrica-sentinel-2/sentinel-s2-l2a-cogs/36/K/UA/2021/6/S2B_36KUA_20210612_0_L2A/B02.tif\n",
      "Error opening source dataset: s3://deafrica-sentinel-2/sentinel-s2-l2a-cogs/36/K/UA/2021/6/S2B_36KUA_20210612_0_L2A/B02.tif\n",
      "/usr/local/lib/python3.8/dist-packages/odc/algo/_geomedian.py:106: RuntimeWarning: Mean of empty slice\n",
      "  data = nangeomedian_pcm(xx_data, **kw)\n",
      "Error opening source dataset: s3://deafrica-sentinel-2/sentinel-s2-l2a-cogs/36/K/XA/2021/4/S2A_36KXA_20210405_1_L2A/B11.tif\n",
      "Error opening source dataset: s3://deafrica-sentinel-2/sentinel-s2-l2a-cogs/36/K/XA/2021/3/S2B_36KXA_20210311_0_L2A/B05.tif\n",
      "/usr/local/lib/python3.8/dist-packages/odc/algo/_geomedian.py:106: RuntimeWarning: Mean of empty slice\n",
      "  data = nangeomedian_pcm(xx_data, **kw)\n",
      "/usr/local/lib/python3.8/dist-packages/odc/algo/_geomedian.py:106: RuntimeWarning: Mean of empty slice\n",
      "  data = nangeomedian_pcm(xx_data, **kw)\n",
      "/usr/local/lib/python3.8/dist-packages/odc/algo/_geomedian.py:106: RuntimeWarning: Mean of empty slice\n",
      "  data = nangeomedian_pcm(xx_data, **kw)\n"
     ]
    },
    {
     "name": "stdout",
     "output_type": "stream",
     "text": [
      "Percentage of possible fails after run 1 = 0.0 %\n",
      "Removed 0 rows wth NaNs &/or Infs\n",
      "Output shape:  (937, 67)\n",
      "Calinski-Harabasz score for  2  clusters is:  450.49750874999415\n",
      "Calinski-Harabasz score for  3  clusters is:  348.9057167906388\n",
      "Calinski-Harabasz score for  4  clusters is:  296.73257185565177\n",
      "Calinski-Harabasz score for  5  clusters is:  264.75179959809657\n",
      "Calinski-Harabasz score for  6  clusters is:  234.871304828333\n",
      "Calinski-Harabasz score for  7  clusters is:  217.27695578647396\n",
      "Calinski-Harabasz score for  8  clusters is:  200.24929416610112\n",
      "Calinski-Harabasz score for  9  clusters is:  190.51440356779554\n",
      "Best number of clusters for class 71: 2\n",
      "Number of training data collected:  121\n",
      "Collecting training data in parallel mode\n"
     ]
    },
    {
     "data": {
      "application/vnd.jupyter.widget-view+json": {
       "model_id": "94106e07237b4324873b2b1814d5de1a",
       "version_major": 2,
       "version_minor": 0
      },
      "text/plain": [
       "  0%|          | 0/121 [00:00<?, ?it/s]"
      ]
     },
     "metadata": {},
     "output_type": "display_data"
    },
    {
     "name": "stderr",
     "output_type": "stream",
     "text": [
      "/usr/local/lib/python3.8/dist-packages/odc/algo/_geomedian.py:106: RuntimeWarning: Mean of empty slice\n",
      "  data = nangeomedian_pcm(xx_data, **kw)\n"
     ]
    },
    {
     "name": "stdout",
     "output_type": "stream",
     "text": [
      "Percentage of possible fails after run 1 = 0.0 %\n",
      "Removed 0 rows wth NaNs &/or Infs\n",
      "Output shape:  (121, 69)\n",
      "Number of training data after removing Nans and Infs:  121\n",
      "Number of training data after filtering:  121\n",
      "Processing class  72\n",
      "stratified random sampling from tile  0\n",
      "Class 72: sampled at 144 coordinates\n",
      "stratified random sampling from tile  1\n",
      "Class 72: sampled at 271 coordinates\n",
      "stratified random sampling from tile  2\n",
      "Class 72: sampled at 21 coordinates\n",
      "stratified random sampling from tile  3\n",
      "stratified random sampling from tile  4\n",
      "Class 72: sampled at 447 coordinates\n",
      "stratified random sampling from tile  5\n",
      "Class 72: sampled at 72 coordinates\n",
      "stratified random sampling from tile  6\n",
      "stratified random sampling from tile  7\n",
      "stratified random sampling from tile  8\n",
      "stratified random sampling from tile  9\n",
      "radomly sampled points for class  72 \n",
      "                            geometry  LC_Class_I\n",
      "0    POINT (527613.854 8416295.191)          72\n",
      "1    POINT (538209.109 8418414.242)          72\n",
      "2    POINT (543114.858 8416585.472)          72\n",
      "3    POINT (562215.346 8393508.135)          72\n",
      "4    POINT (631592.499 8398878.333)          72\n",
      "..                              ...         ...\n",
      "950  POINT (862378.645 8197903.502)          72\n",
      "951  POINT (856635.319 8200642.627)          72\n",
      "952  POINT (930797.852 8293949.578)          72\n",
      "953  POINT (969440.124 8325493.689)          72\n",
      "954  POINT (928824.504 8306231.459)          72\n",
      "\n",
      "[955 rows x 2 columns]\n",
      "Collecting training data in parallel mode\n"
     ]
    },
    {
     "data": {
      "application/vnd.jupyter.widget-view+json": {
       "model_id": "9c49548664df47aaa0ee846c843a615b",
       "version_major": 2,
       "version_minor": 0
      },
      "text/plain": [
       "  0%|          | 0/955 [00:00<?, ?it/s]"
      ]
     },
     "metadata": {},
     "output_type": "display_data"
    },
    {
     "name": "stderr",
     "output_type": "stream",
     "text": [
      "/usr/local/lib/python3.8/dist-packages/odc/algo/_geomedian.py:106: RuntimeWarning: Mean of empty slice\n",
      "  data = nangeomedian_pcm(xx_data, **kw)\n",
      "/usr/local/lib/python3.8/dist-packages/odc/algo/_geomedian.py:106: RuntimeWarning: Mean of empty slice\n",
      "  data = nangeomedian_pcm(xx_data, **kw)\n",
      "/usr/local/lib/python3.8/dist-packages/odc/algo/_geomedian.py:106: RuntimeWarning: Mean of empty slice\n",
      "  data = nangeomedian_pcm(xx_data, **kw)\n",
      "/usr/local/lib/python3.8/dist-packages/odc/algo/_geomedian.py:106: RuntimeWarning: Mean of empty slice\n",
      "  data = nangeomedian_pcm(xx_data, **kw)\n",
      "/usr/local/lib/python3.8/dist-packages/odc/algo/_geomedian.py:106: RuntimeWarning: Mean of empty slice\n",
      "  data = nangeomedian_pcm(xx_data, **kw)\n",
      "/usr/local/lib/python3.8/dist-packages/odc/algo/_geomedian.py:106: RuntimeWarning: Mean of empty slice\n",
      "  data = nangeomedian_pcm(xx_data, **kw)\n",
      "/usr/local/lib/python3.8/dist-packages/odc/algo/_geomedian.py:106: RuntimeWarning: Mean of empty slice\n",
      "  data = nangeomedian_pcm(xx_data, **kw)\n",
      "/usr/local/lib/python3.8/dist-packages/odc/algo/_geomedian.py:106: RuntimeWarning: Mean of empty slice\n",
      "  data = nangeomedian_pcm(xx_data, **kw)\n",
      "/usr/local/lib/python3.8/dist-packages/odc/algo/_geomedian.py:106: RuntimeWarning: Mean of empty slice\n",
      "  data = nangeomedian_pcm(xx_data, **kw)\n",
      "/usr/local/lib/python3.8/dist-packages/odc/algo/_geomedian.py:106: RuntimeWarning: Mean of empty slice\n",
      "  data = nangeomedian_pcm(xx_data, **kw)\n",
      "/usr/local/lib/python3.8/dist-packages/odc/algo/_geomedian.py:106: RuntimeWarning: Mean of empty slice\n",
      "  data = nangeomedian_pcm(xx_data, **kw)\n",
      "/usr/local/lib/python3.8/dist-packages/odc/algo/_geomedian.py:106: RuntimeWarning: Mean of empty slice\n",
      "  data = nangeomedian_pcm(xx_data, **kw)\n",
      "/usr/local/lib/python3.8/dist-packages/odc/algo/_geomedian.py:106: RuntimeWarning: Mean of empty slice\n",
      "  data = nangeomedian_pcm(xx_data, **kw)\n",
      "/usr/local/lib/python3.8/dist-packages/odc/algo/_geomedian.py:106: RuntimeWarning: Mean of empty slice\n",
      "  data = nangeomedian_pcm(xx_data, **kw)\n",
      "/usr/local/lib/python3.8/dist-packages/odc/algo/_geomedian.py:106: RuntimeWarning: Mean of empty slice\n",
      "  data = nangeomedian_pcm(xx_data, **kw)\n",
      "/usr/local/lib/python3.8/dist-packages/odc/algo/_geomedian.py:106: RuntimeWarning: Mean of empty slice\n",
      "  data = nangeomedian_pcm(xx_data, **kw)\n",
      "/usr/local/lib/python3.8/dist-packages/odc/algo/_geomedian.py:106: RuntimeWarning: Mean of empty slice\n",
      "  data = nangeomedian_pcm(xx_data, **kw)\n",
      "/usr/local/lib/python3.8/dist-packages/odc/algo/_geomedian.py:106: RuntimeWarning: Mean of empty slice\n",
      "  data = nangeomedian_pcm(xx_data, **kw)\n",
      "/usr/local/lib/python3.8/dist-packages/odc/algo/_geomedian.py:106: RuntimeWarning: Mean of empty slice\n",
      "  data = nangeomedian_pcm(xx_data, **kw)\n",
      "/usr/local/lib/python3.8/dist-packages/odc/algo/_geomedian.py:106: RuntimeWarning: Mean of empty slice\n",
      "  data = nangeomedian_pcm(xx_data, **kw)\n",
      "/usr/local/lib/python3.8/dist-packages/odc/algo/_geomedian.py:106: RuntimeWarning: Mean of empty slice\n",
      "  data = nangeomedian_pcm(xx_data, **kw)\n",
      "/usr/local/lib/python3.8/dist-packages/odc/algo/_geomedian.py:106: RuntimeWarning: Mean of empty slice\n",
      "  data = nangeomedian_pcm(xx_data, **kw)\n",
      "/usr/local/lib/python3.8/dist-packages/odc/algo/_geomedian.py:106: RuntimeWarning: Mean of empty slice\n",
      "  data = nangeomedian_pcm(xx_data, **kw)\n",
      "/usr/local/lib/python3.8/dist-packages/odc/algo/_geomedian.py:106: RuntimeWarning: Mean of empty slice\n",
      "  data = nangeomedian_pcm(xx_data, **kw)\n",
      "/usr/local/lib/python3.8/dist-packages/odc/algo/_geomedian.py:106: RuntimeWarning: Mean of empty slice\n",
      "  data = nangeomedian_pcm(xx_data, **kw)\n",
      "/usr/local/lib/python3.8/dist-packages/odc/algo/_geomedian.py:106: RuntimeWarning: Mean of empty slice\n",
      "  data = nangeomedian_pcm(xx_data, **kw)\n",
      "/usr/local/lib/python3.8/dist-packages/odc/algo/_geomedian.py:106: RuntimeWarning: Mean of empty slice\n",
      "  data = nangeomedian_pcm(xx_data, **kw)\n",
      "/usr/local/lib/python3.8/dist-packages/odc/algo/_geomedian.py:106: RuntimeWarning: Mean of empty slice\n",
      "  data = nangeomedian_pcm(xx_data, **kw)\n",
      "/usr/local/lib/python3.8/dist-packages/odc/algo/_geomedian.py:106: RuntimeWarning: Mean of empty slice\n",
      "  data = nangeomedian_pcm(xx_data, **kw)\n",
      "/usr/local/lib/python3.8/dist-packages/odc/algo/_geomedian.py:106: RuntimeWarning: Mean of empty slice\n",
      "  data = nangeomedian_pcm(xx_data, **kw)\n",
      "/usr/local/lib/python3.8/dist-packages/odc/algo/_geomedian.py:106: RuntimeWarning: Mean of empty slice\n",
      "  data = nangeomedian_pcm(xx_data, **kw)\n",
      "/usr/local/lib/python3.8/dist-packages/odc/algo/_geomedian.py:106: RuntimeWarning: Mean of empty slice\n",
      "  data = nangeomedian_pcm(xx_data, **kw)\n",
      "/usr/local/lib/python3.8/dist-packages/odc/algo/_geomedian.py:106: RuntimeWarning: Mean of empty slice\n",
      "  data = nangeomedian_pcm(xx_data, **kw)\n",
      "/usr/local/lib/python3.8/dist-packages/odc/algo/_geomedian.py:106: RuntimeWarning: Mean of empty slice\n",
      "  data = nangeomedian_pcm(xx_data, **kw)\n",
      "/usr/local/lib/python3.8/dist-packages/odc/algo/_geomedian.py:106: RuntimeWarning: Mean of empty slice\n",
      "  data = nangeomedian_pcm(xx_data, **kw)\n",
      "/usr/local/lib/python3.8/dist-packages/odc/algo/_geomedian.py:106: RuntimeWarning: Mean of empty slice\n",
      "  data = nangeomedian_pcm(xx_data, **kw)\n",
      "/usr/local/lib/python3.8/dist-packages/odc/algo/_geomedian.py:106: RuntimeWarning: Mean of empty slice\n",
      "  data = nangeomedian_pcm(xx_data, **kw)\n",
      "/usr/local/lib/python3.8/dist-packages/odc/algo/_geomedian.py:106: RuntimeWarning: Mean of empty slice\n",
      "  data = nangeomedian_pcm(xx_data, **kw)\n",
      "/usr/local/lib/python3.8/dist-packages/odc/algo/_geomedian.py:106: RuntimeWarning: Mean of empty slice\n",
      "  data = nangeomedian_pcm(xx_data, **kw)\n",
      "/usr/local/lib/python3.8/dist-packages/odc/algo/_geomedian.py:106: RuntimeWarning: Mean of empty slice\n",
      "  data = nangeomedian_pcm(xx_data, **kw)\n",
      "/usr/local/lib/python3.8/dist-packages/odc/algo/_geomedian.py:106: RuntimeWarning: Mean of empty slice\n",
      "  data = nangeomedian_pcm(xx_data, **kw)\n",
      "/usr/local/lib/python3.8/dist-packages/odc/algo/_geomedian.py:106: RuntimeWarning: Mean of empty slice\n",
      "  data = nangeomedian_pcm(xx_data, **kw)\n",
      "/usr/local/lib/python3.8/dist-packages/odc/algo/_geomedian.py:106: RuntimeWarning: Mean of empty slice\n",
      "  data = nangeomedian_pcm(xx_data, **kw)\n",
      "/usr/local/lib/python3.8/dist-packages/odc/algo/_geomedian.py:106: RuntimeWarning: Mean of empty slice\n",
      "  data = nangeomedian_pcm(xx_data, **kw)\n",
      "/usr/local/lib/python3.8/dist-packages/odc/algo/_geomedian.py:106: RuntimeWarning: Mean of empty slice\n",
      "  data = nangeomedian_pcm(xx_data, **kw)\n",
      "/usr/local/lib/python3.8/dist-packages/odc/algo/_geomedian.py:106: RuntimeWarning: Mean of empty slice\n",
      "  data = nangeomedian_pcm(xx_data, **kw)\n",
      "/usr/local/lib/python3.8/dist-packages/odc/algo/_geomedian.py:106: RuntimeWarning: Mean of empty slice\n",
      "  data = nangeomedian_pcm(xx_data, **kw)\n",
      "/usr/local/lib/python3.8/dist-packages/odc/algo/_geomedian.py:106: RuntimeWarning: Mean of empty slice\n",
      "  data = nangeomedian_pcm(xx_data, **kw)\n",
      "/usr/local/lib/python3.8/dist-packages/odc/algo/_geomedian.py:106: RuntimeWarning: Mean of empty slice\n",
      "  data = nangeomedian_pcm(xx_data, **kw)\n",
      "/usr/local/lib/python3.8/dist-packages/odc/algo/_geomedian.py:106: RuntimeWarning: Mean of empty slice\n",
      "  data = nangeomedian_pcm(xx_data, **kw)\n",
      "/usr/local/lib/python3.8/dist-packages/odc/algo/_geomedian.py:106: RuntimeWarning: Mean of empty slice\n",
      "  data = nangeomedian_pcm(xx_data, **kw)\n",
      "/usr/local/lib/python3.8/dist-packages/odc/algo/_geomedian.py:106: RuntimeWarning: Mean of empty slice\n",
      "  data = nangeomedian_pcm(xx_data, **kw)\n",
      "/usr/local/lib/python3.8/dist-packages/odc/algo/_geomedian.py:106: RuntimeWarning: Mean of empty slice\n",
      "  data = nangeomedian_pcm(xx_data, **kw)\n",
      "/usr/local/lib/python3.8/dist-packages/odc/algo/_geomedian.py:106: RuntimeWarning: Mean of empty slice\n",
      "  data = nangeomedian_pcm(xx_data, **kw)\n",
      "/usr/local/lib/python3.8/dist-packages/odc/algo/_geomedian.py:106: RuntimeWarning: Mean of empty slice\n",
      "  data = nangeomedian_pcm(xx_data, **kw)\n",
      "/usr/local/lib/python3.8/dist-packages/odc/algo/_geomedian.py:106: RuntimeWarning: Mean of empty slice\n",
      "  data = nangeomedian_pcm(xx_data, **kw)\n",
      "/usr/local/lib/python3.8/dist-packages/odc/algo/_geomedian.py:106: RuntimeWarning: Mean of empty slice\n",
      "  data = nangeomedian_pcm(xx_data, **kw)\n",
      "/usr/local/lib/python3.8/dist-packages/odc/algo/_geomedian.py:106: RuntimeWarning: Mean of empty slice\n",
      "  data = nangeomedian_pcm(xx_data, **kw)\n",
      "/usr/local/lib/python3.8/dist-packages/odc/algo/_geomedian.py:106: RuntimeWarning: Mean of empty slice\n",
      "  data = nangeomedian_pcm(xx_data, **kw)\n",
      "/usr/local/lib/python3.8/dist-packages/odc/algo/_geomedian.py:106: RuntimeWarning: Mean of empty slice\n",
      "  data = nangeomedian_pcm(xx_data, **kw)\n",
      "/usr/local/lib/python3.8/dist-packages/odc/algo/_geomedian.py:106: RuntimeWarning: Mean of empty slice\n",
      "  data = nangeomedian_pcm(xx_data, **kw)\n",
      "/usr/local/lib/python3.8/dist-packages/odc/algo/_geomedian.py:106: RuntimeWarning: Mean of empty slice\n",
      "  data = nangeomedian_pcm(xx_data, **kw)\n",
      "/usr/local/lib/python3.8/dist-packages/odc/algo/_geomedian.py:106: RuntimeWarning: Mean of empty slice\n",
      "  data = nangeomedian_pcm(xx_data, **kw)\n",
      "/usr/local/lib/python3.8/dist-packages/odc/algo/_geomedian.py:106: RuntimeWarning: Mean of empty slice\n",
      "  data = nangeomedian_pcm(xx_data, **kw)\n",
      "/usr/local/lib/python3.8/dist-packages/odc/algo/_geomedian.py:106: RuntimeWarning: Mean of empty slice\n",
      "  data = nangeomedian_pcm(xx_data, **kw)\n",
      "/usr/local/lib/python3.8/dist-packages/odc/algo/_geomedian.py:106: RuntimeWarning: Mean of empty slice\n",
      "  data = nangeomedian_pcm(xx_data, **kw)\n",
      "/usr/local/lib/python3.8/dist-packages/odc/algo/_geomedian.py:106: RuntimeWarning: Mean of empty slice\n",
      "  data = nangeomedian_pcm(xx_data, **kw)\n",
      "/usr/local/lib/python3.8/dist-packages/odc/algo/_geomedian.py:106: RuntimeWarning: Mean of empty slice\n",
      "  data = nangeomedian_pcm(xx_data, **kw)\n"
     ]
    },
    {
     "name": "stdout",
     "output_type": "stream",
     "text": [
      "Percentage of possible fails after run 1 = 0.0 %\n",
      "Removed 0 rows wth NaNs &/or Infs\n",
      "Output shape:  (955, 67)\n",
      "Calinski-Harabasz score for  2  clusters is:  233.41079365017103\n",
      "Calinski-Harabasz score for  3  clusters is:  205.473758544723\n",
      "Calinski-Harabasz score for  4  clusters is:  195.78573901677922\n",
      "Calinski-Harabasz score for  5  clusters is:  187.3536442951122\n",
      "Calinski-Harabasz score for  6  clusters is:  188.36405451203748\n",
      "Calinski-Harabasz score for  7  clusters is:  180.63144416632684\n",
      "Calinski-Harabasz score for  8  clusters is:  175.72047286639727\n",
      "Calinski-Harabasz score for  9  clusters is:  168.01319641862477\n",
      "Best number of clusters for class 72: 2\n",
      "Number of training data collected:  114\n",
      "Collecting training data in parallel mode\n"
     ]
    },
    {
     "data": {
      "application/vnd.jupyter.widget-view+json": {
       "model_id": "bf2b1274b38344dbb2549cc7a3457e1a",
       "version_major": 2,
       "version_minor": 0
      },
      "text/plain": [
       "  0%|          | 0/114 [00:00<?, ?it/s]"
      ]
     },
     "metadata": {},
     "output_type": "display_data"
    },
    {
     "name": "stderr",
     "output_type": "stream",
     "text": [
      "/usr/local/lib/python3.8/dist-packages/odc/algo/_geomedian.py:106: RuntimeWarning: Mean of empty slice\n",
      "  data = nangeomedian_pcm(xx_data, **kw)\n",
      "/usr/local/lib/python3.8/dist-packages/odc/algo/_geomedian.py:106: RuntimeWarning: Mean of empty slice\n",
      "  data = nangeomedian_pcm(xx_data, **kw)\n",
      "/usr/local/lib/python3.8/dist-packages/odc/algo/_geomedian.py:106: RuntimeWarning: Mean of empty slice\n",
      "  data = nangeomedian_pcm(xx_data, **kw)\n",
      "/usr/local/lib/python3.8/dist-packages/odc/algo/_geomedian.py:106: RuntimeWarning: Mean of empty slice\n",
      "  data = nangeomedian_pcm(xx_data, **kw)\n",
      "/usr/local/lib/python3.8/dist-packages/odc/algo/_geomedian.py:106: RuntimeWarning: Mean of empty slice\n",
      "  data = nangeomedian_pcm(xx_data, **kw)\n"
     ]
    },
    {
     "name": "stdout",
     "output_type": "stream",
     "text": [
      "Percentage of possible fails after run 1 = 0.0 %\n",
      "Removed 0 rows wth NaNs &/or Infs\n",
      "Output shape:  (114, 69)\n",
      "Number of training data after removing Nans and Infs:  114\n",
      "Number of training data after filtering:  114\n",
      "Processing class  73\n",
      "stratified random sampling from tile  0\n",
      "Class 73: sampled at 9 coordinates\n",
      "stratified random sampling from tile  1\n",
      "Class 73: sampled at 54 coordinates\n",
      "stratified random sampling from tile  2\n",
      "Class 73: sampled at 84 coordinates\n",
      "stratified random sampling from tile  3\n",
      "Class 73: sampled at 113 coordinates\n",
      "stratified random sampling from tile  4\n",
      "Class 73: sampled at 208 coordinates\n",
      "stratified random sampling from tile  5\n",
      "Class 73: sampled at 361 coordinates\n",
      "stratified random sampling from tile  6\n",
      "Class 73: sampled at 13 coordinates\n",
      "stratified random sampling from tile  7\n",
      "Class 73: sampled at 5 coordinates\n",
      "stratified random sampling from tile  8\n",
      "Class 73: sampled at 89 coordinates\n",
      "stratified random sampling from tile  9\n",
      "Class 73: sampled at 16 coordinates\n",
      "radomly sampled points for class  73 \n",
      "                             geometry  LC_Class_I\n",
      "0     POINT (272660.073 8337077.513)          73\n",
      "1     POINT (453214.840 8420446.209)          73\n",
      "2     POINT (549762.292 8373652.916)          73\n",
      "3     POINT (686310.463 8634731.625)          73\n",
      "4     POINT (522127.543 8389705.454)          73\n",
      "..                               ...         ...\n",
      "947  POINT (1292166.159 8285390.499)          73\n",
      "948  POINT (1284444.856 8290253.151)          73\n",
      "949  POINT (1281763.029 8275429.428)          73\n",
      "950  POINT (1281527.264 8278759.609)          73\n",
      "951  POINT (1299180.167 8292669.743)          73\n",
      "\n",
      "[952 rows x 2 columns]\n",
      "Collecting training data in parallel mode\n"
     ]
    },
    {
     "data": {
      "application/vnd.jupyter.widget-view+json": {
       "model_id": "4e2db096441d4a39b2dc9b1ec927a305",
       "version_major": 2,
       "version_minor": 0
      },
      "text/plain": [
       "  0%|          | 0/952 [00:00<?, ?it/s]"
      ]
     },
     "metadata": {},
     "output_type": "display_data"
    },
    {
     "name": "stderr",
     "output_type": "stream",
     "text": [
      "/usr/local/lib/python3.8/dist-packages/odc/algo/_geomedian.py:106: RuntimeWarning: Mean of empty slice\n",
      "  data = nangeomedian_pcm(xx_data, **kw)\n",
      "/usr/local/lib/python3.8/dist-packages/odc/algo/_geomedian.py:106: RuntimeWarning: Mean of empty slice\n",
      "  data = nangeomedian_pcm(xx_data, **kw)\n",
      "/usr/local/lib/python3.8/dist-packages/odc/algo/_geomedian.py:106: RuntimeWarning: Mean of empty slice\n",
      "  data = nangeomedian_pcm(xx_data, **kw)\n",
      "/usr/local/lib/python3.8/dist-packages/odc/algo/_geomedian.py:106: RuntimeWarning: Mean of empty slice\n",
      "  data = nangeomedian_pcm(xx_data, **kw)\n",
      "/usr/local/lib/python3.8/dist-packages/odc/algo/_geomedian.py:106: RuntimeWarning: Mean of empty slice\n",
      "  data = nangeomedian_pcm(xx_data, **kw)\n",
      "/usr/local/lib/python3.8/dist-packages/odc/algo/_geomedian.py:106: RuntimeWarning: Mean of empty slice\n",
      "  data = nangeomedian_pcm(xx_data, **kw)\n",
      "/usr/local/lib/python3.8/dist-packages/odc/algo/_geomedian.py:106: RuntimeWarning: Mean of empty slice\n",
      "  data = nangeomedian_pcm(xx_data, **kw)\n"
     ]
    },
    {
     "name": "stdout",
     "output_type": "stream",
     "text": [
      "Percentage of possible fails after run 1 = 0.0 %\n",
      "Removed 0 rows wth NaNs &/or Infs\n",
      "Output shape:  (952, 67)\n",
      "Calinski-Harabasz score for  2  clusters is:  290.91252923727416\n",
      "Calinski-Harabasz score for  3  clusters is:  226.5140880949746\n",
      "Calinski-Harabasz score for  4  clusters is:  208.37940707817927\n",
      "Calinski-Harabasz score for  5  clusters is:  188.44671238493936\n",
      "Calinski-Harabasz score for  6  clusters is:  170.71228287165886\n",
      "Calinski-Harabasz score for  7  clusters is:  156.78900158277312\n",
      "Calinski-Harabasz score for  8  clusters is:  148.34451395616028\n",
      "Calinski-Harabasz score for  9  clusters is:  139.35455842538653\n",
      "Best number of clusters for class 73: 2\n",
      "Number of training data collected:  179\n",
      "Collecting training data in parallel mode\n"
     ]
    },
    {
     "data": {
      "application/vnd.jupyter.widget-view+json": {
       "model_id": "e95fa5ff5cc2449ab112ed7b4f8c4d08",
       "version_major": 2,
       "version_minor": 0
      },
      "text/plain": [
       "  0%|          | 0/179 [00:00<?, ?it/s]"
      ]
     },
     "metadata": {},
     "output_type": "display_data"
    },
    {
     "name": "stderr",
     "output_type": "stream",
     "text": [
      "/usr/local/lib/python3.8/dist-packages/odc/algo/_geomedian.py:106: RuntimeWarning: Mean of empty slice\n",
      "  data = nangeomedian_pcm(xx_data, **kw)\n",
      "/usr/local/lib/python3.8/dist-packages/odc/algo/_geomedian.py:106: RuntimeWarning: Mean of empty slice\n",
      "  data = nangeomedian_pcm(xx_data, **kw)\n"
     ]
    },
    {
     "name": "stdout",
     "output_type": "stream",
     "text": [
      "Percentage of possible fails after run 1 = 0.0 %\n",
      "Removed 0 rows wth NaNs &/or Infs\n",
      "Output shape:  (179, 69)\n",
      "Number of training data after removing Nans and Infs:  179\n",
      "Number of training data after filtering:  179\n",
      "Processing class  77\n",
      "stratified random sampling from tile  0\n",
      "Class 77: sampled at 5 coordinates\n",
      "stratified random sampling from tile  1\n",
      "Class 77: sampled at 67 coordinates\n",
      "stratified random sampling from tile  2\n",
      "Class 77: sampled at 109 coordinates\n",
      "stratified random sampling from tile  3\n",
      "Class 77: sampled at 200 coordinates\n",
      "stratified random sampling from tile  4\n",
      "Class 77: sampled at 254 coordinates\n",
      "stratified random sampling from tile  5\n",
      "Class 77: sampled at 191 coordinates\n",
      "stratified random sampling from tile  6\n",
      "Class 77: sampled at 86 coordinates\n",
      "stratified random sampling from tile  7\n",
      "Class 77: sampled at 1 coordinates\n",
      "stratified random sampling from tile  8\n",
      "Class 77: sampled at 32 coordinates\n",
      "stratified random sampling from tile  9\n",
      "Class 77: sampled at 6 coordinates\n",
      "radomly sampled points for class  77 \n",
      "                             geometry  LC_Class_I\n",
      "0     POINT (268189.746 8338703.086)          77\n",
      "1     POINT (357335.033 8366424.919)          77\n",
      "2     POINT (692174.139 8636357.199)          77\n",
      "3     POINT (422996.590 8410344.431)          77\n",
      "4     POINT (523317.695 8335190.687)          77\n",
      "..                               ...         ...\n",
      "946  POINT (1292166.159 8278523.844)          77\n",
      "947  POINT (1282205.089 8284152.733)          77\n",
      "948  POINT (1285800.505 8282826.555)          77\n",
      "949  POINT (1247812.872 8302660.284)          77\n",
      "950  POINT (1291075.746 8283622.261)          77\n",
      "\n",
      "[951 rows x 2 columns]\n",
      "Collecting training data in parallel mode\n"
     ]
    },
    {
     "data": {
      "application/vnd.jupyter.widget-view+json": {
       "model_id": "513a0136bfd94191827756b35d74fc54",
       "version_major": 2,
       "version_minor": 0
      },
      "text/plain": [
       "  0%|          | 0/951 [00:00<?, ?it/s]"
      ]
     },
     "metadata": {},
     "output_type": "display_data"
    },
    {
     "name": "stderr",
     "output_type": "stream",
     "text": [
      "/usr/local/lib/python3.8/dist-packages/odc/algo/_geomedian.py:106: RuntimeWarning: Mean of empty slice\n",
      "  data = nangeomedian_pcm(xx_data, **kw)\n",
      "/usr/local/lib/python3.8/dist-packages/odc/algo/_geomedian.py:106: RuntimeWarning: Mean of empty slice\n",
      "  data = nangeomedian_pcm(xx_data, **kw)\n",
      "/usr/local/lib/python3.8/dist-packages/odc/algo/_geomedian.py:106: RuntimeWarning: Mean of empty slice\n",
      "  data = nangeomedian_pcm(xx_data, **kw)\n",
      "/usr/local/lib/python3.8/dist-packages/odc/algo/_geomedian.py:106: RuntimeWarning: Mean of empty slice\n",
      "  data = nangeomedian_pcm(xx_data, **kw)\n",
      "/usr/local/lib/python3.8/dist-packages/odc/algo/_geomedian.py:106: RuntimeWarning: Mean of empty slice\n",
      "  data = nangeomedian_pcm(xx_data, **kw)\n",
      "/usr/local/lib/python3.8/dist-packages/odc/algo/_geomedian.py:106: RuntimeWarning: Mean of empty slice\n",
      "  data = nangeomedian_pcm(xx_data, **kw)\n",
      "/usr/local/lib/python3.8/dist-packages/odc/algo/_geomedian.py:106: RuntimeWarning: Mean of empty slice\n",
      "  data = nangeomedian_pcm(xx_data, **kw)\n",
      "/usr/local/lib/python3.8/dist-packages/odc/algo/_geomedian.py:106: RuntimeWarning: Mean of empty slice\n",
      "  data = nangeomedian_pcm(xx_data, **kw)\n",
      "/usr/local/lib/python3.8/dist-packages/odc/algo/_geomedian.py:106: RuntimeWarning: Mean of empty slice\n",
      "  data = nangeomedian_pcm(xx_data, **kw)\n",
      "/usr/local/lib/python3.8/dist-packages/odc/algo/_geomedian.py:106: RuntimeWarning: Mean of empty slice\n",
      "  data = nangeomedian_pcm(xx_data, **kw)\n"
     ]
    },
    {
     "name": "stdout",
     "output_type": "stream",
     "text": [
      "Percentage of possible fails after run 1 = 0.0 %\n",
      "Removed 0 rows wth NaNs &/or Infs\n",
      "Output shape:  (951, 67)\n",
      "Calinski-Harabasz score for  2  clusters is:  263.1298952799804\n",
      "Calinski-Harabasz score for  3  clusters is:  211.380583054828\n",
      "Calinski-Harabasz score for  4  clusters is:  182.6982333278258\n",
      "Calinski-Harabasz score for  5  clusters is:  168.29162238464247\n",
      "Calinski-Harabasz score for  6  clusters is:  153.63465083468543\n",
      "Calinski-Harabasz score for  7  clusters is:  143.11024906027197\n",
      "Calinski-Harabasz score for  8  clusters is:  137.3978190658095\n",
      "Calinski-Harabasz score for  9  clusters is:  130.73589384779683\n",
      "Best number of clusters for class 77: 2\n",
      "Number of training data collected:  142\n",
      "Collecting training data in parallel mode\n"
     ]
    },
    {
     "data": {
      "application/vnd.jupyter.widget-view+json": {
       "model_id": "394e3229eee248369e0133ee61d2da12",
       "version_major": 2,
       "version_minor": 0
      },
      "text/plain": [
       "  0%|          | 0/142 [00:00<?, ?it/s]"
      ]
     },
     "metadata": {},
     "output_type": "display_data"
    },
    {
     "name": "stderr",
     "output_type": "stream",
     "text": [
      "/usr/local/lib/python3.8/dist-packages/odc/algo/_geomedian.py:106: RuntimeWarning: Mean of empty slice\n",
      "  data = nangeomedian_pcm(xx_data, **kw)\n"
     ]
    },
    {
     "name": "stdout",
     "output_type": "stream",
     "text": [
      "Percentage of possible fails after run 1 = 0.0 %\n",
      "Removed 0 rows wth NaNs &/or Infs\n",
      "Output shape:  (142, 69)\n",
      "Number of training data after removing Nans and Infs:  142\n",
      "Number of training data after filtering:  142\n",
      "Processing class  33\n",
      "stratified random sampling from tile  0\n",
      "Class 33: sampled at 34 coordinates\n",
      "stratified random sampling from tile  1\n",
      "Class 33: sampled at 172 coordinates\n",
      "stratified random sampling from tile  2\n",
      "Class 33: sampled at 192 coordinates\n",
      "stratified random sampling from tile  3\n",
      "Class 33: sampled at 62 coordinates\n",
      "stratified random sampling from tile  4\n",
      "Class 33: sampled at 258 coordinates\n",
      "stratified random sampling from tile  5\n",
      "Class 33: sampled at 135 coordinates\n",
      "stratified random sampling from tile  6\n",
      "Class 33: sampled at 11 coordinates\n",
      "stratified random sampling from tile  7\n",
      "Class 33: sampled at 1 coordinates\n",
      "stratified random sampling from tile  8\n",
      "Class 33: sampled at 62 coordinates\n",
      "stratified random sampling from tile  9\n",
      "Class 33: sampled at 28 coordinates\n",
      "radomly sampled points for class  33 \n",
      "                             geometry  LC_Class_I\n",
      "0     POINT (282007.120 8335597.080)          33\n",
      "1     POINT (299133.698 8352607.545)          33\n",
      "2     POINT (445435.309 8404045.334)          33\n",
      "3     POINT (378902.910 8371911.230)          33\n",
      "4     POINT (276840.119 8359400.120)          33\n",
      "..                               ...         ...\n",
      "950  POINT (1272479.783 8244809.452)          33\n",
      "951  POINT (1210679.888 8265409.417)          33\n",
      "952  POINT (1219432.663 8208766.880)          33\n",
      "953  POINT (1254266.938 8283916.968)          33\n",
      "954  POINT (1218253.838 8268444.891)          33\n",
      "\n",
      "[955 rows x 2 columns]\n",
      "Collecting training data in parallel mode\n"
     ]
    },
    {
     "data": {
      "application/vnd.jupyter.widget-view+json": {
       "model_id": "ac44dd63df4b4106b9372fd5cf931e5a",
       "version_major": 2,
       "version_minor": 0
      },
      "text/plain": [
       "  0%|          | 0/955 [00:00<?, ?it/s]"
      ]
     },
     "metadata": {},
     "output_type": "display_data"
    },
    {
     "name": "stderr",
     "output_type": "stream",
     "text": [
      "/usr/local/lib/python3.8/dist-packages/odc/algo/_geomedian.py:106: RuntimeWarning: Mean of empty slice\n",
      "  data = nangeomedian_pcm(xx_data, **kw)\n",
      "/usr/local/lib/python3.8/dist-packages/odc/algo/_geomedian.py:106: RuntimeWarning: Mean of empty slice\n",
      "  data = nangeomedian_pcm(xx_data, **kw)\n",
      "/usr/local/lib/python3.8/dist-packages/odc/algo/_geomedian.py:106: RuntimeWarning: Mean of empty slice\n",
      "  data = nangeomedian_pcm(xx_data, **kw)\n"
     ]
    },
    {
     "name": "stdout",
     "output_type": "stream",
     "text": [
      "Percentage of possible fails after run 1 = 0.0 %\n",
      "Removed 0 rows wth NaNs &/or Infs\n",
      "Output shape:  (955, 67)\n",
      "Calinski-Harabasz score for  2  clusters is:  202.45257733513827\n",
      "Calinski-Harabasz score for  3  clusters is:  220.73434429877113\n",
      "Calinski-Harabasz score for  4  clusters is:  208.07140854991403\n",
      "Calinski-Harabasz score for  5  clusters is:  184.46193388194675\n",
      "Calinski-Harabasz score for  6  clusters is:  169.49738732238168\n",
      "Calinski-Harabasz score for  7  clusters is:  154.42600109188774\n",
      "Calinski-Harabasz score for  8  clusters is:  141.9545055399606\n",
      "Calinski-Harabasz score for  9  clusters is:  132.9902924595882\n",
      "Best number of clusters for class 33: 3\n",
      "Number of training data collected:  1025\n",
      "Collecting training data in parallel mode\n"
     ]
    },
    {
     "data": {
      "application/vnd.jupyter.widget-view+json": {
       "model_id": "2ef724ed307c40c384dce20abb779c79",
       "version_major": 2,
       "version_minor": 0
      },
      "text/plain": [
       "  0%|          | 0/1025 [00:00<?, ?it/s]"
      ]
     },
     "metadata": {},
     "output_type": "display_data"
    },
    {
     "name": "stderr",
     "output_type": "stream",
     "text": [
      "/usr/local/lib/python3.8/dist-packages/odc/algo/_geomedian.py:106: RuntimeWarning: Mean of empty slice\n",
      "  data = nangeomedian_pcm(xx_data, **kw)\n",
      "/usr/local/lib/python3.8/dist-packages/odc/algo/_geomedian.py:106: RuntimeWarning: Mean of empty slice\n",
      "  data = nangeomedian_pcm(xx_data, **kw)\n"
     ]
    },
    {
     "name": "stdout",
     "output_type": "stream",
     "text": [
      "Percentage of possible fails after run 1 = 0.0 %\n",
      "Removed 0 rows wth NaNs &/or Infs\n",
      "Output shape:  (1025, 69)\n",
      "Number of training data after removing Nans and Infs:  1025\n",
      "Number of training data after filtering:  1025\n",
      "Processing class  12\n",
      "stratified random sampling from tile  0\n",
      "Class 12: sampled at 57 coordinates\n",
      "stratified random sampling from tile  1\n",
      "Class 12: sampled at 173 coordinates\n",
      "stratified random sampling from tile  2\n",
      "Class 12: sampled at 100 coordinates\n",
      "stratified random sampling from tile  3\n",
      "Class 12: sampled at 84 coordinates\n",
      "stratified random sampling from tile  4\n",
      "Class 12: sampled at 143 coordinates\n",
      "stratified random sampling from tile  5\n",
      "Class 12: sampled at 270 coordinates\n",
      "stratified random sampling from tile  6\n",
      "Class 12: sampled at 20 coordinates\n",
      "stratified random sampling from tile  7\n",
      "Class 12: sampled at 2 coordinates\n",
      "stratified random sampling from tile  8\n",
      "Class 12: sampled at 83 coordinates\n",
      "stratified random sampling from tile  9\n",
      "Class 12: sampled at 22 coordinates\n",
      "radomly sampled points for class  12 \n",
      "                             geometry  LC_Class_I\n",
      "0     POINT (666571.357 8381142.165)          12\n",
      "1     POINT (600416.322 8369298.701)          12\n",
      "2     POINT (655192.342 8397078.591)          12\n",
      "3     POINT (644016.525 8402042.395)          12\n",
      "4     POINT (362647.175 8365466.992)          12\n",
      "..                               ...         ...\n",
      "949  POINT (1274896.374 8239062.680)          12\n",
      "950  POINT (1210679.888 8196182.924)          12\n",
      "951  POINT (1210296.770 8244455.804)          12\n",
      "952  POINT (1206023.529 8262197.119)          12\n",
      "953  POINT (1279552.733 8249318.457)          12\n",
      "\n",
      "[954 rows x 2 columns]\n",
      "Collecting training data in parallel mode\n"
     ]
    },
    {
     "data": {
      "application/vnd.jupyter.widget-view+json": {
       "model_id": "adbc89b59f7c426e9c38254854037d59",
       "version_major": 2,
       "version_minor": 0
      },
      "text/plain": [
       "  0%|          | 0/954 [00:00<?, ?it/s]"
      ]
     },
     "metadata": {},
     "output_type": "display_data"
    },
    {
     "name": "stderr",
     "output_type": "stream",
     "text": [
      "/usr/local/lib/python3.8/dist-packages/odc/algo/_geomedian.py:106: RuntimeWarning: Mean of empty slice\n",
      "  data = nangeomedian_pcm(xx_data, **kw)\n",
      "/usr/local/lib/python3.8/dist-packages/odc/algo/_geomedian.py:106: RuntimeWarning: Mean of empty slice\n",
      "  data = nangeomedian_pcm(xx_data, **kw)\n",
      "/usr/local/lib/python3.8/dist-packages/odc/algo/_geomedian.py:106: RuntimeWarning: Mean of empty slice\n",
      "  data = nangeomedian_pcm(xx_data, **kw)\n",
      "/usr/local/lib/python3.8/dist-packages/odc/algo/_geomedian.py:106: RuntimeWarning: Mean of empty slice\n",
      "  data = nangeomedian_pcm(xx_data, **kw)\n"
     ]
    },
    {
     "name": "stdout",
     "output_type": "stream",
     "text": [
      "Percentage of possible fails after run 1 = 0.0 %\n",
      "Removed 0 rows wth NaNs &/or Infs\n",
      "Output shape:  (954, 67)\n",
      "Calinski-Harabasz score for  2  clusters is:  344.38898201881494\n",
      "Calinski-Harabasz score for  3  clusters is:  267.5790789975694\n",
      "Calinski-Harabasz score for  4  clusters is:  231.9584701579376\n",
      "Calinski-Harabasz score for  5  clusters is:  197.25671967113348\n",
      "Calinski-Harabasz score for  6  clusters is:  176.64561993496068\n",
      "Calinski-Harabasz score for  7  clusters is:  162.06277689867426\n",
      "Calinski-Harabasz score for  8  clusters is:  153.68549492620872\n",
      "Calinski-Harabasz score for  9  clusters is:  144.18856972337215\n",
      "Best number of clusters for class 12: 2\n",
      "Number of training data collected:  856\n",
      "Collecting training data in parallel mode\n"
     ]
    },
    {
     "data": {
      "application/vnd.jupyter.widget-view+json": {
       "model_id": "7ec4024a11424c93ba65b7d501ba37ed",
       "version_major": 2,
       "version_minor": 0
      },
      "text/plain": [
       "  0%|          | 0/856 [00:00<?, ?it/s]"
      ]
     },
     "metadata": {},
     "output_type": "display_data"
    },
    {
     "name": "stderr",
     "output_type": "stream",
     "text": [
      "/usr/local/lib/python3.8/dist-packages/odc/algo/_geomedian.py:106: RuntimeWarning: Mean of empty slice\n",
      "  data = nangeomedian_pcm(xx_data, **kw)\n",
      "/usr/local/lib/python3.8/dist-packages/odc/algo/_geomedian.py:106: RuntimeWarning: Mean of empty slice\n",
      "  data = nangeomedian_pcm(xx_data, **kw)\n",
      "/usr/local/lib/python3.8/dist-packages/odc/algo/_geomedian.py:106: RuntimeWarning: Mean of empty slice\n",
      "  data = nangeomedian_pcm(xx_data, **kw)\n",
      "/usr/local/lib/python3.8/dist-packages/odc/algo/_geomedian.py:106: RuntimeWarning: Mean of empty slice\n",
      "  data = nangeomedian_pcm(xx_data, **kw)\n",
      "/usr/local/lib/python3.8/dist-packages/odc/algo/_geomedian.py:106: RuntimeWarning: Mean of empty slice\n",
      "  data = nangeomedian_pcm(xx_data, **kw)\n",
      "/usr/local/lib/python3.8/dist-packages/odc/algo/_geomedian.py:106: RuntimeWarning: Mean of empty slice\n",
      "  data = nangeomedian_pcm(xx_data, **kw)\n",
      "/usr/local/lib/python3.8/dist-packages/odc/algo/_geomedian.py:106: RuntimeWarning: Mean of empty slice\n",
      "  data = nangeomedian_pcm(xx_data, **kw)\n"
     ]
    },
    {
     "name": "stdout",
     "output_type": "stream",
     "text": [
      "Percentage of possible fails after run 1 = 0.0 %\n",
      "Removed 0 rows wth NaNs &/or Infs\n",
      "Output shape:  (856, 69)\n",
      "Number of training data after removing Nans and Infs:  856\n",
      "Number of training data after filtering:  856\n",
      "Processing class  79\n",
      "stratified random sampling from tile  0\n",
      "Class 79: sampled at 52 coordinates\n",
      "stratified random sampling from tile  1\n",
      "Class 79: sampled at 176 coordinates\n",
      "stratified random sampling from tile  2\n",
      "Class 79: sampled at 201 coordinates\n",
      "stratified random sampling from tile  3\n",
      "Class 79: sampled at 16 coordinates\n",
      "stratified random sampling from tile  4\n",
      "Class 79: sampled at 294 coordinates\n",
      "stratified random sampling from tile  5\n",
      "Class 79: sampled at 99 coordinates\n",
      "stratified random sampling from tile  6\n",
      "Class 79: sampled at 14 coordinates\n",
      "stratified random sampling from tile  7\n",
      "Class 79: sampled at 0 coordinates\n",
      "stratified random sampling from tile  8\n",
      "Class 79: sampled at 95 coordinates\n",
      "stratified random sampling from tile  9\n",
      "Class 79: sampled at 8 coordinates\n",
      "radomly sampled points for class  79 \n",
      "                             geometry  LC_Class_I\n",
      "0     POINT (389962.615 8358906.642)          79\n",
      "1     POINT (511183.950 8344015.228)          79\n",
      "2     POINT (266651.257 8347992.078)          79\n",
      "3     POINT (562418.543 8371185.527)          79\n",
      "4     POINT (225431.358 8347353.459)          79\n",
      "..                               ...         ...\n",
      "950  POINT (1231869.265 8275252.605)          79\n",
      "951  POINT (1268000.249 8311413.058)          79\n",
      "952  POINT (1229570.557 8290194.210)          79\n",
      "953  POINT (1233136.502 8269329.009)          79\n",
      "954  POINT (1223941.668 8256686.112)          79\n",
      "\n",
      "[955 rows x 2 columns]\n",
      "Collecting training data in parallel mode\n"
     ]
    },
    {
     "data": {
      "application/vnd.jupyter.widget-view+json": {
       "model_id": "24042b1214054cf09f3694cd15f65b38",
       "version_major": 2,
       "version_minor": 0
      },
      "text/plain": [
       "  0%|          | 0/955 [00:00<?, ?it/s]"
      ]
     },
     "metadata": {},
     "output_type": "display_data"
    },
    {
     "name": "stderr",
     "output_type": "stream",
     "text": [
      "/usr/local/lib/python3.8/dist-packages/odc/algo/_geomedian.py:106: RuntimeWarning: Mean of empty slice\n",
      "  data = nangeomedian_pcm(xx_data, **kw)\n",
      "/usr/local/lib/python3.8/dist-packages/odc/algo/_geomedian.py:106: RuntimeWarning: Mean of empty slice\n",
      "  data = nangeomedian_pcm(xx_data, **kw)\n",
      "/usr/local/lib/python3.8/dist-packages/odc/algo/_geomedian.py:106: RuntimeWarning: Mean of empty slice\n",
      "  data = nangeomedian_pcm(xx_data, **kw)\n",
      "/usr/local/lib/python3.8/dist-packages/odc/algo/_geomedian.py:106: RuntimeWarning: Mean of empty slice\n",
      "  data = nangeomedian_pcm(xx_data, **kw)\n",
      "/usr/local/lib/python3.8/dist-packages/odc/algo/_geomedian.py:106: RuntimeWarning: Mean of empty slice\n",
      "  data = nangeomedian_pcm(xx_data, **kw)\n",
      "/usr/local/lib/python3.8/dist-packages/odc/algo/_geomedian.py:106: RuntimeWarning: Mean of empty slice\n",
      "  data = nangeomedian_pcm(xx_data, **kw)\n",
      "/usr/local/lib/python3.8/dist-packages/odc/algo/_geomedian.py:106: RuntimeWarning: Mean of empty slice\n",
      "  data = nangeomedian_pcm(xx_data, **kw)\n"
     ]
    },
    {
     "name": "stdout",
     "output_type": "stream",
     "text": [
      "Percentage of possible fails after run 1 = 0.0 %\n",
      "Removed 0 rows wth NaNs &/or Infs\n",
      "Output shape:  (955, 67)\n",
      "Calinski-Harabasz score for  2  clusters is:  219.08174145002334\n",
      "Calinski-Harabasz score for  3  clusters is:  177.1694548155094\n",
      "Calinski-Harabasz score for  4  clusters is:  152.30262797520928\n",
      "Calinski-Harabasz score for  5  clusters is:  131.23684255658284\n",
      "Calinski-Harabasz score for  6  clusters is:  118.29335484965644\n",
      "Calinski-Harabasz score for  7  clusters is:  108.09255440971839\n",
      "Calinski-Harabasz score for  8  clusters is:  100.21518796224818\n",
      "Calinski-Harabasz score for  9  clusters is:  94.06067304999544\n",
      "Best number of clusters for class 79: 2\n",
      "Number of training data collected:  855\n",
      "Collecting training data in parallel mode\n"
     ]
    },
    {
     "data": {
      "application/vnd.jupyter.widget-view+json": {
       "model_id": "e3cc37c25b1f41c9a7934fe537055b15",
       "version_major": 2,
       "version_minor": 0
      },
      "text/plain": [
       "  0%|          | 0/855 [00:00<?, ?it/s]"
      ]
     },
     "metadata": {},
     "output_type": "display_data"
    },
    {
     "name": "stderr",
     "output_type": "stream",
     "text": [
      "/usr/local/lib/python3.8/dist-packages/odc/algo/_geomedian.py:106: RuntimeWarning: Mean of empty slice\n",
      "  data = nangeomedian_pcm(xx_data, **kw)\n",
      "/usr/local/lib/python3.8/dist-packages/odc/algo/_geomedian.py:106: RuntimeWarning: Mean of empty slice\n",
      "  data = nangeomedian_pcm(xx_data, **kw)\n",
      "/usr/local/lib/python3.8/dist-packages/odc/algo/_geomedian.py:106: RuntimeWarning: Mean of empty slice\n",
      "  data = nangeomedian_pcm(xx_data, **kw)\n",
      "/usr/local/lib/python3.8/dist-packages/odc/algo/_geomedian.py:106: RuntimeWarning: Mean of empty slice\n",
      "  data = nangeomedian_pcm(xx_data, **kw)\n",
      "/usr/local/lib/python3.8/dist-packages/odc/algo/_geomedian.py:106: RuntimeWarning: Mean of empty slice\n",
      "  data = nangeomedian_pcm(xx_data, **kw)\n",
      "/usr/local/lib/python3.8/dist-packages/odc/algo/_geomedian.py:106: RuntimeWarning: Mean of empty slice\n",
      "  data = nangeomedian_pcm(xx_data, **kw)\n",
      "/usr/local/lib/python3.8/dist-packages/odc/algo/_geomedian.py:106: RuntimeWarning: Mean of empty slice\n",
      "  data = nangeomedian_pcm(xx_data, **kw)\n",
      "/usr/local/lib/python3.8/dist-packages/odc/algo/_geomedian.py:106: RuntimeWarning: Mean of empty slice\n",
      "  data = nangeomedian_pcm(xx_data, **kw)\n"
     ]
    },
    {
     "name": "stdout",
     "output_type": "stream",
     "text": [
      "Percentage of possible fails after run 1 = 0.0 %\n",
      "Removed 0 rows wth NaNs &/or Infs\n",
      "Output shape:  (855, 69)\n",
      "Number of training data after removing Nans and Infs:  855\n",
      "Number of training data after filtering:  855\n",
      "Processing class  74\n",
      "stratified random sampling from tile  0\n",
      "Class 74: sampled at 39 coordinates\n",
      "stratified random sampling from tile  1\n",
      "Class 74: sampled at 130 coordinates\n",
      "stratified random sampling from tile  2\n",
      "Class 74: sampled at 132 coordinates\n",
      "stratified random sampling from tile  3\n",
      "Class 74: sampled at 10 coordinates\n",
      "stratified random sampling from tile  4\n",
      "Class 74: sampled at 324 coordinates\n",
      "stratified random sampling from tile  5\n",
      "Class 74: sampled at 234 coordinates\n",
      "stratified random sampling from tile  6\n",
      "Class 74: sampled at 10 coordinates\n",
      "stratified random sampling from tile  7\n",
      "Class 74: sampled at 0 coordinates\n",
      "stratified random sampling from tile  8\n",
      "Class 74: sampled at 63 coordinates\n",
      "stratified random sampling from tile  9\n",
      "Class 74: sampled at 12 coordinates\n",
      "radomly sampled points for class  74 \n",
      "                             geometry  LC_Class_I\n",
      "0     POINT (514783.434 8413479.466)          74\n",
      "1     POINT (261542.311 8342912.160)          74\n",
      "2     POINT (475682.587 8419604.394)          74\n",
      "3     POINT (488687.175 8343318.554)          74\n",
      "4     POINT (422880.478 8372898.185)          74\n",
      "..                               ...         ...\n",
      "949  POINT (1236378.271 8299595.339)          74\n",
      "950  POINT (1252616.584 8238650.091)          74\n",
      "951  POINT (1247017.165 8255713.582)          74\n",
      "952  POINT (1267676.072 8305076.875)          74\n",
      "953  POINT (1236643.506 8266912.418)          74\n",
      "\n",
      "[954 rows x 2 columns]\n",
      "Collecting training data in parallel mode\n"
     ]
    },
    {
     "data": {
      "application/vnd.jupyter.widget-view+json": {
       "model_id": "e3dcf9acb6da4f2abb2c3602872f557f",
       "version_major": 2,
       "version_minor": 0
      },
      "text/plain": [
       "  0%|          | 0/954 [00:00<?, ?it/s]"
      ]
     },
     "metadata": {},
     "output_type": "display_data"
    },
    {
     "name": "stderr",
     "output_type": "stream",
     "text": [
      "/usr/local/lib/python3.8/dist-packages/odc/algo/_geomedian.py:106: RuntimeWarning: Mean of empty slice\n",
      "  data = nangeomedian_pcm(xx_data, **kw)\n",
      "/usr/local/lib/python3.8/dist-packages/odc/algo/_geomedian.py:106: RuntimeWarning: Mean of empty slice\n",
      "  data = nangeomedian_pcm(xx_data, **kw)\n",
      "/usr/local/lib/python3.8/dist-packages/odc/algo/_geomedian.py:106: RuntimeWarning: Mean of empty slice\n",
      "  data = nangeomedian_pcm(xx_data, **kw)\n",
      "/usr/local/lib/python3.8/dist-packages/odc/algo/_geomedian.py:106: RuntimeWarning: Mean of empty slice\n",
      "  data = nangeomedian_pcm(xx_data, **kw)\n",
      "/usr/local/lib/python3.8/dist-packages/odc/algo/_geomedian.py:106: RuntimeWarning: Mean of empty slice\n",
      "  data = nangeomedian_pcm(xx_data, **kw)\n",
      "/usr/local/lib/python3.8/dist-packages/odc/algo/_geomedian.py:106: RuntimeWarning: Mean of empty slice\n",
      "  data = nangeomedian_pcm(xx_data, **kw)\n",
      "/usr/local/lib/python3.8/dist-packages/odc/algo/_geomedian.py:106: RuntimeWarning: Mean of empty slice\n",
      "  data = nangeomedian_pcm(xx_data, **kw)\n",
      "/usr/local/lib/python3.8/dist-packages/odc/algo/_geomedian.py:106: RuntimeWarning: Mean of empty slice\n",
      "  data = nangeomedian_pcm(xx_data, **kw)\n",
      "/usr/local/lib/python3.8/dist-packages/odc/algo/_geomedian.py:106: RuntimeWarning: Mean of empty slice\n",
      "  data = nangeomedian_pcm(xx_data, **kw)\n"
     ]
    },
    {
     "name": "stdout",
     "output_type": "stream",
     "text": [
      "Percentage of possible fails after run 1 = 0.0 %\n",
      "Removed 0 rows wth NaNs &/or Infs\n",
      "Output shape:  (954, 67)\n",
      "Calinski-Harabasz score for  2  clusters is:  210.81123291645844\n",
      "Calinski-Harabasz score for  3  clusters is:  160.943073873514\n",
      "Calinski-Harabasz score for  4  clusters is:  139.33387580525604\n",
      "Calinski-Harabasz score for  5  clusters is:  122.5377792656518\n",
      "Calinski-Harabasz score for  6  clusters is:  109.46475108341107\n",
      "Calinski-Harabasz score for  7  clusters is:  101.78136919673521\n",
      "Calinski-Harabasz score for  8  clusters is:  94.4284896177594\n",
      "Calinski-Harabasz score for  9  clusters is:  89.9081344196394\n",
      "Best number of clusters for class 74: 2\n",
      "Number of training data collected:  493\n",
      "Collecting training data in parallel mode\n"
     ]
    },
    {
     "data": {
      "application/vnd.jupyter.widget-view+json": {
       "model_id": "a4b02c5005af4d11b3cb3b6863ef7af2",
       "version_major": 2,
       "version_minor": 0
      },
      "text/plain": [
       "  0%|          | 0/493 [00:00<?, ?it/s]"
      ]
     },
     "metadata": {},
     "output_type": "display_data"
    },
    {
     "name": "stderr",
     "output_type": "stream",
     "text": [
      "/usr/local/lib/python3.8/dist-packages/odc/algo/_geomedian.py:106: RuntimeWarning: Mean of empty slice\n",
      "  data = nangeomedian_pcm(xx_data, **kw)\n",
      "/usr/local/lib/python3.8/dist-packages/odc/algo/_geomedian.py:106: RuntimeWarning: Mean of empty slice\n",
      "  data = nangeomedian_pcm(xx_data, **kw)\n",
      "/usr/local/lib/python3.8/dist-packages/odc/algo/_geomedian.py:106: RuntimeWarning: Mean of empty slice\n",
      "  data = nangeomedian_pcm(xx_data, **kw)\n",
      "/usr/local/lib/python3.8/dist-packages/odc/algo/_geomedian.py:106: RuntimeWarning: Mean of empty slice\n",
      "  data = nangeomedian_pcm(xx_data, **kw)\n"
     ]
    },
    {
     "name": "stdout",
     "output_type": "stream",
     "text": [
      "Percentage of possible fails after run 1 = 0.0 %\n",
      "Removed 0 rows wth NaNs &/or Infs\n",
      "Output shape:  (493, 69)\n",
      "Number of training data after removing Nans and Infs:  493\n",
      "Number of training data after filtering:  493\n",
      "Processing class  42\n",
      "stratified random sampling from tile  0\n",
      "Class 42: sampled at 5 coordinates\n",
      "stratified random sampling from tile  1\n",
      "Class 42: sampled at 129 coordinates\n",
      "stratified random sampling from tile  2\n",
      "Class 42: sampled at 126 coordinates\n",
      "stratified random sampling from tile  3\n",
      "Class 42: sampled at 97 coordinates\n",
      "stratified random sampling from tile  4\n",
      "Class 42: sampled at 159 coordinates\n",
      "stratified random sampling from tile  5\n",
      "Class 42: sampled at 351 coordinates\n",
      "stratified random sampling from tile  6\n",
      "Class 42: sampled at 27 coordinates\n",
      "stratified random sampling from tile  7\n",
      "Class 42: sampled at 6 coordinates\n",
      "stratified random sampling from tile  8\n",
      "Class 42: sampled at 36 coordinates\n",
      "stratified random sampling from tile  9\n",
      "Class 42: sampled at 15 coordinates\n",
      "radomly sampled points for class  42 \n",
      "                             geometry  LC_Class_I\n",
      "0     POINT (438062.173 8404683.952)          42\n",
      "1     POINT (687442.559 8626574.730)          42\n",
      "2     POINT (606802.504 8396004.551)          42\n",
      "3     POINT (510980.754 8420620.378)          42\n",
      "4     POINT (489064.540 8438501.686)          42\n",
      "..                               ...         ...\n",
      "946  POINT (1260603.122 8215839.830)          42\n",
      "947  POINT (1256447.764 8236410.324)          42\n",
      "948  POINT (1313326.066 8322258.248)          42\n",
      "949  POINT (1315330.068 8284801.086)          42\n",
      "950  POINT (1310762.122 8315656.828)          42\n",
      "\n",
      "[951 rows x 2 columns]\n",
      "Collecting training data in parallel mode\n"
     ]
    },
    {
     "data": {
      "application/vnd.jupyter.widget-view+json": {
       "model_id": "1dac115e8c0948239a1ae3bb0fc3af7b",
       "version_major": 2,
       "version_minor": 0
      },
      "text/plain": [
       "  0%|          | 0/951 [00:00<?, ?it/s]"
      ]
     },
     "metadata": {},
     "output_type": "display_data"
    }
   ],
   "source": [
    "td2021_filtered=None # filtered training data\n",
    "# filtering training data for each class\n",
    "# for i in lc_classes[8:]:\n",
    "for i in lc_classes:\n",
    "    #i=1 # test for first class\n",
    "    print('Processing class ',i)\n",
    "    gpd_samples=None\n",
    "    n_total=np.sum(rf_2017_raster.to_numpy()==i)\n",
    "    # generate randomly sampled data to fit and optimise a kmeans clusterer\n",
    "    for n in range(len(tile_bboxes)):\n",
    "        print('stratified random sampling from tile ',n)\n",
    "        da_mask=rf_2017_raster.rio.clip([tiles.iloc[n].geometry],crs=crs,drop=True)\n",
    "        da_mask=da_mask.rio.reproject(dst_crs=crs,resampling=Resampling.nearest)\n",
    "        n_samples_tile=n_samples*np.sum(da_mask.to_numpy()==i)/n_total\n",
    "        if n_samples_tile>0:\n",
    "            gpd_samples_tile=random_sampling(da_mask,n_samples_tile,sampling='manual',\n",
    "                                             manual_class_ratios={str(i):n_samples_tile},out_fname=None)\n",
    "            if gpd_samples is None:\n",
    "                gpd_samples=gpd_samples_tile\n",
    "            else:\n",
    "                gpd_samples=pd.concat([gpd_samples,gpd_samples_tile])\n",
    "    # get data array\n",
    "#     da_mask=da_mask.where(da_mask==i,np.nan) # replace other class values as nan so they won't be sampled (comment due to large memory required)\n",
    "#     gpd_samples=random_sampling(da_mask,n_samples,sampling='stratified_random',manual_class_ratios=None,out_fname=None)\n",
    "#     gpd_samples=random_sampling(da_mask,n_samples,sampling='manual',manual_class_ratios={str(i):n_samples},out_fname=None)\n",
    "    gpd_samples=gpd_samples.reset_index(drop=True).drop(columns=['spatial_ref','class']) # drop this attribute derived from random_sampling function\n",
    "    gpd_samples[class_name]=i # add attribute field so that we can use collect_training_data function\n",
    "    if gpd_samples.crs is None:\n",
    "        gpd_samples=gpd_samples.set_crs(crs)\n",
    "    print('radomly sampled points for class ',i,'\\n',gpd_samples)\n",
    "    # extract data for the random samples\n",
    "    column_names, sampled_data = collect_training_data(gdf=gpd_samples,\n",
    "                                                          dc_query=query,\n",
    "                                                          ncpus=ncpus,\n",
    "#                                                           ncpus=1,\n",
    "                                                          field=class_name, \n",
    "                                                          zonal_stats=zonal_stats,\n",
    "                                                          feature_func=feature_layers,\n",
    "                                                          return_coords=False)\n",
    "    # standardise features\n",
    "    scaler=scaler.fit(sampled_data[:,1:])\n",
    "    sampled_data=scaler.transform(sampled_data[:,1:])\n",
    "#     sampled_data[:,-6:]=sampled_data[:,-6:]*10000\n",
    "#     sampled_data=sampled_data[:,1:]\n",
    "    # fit kmeans model using the sample training data\n",
    "    # first find optimal number of clusters based on Calinski-Harabasz index\n",
    "    highest_score=-999\n",
    "    n_cluster_optimal=2\n",
    "    kmeans_model_optimal=None # initialise optimal model parameters\n",
    "    labels_optimal=None\n",
    "    for n_cluster in range(2,10):\n",
    "        kmeans_model = KMeans(n_clusters=n_cluster, random_state=1).fit(sampled_data)\n",
    "        labels=kmeans_model.predict(sampled_data)\n",
    "        score=metrics.calinski_harabasz_score(sampled_data, labels)\n",
    "#         score=metrics.davies_bouldin_score(sampled_data, labels)\n",
    "        print('Calinski-Harabasz score for ',n_cluster,' clusters is: ',score)\n",
    "#         print('Davies-Bouldin score for ',n_cluster,' clusters is: ',score)\n",
    "        if (highest_score==-999)or(highest_score<score):\n",
    "#         if (highest_score==-999)or(highest_score>score):\n",
    "            highest_score=score\n",
    "            n_cluster_optimal=n_cluster\n",
    "            kmeans_model_optimal=kmeans_model\n",
    "            labels_optimal=labels\n",
    "    print('Best number of clusters for class %s: %s'%(i,n_cluster_optimal))\n",
    "    \n",
    "    # subset original training points for this class\n",
    "    td_single_class=training_data2017[training_data2017[class_name]==i].reset_index(drop=True)\n",
    "    print('Number of training data collected: ',len(td_single_class))\n",
    "    column_names, model_input = collect_training_data(gdf=td_single_class,\n",
    "                                                      dc_query=query,\n",
    "                                                      ncpus=ncpus,\n",
    "                                                      field=class_name,\n",
    "                                                      zonal_stats=zonal_stats,\n",
    "                                                      feature_func=feature_layers,\n",
    "                                                      clean=True,\n",
    "                                                      return_coords=True)\n",
    "    print('Number of training data after removing Nans and Infs: ',model_input.shape[0])\n",
    "    # first covert the training data to pandas\n",
    "    td_single_class_filtered=pd.DataFrame(data=model_input,columns=column_names)\n",
    "    # then to geopandas dataframe\n",
    "    td_single_class_filtered=gpd.GeoDataFrame(td_single_class_filtered, \n",
    "                                    geometry=gpd.points_from_xy(model_input[:,-2], model_input[:,-1],\n",
    "                                                                crs=crs))\n",
    "    # normalisation before clustering\n",
    "    model_input=scaler.transform(model_input[:,1:-2])\n",
    "#     model_input=model_input[:,1:-2]\n",
    "#     model_input[:,-6:]=model_input[:,-6:]*10000\n",
    "    # predict clustering labels\n",
    "    labels_kmeans = kmeans_model_optimal.predict(model_input)\n",
    "    # append clustering results to pixel coordinates\n",
    "    td_single_class_filtered['cluster']=labels_kmeans\n",
    "    # append frequency of each cluster\n",
    "#     labels_optimal=pd.DataFrame(data=labels_optimal,columns=['cluster']) # calculate cluster frequencies of the random samples\n",
    "#     cluster_frequency=td_single_class_filtered['cluster'].map(labels_optimal['cluster'].value_counts(normalize=True))\n",
    "    cluster_frequency=td_single_class_filtered['cluster'].map(td_single_class_filtered['cluster'].value_counts(normalize=True))\n",
    "    td_single_class_filtered['cluster_frequency']=cluster_frequency\n",
    "#     print('filtered training data: \\n',td_single_class_filtered[td_single_class_filtered['cluster_frequency']<frequency_threshold])\n",
    "    # filter by cluster frequency\n",
    "    td_single_class_filtered=td_single_class_filtered[td_single_class_filtered['cluster_frequency']>=frequency_threshold]\n",
    "    print('Number of training data after filtering: ',len(td_single_class_filtered))\n",
    "    # export filtered training data for this class as shapefile (will encounter 10-character limit for attributes)\n",
    "#     td_single_class_filtered.to_file('Results/landcover_td2021_filtered_DEAfrica_new_class_'+str(i)+'.shp')\n",
    "    # export filtered training data for this class as geojson file\n",
    "#     td_single_class_filtered.to_file('Results/landcover_td2021_filtered_class_'+str(i)+'.geojson', driver=\"GeoJSON\")\n",
    "    td_single_class_filtered.to_file('Results/stratified_random_training_points_lulc_2016_balanced_2021_filtered_class_'+str(i)+'.geojson', driver=\"GeoJSON\")\n",
    "    # append the filtered training points of this class to final filtered training data\n",
    "    if td2021_filtered is None:\n",
    "        td2021_filtered=td_single_class_filtered\n",
    "    else:\n",
    "        td2021_filtered=pd.concat([td2021_filtered, td_single_class_filtered])\n",
    "        \n",
    "# save training data for all classes\n",
    "print('filtered training data for 2021:\\n',td2021_filtered)\n",
    "# td2021_filtered.to_file('Results/landcover_td2021_filtered.geojson', driver=\"GeoJSON\")\n",
    "td2021_filtered.to_file('Results/stratified_random_training_points_lulc_2016_balanced_2021_filtered.geojson', driver=\"GeoJSON\")\n",
    "\n",
    "# export the filtered training data as txt file\n",
    "# output_file = \"Results/landcover_td2021_filtered.txt\"\n",
    "output_file = \"Results/stratified_random_training_points_lulc_2016_balanced_2021_filtered.txt\"\n",
    "td2021_filtered.to_csv(output_file, header=True, index=None, sep=' ')"
   ]
  },
  {
   "cell_type": "code",
   "execution_count": 4,
   "id": "2f6928c4-c6d6-4bf0-b653-c94666236a74",
   "metadata": {},
   "outputs": [],
   "source": [
    "td_single_class_filtered=gpd.read_file(\"Results/stratified_random_training_points_lulc_2016_balanced_2021_filtered_removing_nans.geojson\")\n",
    "output_file = \"Results/stratified_random_training_points_lulc_2016_balanced_2021_filtered_removing_nans.txt\"\n",
    "td_single_class_filtered.to_csv(output_file, header=True, index=None, sep=' ')"
   ]
  },
  {
   "cell_type": "code",
   "execution_count": null,
   "id": "48964c81-7771-4b97-936d-a6e93da4c576",
   "metadata": {},
   "outputs": [],
   "source": []
  }
 ],
 "metadata": {
  "kernelspec": {
   "display_name": "Python 3 (ipykernel)",
   "language": "python",
   "name": "python3"
  },
  "language_info": {
   "codemirror_mode": {
    "name": "ipython",
    "version": 3
   },
   "file_extension": ".py",
   "mimetype": "text/x-python",
   "name": "python",
   "nbconvert_exporter": "python",
   "pygments_lexer": "ipython3",
   "version": "3.8.10"
  }
 },
 "nbformat": 4,
 "nbformat_minor": 5
}

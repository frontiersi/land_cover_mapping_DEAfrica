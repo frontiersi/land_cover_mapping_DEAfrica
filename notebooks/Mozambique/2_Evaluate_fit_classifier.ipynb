{
 "cells": [
  {
   "cell_type": "markdown",
   "id": "5f209b0f",
   "metadata": {},
   "source": [
    "This notebooks implements fitting of a randome forest classifier using filtered training features, evaluate classification performance through cross validation and save fitted classifier."
   ]
  },
  {
   "cell_type": "markdown",
   "id": "a990d69b",
   "metadata": {},
   "source": [
    "### load packages"
   ]
  },
  {
   "cell_type": "code",
   "execution_count": null,
   "id": "aa8fdcdc",
   "metadata": {},
   "outputs": [],
   "source": [
    "%matplotlib inline\n",
    "import os\n",
    "import datacube\n",
    "import warnings\n",
    "import numpy as np\n",
    "import pandas as pd\n",
    "import geopandas as gpd\n",
    "import matplotlib.pyplot as plt\n",
    "from odc.io.cgroups import get_cpu_quota\n",
    "import xarray as xr\n",
    "from sklearn.ensemble import RandomForestClassifier\n",
    "from sklearn import model_selection\n",
    "from sklearn.metrics import accuracy_score,cohen_kappa_score,confusion_matrix,ConfusionMatrixDisplay,balanced_accuracy_score\n",
    "from sklearn.metrics import  precision_score, recall_score\n",
    "from joblib import dump\n",
    "\n",
    "ncpus=round(get_cpu_quota())\n",
    "print('ncpus = '+str(ncpus))"
   ]
  },
  {
   "cell_type": "markdown",
   "id": "9140f805",
   "metadata": {},
   "source": [
    "### load training data and set parameters"
   ]
  },
  {
   "cell_type": "code",
   "execution_count": null,
   "id": "a1516afc",
   "metadata": {},
   "outputs": [],
   "source": [
    "dict_map_merged={11:'Tree crops',12:'Field crops',21:'Forest plantations',31:'Grassland',\n",
    "                 41:'Aquatic or regularly flooded herbaceous vegetation',44:'Water body',\n",
    "                 51:'Settlements',61:'Bare soils',70:'Mangrove',71:'Mecrusse',\n",
    "                72:'Broadleaved (Semi-) evergreen forest',75:'Mopane',\n",
    "                 74:'Broadleaved (Semi-) deciduous forest'} # dictionary of merged classes\n",
    "# training_data='Results/train_poly_848_20171124_signatures_2021_filtered.txt'\n",
    "training_data='Results/train_poly_848_20171124_signatures_2021_force_15pct_filtered.txt'\n",
    "measurements = ['blue','green','red','red_edge_1','red_edge_2', 'red_edge_3','nir_1','swir_1','swir_2','NDVI']\n",
    "measurements_MAD=['smad','emad','bcmad']\n",
    "# class_name = 'LC_Class_I' # class label in integer format\n",
    "class_name = 'Class_I' # class label in integer format\n",
    "column_names=[class_name]\n",
    "for measurement in measurements:\n",
    "    for i in range(6):\n",
    "        column_names.append(measurement+'_'+str(i))\n",
    "for measurement in measurements_MAD:\n",
    "    for i in range(2):\n",
    "        column_names.append(measurement+'_'+str(i))\n",
    "# load training data as dataframe\n",
    "df_training_data= pd.read_csv(training_data,delimiter=' ')\n",
    "df_training_data=df_training_data[column_names]\n",
    "print(df_training_data)"
   ]
  },
  {
   "cell_type": "markdown",
   "id": "1e7b80ce",
   "metadata": {},
   "source": [
    "### plot training samples distribution"
   ]
  },
  {
   "cell_type": "code",
   "execution_count": null,
   "id": "39d852da",
   "metadata": {},
   "outputs": [],
   "source": [
    "class_counts=df_training_data[class_name].value_counts()\n",
    "class_indices=class_counts.index\n",
    "class_legends=[dict_map_merged[class_indices[i]] for i in range(len(class_indices))]\n",
    "# class_legends=[dict_map[class_indices[i]] for i in range(len(class_indices))]\n",
    "plt.figure(figsize=(15,5))\n",
    "ax=plt.bar(class_legends,height=class_counts.to_numpy())\n",
    "plt.bar_label(ax)\n",
    "plt.gca().set_ylabel('Number of training samples')\n",
    "plt.gca().set_xlabel('Land cover class')\n",
    "plt.gca().tick_params(axis='x', rotation=45)"
   ]
  },
  {
   "cell_type": "markdown",
   "id": "3700590b",
   "metadata": {},
   "source": [
    "### grid search to find optimal hyperparameters"
   ]
  },
  {
   "cell_type": "code",
   "execution_count": null,
   "id": "2079367c",
   "metadata": {},
   "outputs": [],
   "source": [
    "# convert to numpy array\n",
    "model_input=df_training_data.to_numpy()\n",
    "# grid search to find optimal random forest classifier hyperparameters\n",
    "cv=model_selection.StratifiedShuffleSplit(n_splits=5,random_state=1) # stratified shuffle K-fold splitting\n",
    "rf = RandomForestClassifier()\n",
    "grid_parameters={'n_estimators': [int(x) for x in np.linspace(start = 50, stop = 400, num = 15)],\n",
    "                 'max_samples':[0.3,0.5,1],'min_samples_split':[2,4,8],'max_features': ['sqrt', 'log2'],\n",
    "                'class_weight':['balanced', None]}\n",
    "print('Grid searching best hyper-parameters...')\n",
    "grid_search=model_selection.GridSearchCV(estimator = rf,param_grid=grid_parameters,cv=cv,n_jobs=ncpus)\n",
    "grid_search.fit(model_input[:,1:],model_input[:,0])\n",
    "print('Optimal parameters: \\n',grid_search.best_params_)\n",
    "rf = RandomForestClassifier(**grid_search.best_params_, random_state=1, n_jobs=ncpus)"
   ]
  },
  {
   "cell_type": "markdown",
   "id": "c22058f5",
   "metadata": {},
   "source": [
    "### fit classifier using the optimised hyperparameters"
   ]
  },
  {
   "cell_type": "code",
   "execution_count": null,
   "id": "c4ae6800",
   "metadata": {},
   "outputs": [],
   "source": [
    "# fit classifier using all features\n",
    "rf=RandomForestClassifier(n_estimators=100,max_samples=0.5,min_samples_leaf=1,bootstrap=True)\n",
    "rf.fit(model_input[:,1:],model_input[:,0])"
   ]
  },
  {
   "cell_type": "markdown",
   "id": "961d6d51",
   "metadata": {},
   "source": [
    "### plot feature importance"
   ]
  },
  {
   "cell_type": "code",
   "execution_count": null,
   "id": "eaf2eba1",
   "metadata": {},
   "outputs": [],
   "source": [
    "# most important features\n",
    "feat_importance_indices=np.argsort(rf.feature_importances_)[-10:]\n",
    "print('most importance features: \\n',df_training_data.columns[1:][feat_importance_indices])\n",
    "plt.figure(figsize=(5,30))\n",
    "order=np.argsort(rf.feature_importances_)\n",
    "plt.barh(y=np.array(df_training_data.columns[1:])[order],width=rf.feature_importances_[order])\n",
    "plt.gca().set_ylabel('Importance', labelpad=10)\n",
    "plt.gca().set_xlabel('Variable', labelpad=10)"
   ]
  },
  {
   "cell_type": "markdown",
   "id": "fdb1508a",
   "metadata": {},
   "source": [
    "### save the fitted model"
   ]
  },
  {
   "cell_type": "code",
   "execution_count": null,
   "id": "3678f1fa",
   "metadata": {},
   "outputs": [],
   "source": [
    "# dump(rf, 'Results/RF_model_Mozambique_2017.joblib')\n",
    "# dump(rf, 'Results/RF_model_Mozambique_2021.joblib')\n",
    "dump(rf, 'Results/RF_model_using_filtered_15ptc_td_Mozambique_2021.joblib')"
   ]
  },
  {
   "cell_type": "markdown",
   "id": "74796c7f",
   "metadata": {},
   "source": [
    "### evaluate performance"
   ]
  },
  {
   "cell_type": "code",
   "execution_count": null,
   "id": "4192b293-4aa7-4a21-9b93-5fe8bdf726ac",
   "metadata": {},
   "outputs": [],
   "source": [
    "model_input_selected=model_input\n",
    "skf=model_selection.StratifiedKFold(n_splits=5,shuffle=True,random_state=1) # stratified K-fold splitting\n",
    "# skf=model_selection.StratifiedKFold(n_splits=5,shuffle=False) # stratified K-fold splitting\n",
    "overall_acc=model_selection.cross_val_score(rf,model_input_selected[:,1:],model_input_selected[:,0],cv=skf,scoring='accuracy')\n",
    "print('Overall accuracy from cv scores: ',np.mean(overall_acc))\n",
    "f1_macro=model_selection.cross_val_score(rf,model_input_selected[:,1:],model_input_selected[:,0],cv=skf,scoring='f1_macro')\n",
    "print('f1_macro from cv scores: ',np.mean(f1_macro))\n",
    "# print('Overall accuracy: ',np.mean(overall_acc)*100,'%')\n",
    "cv_results=model_selection.cross_validate(rf,model_input_selected[:,1:],model_input_selected[:,0],cv=skf)\n",
    "print('Overall accuracy from cv: ',np.mean(cv_results['test_score']))\n",
    "predictions=model_selection.cross_val_predict(rf,model_input_selected[:,1:],model_input_selected[:,0],cv=skf)\n",
    "print('Overall accuracy from cv predict: ',accuracy_score(model_input_selected[:, 0],predictions))\n",
    "\n",
    "# values=list(dict_map.keys())\n",
    "values=list(dict_map_merged.keys())\n",
    "precision=precision_score(model_input_selected[:,0],predictions,labels=values,average=None)\n",
    "# print('Precision for each class: \\n',dict(zip([dict_map[value] for value in values],np.around(precision,3))))\n",
    "print('Precision for each class: \\n',dict(zip([dict_map_merged[value] for value in values],np.around(precision,3))))\n",
    "\n",
    "recall=recall_score(model_input_selected[:,0],predictions,labels=values,average=None)\n",
    "# print('Recall for each class: \\n',dict(zip([dict_map[value] for value in values],np.around(recall,3))))\n",
    "print('Recall for each class: \\n',dict(zip([dict_map_merged[value] for value in values],np.around(recall,3))))\n",
    "\n",
    "cm=confusion_matrix(model_input_selected[:, 0], predictions)\n",
    "# disp=ConfusionMatrixDisplay(confusion_matrix=cm,display_labels=[dict_map[rf.classes_[i]] for i in range(len(rf.classes_))])\n",
    "disp=ConfusionMatrixDisplay(confusion_matrix=cm,display_labels=[dict_map_merged[rf.classes_[i]] for i in range(len(rf.classes_))])\n",
    "print('Confusion matrix:\\n')\n",
    "fig, ax = plt.subplots(figsize=(15,15))\n",
    "disp.plot(ax=ax)"
   ]
  }
 ],
 "metadata": {
  "kernelspec": {
   "display_name": "Python 3.7.12 ('geoenv')",
   "language": "python",
   "name": "python3"
  },
  "language_info": {
   "codemirror_mode": {
    "name": "ipython",
    "version": 3
   },
   "file_extension": ".py",
   "mimetype": "text/x-python",
   "name": "python",
   "nbconvert_exporter": "python",
   "pygments_lexer": "ipython3",
   "version": "3.7.12"
  },
  "vscode": {
   "interpreter": {
    "hash": "01a9736267bf300689e8e016092cd01f0c67384dd94651ae6e139a291bc8cc97"
   }
  }
 },
 "nbformat": 4,
 "nbformat_minor": 5
}

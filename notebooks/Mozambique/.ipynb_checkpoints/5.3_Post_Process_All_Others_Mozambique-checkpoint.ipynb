{
 "cells": [
  {
   "cell_type": "code",
   "execution_count": 4,
   "id": "a1fb5d20-1648-45df-a3b8-f665cced018d",
   "metadata": {},
   "outputs": [
    {
     "name": "stdout",
     "output_type": "stream",
     "text": [
      "Lethoso bbox:  27.011232336601374 -30.67784748254426 29.4573649650311 -28.57059736718119\n"
     ]
    }
   ],
   "source": [
    "%matplotlib inline\n",
    "import os\n",
    "import datacube\n",
    "import warnings\n",
    "import numpy as np\n",
    "import geopandas as gpd\n",
    "import pandas as pd\n",
    "import xarray as xr\n",
    "import rioxarray\n",
    "from rasterio.enums import Resampling\n",
    "from datacube.utils.cog import write_cog\n",
    "from deafrica_tools.spatial import xr_rasterize\n",
    "from skimage.morphology import binary_dilation,disk\n",
    "from skimage.filters.rank import modal\n",
    "from odc.algo import xr_reproject\n",
    "import matplotlib.pyplot as plt\n",
    "\n",
    "crs='epsg:32736' # WGS84/UTM Zone 36S\n",
    "dict_map={'Water':1,'Cropland':2,'Trees':3,'Bare Surface':4,'Shrubland/Grassland':5,'Irrigated Cropland':6,'Settlements':7} # class value dictionary\n",
    "# file paths and attributes\n",
    "lesotho_shp='Data/Mozambique_boundary.shp' # Lesotho boundary shapefile\n",
    "lesotho_tiles_shp='Data/Mozambique_tiles.shp' # Lesotho tiles shapefile\n",
    "river_network_shp='Data/hotosm_moz_waterways_lines_filtered.shp' # OSM river network data\n",
    "road_network_shp='Data/hotosm_moz_roads_lines_filtered.shp' # OSM road network data\n",
    "google_building_layer='Data/GoogleBuildingLayer_Mozambique_rasterised.tif' # google bulding layer\n",
    "classification2021_raster='Results/Land_cover2021_postproc_step2_mosaic.tif' # land cover map of 2021\n",
    "hand_raster='Data/hand_Mozambique.tif' # Hydrologically adjusted elevations, i.e. height above the nearest drainage (hand)\n",
    "\n",
    "# import Lesotho boundaries and get bounding box\n",
    "lesotho_polygon=gpd.read_file(lesotho_shp)\n",
    "[x_min,y_min,x_max,y_max]=lesotho_polygon.total_bounds\n",
    "print('Lethoso bbox: ',x_min,y_min,x_max,y_max)\n",
    "lesotho_tiles=gpd.read_file(lesotho_tiles_shp).to_crs(crs) # get bounding boxes of tiles covering Lesotho\n",
    "tile_bboxes=lesotho_tiles.bounds\n",
    "\n",
    "# load land cover maps\n",
    "landcover2021=rioxarray.open_rasterio(classification2021_raster).astype(np.uint8).squeeze() # import land cover map of 2021\n",
    "landcover2021=landcover2021.rio.reproject(crs) # reproject land cover map 2021\n",
    "\n",
    "# load external layers\n",
    "road_network=gpd.read_file(road_network_shp).to_crs(crs) # import OSM road network data and reproject\n",
    "road_network=road_network.loc[road_network['surface'].isin(['asphalt', 'paved', 'compacted', 'cobblestone', \n",
    "                                                             'concrete', 'metal', 'paving_stones', \n",
    "                                                             'paving_stones:30'])] # select road network by attributes\n",
    "road_network.geometry=road_network.geometry.buffer(10) # buffer the road network by 10m\n",
    "river_network=gpd.read_file(river_network_shp).to_crs(crs) # import OSM river network data and reproject\n",
    "river_network=river_network.loc[river_network['waterway'].isin(['canal','river'])] # select river network by attribute\n",
    "hand=xr.open_dataset(hand_raster,engine=\"rasterio\").squeeze() # import hand layer\n",
    "google_buildings=xr.open_dataset(google_building_layer,engine=\"rasterio\").squeeze() # read in google bulding mask layer"
   ]
  },
  {
   "cell_type": "code",
   "execution_count": 5,
   "id": "c77d5018-3925-49cf-b357-d28bc8109b09",
   "metadata": {},
   "outputs": [
    {
     "name": "stdout",
     "output_type": "stream",
     "text": [
      "Processing tile  0 with bbox of  501087.1133 6738503.8032 551087.1133000001 6788503.8032\n",
      "Processing tile  1 with bbox of  501087.1133 6688533.8032 551087.1133000001 6738533.8032\n",
      "Processing tile  2 with bbox of  501087.1133 6638563.8032 551087.1133000001 6688563.8032\n"
     ]
    }
   ],
   "source": [
    "for i in range(len(tile_bboxes)):\n",
    "# for i in range(0,3):\n",
    "    x_min,y_min,x_max,y_max=tile_bboxes.iloc[i]\n",
    "    print('Processing tile ',i,'with bbox of ',x_min,y_min,x_max,y_max)\n",
    "    # clip land cover maps to tile boundary\n",
    "    landcover2021_tile=landcover2021.rio.clip_box(minx=x_min,miny=y_min,maxx=x_max,maxy=y_max)\n",
    "    ds_geobox=landcover2021_tile.geobox\n",
    "    np_landcover2021=landcover2021_tile.squeeze().to_numpy()\n",
    "    np_landcover2021_post=np_landcover2021.copy()\n",
    "    # mode filtering for a smoother classification map\n",
    "    np_landcover2021_post=modal(np_landcover2021,selem=disk(2.5),mask=np_landcover2021!=0)\n",
    "    # load hand layer\n",
    "    hand=xr_reproject(hand, ds_geobox, resampling=\"average\")\n",
    "    np_hand=hand.to_array().squeeze().to_numpy()\n",
    "    # Make sure water is (only occuring at bottom of watersheds) or fallen within OSM river networks\n",
    "    river_network_mask=xr_rasterize(gdf=river_network,\n",
    "                                      da=landcover2021_tile.squeeze(),\n",
    "                                      transform=ds_geobox.transform,\n",
    "                                      crs=crs)\n",
    "    np_river_network_mask=river_network_mask.to_numpy()\n",
    "    np_landcover2021_post[((np_landcover2021==dict_map['Water'])&(np_hand<=45))|(np_river_network_mask==1)]=dict_map['Water']\n",
    "    # assign pixels overlapping google building polygons as built-up\n",
    "    google_buildings_mask=xr_reproject(google_buildings, ds_geobox, resampling=\"nearest\")\n",
    "    np_google_buildings_mask=google_buildings_mask.to_array().squeeze().to_numpy()\n",
    "    np_landcover2021_post[np_google_buildings_mask==1]=dict_map['Settlements']\n",
    "#     # reclassify wetlands around (within 50m of) built-up areas as croplands\n",
    "#     urban_buffered=binary_dilation(np_landcover2021==dict_map['Settlements'],selem=disk(5))\n",
    "#     np_landcover2021_post[(urban_buffered==1)&(np_landcover2021==dict_map['Vegetated Wetland'])]=dict_map['Cropland']\n",
    "    # assign pixesl overlapping OSM road network as built-up class\n",
    "    road_network_mask=xr_rasterize(gdf=road_network,\n",
    "                                  da=landcover2021_tile.squeeze(),\n",
    "                                  transform=ds_geobox.transform,\n",
    "                                  crs=crs)\n",
    "    np_road_network_mask=road_network_mask.to_numpy()\n",
    "    np_landcover2021_post[np_road_network_mask==1]=dict_map['Settlements']\n",
    "    # convert back result back to DataArray\n",
    "    landcover2021_tile_post=xr.DataArray(data=np_landcover2021_post,dims=['y','x'],coords={'y':landcover2021_tile.y.to_numpy(), 'x':landcover2021_tile.x.to_numpy()})\n",
    "    landcover2021_tile_post.rio.write_crs(crs, inplace=True)\n",
    "    # export as geotiff\n",
    "    write_cog(landcover2021_tile_post, 'Results/Land_cover2021_postproc_step3_tile_'+str(i)+'.tif', overwrite=True)"
   ]
  },
  {
   "cell_type": "code",
   "execution_count": 6,
   "id": "880214b8-3feb-4e43-a443-6aca932d0590",
   "metadata": {},
   "outputs": [
    {
     "name": "stdout",
     "output_type": "stream",
     "text": [
      "0...10...20...30...40...50...60...70...80...90...100 - done.\n"
     ]
    }
   ],
   "source": [
    "! gdal_merge.py -o Results/Land_cover2021_postproc_step3_mosaic.tif -co COMPRESS=Deflate -ot Byte Results/Land_cover2021_postproc_step3_tile_*.tif"
   ]
  },
  {
   "cell_type": "code",
   "execution_count": null,
   "id": "b058a2b7-83a2-4925-8327-614ae1e799d9",
   "metadata": {},
   "outputs": [],
   "source": []
  }
 ],
 "metadata": {
  "kernelspec": {
   "display_name": "Python 3 (ipykernel)",
   "language": "python",
   "name": "python3"
  },
  "language_info": {
   "codemirror_mode": {
    "name": "ipython",
    "version": 3
   },
   "file_extension": ".py",
   "mimetype": "text/x-python",
   "name": "python",
   "nbconvert_exporter": "python",
   "pygments_lexer": "ipython3",
   "version": "3.8.10"
  }
 },
 "nbformat": 4,
 "nbformat_minor": 5
}

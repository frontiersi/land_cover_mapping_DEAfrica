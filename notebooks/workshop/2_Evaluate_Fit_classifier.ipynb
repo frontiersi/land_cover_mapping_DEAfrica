{
 "cells": [
  {
   "cell_type": "markdown",
   "id": "03e34a93-c6d5-443f-9682-460058c99243",
   "metadata": {},
   "source": [
    "# Fit, Optimize and Evaluate A Classifier\n"
   ]
  },
  {
   "cell_type": "markdown",
   "id": "e2166e46-c953-47f0-a82b-4b5bc68b5b88",
   "metadata": {},
   "source": [
    "## Background\n",
    "\n",
    "Now that we've extracted training data from the ODC, we can train a machine learning model. There are various classification models available, and deciding which one to pick depends on the classification task at-hand. The table below provides a useful summary of the pros and cons of different models (all of which are available through [scikit-Learn](https://scikit-learn.org/stable/)). This sckit-learn [cheat sheet](https://scikit-learn.org/stable/tutorial/machine_learning_map/index.html) may also help. _Table 1: Some of the pros and cons of different classifiers available through scikit-learn_\n",
    "<img align=\"center\" src=\"../../../Supplementary_data/Scalable_machine_learning/classifier_pro_cons.png\" width=\"700\">\n",
    "\n",
    "\n",
    "In this example We are using Random Forest classifier for the land cover classification task. We'll split the data into a training and testing set and use k-fold cross-validation to estimate the prediction ability of our model. To make full use of the limited number of training dara, here we will fit the final model on _all_ the training data."
   ]
  },
  {
   "cell_type": "markdown",
   "id": "a7120659-d2bf-4c4d-a5fc-1ee6f290888c",
   "metadata": {},
   "source": [
    "## Description\n",
    "\n",
    "This notebook runs through evaluating, optimizing, and fitting a machine learning classifier (in the default example, a Random Forest model is used). Under each of the sub-headings you will find more information on how and why each method is used. The steps are as follows:\n",
    "\n",
    "1. Set up some parameters and import the training data\n",
    "2. Optimize the hyperparameters of the model\n",
    "3. Fit a model to all the training data using the best hyperparameters identified in the previous step\n",
    "4. Calculate an unbiased performance estimate via cross-validation\n",
    "5. Save the model to disk for use in the subsequent notebook, `3_Land_Cover_Classification.ipynb`\n",
    "\n",
    "To run this analysis, run all the cells in the notebook, starting with the \"Load packages\" cell."
   ]
  },
  {
   "cell_type": "markdown",
   "id": "fa5ce54e-f95a-4226-8162-e3c135d56200",
   "metadata": {},
   "source": [
    "## Load packages"
   ]
  },
  {
   "cell_type": "code",
   "execution_count": 78,
   "id": "9c9fb1dd-deff-4e08-8710-42b0ccb7e8af",
   "metadata": {},
   "outputs": [],
   "source": [
    "%matplotlib inline\n",
    "import os\n",
    "import datacube\n",
    "import warnings\n",
    "import numpy as np\n",
    "import pandas as pd\n",
    "import geopandas as gpd\n",
    "import matplotlib.pyplot as plt\n",
    "from odc.io.cgroups import get_cpu_quota\n",
    "import xarray as xr\n",
    "from sklearn.ensemble import RandomForestClassifier\n",
    "from sklearn import model_selection\n",
    "from sklearn.metrics import accuracy_score,cohen_kappa_score,confusion_matrix,ConfusionMatrixDisplay,balanced_accuracy_score\n",
    "from sklearn.metrics import balanced_accuracy_score, precision_score, recall_score\n",
    "from joblib import dump"
   ]
  },
  {
   "cell_type": "markdown",
   "id": "3234bf9e-915b-4b58-aa95-edadc01c660d",
   "metadata": {},
   "source": [
    "## Analysis Parameters\n",
    "\n",
    "* `training_data`: Name and location of the training data `.txt` file output from runnning `1_Extract_Training_Data.ipynb`\n",
    "* `dict_map` : A dictionary map of class names corresponding to pixel values.\n",
    "* `class_attr` : This is the name of column in your shapefile attribute table that contains the class labels."
   ]
  },
  {
   "cell_type": "code",
   "execution_count": 65,
   "id": "eb004d94-5b7b-40e0-a217-fda2633629f5",
   "metadata": {},
   "outputs": [],
   "source": [
    "# training_data='Results/Lesotho_landcover_training_data_2021_filtered.txt'\n",
    "training_data='Results/landcover_td2021_filtered_DEAfrica_newest.txt'\n",
    "dict_map={'Urban':1,'Cropland':2,'Trees':4,'Water':6,'Wetland':7,'Shrubland':9,'Grassland':10,'Barren':12,'Irrigated_Agriculture':14}\n",
    "# dict_map={1:'Dense Forest',2:'Open Forest',6:'Open Grassland',8:'Wooded Grassland',10:'Cropland',11:'Vegetated Wetland',12:'Open Water',13:'Settlements'}\n",
    "# dict_map={1:'Water',2:'Cropland',3:'Trees',4:'Bare Surface',5:'Shrubland/Grassland'}\n",
    "class_attr = 'LC_Class_I' # class label in integer format"
   ]
  },
  {
   "cell_type": "markdown",
   "id": "1dfe6528-7830-485d-aeef-4a57c983160f",
   "metadata": {},
   "source": [
    "## Import training data"
   ]
  },
  {
   "cell_type": "code",
   "execution_count": 67,
   "id": "46219172-f902-47a3-8884-fe689790f175",
   "metadata": {},
   "outputs": [
    {
     "data": {
      "text/html": [
       "<div>\n",
       "<style scoped>\n",
       "    .dataframe tbody tr th:only-of-type {\n",
       "        vertical-align: middle;\n",
       "    }\n",
       "\n",
       "    .dataframe tbody tr th {\n",
       "        vertical-align: top;\n",
       "    }\n",
       "\n",
       "    .dataframe thead th {\n",
       "        text-align: right;\n",
       "    }\n",
       "</style>\n",
       "<table border=\"1\" class=\"dataframe\">\n",
       "  <thead>\n",
       "    <tr style=\"text-align: right;\">\n",
       "      <th></th>\n",
       "      <th>LC_Class_I</th>\n",
       "      <th>blue_0</th>\n",
       "      <th>blue_1</th>\n",
       "      <th>blue_2</th>\n",
       "      <th>blue_3</th>\n",
       "      <th>blue_4</th>\n",
       "      <th>blue_5</th>\n",
       "      <th>green_0</th>\n",
       "      <th>green_1</th>\n",
       "      <th>green_2</th>\n",
       "      <th>...</th>\n",
       "      <th>NDVI_1</th>\n",
       "      <th>NDVI_2</th>\n",
       "      <th>NDVI_3</th>\n",
       "      <th>NDVI_4</th>\n",
       "      <th>NDVI_5</th>\n",
       "      <th>x_coord</th>\n",
       "      <th>y_coord</th>\n",
       "      <th>geometry</th>\n",
       "      <th>cluster</th>\n",
       "      <th>cluster_frequency</th>\n",
       "    </tr>\n",
       "  </thead>\n",
       "  <tbody>\n",
       "    <tr>\n",
       "      <th>0</th>\n",
       "      <td>1.0</td>\n",
       "      <td>392.443787</td>\n",
       "      <td>411.736511</td>\n",
       "      <td>484.599304</td>\n",
       "      <td>580.716187</td>\n",
       "      <td>597.883362</td>\n",
       "      <td>521.160828</td>\n",
       "      <td>702.979492</td>\n",
       "      <td>700.031860</td>\n",
       "      <td>820.554688</td>\n",
       "      <td>...</td>\n",
       "      <td>0.525062</td>\n",
       "      <td>0.396864</td>\n",
       "      <td>0.249766</td>\n",
       "      <td>0.347274</td>\n",
       "      <td>0.499634</td>\n",
       "      <td>582635.0</td>\n",
       "      <td>6649875.0</td>\n",
       "      <td>POINT (582635 6649875)</td>\n",
       "      <td>1</td>\n",
       "      <td>0.139</td>\n",
       "    </tr>\n",
       "    <tr>\n",
       "      <th>1</th>\n",
       "      <td>1.0</td>\n",
       "      <td>574.963257</td>\n",
       "      <td>367.174896</td>\n",
       "      <td>367.352203</td>\n",
       "      <td>477.944275</td>\n",
       "      <td>545.210083</td>\n",
       "      <td>535.651123</td>\n",
       "      <td>855.891907</td>\n",
       "      <td>692.017151</td>\n",
       "      <td>599.237000</td>\n",
       "      <td>...</td>\n",
       "      <td>0.574066</td>\n",
       "      <td>0.412703</td>\n",
       "      <td>0.283654</td>\n",
       "      <td>0.384707</td>\n",
       "      <td>0.491538</td>\n",
       "      <td>580745.0</td>\n",
       "      <td>6648685.0</td>\n",
       "      <td>POINT (580745 6648685)</td>\n",
       "      <td>1</td>\n",
       "      <td>0.139</td>\n",
       "    </tr>\n",
       "    <tr>\n",
       "      <th>2</th>\n",
       "      <td>1.0</td>\n",
       "      <td>552.944946</td>\n",
       "      <td>471.750641</td>\n",
       "      <td>514.148010</td>\n",
       "      <td>677.836243</td>\n",
       "      <td>672.473816</td>\n",
       "      <td>459.239807</td>\n",
       "      <td>885.540771</td>\n",
       "      <td>692.555054</td>\n",
       "      <td>699.613220</td>\n",
       "      <td>...</td>\n",
       "      <td>0.478700</td>\n",
       "      <td>0.357840</td>\n",
       "      <td>0.203101</td>\n",
       "      <td>0.319174</td>\n",
       "      <td>0.548070</td>\n",
       "      <td>610015.0</td>\n",
       "      <td>6659045.0</td>\n",
       "      <td>POINT (610015 6659045)</td>\n",
       "      <td>1</td>\n",
       "      <td>0.139</td>\n",
       "    </tr>\n",
       "    <tr>\n",
       "      <th>3</th>\n",
       "      <td>1.0</td>\n",
       "      <td>905.797424</td>\n",
       "      <td>844.184326</td>\n",
       "      <td>832.719666</td>\n",
       "      <td>906.122070</td>\n",
       "      <td>1039.482422</td>\n",
       "      <td>1118.225708</td>\n",
       "      <td>1182.149414</td>\n",
       "      <td>1177.120728</td>\n",
       "      <td>1120.216431</td>\n",
       "      <td>...</td>\n",
       "      <td>0.217357</td>\n",
       "      <td>0.158323</td>\n",
       "      <td>0.137693</td>\n",
       "      <td>0.145437</td>\n",
       "      <td>0.154948</td>\n",
       "      <td>652625.0</td>\n",
       "      <td>6672015.0</td>\n",
       "      <td>POINT (652625 6672015)</td>\n",
       "      <td>3</td>\n",
       "      <td>0.256</td>\n",
       "    </tr>\n",
       "    <tr>\n",
       "      <th>4</th>\n",
       "      <td>1.0</td>\n",
       "      <td>579.446960</td>\n",
       "      <td>543.148193</td>\n",
       "      <td>642.078491</td>\n",
       "      <td>708.081482</td>\n",
       "      <td>721.028748</td>\n",
       "      <td>708.530273</td>\n",
       "      <td>921.100769</td>\n",
       "      <td>863.758423</td>\n",
       "      <td>929.162170</td>\n",
       "      <td>...</td>\n",
       "      <td>0.302353</td>\n",
       "      <td>0.211847</td>\n",
       "      <td>0.179304</td>\n",
       "      <td>0.216355</td>\n",
       "      <td>0.292293</td>\n",
       "      <td>630855.0</td>\n",
       "      <td>6675075.0</td>\n",
       "      <td>POINT (630855 6675075)</td>\n",
       "      <td>3</td>\n",
       "      <td>0.256</td>\n",
       "    </tr>\n",
       "  </tbody>\n",
       "</table>\n",
       "<p>5 rows × 72 columns</p>\n",
       "</div>"
      ],
      "text/plain": [
       "   LC_Class_I      blue_0      blue_1      blue_2      blue_3       blue_4  \\\n",
       "0         1.0  392.443787  411.736511  484.599304  580.716187   597.883362   \n",
       "1         1.0  574.963257  367.174896  367.352203  477.944275   545.210083   \n",
       "2         1.0  552.944946  471.750641  514.148010  677.836243   672.473816   \n",
       "3         1.0  905.797424  844.184326  832.719666  906.122070  1039.482422   \n",
       "4         1.0  579.446960  543.148193  642.078491  708.081482   721.028748   \n",
       "\n",
       "        blue_5      green_0      green_1      green_2  ...    NDVI_1  \\\n",
       "0   521.160828   702.979492   700.031860   820.554688  ...  0.525062   \n",
       "1   535.651123   855.891907   692.017151   599.237000  ...  0.574066   \n",
       "2   459.239807   885.540771   692.555054   699.613220  ...  0.478700   \n",
       "3  1118.225708  1182.149414  1177.120728  1120.216431  ...  0.217357   \n",
       "4   708.530273   921.100769   863.758423   929.162170  ...  0.302353   \n",
       "\n",
       "     NDVI_2    NDVI_3    NDVI_4    NDVI_5   x_coord    y_coord  \\\n",
       "0  0.396864  0.249766  0.347274  0.499634  582635.0  6649875.0   \n",
       "1  0.412703  0.283654  0.384707  0.491538  580745.0  6648685.0   \n",
       "2  0.357840  0.203101  0.319174  0.548070  610015.0  6659045.0   \n",
       "3  0.158323  0.137693  0.145437  0.154948  652625.0  6672015.0   \n",
       "4  0.211847  0.179304  0.216355  0.292293  630855.0  6675075.0   \n",
       "\n",
       "                 geometry  cluster  cluster_frequency  \n",
       "0  POINT (582635 6649875)        1              0.139  \n",
       "1  POINT (580745 6648685)        1              0.139  \n",
       "2  POINT (610015 6659045)        1              0.139  \n",
       "3  POINT (652625 6672015)        3              0.256  \n",
       "4  POINT (630855 6675075)        3              0.256  \n",
       "\n",
       "[5 rows x 72 columns]"
      ]
     },
     "execution_count": 67,
     "metadata": {},
     "output_type": "execute_result"
    }
   ],
   "source": [
    "# load training data as pandas dataframe\n",
    "df_training_data= pd.read_csv(training_data,delimiter=' ')\n",
    "# Plot first five rows\n",
    "df_training_data.head()"
   ]
  },
  {
   "cell_type": "code",
   "execution_count": 68,
   "id": "faf56b87-1182-49ca-a96c-098dfdac8876",
   "metadata": {},
   "outputs": [],
   "source": [
    "# slicing the dataframe to exclude the coordinates and/or geometry columns (last columns) if exist\n",
    "df_training_data=df_training_data.iloc[:,:-5]"
   ]
  },
  {
   "cell_type": "markdown",
   "id": "605d79a2-2c59-4805-ba84-6a6e2e2ff898",
   "metadata": {},
   "source": [
    "A common problem with training data is **class imbalance**. This can occur when one of your classes is relatively rare and therefore the rare class will comprise a smaller proportion of the training set. When imbalanced data is used, it is common that the final classification will under-predict less abundant classes relative to their true proportion. We can plot the number of the extracted training data for each class, to check if the training samples are imbalanced among classes:"
   ]
  },
  {
   "cell_type": "code",
   "execution_count": 69,
   "id": "1fb38112-c17b-43a0-95a0-46685cb2242d",
   "metadata": {},
   "outputs": [
    {
     "data": {
      "text/plain": [
       "Text(0.5, 0, 'Land Cover Class')"
      ]
     },
     "execution_count": 69,
     "metadata": {},
     "output_type": "execute_result"
    },
    {
     "data": {
      "image/png": "[encoded data removed]",
      "text/plain": [
       "<Figure size 1080x360 with 1 Axes>"
      ]
     },
     "metadata": {
      "needs_background": "light"
     },
     "output_type": "display_data"
    }
   ],
   "source": [
    "# count numbers of classes\n",
    "class_counts=df_training_data[class_attr].value_counts()\n",
    "\n",
    "# get class names\n",
    "class_indices=class_counts.index\n",
    "class_legends=[key for class_index in class_indices for key, value in dict_map.items() if value==class_index]\n",
    "\n",
    "# plot training samples distribution\n",
    "plt.figure(figsize=(15,5))\n",
    "ax=plt.bar(class_legends,height=class_counts.to_numpy())\n",
    "plt.bar_label(ax)\n",
    "plt.gca().set_ylabel('Number of Training Samples')\n",
    "plt.gca().set_xlabel('Land Cover Class')"
   ]
  },
  {
   "cell_type": "markdown",
   "id": "04784a96-dbca-40af-9bc3-4098ede9536c",
   "metadata": {},
   "source": [
    "If you think your data is imbalanced, you may consider adding more training samples for under-represented classes or removing samples for over-represented classes."
   ]
  },
  {
   "cell_type": "code",
   "execution_count": 70,
   "id": "5fd1e909-9ad3-4e36-89c5-bef9562c5c15",
   "metadata": {},
   "outputs": [
    {
     "name": "stdout",
     "output_type": "stream",
     "text": [
      "Number of training samples for Trees:  621\n",
      "Number of training samples for Wetlands:  529\n",
      "Training data shape after rebalancing classes: (2806, 67)\n"
     ]
    }
   ],
   "source": [
    "n_trees_train=len(df_training_data[df_training_data[class_attr]==dict_map['Trees']])\n",
    "n_wetland_train=len(df_training_data[df_training_data[class_attr]==dict_map['Wetland']])\n",
    "if n_trees_train>300: # limit to 300\n",
    "    print('Number of training samples for Trees: ',n_trees_train)\n",
    "    indices_drop=df_training_data[df_training_data[class_attr]==dict_map['Trees']].sample(n=n_trees_train-300).index\n",
    "    df_training_data=df_training_data.drop(indices_drop).reset_index(drop=True)\n",
    "if n_wetland_train>150: # limit to 150\n",
    "    print('Number of training samples for Wetlands: ',n_wetland_train)\n",
    "    indices_drop=df_training_data[df_training_data[class_attr]==dict_map['Wetland']].sample(n=n_wetland_train-150).index\n",
    "    df_training_data=df_training_data.drop(indices_drop).reset_index(drop=True)\n",
    "print(\"Training data shape after rebalancing classes:\", df_training_data.shape)"
   ]
  },
  {
   "cell_type": "markdown",
   "id": "fe49424f-bd97-4755-87ba-de9980b2cf20",
   "metadata": {},
   "source": [
    "## Optimize hyperparameters\n",
    "\n",
    "Machine learning models require certain 'hyperparameters': model parameters that can be tuned to increase the prediction ability of a model. Finding the best values for these parameters is a 'hyperparameter search' or an 'hyperparameter optimization'.\n",
    "\n",
    "To optimize the parameters in our model, we use [GridSearchCV](https://scikit-learn.org/stable/modules/generated/sklearn.model_selection.GridSearchCV.html) to exhaustively search through a set of parameters and determine the combination that will result in the highest accuracy based upon the accuracy metric defined. We first need to define a grid of parameters to be used in the optimization:\n",
    "* `grid_parameters`: a dictionary of model specific parameters to search through during hyperparameter optimization.\n",
    "\n",
    "> **Note**: the parameters in the `grid_parameters` object depend on the classifier being used. The default example is set up for a Random Forest classifier. To adjust the parameters to suit a different classifier, look up the important parameters under the relevant [sklearn documentation](https://scikit-learn.org/stable/supervised_learning.html)."
   ]
  },
  {
   "cell_type": "code",
   "execution_count": 71,
   "id": "230d39ef-e596-4e75-b9d6-05731866ca78",
   "metadata": {},
   "outputs": [],
   "source": [
    "# Create the parameter grid based on the results of random search \n",
    "grid_parameters={'n_estimators': [int(x) for x in np.linspace(start = 100, stop = 200, num = 5)],\n",
    "                 'max_features': ['sqrt', 'log2'],'max_samples':[0.5]}"
   ]
  },
  {
   "cell_type": "markdown",
   "id": "1caafbd4-22a1-4d37-aeb1-a4aec7c4fe1c",
   "metadata": {},
   "source": [
    "We now start searching for the optimal hyperparameters using `GridSearchCV`:"
   ]
  },
  {
   "cell_type": "code",
   "execution_count": 72,
   "id": "79cdc57f-fa47-4905-b000-a061f6383114",
   "metadata": {},
   "outputs": [
    {
     "name": "stdout",
     "output_type": "stream",
     "text": [
      "ncpus = 4\n",
      "Grid searching best hyper-parameters...\n",
      "Optimal parameters: \n",
      " {'max_features': 'sqrt', 'max_samples': 0.5, 'n_estimators': 100}\n"
     ]
    }
   ],
   "source": [
    "# initialise a random forest classifier\n",
    "rf = RandomForestClassifier()\n",
    "\n",
    "# stratified K-fold splitting strategy for grid search\n",
    "cv=model_selection.StratifiedKFold(n_splits=5,shuffle=True,random_state=0) \n",
    "\n",
    "# detect the number of CPUs\n",
    "ncpus=round(get_cpu_quota())\n",
    "print('ncpus = '+str(ncpus))\n",
    "\n",
    "# grid search to find optimal random forest classifier hyperparameters\n",
    "print('Grid searching best hyper-parameters...')\n",
    "grid_search=model_selection.GridSearchCV(estimator = rf,param_grid=grid_parameters,cv=cv,n_jobs=ncpus)\n",
    "\n",
    "#convert variable names into sci-kit learn nomenclature\n",
    "X = df_training_data.to_numpy()[:,1:] # abandon coordinate columns\n",
    "y = df_training_data.to_numpy()[:,0]\n",
    "\n",
    "# fit to all the data\n",
    "grid_search.fit(X,y)\n",
    "print('Optimal parameters: \\n',grid_search.best_params_)"
   ]
  },
  {
   "cell_type": "markdown",
   "id": "76e43f41-4533-4521-b957-28f1f8b45ccf",
   "metadata": {},
   "source": [
    "## Fit the model\n",
    "\n",
    "Using the best parameters from our hyperparmeter optimization search, we now fit our model on all the data."
   ]
  },
  {
   "cell_type": "code",
   "execution_count": 73,
   "id": "463edee9-36f7-49ea-b413-d812f8b7da1e",
   "metadata": {},
   "outputs": [
    {
     "data": {
      "text/plain": [
       "RandomForestClassifier(max_features='sqrt', max_samples=0.5, n_jobs=4,\n",
       "                       random_state=1)"
      ]
     },
     "execution_count": 73,
     "metadata": {},
     "output_type": "execute_result"
    }
   ],
   "source": [
    "rf = RandomForestClassifier(**grid_search.best_params_, random_state=1, n_jobs=ncpus)\n",
    "rf.fit(X,y)"
   ]
  },
  {
   "cell_type": "markdown",
   "id": "494c71b7-6e5e-4937-bd4f-122b7ff636e3",
   "metadata": {},
   "source": [
    "## Determine Feature Importance\n",
    "\n",
    "Here we extract classifier estimates of the relative importance of each feature for training a Random Forest classifier. This is useful for potentially selecting a subset of input bands/variables for model training/classification (i.e. optimising feature space). However, in this case, we are not selecting a subset of features, but rather just trying to understand the importance of each feature. This can help us not only understand our classes better (e.g. what kinds of measurements are more important in predicting the land cover classes), but can also lead to further improvements to the model. \n",
    "\n",
    "Sklearn has good documentation on different methods for [feature selection](https://scikit-learn.org/stable/modules/feature_selection.html).\n",
    "\n",
    "Results will be presented in ascending order with the most important features listed last. Importance is reported as a relative fraction between 0 and 1. These importances are based on how much a given feature, on average, decreases the weighted Gini impurity.\n"
   ]
  },
  {
   "cell_type": "code",
   "execution_count": 74,
   "id": "81e338be-59f8-4070-9b23-447818b9a1d4",
   "metadata": {},
   "outputs": [
    {
     "data": {
      "text/plain": [
       "Text(0, 0.5, 'Importance')"
      ]
     },
     "execution_count": 74,
     "metadata": {},
     "output_type": "execute_result"
    },
    {
     "data": {
      "image/png": "[encoded data removed]",
      "text/plain": [
       "<Figure size 2160x360 with 1 Axes>"
      ]
     },
     "metadata": {
      "needs_background": "light"
     },
     "output_type": "display_data"
    }
   ],
   "source": [
    "# sort feature importance\n",
    "feat_importance_indices=np.argsort(rf.feature_importances_)[-10:]\n",
    "\n",
    "# plot feature importance\n",
    "plt.figure(figsize=(30,5))\n",
    "order=np.argsort(rf.feature_importances_)\n",
    "plt.bar(x=np.array(df_training_data.columns[1:])[order],height=rf.feature_importances_[order],width=0.5,align='center')\n",
    "plt.xticks(rotation='vertical',fontsize=16)\n",
    "plt.yticks(fontsize=16)\n",
    "plt.xlabel('Variable', fontsize=20)\n",
    "plt.ylabel('Importance', fontsize=20)"
   ]
  },
  {
   "cell_type": "markdown",
   "id": "3b4ae500-0d30-41fa-ac60-445a8afbb53b",
   "metadata": {},
   "source": [
    "According to the the feature importance method of the `RandomForestClassifier` we fitted to our data, the NDVI, swir_2 and swir_1 bands are our most important features for discriminating different classes in our selected area. "
   ]
  },
  {
   "cell_type": "markdown",
   "id": "f91dc42f-e417-4451-80fc-da456eb167dd",
   "metadata": {},
   "source": [
    "## Evaluate performance via cross-validation\n",
    "\n",
    "K-fold [cross-validation](https://en.wikipedia.org/wiki/Cross-validation_(statistics)) is a statistical method used to estimate the performance of machine learning models when making predictions on data not used during training.  It is a popular method because it is conceptually straightforward and because it generally results in a less biased or less optimistic estimate of the model skill than other methods, such as a simple train/test split. This procedure can be used both when optimizing the hyperparameters of a model on a dataset, and when comparing and selecting a model for the dataset. \n",
    "\n",
    "Since our training dataset is small and to make sure each class has samples in the training set, in this example the `StratifiedKFold` splitting is used. Stratified k-fold is a variation of k-fold which returns stratified folds: each set contains approximately the same percentage of samples of each target class as the complete set. We define 5 folds splitting, which divides the dataset into 5 sets:"
   ]
  },
  {
   "cell_type": "code",
   "execution_count": null,
   "id": "befc0885-66b5-486e-b692-203f082736c5",
   "metadata": {},
   "outputs": [],
   "source": [
    "# stratified K-fold splitting\n",
    "skf=model_selection.StratifiedKFold(n_splits=5,shuffle=True,random_state=0)\n",
    "# skf=model_selection.KFold(n_splits=5,shuffle=True,random_state=1)"
   ]
  },
  {
   "cell_type": "markdown",
   "id": "cffe18d0-9c39-4258-907c-b71ba7a69c69",
   "metadata": {},
   "source": [
    "We now use `cross_val_score` function which calculates an accuracy score that show how well our classifier is doing at recognising points in each test split through cross validation. The default example is set up to calculate the `accuracy_score` or Overall Accuracy (OA), which is the fraction of correct predictions for all the samples. The OA will be between 0 and 1, with a value of 1 indicating a perfect score. There are other scoring paramters that you can choose [here](https://scikit-learn.org/stable/modules/model_evaluation.html#scoring-parameter)"
   ]
  },
  {
   "cell_type": "code",
   "execution_count": null,
   "id": "f1d4dfcc-8738-47d5-9674-23d3a87c34ca",
   "metadata": {},
   "outputs": [],
   "source": [
    "# calculate overall accurcy through cross validation\n",
    "overall_acc=model_selection.cross_val_score(rf,X,y,cv=skf,scoring='accuracy')\n",
    "print('Overall accuracy from cross validation: ',np.mean(overall_acc))"
   ]
  },
  {
   "cell_type": "markdown",
   "id": "7f106ba3-6460-4fe9-9f21-17a44e77cc54",
   "metadata": {},
   "source": [
    "To show how the prediction performs on each class, the example will calculate the predictions from cross validation:"
   ]
  },
  {
   "cell_type": "code",
   "execution_count": null,
   "id": "c0af456f-6e1d-4177-91bc-2eac25a8a69c",
   "metadata": {},
   "outputs": [],
   "source": [
    "# predict through cross validation\n",
    "predictions=model_selection.cross_val_predict(rf,X,y,cv=skf)"
   ]
  },
  {
   "cell_type": "markdown",
   "id": "ad36c554-43bb-4a23-886d-a12c87d6f5b8",
   "metadata": {},
   "source": [
    "Using the predicted labels, we can calculate class-wise scores, such as precision and recall. The precision is the ratio tp / (tp + fp) where tp is the number of true positives and fp the number of false positives. The precision is intuitively the ability of the classifier not to label as positive a sample that is negative. The best value is 1 and the worst value is 0. We use the function `precision_score` for the calculation:"
   ]
  },
  {
   "cell_type": "code",
   "execution_count": 89,
   "id": "c66cc22c-cc45-420f-9d43-dfc87ecbaa90",
   "metadata": {},
   "outputs": [
    {
     "name": "stdout",
     "output_type": "stream",
     "text": [
      "Precision for each class: \n",
      " {'Urban': 0.333, 'Cropland': 0.74, 'Trees': 0.864, 'Water': 0.942, 'Wetland': 0.736, 'Shrubland': 0.518, 'Grassland': 0.636, 'Barren': 0.647, 'Irrigated_Agriculture': 1.0}\n"
     ]
    }
   ],
   "source": [
    "precision=precision_score(y,predictions,labels=list(dict_map.values()),average=None)\n",
    "print('Precision for each class: \\n',dict(zip(dict_map.keys(),np.around(precision,3))))"
   ]
  },
  {
   "cell_type": "markdown",
   "id": "42838d41-7094-4f7d-9e98-55fa51315a04",
   "metadata": {},
   "source": [
    "Similarly we can calculate the recall scores using the function `recall_score`. The recall is the ratio tp / (tp + fn) where tp is the number of true positives and fn the number of false negatives. The recall is intuitively the ability of the classifier to find all the positive samples."
   ]
  },
  {
   "cell_type": "code",
   "execution_count": 90,
   "id": "ad9ab939-7004-49e6-b284-6caa0f40ae16",
   "metadata": {},
   "outputs": [
    {
     "name": "stdout",
     "output_type": "stream",
     "text": [
      "Recall for each class: \n",
      " {'Urban': 0.034, 'Cropland': 0.773, 'Trees': 0.827, 'Water': 0.866, 'Wetland': 0.613, 'Shrubland': 0.299, 'Grassland': 0.856, 'Barren': 0.417, 'Irrigated_Agriculture': 0.13}\n"
     ]
    }
   ],
   "source": [
    "recall=recall_score(y,predictions,labels=list(dict_map.values()),average=None)\n",
    "print('Recall for each class: \\n',dict(zip(dict_map.keys(),np.around(recall,3))))"
   ]
  },
  {
   "cell_type": "markdown",
   "id": "1d833729-e7d5-4f08-b9dc-ce1c50e40263",
   "metadata": {},
   "source": [
    "To further inspect the actual numbers of predictions for each class we calculate and plot the `confusion_matrix`. The `confusion_matrix` By definition, entry *i, j* in a confusion matrix is the number of observations actually in group *i*, but predicted to be in group *j*:"
   ]
  },
  {
   "cell_type": "code",
   "execution_count": 92,
   "id": "db755bb8-0bb0-4a54-b34a-7b598c7715f7",
   "metadata": {},
   "outputs": [
    {
     "data": {
      "text/plain": [
       "Text(0.5, 1.0, 'Confusion Matrix')"
      ]
     },
     "execution_count": 92,
     "metadata": {},
     "output_type": "execute_result"
    },
    {
     "data": {
      "image/png": "[encoded data removed]",
      "text/plain": [
       "<Figure size 1080x1080 with 2 Axes>"
      ]
     },
     "metadata": {
      "needs_background": "light"
     },
     "output_type": "display_data"
    }
   ],
   "source": [
    "# generate and visualise confusion matrix\n",
    "cm=confusion_matrix(y, predictions)\n",
    "display_labels=[key for class_index in rf.classes_ for key, value in dict_map.items() if value==class_index]\n",
    "disp=ConfusionMatrixDisplay(confusion_matrix=cm,display_labels=display_labels)\n",
    "fig, ax = plt.subplots(figsize=(15,15))\n",
    "disp.plot(ax=ax)\n",
    "ax.set_title('Confusion Matrix')"
   ]
  },
  {
   "cell_type": "markdown",
   "id": "9ebcc39f-684d-4b27-b681-b1fd095a9c8a",
   "metadata": {},
   "source": [
    "## Save the model\n",
    "We now export the trained classifier as a binary`.joblib` file, which will allow for importing the model in the subsequent script, `3_Land_Cover_Classification.ipynb` "
   ]
  },
  {
   "cell_type": "code",
   "execution_count": 93,
   "id": "ae663572-828d-4f81-af54-ceb26817589e",
   "metadata": {},
   "outputs": [
    {
     "data": {
      "text/plain": [
       "['Results/Lesotho_RF_model.joblib']"
      ]
     },
     "execution_count": 93,
     "metadata": {},
     "output_type": "execute_result"
    }
   ],
   "source": [
    "dump(rf, 'Results/Lesotho_RF_model.joblib')"
   ]
  },
  {
   "cell_type": "code",
   "execution_count": null,
   "id": "472493af-da89-4325-bcee-6848e46a19e3",
   "metadata": {},
   "outputs": [],
   "source": []
  }
 ],
 "metadata": {
  "kernelspec": {
   "display_name": "Python 3 (ipykernel)",
   "language": "python",
   "name": "python3"
  },
  "language_info": {
   "codemirror_mode": {
    "name": "ipython",
    "version": 3
   },
   "file_extension": ".py",
   "mimetype": "text/x-python",
   "name": "python",
   "nbconvert_exporter": "python",
   "pygments_lexer": "ipython3",
   "version": "3.8.10"
  }
 },
 "nbformat": 4,
 "nbformat_minor": 5
}

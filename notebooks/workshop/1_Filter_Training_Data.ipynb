{
 "cells": [
  {
   "cell_type": "markdown",
   "id": "c4555d86-4eb4-4185-93d8-52f55da43df9",
   "metadata": {},
   "source": [
    "# Filter Training Data\n"
   ]
  },
  {
   "cell_type": "markdown",
   "id": "9f767b5b-dd6e-48f8-aba4-259d72d8804a",
   "metadata": {
    "jp-MarkdownHeadingCollapsed": true,
    "tags": []
   },
   "source": [
    "## Background\n",
    "\n",
    "It is not uncommon that existing training data were collected at different time period than the study period. This means the dataset may not reflect the real ground cover due to temporal changes. FAO adopted a training data filtering method for any given reference year that is within a time span (e.g. 5 years) from an existing baseline, and tested the method in the production of land cover mapping for Lesotho. It is assumed that the majority of reference labels will remain valid from one year to the previous/next. Based on this assumption, the reference labels which have changed are the minority, and should be detectable through the use of outlier detection methods like K-Means clustering. More details on the method and how it works for Lesotho can be found in the published paper ([De Simone et al 2022](https://www.mdpi.com/2072-4292/14/14/3294))."
   ]
  },
  {
   "cell_type": "markdown",
   "id": "b48ec80f-8f94-45f9-808c-712a572f8d89",
   "metadata": {},
   "source": [
    "## Description\n",
    "\n",
    "This notebook will implement FAO's automatic filtering of a training dataset for a target year using points from a geojson or shapefile and a reference classification map of a previous year. The steps include:\n",
    "1. Load extracted training features\n",
    "2. Generate stratified random samples for each class on the reference land cover map using `random_sampling` and extract their features using `collect_training_data`\n",
    "3. Train K-Means models using the extracted features of the random samples\n",
    "4. Apply clustering on training features and remove minor clusters\n",
    "5. Export the filtered training features to disk for use in subsequent scripts\n",
    "\n",
    "To run this analysis, run all the cells in the notebook, starting with the \"Load packages\" cell."
   ]
  },
  {
   "cell_type": "markdown",
   "id": "cdba3177-6db9-4440-9c8b-d5437f41e7f4",
   "metadata": {},
   "source": [
    "### Load packages\n"
   ]
  },
  {
   "cell_type": "code",
   "execution_count": null,
   "id": "7fccc7e0-768c-4479-a777-6ce9efbf4d86",
   "metadata": {},
   "outputs": [],
   "source": [
    "%matplotlib inline\n",
    "import os\n",
    "import datacube\n",
    "import warnings\n",
    "import numpy as np\n",
    "import geopandas as gpd\n",
    "import pandas as pd\n",
    "import matplotlib.pyplot as plt\n",
    "import xarray as xr\n",
    "import rioxarray\n",
    "from odc.io.cgroups import get_cpu_quota\n",
    "from odc.algo import xr_geomedian\n",
    "from deafrica_tools.datahandling import load_ard\n",
    "from deafrica_tools.classification import collect_training_data\n",
    "from sklearn.cluster import KMeans\n",
    "from sklearn.preprocessing import StandardScaler\n",
    "from sklearn import metrics\n",
    "from rasterio.enums import Resampling\n",
    "from random_sampling import random_sampling # adapted from function by Chad Burton: https://gist.github.com/cbur24/04760d645aa123a3b1817b07786e7d9f"
   ]
  },
  {
   "cell_type": "markdown",
   "id": "6efee6d6-c909-427c-bcb7-2943ae33b6bc",
   "metadata": {},
   "source": [
    "## Analysis parameters\n",
    "* `training_features_path`: The path to the file containing training features we extracted through the previous module `0_Extract_Training_Features.ipynb`.\n",
    "* `reference_map_path`: The path to the reference classification map, which will be used as a stratification layer to extract random samples for each class. In this example, we are using the existing national land cover map. **Note that the reference map pixel values should contain the class values existing in the training data.**\n",
    "* `class_attr`: This is the name of column in your shapefile attribute table that contains the class labels. **The class labels must be integers**\n",
    "* `output_crs`: Output spatial reference system."
   ]
  },
  {
   "cell_type": "code",
   "execution_count": null,
   "id": "62286a65-b4ae-4939-9c35-8b1675899e38",
   "metadata": {},
   "outputs": [],
   "source": [
    "training_features_path = 'Results/Rwanda_training_features.geojson'\n",
    "reference_map_path='Data/rwanda_landcover_2015_scheme_ii_classes_merged.tif'\n",
    "class_attr = 'LC_Class_I' # class label in integer format\n",
    "output_crs='epsg:32735' # WGS84/UTM Zone 35S"
   ]
  },
  {
   "cell_type": "markdown",
   "id": "c277e7e2-e195-43b0-9266-77a62813db76",
   "metadata": {},
   "source": [
    "## Load input data\n",
    "\n",
    "We now load the training features .txt file using `geopandas`. The pandas dataframe should contain columns `class_attr` identifying class labels and the bi-monthly geomedians of the nine spectral bands and NDVI that we extracted through previous module."
   ]
  },
  {
   "cell_type": "code",
   "execution_count": null,
   "id": "8ecf90a7-4fdf-40a9-90fc-edce613c6f2e",
   "metadata": {},
   "outputs": [],
   "source": [
    "training_features= gpd.read_file(training_features_path) # Load training features\n",
    "training_features.head() # Plot first five rows"
   ]
  },
  {
   "cell_type": "markdown",
   "id": "1983c2a7",
   "metadata": {},
   "source": [
    "Using the `class_attr` column we can get the class values, which we will use later to process by class:"
   ]
  },
  {
   "cell_type": "code",
   "execution_count": null,
   "id": "5266d539",
   "metadata": {},
   "outputs": [],
   "source": [
    "lc_classes=training_features[class_attr].unique() # get class labels\n",
    "print('land cover classes:\\n',lc_classes)"
   ]
  },
  {
   "cell_type": "markdown",
   "id": "3c42d4cf-ba19-45a8-b095-f42a070e4d92",
   "metadata": {},
   "source": [
    "The training data filtering method also requires a reference land cover map as a stratification layer to generate random training samples, which will be used to train the K-Means models, so We now load the reference map:"
   ]
  },
  {
   "cell_type": "code",
   "execution_count": null,
   "id": "0486c4df-5048-49ba-a572-90bd8d69d8ea",
   "metadata": {},
   "outputs": [],
   "source": [
    "# load reference classification map\n",
    "reference_map = xr.open_dataset(reference_map_path,engine=\"rasterio\").astype(np.uint8).squeeze(\"band\", drop=True)\n",
    "reference_map=reference_map.band_data\n",
    "print('Reference land cover classifcation raster:\\n',reference_map) # note: 255 is nodata"
   ]
  },
  {
   "cell_type": "markdown",
   "id": "67922b67",
   "metadata": {},
   "source": [
    "## Generating random samples\n",
    "In many cases there may not be enough samples for some classes in the training data to make the K-Means clustering statistically reliable. Therefore, here we generate random samples for each class from the reference classification map using the `random_sampling` function. This function takes in a few parameters:  \n",
    "* `n`: total number of points to sample\n",
    "* `da`: a classified map as a 2-dimensional xarray.DataArray\n",
    "* `sampling`: the sampling strategy, e.g. 'stratified_random' where each class has a number of points proportional to its relative area, or 'equal_stratified_random' where each class has the same number of points.\n",
    "* `out_fname`: a filepath name for the function to export a shapefile/geojson of the sampling points into a file. You can set this to `None` if you don't need to output the file.\n",
    "* `class_attr`: This is the column name of output dataframe that contains the integer class values on the classified map.    \n",
    "\n",
    "The output of the function is a geopandas dataframe of randomly distributed points containing a column `class_attr` identifying class values. In this example we are generating ~1000 samples to train the a K-Means model for each class, which means we should set n=8000 and use equal stratified random sampling strategy. To exclude other pixel values (e.g. 0, 255) than the valid land cover classes from being sampled, we first assign these values on the map as NaN. In addition, We export the samples into a geojson file in case we would like to check the random samples: "
   ]
  },
  {
   "cell_type": "code",
   "execution_count": null,
   "id": "ea1f64ab",
   "metadata": {},
   "outputs": [],
   "source": [
    "n=8000\n",
    "random_samples_path='Results/Rwanda_random_samples.geojson'\n",
    "da=reference_map.where((reference_map!=0)&(reference_map!=3)&(reference_map!=255),np.nan)\n",
    "gpd_random_samples=random_sampling(da,n,sampling='equal_stratified_random',out_fname=random_samples_path,class_attr=class_attr)"
   ]
  },
  {
   "cell_type": "markdown",
   "id": "0a07c8c5",
   "metadata": {},
   "source": [
    "With the random sample points available, we now need to extract features to train the K-Means models. As we will apply clustering on the training features that were extracted through the previous module `0_Extract_Training_Features.ipynb`, we should extract the same features for the random samples, i.e. bi-monthly geomedian of the nine spectral bands and NDVI. You can replace the path of the input training points with the above `random_samples_path` and re-use the same query and feature layer function to extract the features. As we have demonstrated how to extract training features in the previous module, in this example we skip it but use the prepared file of extracted features for the random samples:"
   ]
  },
  {
   "cell_type": "code",
   "execution_count": null,
   "id": "bdfce2de",
   "metadata": {},
   "outputs": [],
   "source": [
    "rand_samples_features_path='Results/Rwanda_random_samples_features.geojson'\n",
    "rand_samples_features=pd.read_csv(rand_samples_features_path)\n",
    "rand_samples_features.head()"
   ]
  },
  {
   "cell_type": "markdown",
   "id": "50021c25-ec7c-477f-8833-31bf6a44927a",
   "metadata": {},
   "source": [
    "## K-Means clustering\n",
    "Now that we have the features of random samples and training points, we can use them to train and apply the K-Means models. The K-Means model requires a pre-defined number of clusters, which is unknown for many cases. One way to identify the optimal number of clusters is using the Calinski-Harabasz Index. The index is the ratio of the sum of between-clusters dispersion and of within-cluster dispersion for all clusters, where the index is higher when clusters are dense and well separated. More information about can be checked [here](https://scikit-learn.org/stable/modules/clustering.html#calinski-harabasz-index). In this example we calculate the indices calculated from clustering with a varied number of clusters (e.g. 3 to 20) and retain the clustering with the highest index.  \n",
    "> Note: You can also use other indices to assess the clustering and choose optimal number of clusterings, see information on other indices [here](https://scikit-learn.org/stable/modules/clustering.html#clustering-performance-evaluation). Depending on the distribution of you features, different indices may lead to different optimal cluster numbers. \n",
    "\n",
    "Here we put the procedures in identifying the optimal clustering into a function where the inputs are the input features, minimum and maximum number of clusters, and the outputs are the optimal number of clusters, trained K-Means model and corresponding clustering labels:"
   ]
  },
  {
   "cell_type": "code",
   "execution_count": null,
   "id": "18f05f52",
   "metadata": {},
   "outputs": [],
   "source": [
    "def find_clusters_KMeans(data,min_cluster=3,max_cluster=20):\n",
    "    highest_score=-999\n",
    "    n_cluster_optimal=min_cluster\n",
    "    kmeans_model_optimal=None # initialise optimal model parameters\n",
    "    labels_optimal=None\n",
    "    for n_cluster in range(min_cluster,max_cluster):\n",
    "        kmeans_model = KMeans(n_clusters=n_cluster, random_state=1).fit(data)\n",
    "        labels=kmeans_model.predict(data)\n",
    "        score=metrics.calinski_harabasz_score(data, labels)\n",
    "        print('Calinski-Harabasz score for ',n_cluster,' clusters is: ',score)\n",
    "        if (highest_score==-999)or(highest_score<score):\n",
    "            highest_score=score\n",
    "            n_cluster_optimal=n_cluster\n",
    "            kmeans_model_optimal=kmeans_model\n",
    "            labels_optimal=labels\n",
    "            print('Best number of clusters: %s'%(n_cluster_optimal))\n",
    "    return n_cluster_optimal,kmeans_model_optimal,labels_optimal"
   ]
  },
  {
   "cell_type": "markdown",
   "id": "0835f9cf",
   "metadata": {},
   "source": [
    "Using the above function, we now cluster the training features for the first class as an example. We first retain the random sample and training sample features:"
   ]
  },
  {
   "cell_type": "code",
   "execution_count": null,
   "id": "e8102770",
   "metadata": {},
   "outputs": [],
   "source": [
    "# get class label\n",
    "i=lc_classes[0]\n",
    "# subset random sample features for this class\n",
    "rand_features_single_class=rand_samples_features[rand_samples_features[class_attr]==i].reset_index(drop=True)\n",
    "# subset original training points for this class\n",
    "td_single_class=training_features[training_features[class_attr]==i].reset_index(drop=True)\n",
    "print('Number of training pints for the class: ',len(td_single_class))"
   ]
  },
  {
   "cell_type": "markdown",
   "id": "b8991942",
   "metadata": {},
   "source": [
    "We then apply the `find_clusters_KMeans` function to the random sample features to find optimal clustering. Note that K-Means model is sensitive to feature scales, so we need to standardise all features before applying the model. Here we use the `StandardScaler` to implement the feature standardisation."
   ]
  },
  {
   "cell_type": "code",
   "execution_count": null,
   "id": "993a77ee",
   "metadata": {},
   "outputs": [],
   "source": [
    "# initialise standard scaler\n",
    "scaler = StandardScaler()\n",
    "# fit random samples\n",
    "scaler.fit(rand_features_single_class[:,1:])\n",
    "# transform random samples\n",
    "random_samples_single_class=scaler.transform(rand_features_single_class[:,1:])\n",
    "# find optimal clustering\n",
    "n_cluster_optimal,kmeans_model_optimal,labels_optimal=find_clusters_KMeans(rand_features_single_class,min_cluster=3,max_cluster=20)"
   ]
  },
  {
   "cell_type": "markdown",
   "id": "e133aa86",
   "metadata": {},
   "source": [
    "After identifying the optimal clustering, we can apply the optimal K-Means model to our training features. Remember to apply feature standardisation before implementing the clustering. Here we assign a new column `cluster` to identify the clustering result for each sample:"
   ]
  },
  {
   "cell_type": "code",
   "execution_count": null,
   "id": "fe8e1ac0",
   "metadata": {},
   "outputs": [],
   "source": [
    "# normalisation before clustering\n",
    "td_single_class=scaler.transform(td_single_class[:,1:-2])\n",
    "model_input=scaler.transform(td_single_class)\n",
    "# predict clustering labels\n",
    "labels_kmeans = kmeans_model_optimal.predict(model_input)\n",
    "# append clustering results to pixel coordinates\n",
    "td_single_class['cluster']=labels_kmeans"
   ]
  },
  {
   "cell_type": "markdown",
   "id": "a4d34d72",
   "metadata": {},
   "source": [
    "## Filtering training features\n",
    "\n",
    "We now filter the training features/points based on the cluster size. Here we assume cluster size lower than 5% of the overall sample szie are likely to be misclassified or changed samples. You can compare the number of training points before and after the filtering and check how many pixels were filtered out.  \n",
    ">Note: Depending on your own training data the K-Means method may or may not work well, so it is recommanded that you have more understanding on your training points and test on how it works, e.g. check if it successfully filtered out the points you believe were misclassified while keeping good training samples. There are also other options for removal of outliers which can be tested on, e.g. check [here](https://scikit-learn.org/stable/modules/outlier_detection.html) for using scikitlearn for outlier detection."
   ]
  },
  {
   "cell_type": "code",
   "execution_count": null,
   "id": "fd2f7c96-6bbb-4670-a300-24bf389d72bf",
   "metadata": {},
   "outputs": [],
   "source": [
    "frequency_threshold=0.05 # threshold of cluter frequency\n",
    "# append frequency of each cluster\n",
    "labels_optimal=pd.DataFrame(data=labels_optimal,columns=['cluster']) # calculate cluster frequencies of the random samples\n",
    "cluster_frequency=td_single_class['cluster'].map(labels_optimal['cluster'].value_counts(normalize=True))\n",
    "td_single_class['cluster_frequency']=cluster_frequency\n",
    "# filter by cluster frequency\n",
    "td_single_class_filtered=td_single_class[td_single_class['cluster_frequency']>=frequency_threshold]\n",
    "print('Number of training data after filtering: ',len(td_single_class_filtered))"
   ]
  },
  {
   "cell_type": "markdown",
   "id": "7da70a73",
   "metadata": {},
   "source": [
    "To implement above clustering and filtering training features for all class, let's put the steps together and iterate through all classes. Here we append all filtered features into a single dataframe `training_features_filtered`:"
   ]
  },
  {
   "cell_type": "code",
   "execution_count": null,
   "id": "4fd905a2-2137-4fb0-8c4b-3098c8c96b29",
   "metadata": {},
   "outputs": [],
   "source": [
    "training_features_filtered=None # filtered training data\n",
    "for i in lc_classes: # filtering training data for each class\n",
    "    #i=1 # test for first class\n",
    "    print('Processing class ',i)\n",
    "    # subset random sample features for this class\n",
    "    rand_features_single_class=rand_samples_features[rand_samples_features[class_attr]==i].reset_index(drop=True)\n",
    "    # subset original training points for this class\n",
    "    td_single_class=training_features[training_features[class_attr]==i].reset_index(drop=True)\n",
    "    print('Number of training pints for the class: ',len(td_single_class))\n",
    "    # initialise standard scaler\n",
    "    scaler = StandardScaler()\n",
    "    # fit random samples\n",
    "    scaler.fit(rand_features_single_class[:,1:])\n",
    "    # transform random samples\n",
    "    random_samples_single_class=scaler.transform(rand_features_single_class[:,1:])\n",
    "    # find optimal clustering\n",
    "    n_cluster_optimal,kmeans_model_optimal,labels_optimal=find_clusters_KMeans(rand_features_single_class,min_cluster=3,max_cluster=20)\n",
    "\n",
    "    # normalisation before clustering\n",
    "    td_single_class=scaler.transform(td_single_class[:,1:-2])\n",
    "    model_input=scaler.transform(td_single_class)\n",
    "    # predict clustering labels\n",
    "    labels_kmeans = kmeans_model_optimal.predict(model_input)\n",
    "    # append clustering results to pixel coordinates\n",
    "    td_single_class['cluster']=labels_kmeans\n",
    "    frequency_threshold=0.05 # threshold of cluter frequency\n",
    "    # append frequency of each cluster\n",
    "    labels_optimal=pd.DataFrame(data=labels_optimal,columns=['cluster']) # calculate cluster frequencies of the random samples\n",
    "    cluster_frequency=td_single_class['cluster'].map(labels_optimal['cluster'].value_counts(normalize=True))\n",
    "    td_single_class['cluster_frequency']=cluster_frequency\n",
    "    # filter by cluster frequency\n",
    "    td_single_class_filtered=td_single_class[td_single_class['cluster_frequency']>=frequency_threshold]\n",
    "    print('Number of training data after filtering: ',len(td_single_class_filtered))\n",
    "    \n",
    "    # append the filtered training points of this class to final filtered training data\n",
    "    if training_features_filtered is None:\n",
    "        training_features_filtered=td_single_class_filtered\n",
    "    else:\n",
    "        training_features_filtered=pd.concat([training_features_filtered, td_single_class_filtered])"
   ]
  },
  {
   "cell_type": "markdown",
   "id": "7ffedd3d-6817-4c3a-aca6-d5b5d98f85ad",
   "metadata": {},
   "source": [
    "## Export filtered training features\n",
    "Once we've filtered the training signatures, we can write the filtered data to disk, which will allow us to import the data in the next step(s) of the workflow."
   ]
  },
  {
   "cell_type": "code",
   "execution_count": null,
   "id": "0b97829f-3578-4ce3-95e6-ba2be2b99820",
   "metadata": {},
   "outputs": [],
   "source": [
    "# export the filtered training data as txt file\n",
    "output_file = \"Results/Rwanda_training_features_filtered.txt\"\n",
    "training_features_filtered.to_csv(output_file, header=True, index=None, sep=' ')"
   ]
  }
 ],
 "metadata": {
  "kernelspec": {
   "display_name": "Python 3.7.12 ('geoenv')",
   "language": "python",
   "name": "python3"
  },
  "language_info": {
   "codemirror_mode": {
    "name": "ipython",
    "version": 3
   },
   "file_extension": ".py",
   "mimetype": "text/x-python",
   "name": "python",
   "nbconvert_exporter": "python",
   "pygments_lexer": "ipython3",
   "version": "3.7.12"
  },
  "vscode": {
   "interpreter": {
    "hash": "01a9736267bf300689e8e016092cd01f0c67384dd94651ae6e139a291bc8cc97"
   }
  }
 },
 "nbformat": 4,
 "nbformat_minor": 5
}

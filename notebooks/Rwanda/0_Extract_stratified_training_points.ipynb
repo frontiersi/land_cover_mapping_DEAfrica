{
 "cells": [
  {
   "cell_type": "markdown",
   "id": "52edbdeb-dbc9-468a-903f-90ff58c5eb32",
   "metadata": {},
   "source": [
    "This notebook extracts randomly distributed training samples from a refernece land cover map of Rwanda. Class merging is applied before extraction."
   ]
  },
  {
   "cell_type": "code",
   "execution_count": 1,
   "id": "4769af3a-e34a-4932-87fd-2a10af37b120",
   "metadata": {},
   "outputs": [
    {
     "name": "stderr",
     "output_type": "stream",
     "text": [
      "/usr/local/lib/python3.8/dist-packages/geopandas/_compat.py:112: UserWarning: The Shapely GEOS version (3.8.0-CAPI-1.13.1 ) is incompatible with the GEOS version PyGEOS was compiled with (3.10.1-CAPI-1.16.0). Conversions between both will be slow.\n",
      "  warnings.warn(\n"
     ]
    },
    {
     "name": "stdout",
     "output_type": "stream",
     "text": [
      "baseline classifcation raster:\n",
      " <xarray.Dataset>\n",
      "Dimensions:      (x: 23234, y: 20992)\n",
      "Coordinates:\n",
      "  * x            (x) float64 7.043e+05 7.044e+05 ... 9.367e+05 9.367e+05\n",
      "  * y            (y) float64 9.887e+06 9.887e+06 ... 9.678e+06 9.678e+06\n",
      "    spatial_ref  int64 0\n",
      "Data variables:\n",
      "    band_data    (y, x) uint8 255 255 255 255 255 255 ... 255 255 255 255 255\n",
      "Class 1.0: sampled at 900 coordinates\n",
      "Class 5.0: sampled at 600 coordinates\n",
      "Class 7.0: sampled at 900 coordinates\n",
      "Class 9.0: sampled at 900 coordinates\n",
      "Class 10.0: sampled at 1300 coordinates\n",
      "Class 11.0: sampled at 900 coordinates\n",
      "Class 12.0: sampled at 600 coordinates\n",
      "Class 13.0: sampled at 1000 coordinates\n",
      "stratified samples:\n",
      "\n",
      "      spatial_ref  class                        geometry  LC_Class_I\n",
      "0               0    1.0  POINT (761265.704 9740241.901)           1\n",
      "1               0    1.0  POINT (757655.704 9755451.901)           1\n",
      "2               0    1.0  POINT (833365.704 9755131.901)           1\n",
      "3               0    1.0  POINT (768215.704 9703841.901)           1\n",
      "4               0    1.0  POINT (889385.704 9793051.901)           1\n",
      "...           ...    ...                             ...         ...\n",
      "7095            0   13.0  POINT (723725.704 9701531.901)          13\n",
      "7096            0   13.0  POINT (793395.704 9834831.901)          13\n",
      "7097            0   13.0  POINT (762095.704 9811201.901)          13\n",
      "7098            0   13.0  POINT (798315.704 9835261.901)          13\n",
      "7099            0   13.0  POINT (904495.704 9745341.901)          13\n",
      "\n",
      "[7100 rows x 4 columns]\n"
     ]
    }
   ],
   "source": [
    "import numpy as np\n",
    "import geopandas as gpd\n",
    "import pandas as pd\n",
    "import xarray as xr\n",
    "from rasterio.enums import Resampling\n",
    "from random_sampling import random_sampling # adapted from function by Chad Burton: https://gist.github.com/cbur24/04760d645aa123a3b1817b07786e7d9f\n",
    "from datacube.utils.cog import write_cog\n",
    "\n",
    "# file paths and attributes\n",
    "basemap_path='Data/rwanda_landcover_2015_scheme_ii.tif' # baseline classification map\n",
    "output_crs='epsg:32735' # output crs: WGS84/UTM Zone 35S\n",
    "class_name='LC_Class_I' # class label in integer format\n",
    "n_samples=5000 # number of total training points to be extracted\n",
    "\n",
    "# load baseline classification map\n",
    "basemap_raster = xr.open_dataset(basemap_path,engine=\"rasterio\").astype(np.uint8).squeeze(\"band\", drop=True)\n",
    "# reproject the raster\n",
    "basemap_raster= basemap_raster.rio.reproject(resolution=10, dst_crs=output_crs,resampling=Resampling.nearest)\n",
    "print('baseline classifcation raster:\\n',basemap_raster)\n",
    "da_mask=basemap_raster.band_data\n",
    "\n",
    "# merge classes when needed\n",
    "da_mask=da_mask.where(da_mask!=2,1) # merge moderate forest (2) and dense forest (1)\n",
    "da_mask=da_mask.where(da_mask!=6,5) # merge open grassland (6) and closed grassland (5)\n",
    "da_mask=da_mask.where(da_mask!=8,7) # merge open shrubland (8) and closed shrubland (7)\n",
    "da_mask=da_mask.where((da_mask!=14)&(da_mask!=3)&(da_mask!=0)&(da_mask!=255),0) # classes with very few pixels or nodata: assign as 0\n",
    "\n",
    "# optionally export map with merged classes\n",
    "# write_cog(da_mask,'Results/rwanda_landcover_2015_scheme_ii_classes_merged.tif', overwrite=True)\n",
    "\n",
    "da_mask=da_mask.where((da_mask!=0),np.nan) # replace other and nodata class values as nan so they won't be sampled\n",
    "# da_mask=da_mask.where((da_mask!=255)&(da_mask!=0),np.nan) # replace other and nodata class values as nan so they won't be sampled\n",
    "\n",
    "# gpd_samples=random_sampling(da_mask,n_samples,sampling='stratified_random', manual_class_ratios=None,out_fname=None) # stratified sampling\n",
    "gpd_samples=random_sampling(da_mask,n_samples,sampling='manual',\n",
    "                            manual_class_ratios={'1.0':900,'5.0':600,'7.0':900,'9.0':900,'10.0':1300,'11.0':900,'12.0':600,'13.0':1000},\n",
    "                            out_fname=None) # manual sampling: to keep enough samples for minor classes\n",
    "if gpd_samples.crs is None: # assign crs in case it's lost somehow\n",
    "    gpd_samples=gpd_samples.set_crs(output_crs)\n",
    "# assign class attribute\n",
    "gpd_samples[class_name]=gpd_samples['class'].astype(int)\n",
    "print('stratified samples:\\n')\n",
    "print(gpd_samples)\n",
    "\n",
    "# export as geojson\n",
    "# gpd_samples.to_file('Results/stratified_random_training_points_scheme_ii_2015.geojson', driver=\"GeoJSON\")\n",
    "gpd_samples.to_file('Results/manual_number_random_training_points_scheme_ii_2015.geojson', driver=\"GeoJSON\")"
   ]
  }
 ],
 "metadata": {
  "kernelspec": {
   "display_name": "Python 3 (ipykernel)",
   "language": "python",
   "name": "python3"
  },
  "language_info": {
   "codemirror_mode": {
    "name": "ipython",
    "version": 3
   },
   "file_extension": ".py",
   "mimetype": "text/x-python",
   "name": "python",
   "nbconvert_exporter": "python",
   "pygments_lexer": "ipython3",
   "version": "3.8.10"
  }
 },
 "nbformat": 4,
 "nbformat_minor": 5
}

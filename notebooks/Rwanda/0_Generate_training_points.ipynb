{
 "cells": [
  {
   "cell_type": "markdown",
   "id": "52edbdeb-dbc9-468a-903f-90ff58c5eb32",
   "metadata": {},
   "source": [
    "This notebook generates randomly distributed training points from a reference land cover map of Rwanda. Class merging is applied before sampling. The class-merged reference land cover map is also exported for future use."
   ]
  },
  {
   "cell_type": "markdown",
   "id": "3ecd7a8a",
   "metadata": {},
   "source": [
    "### load packages"
   ]
  },
  {
   "cell_type": "code",
   "execution_count": 11,
   "id": "4769af3a-e34a-4932-87fd-2a10af37b120",
   "metadata": {},
   "outputs": [],
   "source": [
    "import numpy as np\n",
    "import geopandas as gpd\n",
    "import pandas as pd\n",
    "import xarray as xr\n",
    "from rasterio.enums import Resampling\n",
    "from random_sampling import random_sampling # adapted from function by Chad Burton: https://gist.github.com/cbur24/04760d645aa123a3b1817b07786e7d9f\n",
    "from datacube.utils.cog import write_cog"
   ]
  },
  {
   "cell_type": "markdown",
   "id": "644c0b37",
   "metadata": {},
   "source": [
    "### input files and attributes"
   ]
  },
  {
   "cell_type": "code",
   "execution_count": 12,
   "id": "9971ade5",
   "metadata": {},
   "outputs": [],
   "source": [
    "# file paths and attributes\n",
    "basemap_path='Data/rwanda_landcover_2015_scheme_ii.tif' # baseline classification map\n",
    "output_crs='epsg:32735' # output crs: WGS84/UTM Zone 35S\n",
    "class_name='LC_Class_I' # class label in integer format\n",
    "n_samples=5000 # number of total training points to be extracted\n",
    "dict_map={'Nodata':0,'Dense Forest':1,'Moderate Forest':2,'Sparse Forest':3,'Woodland':4,\n",
    "          'Closed Grassland':5,'Open Grassland':6,'Closed Shrubland':7,'Open Shrubland':8,\n",
    "          'Perennial Cropland':9,'Annual Cropland':10,'Wetland':11,'Water Body':12,'Urban Settlement':13,'Other Land':14}"
   ]
  },
  {
   "cell_type": "markdown",
   "id": "87fdfc3e",
   "metadata": {},
   "source": [
    "### class merging"
   ]
  },
  {
   "cell_type": "code",
   "execution_count": 20,
   "id": "a7240b62",
   "metadata": {},
   "outputs": [
    {
     "name": "stdout",
     "output_type": "stream",
     "text": [
      "baseline classifcation raster:\n",
      " <xarray.Dataset>\n",
      "Dimensions:      (x: 23234, y: 20992)\n",
      "Coordinates:\n",
      "  * x            (x) float64 7.043e+05 7.044e+05 ... 9.367e+05 9.367e+05\n",
      "  * y            (y) float64 9.887e+06 9.887e+06 ... 9.678e+06 9.678e+06\n",
      "    spatial_ref  int64 0\n",
      "Data variables:\n",
      "    band_data    (y, x) uint8 255 255 255 255 255 255 ... 255 255 255 255 255\n"
     ]
    },
    {
     "data": {
      "text/plain": [
       "PosixPath('Results/rwanda_landcover_2015_scheme_ii_classes_merged.tif')"
      ]
     },
     "execution_count": 20,
     "metadata": {},
     "output_type": "execute_result"
    }
   ],
   "source": [
    "# load reference land cover map\n",
    "basemap_raster = xr.open_dataset(basemap_path,engine=\"rasterio\").astype(np.uint8).squeeze(\"band\", drop=True)\n",
    "# reproject the raster\n",
    "basemap_raster= basemap_raster.rio.reproject(resolution=10, dst_crs=output_crs,resampling=Resampling.nearest)\n",
    "print('baseline classifcation raster:\\n',basemap_raster)\n",
    "da_basemap=basemap_raster.band_data\n",
    "da_basemap=da_basemap.where(da_basemap!=dict_map['Moderate Forest'],dict_map['Dense Forest'])\n",
    "da_basemap=da_basemap.where(da_basemap!=dict_map['Open Grassland'],dict_map['Closed Grassland'])\n",
    "da_basemap=da_basemap.where(da_basemap!=dict_map['Open Shrubland'],dict_map['Closed Shrubland'])\n",
    "# merge classes when needed\n",
    "da_basemap=da_basemap.where((da_basemap!=255)&(da_basemap!=dict_map['Sparse Forest'])&(da_basemap!=dict_map['Woodland']),0)\n",
    "\n",
    "# export map with merged classes\n",
    "write_cog(da_basemap,'Results/rwanda_landcover_2015_scheme_ii_classes_merged.tif', overwrite=True)"
   ]
  },
  {
   "cell_type": "markdown",
   "id": "72c05387",
   "metadata": {},
   "source": [
    "### generate training points"
   ]
  },
  {
   "cell_type": "code",
   "execution_count": 21,
   "id": "bfd02835",
   "metadata": {},
   "outputs": [
    {
     "name": "stdout",
     "output_type": "stream",
     "text": [
      "Class 1: sampling at 1000 locations\n",
      "Class 5: sampling at 1000 locations\n",
      "Class 7: sampling at 1000 locations\n",
      "Class 9: sampling at 1000 locations\n",
      "Class 10: sampling at 1000 locations\n",
      "Class 11: sampling at 1000 locations\n",
      "Class 12: sampling at 1000 locations\n",
      "Class 13: sampling at 1000 locations\n",
      "Class 14: sampling at 1000 locations\n",
      "stratified samples:\n",
      "\n",
      "      spatial_ref  LC_Class_I                        geometry\n",
      "0               0           1  POINT (761725.704 9725561.901)\n",
      "1               0           1  POINT (779015.704 9826591.901)\n",
      "2               0           1  POINT (743245.704 9727491.901)\n",
      "3               0           1  POINT (890175.704 9863001.901)\n",
      "4               0           1  POINT (751905.704 9714111.901)\n",
      "...           ...         ...                             ...\n",
      "8995            0          14  POINT (764505.704 9720661.901)\n",
      "8996            0          14  POINT (775275.704 9742871.901)\n",
      "8997            0          14  POINT (788625.704 9737561.901)\n",
      "8998            0          14  POINT (805855.704 9741421.901)\n",
      "8999            0          14  POINT (857535.704 9747001.901)\n",
      "\n",
      "[9000 rows x 3 columns]\n"
     ]
    }
   ],
   "source": [
    "gpd_samples=random_sampling(da=da_basemap,n=9000,sampling='equal_stratified_random',\n",
    "                                   min_sample_n=20,out_fname=None,class_attr=class_name,drop_value=0)\n",
    "if gpd_samples.crs is None: # assign crs if needed\n",
    "    gpd_samples=gpd_samples.set_crs(output_crs)\n",
    "# assign class attribute\n",
    "gpd_samples[class_name]=gpd_samples[class_name].astype(int)\n",
    "print('stratified samples:\\n')\n",
    "print(gpd_samples)"
   ]
  },
  {
   "cell_type": "markdown",
   "id": "ee1cb2b0",
   "metadata": {},
   "source": [
    "### export training points"
   ]
  },
  {
   "cell_type": "code",
   "execution_count": 22,
   "id": "d49acb2e",
   "metadata": {},
   "outputs": [],
   "source": [
    "# export as geojson\n",
    "out_fname='Results/Training_samples_Rwanda.geojson'\n",
    "gpd_samples.to_file(out_fname, driver=\"GeoJSON\")"
   ]
  },
  {
   "cell_type": "code",
   "execution_count": null,
   "id": "8eaed410-96f4-4866-8e20-c10cbacb7c80",
   "metadata": {},
   "outputs": [],
   "source": []
  }
 ],
 "metadata": {
  "kernelspec": {
   "display_name": "Python 3 (ipykernel)",
   "language": "python",
   "name": "python3"
  },
  "language_info": {
   "codemirror_mode": {
    "name": "ipython",
    "version": 3
   },
   "file_extension": ".py",
   "mimetype": "text/x-python",
   "name": "python",
   "nbconvert_exporter": "python",
   "pygments_lexer": "ipython3",
   "version": "3.8.10"
  },
  "vscode": {
   "interpreter": {
    "hash": "01a9736267bf300689e8e016092cd01f0c67384dd94651ae6e139a291bc8cc97"
   }
  }
 },
 "nbformat": 4,
 "nbformat_minor": 5
}

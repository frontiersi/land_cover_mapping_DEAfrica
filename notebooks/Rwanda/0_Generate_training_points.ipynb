{
 "cells": [
  {
   "attachments": {},
   "cell_type": "markdown",
   "id": "52edbdeb-dbc9-468a-903f-90ff58c5eb32",
   "metadata": {},
   "source": [
    "This notebook generates randomly distributed training points from a reference land cover map of Rwanda. Class merging is applied before sampling. The class-merged reference land cover map is also exported for future use."
   ]
  },
  {
   "attachments": {},
   "cell_type": "markdown",
   "id": "3ecd7a8a",
   "metadata": {},
   "source": [
    "## load packages"
   ]
  },
  {
   "cell_type": "code",
   "execution_count": null,
   "id": "4769af3a-e34a-4932-87fd-2a10af37b120",
   "metadata": {},
   "outputs": [],
   "source": [
    "import numpy as np\n",
    "import geopandas as gpd\n",
    "import pandas as pd\n",
    "import xarray as xr\n",
    "from rasterio.enums import Resampling\n",
    "from random_sampling import random_sampling # adapted from function by Chad Burton: https://gist.github.com/cbur24/04760d645aa123a3b1817b07786e7d9f\n",
    "from datacube.utils.cog import write_cog"
   ]
  },
  {
   "attachments": {},
   "cell_type": "markdown",
   "id": "644c0b37",
   "metadata": {},
   "source": [
    "## input files and attributes"
   ]
  },
  {
   "cell_type": "code",
   "execution_count": null,
   "id": "9971ade5",
   "metadata": {},
   "outputs": [],
   "source": [
    "# file paths and attributes\n",
    "basemap_path='Data/rwanda_landcover_2015_scheme_ii.tif' # baseline classification map\n",
    "output_crs='epsg:32735' # output crs: WGS84/UTM Zone 35S\n",
    "class_name='LC_Class_I' # class label in integer format\n",
    "n_samples=5000 # number of total training points to be extracted"
   ]
  },
  {
   "attachments": {},
   "cell_type": "markdown",
   "id": "87fdfc3e",
   "metadata": {},
   "source": [
    "## class merging"
   ]
  },
  {
   "cell_type": "code",
   "execution_count": null,
   "id": "a7240b62",
   "metadata": {},
   "outputs": [],
   "source": [
    "# load reference land cover map\n",
    "basemap_raster = xr.open_dataset(basemap_path,engine=\"rasterio\").astype(np.uint8).squeeze(\"band\", drop=True)\n",
    "# reproject the raster\n",
    "basemap_raster= basemap_raster.rio.reproject(resolution=10, dst_crs=output_crs,resampling=Resampling.nearest)\n",
    "print('baseline classifcation raster:\\n',basemap_raster)\n",
    "da_mask=basemap_raster.band_data\n",
    "\n",
    "# merge classes when needed\n",
    "da_mask=da_mask.where(da_mask!=2,1) # merge moderate forest (2) and dense forest (1)\n",
    "da_mask=da_mask.where(da_mask!=6,5) # merge open grassland (6) and closed grassland (5)\n",
    "da_mask=da_mask.where(da_mask!=8,7) # merge open shrubland (8) and closed shrubland (7)\n",
    "da_mask=da_mask.where((da_mask!=14)&(da_mask!=3)&(da_mask!=0)&(da_mask!=255),0) # classes with very few pixels or nodata: assign as 0\n",
    "\n",
    "# export map with merged classes\n",
    "write_cog(da_mask,'Results/rwanda_landcover_2015_scheme_ii_classes_merged.tif', overwrite=True)"
   ]
  },
  {
   "attachments": {},
   "cell_type": "markdown",
   "id": "72c05387",
   "metadata": {},
   "source": [
    "## generate training points"
   ]
  },
  {
   "cell_type": "code",
   "execution_count": null,
   "id": "bfd02835",
   "metadata": {},
   "outputs": [],
   "source": [
    "da_mask=da_mask.where((da_mask!=0),np.nan) # replace other and nodata class values as nan so they won't be sampled\n",
    "# da_mask=da_mask.where((da_mask!=255)&(da_mask!=0),np.nan) # replace other and nodata class values as nan so they won't be sampled\n",
    "\n",
    "# gpd_samples=random_sampling(da_mask,n_samples,sampling='stratified_random', manual_class_ratios=None,out_fname=None) # stratified sampling\n",
    "gpd_samples=random_sampling(da_mask,n_samples,sampling='manual',\n",
    "                            manual_class_ratios={'1.0':900,'5.0':600,'7.0':900,'9.0':900,'10.0':1300,'11.0':900,'12.0':600,'13.0':1000},\n",
    "                            out_fname=None) # manual sampling: to keep enough samples for minor classes\n",
    "if gpd_samples.crs is None: # assign crs in case it's lost somehow\n",
    "    gpd_samples=gpd_samples.set_crs(output_crs)\n",
    "# assign class attribute\n",
    "gpd_samples[class_name]=gpd_samples['class'].astype(int)\n",
    "print('stratified samples:\\n')\n",
    "print(gpd_samples)"
   ]
  },
  {
   "attachments": {},
   "cell_type": "markdown",
   "id": "ee1cb2b0",
   "metadata": {},
   "source": [
    "## export training points"
   ]
  },
  {
   "cell_type": "code",
   "execution_count": null,
   "id": "d49acb2e",
   "metadata": {},
   "outputs": [],
   "source": [
    "# export as geojson\n",
    "# gpd_samples.to_file('Results/stratified_random_training_points_scheme_ii_2015.geojson', driver=\"GeoJSON\")\n",
    "gpd_samples.to_file('Results/manual_number_random_training_points_scheme_ii_2015.geojson', driver=\"GeoJSON\")"
   ]
  }
 ],
 "metadata": {
  "kernelspec": {
   "display_name": "geoenv",
   "language": "python",
   "name": "python3"
  },
  "language_info": {
   "codemirror_mode": {
    "name": "ipython",
    "version": 3
   },
   "file_extension": ".py",
   "mimetype": "text/x-python",
   "name": "python",
   "nbconvert_exporter": "python",
   "pygments_lexer": "ipython3",
   "version": "3.7.12 | packaged by conda-forge | (default, Oct 26 2021, 05:37:49) [MSC v.1916 64 bit (AMD64)]"
  },
  "vscode": {
   "interpreter": {
    "hash": "01a9736267bf300689e8e016092cd01f0c67384dd94651ae6e139a291bc8cc97"
   }
  }
 },
 "nbformat": 4,
 "nbformat_minor": 5
}

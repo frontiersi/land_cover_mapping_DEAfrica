{
 "cells": [
  {
   "cell_type": "code",
   "execution_count": 1,
   "id": "a1fb5d20-1648-45df-a3b8-f665cced018d",
   "metadata": {},
   "outputs": [
    {
     "name": "stderr",
     "output_type": "stream",
     "text": [
      "/usr/local/lib/python3.8/dist-packages/geopandas/_compat.py:112: UserWarning: The Shapely GEOS version (3.8.0-CAPI-1.13.1 ) is incompatible with the GEOS version PyGEOS was compiled with (3.10.1-CAPI-1.16.0). Conversions between both will be slow.\n",
      "  warnings.warn(\n"
     ]
    }
   ],
   "source": [
    "%matplotlib inline\n",
    "import os\n",
    "import datacube\n",
    "import warnings\n",
    "import numpy as np\n",
    "import geopandas as gpd\n",
    "import pandas as pd\n",
    "import xarray as xr\n",
    "import rioxarray\n",
    "from rasterio.enums import Resampling\n",
    "from datacube.utils.cog import write_cog\n",
    "from deafrica_tools.spatial import xr_rasterize\n",
    "from skimage.morphology import binary_dilation,disk\n",
    "from skimage.filters.rank import modal\n",
    "from odc.algo import xr_reproject\n",
    "import matplotlib.pyplot as plt\n",
    "\n",
    "crs='epsg:32735' # WGS84/UTM Zone 35S\n",
    "# dict_map={'Trees':1,'Grassland':6,'Shrubland':8,'Cropland':10,'Vegetated Wetland':11,\n",
    "#           'Open Water':12,'Settlements':13,'Irrigated Cropland':14} # class value dictionary\n",
    "dict_map={'Forest':1,'Grassland':5,'Shrubland':7,'Perennial Cropland':9,'Annual Cropland':10,\n",
    "          'Wetland':11,'Water Body':12,'Urban Settlement':13}\n",
    "# file paths and attributes\n",
    "# lesotho_shp='Data/Rwanda_Boundary.shp' # Lesotho boundary shapefile\n",
    "lesotho_tiles_shp='Data/Rwanda_tiles_epsg32736_smaller.shp' # Lesotho tiles shapefile\n",
    "# lesotho_tiles_shp='Results/Rwanda_random_sampling_AOIs.geojson'\n",
    "river_network_shp='Data/hotosm_rwa_waterways_lines.shp' # OSM river network data\n",
    "road_network_shp='Data/hotosm_rwa_roads_lines_filtered.shp' # OSM road network data\n",
    "google_building_shp='Data/GoogleBuildingLayer_Rwanda.shp' # google bulding layer\n",
    "# classification2021_raster='Results/Land_cover2021_postproc_step2_mosaic.tif' # land cover map of 2021\n",
    "classification2021_raster='Results/Land_cover_prediction_Rwanda_2021_using_2015_sheme2_stratified_samples_balanced_smaller_mosaic.tif' # land cover map of 2021\n",
    "hand_raster='Data/hand_Rwanda.tif' # Hydrologically adjusted elevations, i.e. height above the nearest drainage (hand)\n",
    "\n",
    "# import Lesotho boundaries and get bounding box\n",
    "# lesotho_polygon=gpd.read_file(lesotho_shp)\n",
    "# [x_min,y_min,x_max,y_max]=lesotho_polygon.total_bounds\n",
    "# print('Lethoso bbox: ',x_min,y_min,x_max,y_max)\n",
    "lesotho_tiles=gpd.read_file(lesotho_tiles_shp).to_crs(crs) # get bounding boxes of tiles covering Lesotho\n",
    "tile_bboxes=lesotho_tiles.bounds\n",
    "\n",
    "# load land cover maps\n",
    "landcover2021=rioxarray.open_rasterio(classification2021_raster).astype(np.uint8).squeeze() # import land cover map of 2021\n",
    "landcover2021=landcover2021.rio.reproject(crs) # reproject land cover map 2021\n",
    "\n",
    "# load external layers\n",
    "road_network=gpd.read_file(road_network_shp).to_crs(crs) # import OSM road network data and reproject\n",
    "road_network=road_network.loc[road_network['surface'].isin(['asphalt', 'paved', 'compacted', 'cobblestone', \n",
    "                                                             'concrete', 'metal', 'paving_stones', \n",
    "                                                             'paving_stones:30'])] # select road network by attributes\n",
    "road_network.geometry=road_network.geometry.buffer(10) # buffer the road network by 10m\n",
    "river_network=gpd.read_file(river_network_shp).to_crs(crs) # import OSM river network data and reproject\n",
    "river_network=river_network.loc[river_network['waterway'].isin(['canal','river'])] # select river network by attribute\n",
    "hand=xr.open_dataset(hand_raster,engine=\"rasterio\").squeeze() # import hand layer\n",
    "google_buildings=gpd.read_file(google_building_shp).to_crs(crs) # import google bulding layer\n",
    "google_buildings=google_buildings.loc[google_buildings['confidence']>=0.6] # filter out low confidence polygons"
   ]
  },
  {
   "cell_type": "code",
   "execution_count": null,
   "id": "c77d5018-3925-49cf-b357-d28bc8109b09",
   "metadata": {},
   "outputs": [],
   "source": [
    "for i in range(len(tile_bboxes)):\n",
    "# for i in range(71,len(tile_bboxes)):\n",
    "    x_min,y_min,x_max,y_max=tile_bboxes.iloc[i]\n",
    "    print('Processing tile ',i,'with bbox of ',x_min,y_min,x_max,y_max)\n",
    "    # clip land cover maps to tile boundary\n",
    "    landcover2021_tile=landcover2021.rio.clip_box(minx=x_min,miny=y_min,maxx=x_max,maxy=y_max)\n",
    "    ds_geobox=landcover2021_tile.geobox\n",
    "    np_landcover2021=landcover2021_tile.squeeze().to_numpy()\n",
    "    np_landcover2021_post=np_landcover2021.copy()\n",
    "    # mode filtering for a smoother classification map\n",
    "#     np_landcover2021_post=modal(np_landcover2021,selem=disk(2.5),mask=np_landcover2021!=0)\n",
    "    np_landcover2021_post=modal(np_landcover2021,selem=disk(2),mask=np_landcover2021!=0)\n",
    "    # load hand layer\n",
    "    hand=xr_reproject(hand, ds_geobox, resampling=\"average\")\n",
    "    np_hand=hand.to_array().squeeze().to_numpy()\n",
    "    # Make sure water is (only occuring at bottom of watersheds) or fallen within OSM river networks\n",
    "    river_network_mask=xr_rasterize(gdf=river_network,\n",
    "                                      da=landcover2021_tile.squeeze(),\n",
    "                                      transform=ds_geobox.transform,\n",
    "                                      crs=crs)\n",
    "    np_river_network_mask=river_network_mask.to_numpy()\n",
    "#     np_landcover2021_post[((np_landcover2021==dict_map['Open Water'])&(np_hand<=45))|(np_river_network_mask==1)]=dict_map['Open Water']\n",
    "    np_landcover2021_post[((np_landcover2021==dict_map['Water Body'])&(np_hand<=45))|(np_river_network_mask==1)]=dict_map['Water Body']\n",
    "    # assign pixels overlapping google building polygons as built-up\n",
    "    google_buildings_mask=xr_rasterize(gdf=google_buildings,\n",
    "                                      da=landcover2021_tile.squeeze(),\n",
    "                                      transform=ds_geobox.transform,\n",
    "                                      crs=crs)\n",
    "    np_google_buildings_mask=google_buildings_mask.to_numpy()\n",
    "#     np_landcover2021_post[np_google_buildings_mask==1]=dict_map['Settlements']\n",
    "    np_landcover2021_post[np_google_buildings_mask==1]=dict_map['Urban Settlement']\n",
    "    # reclassify wetlands around (within 50m of) built-up areas as croplands\n",
    "#     urban_buffered=binary_dilation(np_landcover2021==dict_map['Settlements'],selem=disk(5))\n",
    "    urban_buffered=binary_dilation(np_landcover2021==dict_map['Urban Settlement'],selem=disk(5))\n",
    "#     np_landcover2021_post[(urban_buffered==1)&(np_landcover2021==dict_map['Vegetated Wetland'])]=dict_map['Cropland']\n",
    "    np_landcover2021_post[(urban_buffered==1)&(np_landcover2021==dict_map['Wetland'])]=dict_map['Annual Cropland']\n",
    "    # assign pixesl overlapping OSM road network as built-up class\n",
    "    road_network_mask=xr_rasterize(gdf=road_network,\n",
    "                                  da=landcover2021_tile.squeeze(),\n",
    "                                  transform=ds_geobox.transform,\n",
    "                                  crs=crs)\n",
    "    np_road_network_mask=road_network_mask.to_numpy()\n",
    "#     np_landcover2021_post[np_road_network_mask==1]=dict_map['Settlements']\n",
    "    np_landcover2021_post[np_road_network_mask==1]=dict_map['Urban Settlement']\n",
    "    # convert back result back to DataArray\n",
    "    landcover2021_tile_post=xr.DataArray(data=np_landcover2021_post,dims=['y','x'],coords={'y':landcover2021_tile.y.to_numpy(), 'x':landcover2021_tile.x.to_numpy()})\n",
    "    landcover2021_tile_post.rio.write_crs(crs, inplace=True)\n",
    "    # export as geotiff\n",
    "    write_cog(landcover2021_tile_post, 'Results/Land_cover_prediction_Rwanda_2021_using_2015_sheme2_stratified_samples_balanced_post-processed_smaller_tile_'+str(i)+'.tif', overwrite=True)\n",
    "#     write_cog(landcover2021_tile_post, \n",
    "#               'Results/Land_cover_prediction_Rwanda_2021_using_2015_sheme2_stratified_samples_balanced_post-processed_AOI_'+str(i)+'.tif', \n",
    "#               overwrite=True)"
   ]
  },
  {
   "cell_type": "code",
   "execution_count": 3,
   "id": "880214b8-3feb-4e43-a443-6aca932d0590",
   "metadata": {},
   "outputs": [
    {
     "name": "stdout",
     "output_type": "stream",
     "text": [
      "0...10...20...30...40...50...60...70...80...90...100 - done.\n"
     ]
    }
   ],
   "source": [
    "! gdal_merge.py -o Results/Land_cover_prediction_Rwanda_2021_using_2015_sheme2_stratified_samples_balanced_post-processed_smaller_mosaic.tif -co COMPRESS=Deflate -ot Byte Results/Land_cover_prediction_Rwanda_2021_using_2015_sheme2_stratified_samples_balanced_post-processed_smaller_tile_*.tif"
   ]
  },
  {
   "cell_type": "code",
   "execution_count": null,
   "id": "b058a2b7-83a2-4925-8327-614ae1e799d9",
   "metadata": {},
   "outputs": [],
   "source": []
  }
 ],
 "metadata": {
  "kernelspec": {
   "display_name": "Python 3 (ipykernel)",
   "language": "python",
   "name": "python3"
  },
  "language_info": {
   "codemirror_mode": {
    "name": "ipython",
    "version": 3
   },
   "file_extension": ".py",
   "mimetype": "text/x-python",
   "name": "python",
   "nbconvert_exporter": "python",
   "pygments_lexer": "ipython3",
   "version": "3.8.10"
  }
 },
 "nbformat": 4,
 "nbformat_minor": 5
}

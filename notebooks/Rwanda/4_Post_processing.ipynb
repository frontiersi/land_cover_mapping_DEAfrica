{
 "cells": [
  {
   "attachments": {},
   "cell_type": "markdown",
   "id": "fb6e2fec-fed1-43d9-ad17-722bf27b9d2d",
   "metadata": {},
   "source": [
    "This notebook applies morphological smoothing and rule-based reclassification using external layers."
   ]
  },
  {
   "attachments": {},
   "cell_type": "markdown",
   "id": "2da172cf",
   "metadata": {},
   "source": [
    "### load packages"
   ]
  },
  {
   "cell_type": "code",
   "execution_count": 1,
   "id": "a1fb5d20-1648-45df-a3b8-f665cced018d",
   "metadata": {},
   "outputs": [
    {
     "name": "stderr",
     "output_type": "stream",
     "text": [
      "/usr/local/lib/python3.8/dist-packages/geopandas/_compat.py:112: UserWarning: The Shapely GEOS version (3.8.0-CAPI-1.13.1 ) is incompatible with the GEOS version PyGEOS was compiled with (3.10.1-CAPI-1.16.0). Conversions between both will be slow.\n",
      "  warnings.warn(\n"
     ]
    }
   ],
   "source": [
    "%matplotlib inline\n",
    "import os\n",
    "import datacube\n",
    "import warnings\n",
    "import numpy as np\n",
    "import geopandas as gpd\n",
    "import pandas as pd\n",
    "import xarray as xr\n",
    "import rioxarray\n",
    "from rasterio.enums import Resampling\n",
    "from datacube.utils.cog import write_cog\n",
    "from deafrica_tools.spatial import xr_rasterize\n",
    "from skimage.morphology import binary_dilation,disk\n",
    "from skimage.filters.rank import modal\n",
    "from odc.algo import xr_reproject\n",
    "import matplotlib.pyplot as plt\n"
   ]
  },
  {
   "attachments": {},
   "cell_type": "markdown",
   "id": "559b87b4",
   "metadata": {},
   "source": [
    "### input layers and set parameters"
   ]
  },
  {
   "cell_type": "code",
   "execution_count": null,
   "id": "44fce14e",
   "metadata": {},
   "outputs": [],
   "source": [
    "# file paths and attributes\n",
    "rwanda_tiles_shp='Data/Rwanda_tiles_epsg32736_smaller.shp' # Lesotho tiles shapefile\n",
    "# rwanda_tiles_shp='Results/Rwanda_random_sampling_AOIs.geojson'\n",
    "river_network_shp='Data/hotosm_rwa_waterways_lines.shp' # OSM river network data\n",
    "road_network_shp='Data/hotosm_rwa_roads_lines_filtered.shp' # OSM road network data\n",
    "google_building_shp='Data/GoogleBuildingLayer_Rwanda.shp' # google bulding layer\n",
    "hand_raster='Data/hand_Rwanda.tif' # Hydrologically adjusted elevations, i.e. height above the nearest drainage (hand)\n",
    "classification2021_raster='Results/Land_cover_prediction_Rwanda_2021_using_2015_sheme2_stratified_samples_balanced_smaller_mosaic.tif' # predicted land cover map of 2021\n",
    "dict_map={'Forest':1,'Grassland':5,'Shrubland':7,'Perennial Cropland':9,'Annual Cropland':10,\n",
    "          'Wetland':11,'Water Body':12,'Urban Settlement':13} # dictionary of class values corresponding to each class name\n",
    "output_crs='epsg:32735' # output crs: WGS84/UTM Zone 35S"
   ]
  },
  {
   "attachments": {},
   "cell_type": "markdown",
   "id": "4ef9af3d",
   "metadata": {},
   "source": [
    "## load layers"
   ]
  },
  {
   "cell_type": "code",
   "execution_count": null,
   "id": "2e2f03e6",
   "metadata": {},
   "outputs": [],
   "source": [
    "# load Rwanda tiles and get bounding box\n",
    "rwanda_tiles=gpd.read_file(rwanda_tiles_shp).to_crs(output_crs) # get bounding boxes of tiles covering Lesotho\n",
    "tile_bboxes=rwanda_tiles.bounds\n",
    "\n",
    "# load land cover maps\n",
    "landcover2021=rioxarray.open_rasterio(classification2021_raster).astype(np.uint8).squeeze() # import land cover map of 2021\n",
    "landcover2021=landcover2021.rio.reproject(output_crs) # reproject\n",
    "\n",
    "# load external layers\n",
    "# OSM road network\n",
    "road_network=gpd.read_file(road_network_shp).to_crs(output_crs) # import OSM road network data and reproject\n",
    "road_network=road_network.loc[road_network['surface'].isin(['asphalt', 'paved', 'compacted', 'cobblestone', \n",
    "                                                             'concrete', 'metal', 'paving_stones', \n",
    "                                                             'paving_stones:30'])] # select road network by attributes\n",
    "road_network.geometry=road_network.geometry.buffer(10) # buffer the road network by 10m\n",
    "\n",
    "# OSM river network\n",
    "river_network=gpd.read_file(river_network_shp).to_crs(output_crs) # import OSM river network data and reproject\n",
    "river_network=river_network.loc[river_network['waterway'].isin(['canal','river'])] # select river network by attribute\n",
    "\n",
    "# hand layer\n",
    "hand=xr.open_dataset(hand_raster,engine=\"rasterio\").squeeze()\n",
    "\n",
    "# google bulding layer\n",
    "google_buildings=gpd.read_file(google_building_shp).to_crs(output_crs)\n",
    "google_buildings=google_buildings.loc[google_buildings['confidence']>=0.6] # filter out low confidence polygons"
   ]
  },
  {
   "attachments": {},
   "cell_type": "markdown",
   "id": "516533e3",
   "metadata": {},
   "source": [
    "### loop through tiles for reclassification and export as geotiffs"
   ]
  },
  {
   "cell_type": "code",
   "execution_count": null,
   "id": "c77d5018-3925-49cf-b357-d28bc8109b09",
   "metadata": {},
   "outputs": [],
   "source": [
    "# loop through all tiles for reclassification across the country\n",
    "for i in range(len(tile_bboxes)):\n",
    "    \n",
    "    # get tile bbox\n",
    "    x_min,y_min,x_max,y_max=tile_bboxes.iloc[i]\n",
    "    print('Processing tile ',i,'with bbox of ',x_min,y_min,x_max,y_max)\n",
    "    \n",
    "    # clip land cover map to tile boundary\n",
    "    landcover2021_tile=landcover2021.rio.clip_box(minx=x_min,miny=y_min,maxx=x_max,maxy=y_max)\n",
    "    ds_geobox=landcover2021_tile.geobox # get bbox\n",
    "    np_landcover2021=landcover2021_tile.squeeze().to_numpy() # data array to numpy array\n",
    "    np_landcover2021_post=np_landcover2021.copy() # initialise reclassified numpy array\n",
    "    \n",
    "    # mode filtering for a smoother classification map\n",
    "    np_landcover2021_post=modal(np_landcover2021,selem=disk(2),mask=np_landcover2021!=0)\n",
    "    \n",
    "    # load  and clip hand layer\n",
    "    hand=xr_reproject(hand, ds_geobox, resampling=\"average\")\n",
    "    np_hand=hand.to_array().squeeze().to_numpy()\n",
    "    \n",
    "    # Make sure water is (only occuring at bottom of watersheds) or fallen within OSM river networks\n",
    "    river_network_mask=xr_rasterize(gdf=river_network,\n",
    "                                      da=landcover2021_tile.squeeze(),\n",
    "                                      transform=ds_geobox.transform,\n",
    "                                      crs=output_crs)\n",
    "    np_river_network_mask=river_network_mask.to_numpy()\n",
    "    np_landcover2021_post[((np_landcover2021==dict_map['Water Body'])&(np_hand<=45))|(np_river_network_mask==1)]=dict_map['Water Body']\n",
    "    \n",
    "    # assign pixels overlapping google building polygons as built-up\n",
    "    google_buildings_mask=xr_rasterize(gdf=google_buildings,\n",
    "                                      da=landcover2021_tile.squeeze(),\n",
    "                                      transform=ds_geobox.transform,\n",
    "                                      crs=output_crs)\n",
    "    np_google_buildings_mask=google_buildings_mask.to_numpy()\n",
    "    np_landcover2021_post[np_google_buildings_mask==1]=dict_map['Urban Settlement']\n",
    "    \n",
    "    # reclassify wetlands around (within 50m of) built-up areas as annual croplands\n",
    "    urban_buffered=binary_dilation(np_landcover2021==dict_map['Urban Settlement'],selem=disk(5))\n",
    "    np_landcover2021_post[(urban_buffered==1)&(np_landcover2021==dict_map['Wetland'])]=dict_map['Annual Cropland']\n",
    "    \n",
    "    # assign pixesl overlapping OSM road network as built-up class\n",
    "    road_network_mask=xr_rasterize(gdf=road_network,\n",
    "                                  da=landcover2021_tile.squeeze(),\n",
    "                                  transform=ds_geobox.transform,\n",
    "                                  crs=output_crs)\n",
    "    np_road_network_mask=road_network_mask.to_numpy()\n",
    "    np_landcover2021_post[np_road_network_mask==1]=dict_map['Urban Settlement']\n",
    "    \n",
    "    # convert reclassified numpy array result back to DataArray\n",
    "    landcover2021_tile_post=xr.DataArray(data=np_landcover2021_post,dims=['y','x'],coords={'y':landcover2021_tile.y.to_numpy(), 'x':landcover2021_tile.x.to_numpy()})\n",
    "    landcover2021_tile_post.rio.write_crs(output_crs, inplace=True)\n",
    "    \n",
    "    # export as geotiff\n",
    "    write_cog(landcover2021_tile_post, 'Results/Land_cover_prediction_Rwanda_2021_using_2015_sheme2_stratified_samples_balanced_post-processed_smaller_tile_'+str(i)+'.tif', overwrite=True)\n",
    "#     write_cog(landcover2021_tile_post, 'Results/Land_cover_prediction_Rwanda_2021_using_2015_sheme2_stratified_samples_balanced_post-processed_AOI_'+str(i)+'.tif', overwrite=True)"
   ]
  },
  {
   "attachments": {},
   "cell_type": "markdown",
   "id": "5d48e948",
   "metadata": {},
   "source": [
    "### mosaic all post-processed tiles"
   ]
  },
  {
   "cell_type": "code",
   "execution_count": 3,
   "id": "880214b8-3feb-4e43-a443-6aca932d0590",
   "metadata": {},
   "outputs": [
    {
     "name": "stdout",
     "output_type": "stream",
     "text": [
      "0...10...20...30...40...50...60...70...80...90...100 - done.\n"
     ]
    }
   ],
   "source": [
    "# merge into a mosaic once all tiles are processed\n",
    "! gdal_merge.py -o Results/Land_cover_prediction_Rwanda_2021_using_2015_sheme2_stratified_samples_balanced_post-processed_smaller_mosaic.tif -co COMPRESS=Deflate -ot Byte Results/Land_cover_prediction_Rwanda_2021_using_2015_sheme2_stratified_samples_balanced_post-processed_smaller_tile_*.tif"
   ]
  }
 ],
 "metadata": {
  "kernelspec": {
   "display_name": "geoenv",
   "language": "python",
   "name": "python3"
  },
  "language_info": {
   "codemirror_mode": {
    "name": "ipython",
    "version": 3
   },
   "file_extension": ".py",
   "mimetype": "text/x-python",
   "name": "python",
   "nbconvert_exporter": "python",
   "pygments_lexer": "ipython3",
   "version": "3.7.12 | packaged by conda-forge | (default, Oct 26 2021, 05:37:49) [MSC v.1916 64 bit (AMD64)]"
  },
  "vscode": {
   "interpreter": {
    "hash": "01a9736267bf300689e8e016092cd01f0c67384dd94651ae6e139a291bc8cc97"
   }
  }
 },
 "nbformat": 4,
 "nbformat_minor": 5
}

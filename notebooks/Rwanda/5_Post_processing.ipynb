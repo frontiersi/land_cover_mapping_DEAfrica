{
 "cells": [
  {
   "cell_type": "markdown",
   "metadata": {},
   "source": [
    "This notebook applies morphological smoothing and rule-based reclassification using external layers including DE Africas crop mask product."
   ]
  },
  {
   "cell_type": "markdown",
   "metadata": {},
   "source": [
    "### load packages"
   ]
  },
  {
   "cell_type": "code",
   "execution_count": null,
   "metadata": {},
   "outputs": [],
   "source": [
    "%matplotlib inline\n",
    "import os\n",
    "import datacube\n",
    "import warnings\n",
    "import numpy as np\n",
    "import geopandas as gpd\n",
    "import pandas as pd\n",
    "import xarray as xr\n",
    "import rioxarray\n",
    "from rasterio.enums import Resampling\n",
    "from datacube.utils.cog import write_cog\n",
    "from deafrica_tools.spatial import xr_rasterize\n",
    "from skimage.morphology import binary_dilation,disk,area_closing\n",
    "from skimage.filters.rank import modal\n",
    "from skimage.segmentation import expand_labels\n",
    "from odc.algo import xr_reproject\n",
    "import matplotlib.pyplot as plt"
   ]
  },
  {
   "cell_type": "markdown",
   "metadata": {},
   "source": [
    "### input files paths and parameters"
   ]
  },
  {
   "cell_type": "code",
   "execution_count": null,
   "metadata": {},
   "outputs": [],
   "source": [
    "output_crs='epsg:32735' # WGS84/UTM Zone 35S\n",
    "dict_map={'Forest':1,'Grassland':5,'Shrubland':7,'Perennial Cropland':9,'Annual Cropland':10,\n",
    "          'Wetland':11,'Water Body':12,'Urban Settlement':13,'Bare Soil':14}\n",
    "# file paths and attributes\n",
    "rwanda_tiles_shp='Data/Rwanda_tiles.shp'\n",
    "river_network_shp='Data/hotosm_rwa_waterways_lines.shp' # OSM river network data\n",
    "road_network_shp='Data/hotosm_rwa_roads_lines_filtered.shp' # OSM road network data\n",
    "google_building_raster='Data/GoogleBuildingLayer_Rwanda_reprojected_rasterised.tif' # google bulding layer:\n",
    "hand_raster='Data/hand_Rwanda.tif' # Hydrologically adjusted elevations, i.e. height above the nearest drainage (hand)\n",
    "wsf2019_raster='Data/WSF2019_v1_Rwanda_clipped.tif' # 2019 WSF raster\n",
    "parks_json='Data/National Parks.geojson'\n",
    "wetlands_json='Data/Wetland.geojson'\n",
    "\n",
    "classification2021_raster='Results/Land_cover_prediction_Rwanda_2021_tiles_mosaic.tif' # land cover map of 2021"
   ]
  },
  {
   "cell_type": "markdown",
   "metadata": {},
   "source": [
    "### load layers"
   ]
  },
  {
   "cell_type": "code",
   "execution_count": null,
   "metadata": {},
   "outputs": [],
   "source": [
    "rwanda_tiles=gpd.read_file(rwanda_tiles_shp).to_crs(output_crs) # get bounding boxes of tiles covering rwanda\n",
    "tile_bboxes=rwanda_tiles.bounds\n",
    "\n",
    "# load land cover maps\n",
    "landcover2021=rioxarray.open_rasterio(classification2021_raster).astype(np.uint8).squeeze() # import land cover map of 2021\n",
    "\n",
    "# load external layers\n",
    "road_network=gpd.read_file(road_network_shp).to_crs(output_crs) # import OSM road network data and reproject\n",
    "road_network=road_network.loc[road_network['surface'].isin(['asphalt', 'paved', 'compacted', 'cobblestone', \n",
    "                                                             'concrete', 'metal', 'paving_stones', \n",
    "                                                             'paving_stones:30'])] # select road network by attributes\n",
    "road_network.geometry=road_network.geometry.buffer(10) # buffer the road network by 10m\n",
    "road_network_mask=xr_rasterize(gdf=road_network,da=landcover2021.squeeze(),\n",
    "                               transform=landcover2021.geobox.transform,crs=output_crs) # # rasterise buffered OSM road network layer\n",
    "\n",
    "river_network=gpd.read_file(river_network_shp).to_crs(output_crs) # import OSM river network data and reproject\n",
    "river_network=river_network.loc[river_network['waterway'].isin(['canal','river'])] # select river network by attribute\n",
    "river_network_mask=xr_rasterize(gdf=river_network,da=landcover2021.squeeze(),\n",
    "                                transform=landcover2021.geobox.transform,crs=output_crs) # rasterise OSM river network layer\n",
    "\n",
    "hand=xr.open_dataset(hand_raster,engine=\"rasterio\").squeeze() # import hand layer\n",
    "\n",
    "google_buildings_mask=xr.open_dataset(google_building_raster,engine=\"rasterio\").squeeze() # import google buildings layer\n",
    "\n",
    "wsf2019=xr.open_dataset(wsf2019_raster,engine=\"rasterio\").astype(np.int32).squeeze() # import WSF2019 layers\n",
    "\n",
    "# load national parks and wetlands layers\n",
    "parks=gpd.read_file(parks_json).to_crs(output_crs)\n",
    "parks=parks.loc[parks['type'].isin(['National Park','Volcanoes National Park'])] # select by type\n",
    "parks_mask=xr_rasterize(gdf=parks,da=landcover2021.squeeze(),\n",
    "                        transform=landcover2021.geobox.transform,crs=output_crs)\n",
    "\n",
    "wetlands=gpd.read_file(wetlands_json).to_crs(output_crs)\n",
    "wetlands_mask=xr_rasterize(gdf=wetlands,da=landcover2021.squeeze(),\n",
    "                        transform=landcover2021.geobox.transform,crs=output_crs)"
   ]
  },
  {
   "cell_type": "markdown",
   "metadata": {},
   "source": [
    "### loop through tiles for reclassification and export as geotiffs"
   ]
  },
  {
   "cell_type": "code",
   "execution_count": null,
   "metadata": {},
   "outputs": [],
   "source": [
    "# for i in range(len(tile_bboxes)):\n",
    "for i in range(0,2):# testing\n",
    "    x_min,y_min,x_max,y_max=tile_bboxes.iloc[i]\n",
    "    print('Processing tile ',i,'with bbox of ',x_min,y_min,x_max,y_max)\n",
    "    \n",
    "    # load DE Africa crop mask 2019\n",
    "    dc = datacube.Datacube(app='cropland_extent')\n",
    "    query = {\n",
    "        'time': ('2019'),\n",
    "        'x': (x_min,x_max),\n",
    "        'y': (y_min,y_max),\n",
    "        'resolution':(-10, 10),\n",
    "        'crs':output_crs,\n",
    "        'output_crs': output_crs,\n",
    "    }\n",
    "    # now load the crop-mask using the query\n",
    "    cm = dc.load(product='crop_mask',\n",
    "                 **query).squeeze()\n",
    "    ds_geobox=cm.geobox\n",
    "    np_crop_mask=cm['mask'].to_numpy()\n",
    "        \n",
    "    # clip land cover map 2021 to tile boundary\n",
    "    landcover2021_tile=xr_reproject(landcover2021, ds_geobox, resampling=\"nearest\") # clip to tile boundary\n",
    "    np_landcover2021=landcover2021_tile.squeeze().to_numpy() # data array to numpy array\n",
    "    np_landcover2021_post=np_landcover2021.copy() # initialise post-processed numpy array\n",
    "    \n",
    "    # mode filtering for a smoother classification map\n",
    "    np_landcover2021_post=modal(np_landcover2021_post,footprint=disk(1),mask=np_landcover2021_post!=0)\n",
    "    \n",
    "    # assign cropland pixels outside crop mask as Shrubland (Perenial Cropland) or Grassland (Annual Cropland)\n",
    "    np_landcover2021_post[(np_landcover2021_post==dict_map['Perennial Cropland'])&(np_crop_mask!=1)]=dict_map['Shrubland']\n",
    "    np_landcover2021_post[(np_landcover2021_post==dict_map['Annual Cropland'])&(np_crop_mask!=1)]=dict_map['Grassland']\n",
    "    \n",
    "    # merging Perennial Cropland and Annual cropland as Cropland\n",
    "    np_landcover2021_post[np_landcover2021_post==dict_map['Perennial Cropland']]=dict_map['Annual Cropland']\n",
    "    \n",
    "    # assign cropland pixels within national parks as Grassland\n",
    "    parks_mask_tile=xr_reproject(parks_mask, ds_geobox, resampling=\"nearest\")\n",
    "    np_parks_mask=parks_mask_tile.squeeze().to_numpy()\n",
    "    np_landcover2021_post[(np_landcover2021_post==dict_map['Annual Cropland'])&(np_parks_mask==1)]=dict_map['Grassland']\n",
    "    \n",
    "    # assign all classes within crop mask except Grassland as Cropland\n",
    "    np_landcover2021_post[(np_landcover2021_post!=dict_map['Grassland'])&(np_crop_mask==1)]=dict_map['Annual Cropland']\n",
    "    \n",
    "    # assign Urban Settlement pixels within national parks as surrounding classes\n",
    "    temp=np_landcover2021_post.copy()\n",
    "    temp[(np_landcover2021_post==dict_map['Urban Settlement'])&(np_parks_mask==1)]=0 # assign the regions as background\n",
    "    temp_closed=expand_labels(temp,distance=10000) # expand surrounding classes\n",
    "    mask=(temp!=temp_closed) # identify filled/changed areas\n",
    "    np_landcover2021_post[mask]=temp_closed[mask] # copy the filled/changed pixels\n",
    "    \n",
    "    # assign wetlands pixels outside Wetlands polygons as shrubland\n",
    "    wetlands_mask_tile=xr_reproject(wetlands_mask, ds_geobox, resampling=\"nearest\")\n",
    "    np_wetlands_mask=wetlands_mask_tile.squeeze().to_numpy()\n",
    "    np_landcover2021_post[(np_landcover2021_post==dict_map['Wetland'])&(np_wetlands_mask!=1)]=dict_map['Shrubland']\n",
    "    \n",
    "#     # assign wetlands outside Wetlands polygons as neighbouring class\n",
    "#     wetlands_mask_tile=xr_reproject(wetlands_mask, ds_geobox, resampling=\"nearest\")\n",
    "#     np_wetlands_mask=wetlands_mask_tile.squeeze().to_numpy()\n",
    "#     temp=np_landcover2021_post.copy()\n",
    "#     temp[(np_landcover2021_post==dict_map['Wetland'])&(np_wetlands_mask!=1)]=0\n",
    "#     temp_closed=expand_labels(temp,distance=10000)\n",
    "#     mask=(temp!=temp_closed)\n",
    "#     np_landcover2021_post[mask]=temp_closed[mask]\n",
    "    \n",
    "    #     # reclassify wetlands around (within 50m of) built-up areas as Forest\n",
    "#     urban_buffered=binary_dilation(np_landcover2021_post==dict_map['Urban Settlement'],footprint=disk(5)) # dilating built-up regions\n",
    "#     np_landcover2021_post[(urban_buffered==1)&(np_landcover2021_post==dict_map['Wetland'])]=dict_map['Forest'] # apply rule\n",
    "    \n",
    "    # Make sure water is (only occuring at bottom of watersheds) or fallen within OSM river networks\n",
    "    # assign water pixels outside these areas as surrounding class\n",
    "    hand_tile=xr_reproject(hand, ds_geobox, resampling=\"average\")\n",
    "    np_hand=hand_tile.to_array().squeeze().to_numpy()\n",
    "    river_network_mask_tile=xr_reproject(river_network_mask, ds_geobox, resampling=\"nearest\")\n",
    "    np_river_network_mask=river_network_mask_tile.squeeze().to_numpy() # data array to numpy array\n",
    "    temp=np_landcover2021_post.copy()\n",
    "    temp[(np_landcover2021_post==dict_map['Water Body'])&(np_hand>45)&(np_river_network_mask!=1)]=0\n",
    "    temp_closed=expand_labels(temp,distance=10000)\n",
    "    mask=(temp!=temp_closed)\n",
    "    np_landcover2021_post[mask]=temp_closed[mask]\n",
    "#     np_landcover2021_post[((np_landcover2021_post==dict_map['Water Body'])&(np_hand<=45))|(np_river_network_mask==1)]=dict_map['Water Body'] # apply rules\n",
    "\n",
    "    # assign pixels overlapping OSM river network as Water Body\n",
    "    np_landcover2021_post[np_river_network_mask==1]=dict_map['Water Body']\n",
    "    \n",
    "    # assign pixels overlapping google building polygons or WSF 2019 as built-up\n",
    "    google_buildings_mask_tile=xr_reproject(google_buildings_mask, ds_geobox, resampling=\"nearest\")\n",
    "    np_google_buildings_mask=google_buildings_mask_tile.to_array().squeeze().to_numpy() # data array to numpy array\n",
    "    wsf2019_tile=xr_reproject(wsf2019, ds_geobox, resampling=\"nearest\") # load and clip WSF layers\n",
    "    np_wsf2019=wsf2019_tile.to_array().squeeze().to_numpy()\n",
    "    np_landcover2021_post[(np_google_buildings_mask==1)|(np_wsf2019==255)]=dict_map['Urban Settlement'] # apply rules\n",
    "    \n",
    "    # assign pixels overlapping buffered OSM road network as built-up class\n",
    "    road_network_mask_tile=xr_reproject(road_network_mask, ds_geobox, resampling=\"nearest\")\n",
    "    np_road_network_mask=road_network_mask_tile.squeeze().to_numpy() # data array to numpy array\n",
    "    np_landcover2021_post[np_road_network_mask==1]=dict_map['Urban Settlement'] # burn in buffered OSM road network polygons\n",
    "    \n",
    "    # convert result back to DataArray\n",
    "    landcover2021_tile_post=xr.DataArray(data=np_landcover2021_post,dims=['y','x'],coords={'y':landcover2021_tile.y.to_numpy(), 'x':landcover2021_tile.x.to_numpy()})\n",
    "    landcover2021_tile_post.rio.write_crs(output_crs, inplace=True)\n",
    "    \n",
    "    # export as geotiff\n",
    "    write_cog(landcover2021_tile_post, 'Results/Land_cover_prediction_postprocessed_Rwanda_2021_tile_'+str(i)+'.tif', overwrite=True)"
   ]
  },
  {
   "cell_type": "markdown",
   "metadata": {},
   "source": [
    "### mosaic all post-processed tiles"
   ]
  },
  {
   "cell_type": "code",
   "execution_count": null,
   "metadata": {},
   "outputs": [],
   "source": [
    "! gdal_merge.py -o Results/Land_cover_prediction_postprocessed_Rwanda_2021_tiles_mosaic.tif -co COMPRESS=Deflate -ot Byte Results/Land_cover_prediction_postprocessed_Rwanda_2021_tile_*.tif"
   ]
  }
 ],
 "metadata": {
  "kernelspec": {
   "display_name": "Python 3 (ipykernel)",
   "language": "python",
   "name": "python3"
  },
  "language_info": {
   "codemirror_mode": {
    "name": "ipython",
    "version": 3
   },
   "file_extension": ".py",
   "mimetype": "text/x-python",
   "name": "python",
   "nbconvert_exporter": "python",
   "pygments_lexer": "ipython3",
   "version": "3.8.10"
  },
  "vscode": {
   "interpreter": {
    "hash": "01a9736267bf300689e8e016092cd01f0c67384dd94651ae6e139a291bc8cc97"
   }
  }
 },
 "nbformat": 4,
 "nbformat_minor": 4
}

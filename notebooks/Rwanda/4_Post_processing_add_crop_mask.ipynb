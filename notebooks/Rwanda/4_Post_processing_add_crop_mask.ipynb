{
 "cells": [
  {
   "attachments": {},
   "cell_type": "markdown",
   "metadata": {},
   "source": [
    "This notebook applies morphological smoothing and rule-based reclassification using external layers including DE Africas crop mask product."
   ]
  },
  {
   "attachments": {},
   "cell_type": "markdown",
   "id": "2da172cf",
   "metadata": {},
   "source": [
    "### load packages"
   ]
  },
  {
   "cell_type": "code",
   "execution_count": null,
   "id": "a1fb5d20-1648-45df-a3b8-f665cced018d",
   "metadata": {},
   "outputs": [
    {
     "name": "stderr",
     "output_type": "stream",
     "text": [
      "/usr/local/lib/python3.8/dist-packages/geopandas/_compat.py:112: UserWarning: The Shapely GEOS version (3.8.0-CAPI-1.13.1 ) is incompatible with the GEOS version PyGEOS was compiled with (3.10.1-CAPI-1.16.0). Conversions between both will be slow.\n",
      "  warnings.warn(\n"
     ]
    }
   ],
   "source": [
    "%matplotlib inline\n",
    "import os\n",
    "import datacube\n",
    "import warnings\n",
    "import numpy as np\n",
    "import geopandas as gpd\n",
    "import pandas as pd\n",
    "import xarray as xr\n",
    "import rioxarray\n",
    "from rasterio.enums import Resampling\n",
    "from datacube.utils.cog import write_cog\n",
    "from deafrica_tools.spatial import xr_rasterize\n",
    "from skimage.morphology import binary_dilation,disk\n",
    "from skimage.filters.rank import modal\n",
    "from odc.algo import xr_reproject\n",
    "import matplotlib.pyplot as plt\n"
   ]
  },
  {
   "attachments": {},
   "cell_type": "markdown",
   "id": "559b87b4",
   "metadata": {},
   "source": [
    "### input files paths and set parameters"
   ]
  },
  {
   "cell_type": "code",
   "execution_count": null,
   "metadata": {},
   "outputs": [],
   "source": [
    "output_crs='epsg:32735' # WGS84/UTM Zone 35S\n",
    "# dict_map={'Trees':1,'Grassland':6,'Shrubland':8,'Cropland':10,'Vegetated Wetland':11,\n",
    "#           'Open Water':12,'Settlements':13,'Irrigated Cropland':14} # class value dictionary\n",
    "dict_map={'Forest':1,'Grassland':5,'Shrubland':7,'Perennial Cropland':9,'Annual Cropland':10,\n",
    "          'Wetland':11,'Water Body':12,'Urban Settlement':13}\n",
    "          \n",
    "# file paths and attributes\n",
    "# rwanda_shp='Data/Rwanda_Boundary.shp' # rwanda boundary shapefile\n",
    "# rwanda_tiles_shp='Data/Rwanda_tiles_epsg32736_smaller.shp' # rwanda tiles shapefile\n",
    "rwanda_tiles_shp='Results/Rwanda_random_sampling_AOIs.geojson' # rwanda tiles shapefile\n",
    "river_network_shp='Data/hotosm_rwa_waterways_lines.shp' # OSM river network data\n",
    "road_network_shp='Data/hotosm_rwa_roads_lines_filtered.shp' # OSM road network data\n",
    "google_building_shp='Data/GoogleBuildingLayer_Rwanda.shp' # google bulding layer\n",
    "# classification2021_raster='Results/Land_cover_prediction_Rwanda_2021_using_2015_sheme2_stratified_samples_balanced_smaller_mosaic.tif' # land cover map of 2021\n",
    "classification2021_raster='Results/Land_cover_prediction_Rwanda_2021_using_2015_sheme2_equal_samples_AOIs_mosaic.tif' # land cover map of 2021\n",
    "hand_raster='Data/hand_Rwanda.tif' # Hydrologically adjusted elevations, i.e. height above the nearest drainage (hand)\n",
    "wsf2019_raster='Data/WSF2019_v1_Rwanda_clipped.tif' # 2019 WSF raster"
   ]
  },
  {
   "attachments": {},
   "cell_type": "markdown",
   "metadata": {},
   "source": [
    "## load layers"
   ]
  },
  {
   "cell_type": "code",
   "execution_count": null,
   "metadata": {},
   "outputs": [],
   "source": [
    "# get bounding boxes of tiles covering rwanda\n",
    "rwanda_tiles=gpd.read_file(rwanda_tiles_shp).to_crs(output_crs) \n",
    "tile_bboxes=rwanda_tiles.bounds\n",
    "\n",
    "# load land cover maps\n",
    "landcover2021=rioxarray.open_rasterio(classification2021_raster).astype(np.uint8).squeeze() # import land cover map of 2021\n",
    "\n",
    "# load external layers\n",
    "# OSM road network\n",
    "road_network=gpd.read_file(road_network_shp).to_crs(output_crs) # import OSM road network data and reproject\n",
    "road_network=road_network.loc[road_network['surface'].isin(['asphalt', 'paved', 'compacted', 'cobblestone', \n",
    "                                                             'concrete', 'metal', 'paving_stones', \n",
    "                                                             'paving_stones:30'])] # select road network by attributes\n",
    "road_network.geometry=road_network.geometry.buffer(10) # buffer the road network by 10m\n",
    "road_network_mask=xr_rasterize(gdf=road_network,da=landcover2021.squeeze(),\n",
    "                               transform=landcover2021.geobox.transform,crs=output_crs) # # rasterise buffered OSM road network layer\n",
    "# OSM river network\n",
    "river_network=gpd.read_file(river_network_shp).to_crs(output_crs) # import OSM river network data and reproject\n",
    "river_network=river_network.loc[river_network['waterway'].isin(['canal','river'])] # select river network by attribute\n",
    "river_network_mask=xr_rasterize(gdf=river_network,da=landcover2021.squeeze(),\n",
    "                                transform=landcover2021.geobox.transform,crs=output_crs) # rasterise OSM river network layer\n",
    "# import hand layer\n",
    "hand=xr.open_dataset(hand_raster,engine=\"rasterio\").squeeze()\n",
    "\n",
    "# import google bulding layer\n",
    "google_buildings=gpd.read_file(google_building_shp).to_crs(output_crs) \n",
    "google_buildings=google_buildings.loc[google_buildings['confidence']>=0.6] # filter out low confidence polygons\n",
    "google_buildings_mask=xr_rasterize(gdf=google_buildings,da=landcover2021.squeeze(),\n",
    "                                  transform=landcover2021.geobox.transform,crs=output_crs)\n",
    "wsf2019=xr.open_dataset(wsf2019_raster,engine=\"rasterio\").astype(np.int32).squeeze() # import WSF2019 layers"
   ]
  },
  {
   "attachments": {},
   "cell_type": "markdown",
   "metadata": {},
   "source": [
    "### loop through tiles for reclassification and export as geotiffs"
   ]
  },
  {
   "cell_type": "code",
   "execution_count": null,
   "metadata": {},
   "outputs": [],
   "source": [
    "for i in range(0,len(tile_bboxes)):\n",
    "    # get tile bounding box\n",
    "    x_min,y_min,x_max,y_max=tile_bboxes.iloc[i]\n",
    "    print('Processing tile ',i,'with bbox of ',x_min,y_min,x_max,y_max)\n",
    "    \n",
    "    # load DE Africa crop mask 2019\n",
    "    dc = datacube.Datacube(app='cropland_extent')\n",
    "    query = {\n",
    "        'time': ('2019'),\n",
    "        'x': (x_min,x_max),\n",
    "        'y': (y_min,y_max),\n",
    "        'resolution':(-10, 10),\n",
    "        'crs':output_crs,\n",
    "        'output_crs': output_crs,\n",
    "    }\n",
    "    # now load the crop-mask using the query\n",
    "    cm = dc.load(product='crop_mask',\n",
    "                 **query).squeeze()\n",
    "    ds_geobox=cm.geobox\n",
    "    \n",
    "    # clip land cover map 2021 to tile boundary\n",
    "    landcover2021_tile=xr_reproject(landcover2021, ds_geobox, resampling=\"nearest\") # clip to tile boundary\n",
    "    np_landcover2021=landcover2021_tile.squeeze().to_numpy() # data array to numpy array\n",
    "    np_landcover2021_post=np_landcover2021.copy() # initialise post-processed numpy array\n",
    "    \n",
    "    # reclassify wetlands around (within 50m of) built-up areas as Forest\n",
    "    urban_buffered=binary_dilation(np_landcover2021_post==dict_map['Urban Settlement'],footprint=disk(5)) # dilating built-up regions\n",
    "    np_landcover2021_post[(urban_buffered==1)&(np_landcover2021_post==dict_map['Wetland'])]=dict_map['Forest'] # apply rule\n",
    "    \n",
    "    # assign pixels within crop mask but not classified as Perennial Cropland as Annual cropland\n",
    "    np_crop_mask=cm['mask'].to_numpy()\n",
    "    np_landcover2021_post[(np_landcover2021!=dict_map['Perennial Cropland'])&(np_crop_mask==1)]=dict_map['Annual Cropland']\n",
    "    \n",
    "    # mode filtering for a smoother classification map\n",
    "#     np_landcover2021_post=modal(np_landcover2021_post,footprint=disk(2.5),mask=np_landcover2021!=0)\n",
    "    np_landcover2021_post=modal(np_landcover2021_post,footprint=disk(2),mask=np_landcover2021_post!=0)\n",
    "    \n",
    "    # load hand layer\n",
    "    hand=xr_reproject(hand, ds_geobox, resampling=\"average\")\n",
    "    np_hand=hand.to_array().squeeze().to_numpy()\n",
    "    \n",
    "    # Make sure water is (only occuring at bottom of watersheds) or fallen within OSM river networks\n",
    "    river_network_mask_tile=xr_reproject(river_network_mask, ds_geobox, resampling=\"nearest\")\n",
    "    np_river_network_mask=river_network_mask_tile.squeeze().to_numpy() # data array to numpy array\n",
    "    np_landcover2021_post[((np_landcover2021_post==dict_map['Water Body'])&(np_hand<=45))|(np_river_network_mask==1)]=dict_map['Water Body'] # apply rules\n",
    "    \n",
    "    # assign pixels overlapping google building polygons or WSF 2019 as built-up\n",
    "    google_buildings_mask_tile=xr_reproject(google_buildings_mask, ds_geobox, resampling=\"nearest\")\n",
    "    np_google_buildings_mask=google_buildings_mask_tile.squeeze().to_numpy() # data array to numpy array\n",
    "    wsf2019_tile=xr_reproject(wsf2019, ds_geobox, resampling=\"nearest\") # load and clip WSF layers\n",
    "    np_wsf2019=wsf2019_tile.to_array().squeeze().to_numpy()\n",
    "    np_landcover2021_post[(np_google_buildings_mask==1)|(np_wsf2019==255)]=dict_map['Urban Settlement'] # apply rules\n",
    "    \n",
    "    # assign pixesl overlapping buffered OSM road network as built-up class\n",
    "    road_network_mask_tile=xr_reproject(road_network_mask, ds_geobox, resampling=\"nearest\")\n",
    "    np_road_network_mask=road_network_mask_tile.squeeze().to_numpy() # data array to numpy array\n",
    "    np_landcover2021_post[np_road_network_mask==1]=dict_map['Urban Settlement'] # burn in buffered OSM road network polygons\n",
    "    \n",
    "    # convert back result back to DataArray\n",
    "    landcover2021_tile_post=xr.DataArray(data=np_landcover2021_post,dims=['y','x'],coords={'y':landcover2021_tile.y.to_numpy(), 'x':landcover2021_tile.x.to_numpy()})\n",
    "    landcover2021_tile_post.rio.write_crs(output_crs, inplace=True)\n",
    "    \n",
    "    # export as geotiff\n",
    "    write_cog(landcover2021_tile_post, 'Results/Land_cover_prediction_postproc_Rwanda_2021_using_2015_sheme2_equal_random_samples_AOI_'+str(i)+'.tif', overwrite=True)"
   ]
  },
  {
   "attachments": {},
   "cell_type": "markdown",
   "metadata": {},
   "source": [
    "### mosaic all post-processed tiles"
   ]
  },
  {
   "cell_type": "code",
   "execution_count": null,
   "metadata": {},
   "outputs": [],
   "source": [
    "! gdal_merge.py -o Results/Land_cover_prediction_postproc_Rwanda_2021_using_2015_sheme2_equal_random_samples_AOIs_mosaic.tif -co COMPRESS=Deflate -ot Byte Results/Land_cover_prediction_postproc_Rwanda_2021_using_2015_sheme2_equal_random_samples_AOI_*.tif"
   ]
  }
 ],
 "metadata": {
  "kernelspec": {
   "display_name": "geoenv",
   "language": "python",
   "name": "python3"
  },
  "language_info": {
   "name": "python",
   "version": "3.7.12 | packaged by conda-forge | (default, Oct 26 2021, 05:37:49) [MSC v.1916 64 bit (AMD64)]"
  },
  "orig_nbformat": 4,
  "vscode": {
   "interpreter": {
    "hash": "01a9736267bf300689e8e016092cd01f0c67384dd94651ae6e139a291bc8cc97"
   }
  }
 },
 "nbformat": 4,
 "nbformat_minor": 2
}

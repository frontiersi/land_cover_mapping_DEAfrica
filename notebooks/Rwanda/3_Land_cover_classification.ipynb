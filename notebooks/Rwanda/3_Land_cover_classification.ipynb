{
 "cells": [
  {
   "cell_type": "markdown",
   "id": "123f3d02-21f7-45e1-9b7a-a47b67ac03e7",
   "metadata": {},
   "source": [
    "This notebook loads in satellite data, predict land cover using a pre-trained random forest model."
   ]
  },
  {
   "cell_type": "code",
   "execution_count": 1,
   "id": "3f25a5f8-7a17-43cf-b69f-87b46e8939aa",
   "metadata": {},
   "outputs": [
    {
     "name": "stderr",
     "output_type": "stream",
     "text": [
      "/usr/local/lib/python3.8/dist-packages/geopandas/_compat.py:112: UserWarning: The Shapely GEOS version (3.8.0-CAPI-1.13.1 ) is incompatible with the GEOS version PyGEOS was compiled with (3.10.1-CAPI-1.16.0). Conversions between both will be slow.\n",
      "  warnings.warn(\n",
      "/usr/local/lib/python3.8/dist-packages/dask/dataframe/utils.py:367: FutureWarning: pandas.Int64Index is deprecated and will be removed from pandas in a future version. Use pandas.Index with the appropriate dtype instead.\n",
      "  _numeric_index_types = (pd.Int64Index, pd.Float64Index, pd.UInt64Index)\n",
      "/usr/local/lib/python3.8/dist-packages/dask/dataframe/utils.py:367: FutureWarning: pandas.Float64Index is deprecated and will be removed from pandas in a future version. Use pandas.Index with the appropriate dtype instead.\n",
      "  _numeric_index_types = (pd.Int64Index, pd.Float64Index, pd.UInt64Index)\n",
      "/usr/local/lib/python3.8/dist-packages/dask/dataframe/utils.py:367: FutureWarning: pandas.UInt64Index is deprecated and will be removed from pandas in a future version. Use pandas.Index with the appropriate dtype instead.\n",
      "  _numeric_index_types = (pd.Int64Index, pd.Float64Index, pd.UInt64Index)\n"
     ]
    },
    {
     "name": "stdout",
     "output_type": "stream",
     "text": [
      "ncpus = 62\n",
      "tile boundaries for Rwanda: \n",
      "          minx      miny       maxx      maxy\n",
      "0   28.858947 -2.399463  29.128840 -2.127967\n",
      "1   28.858086 -2.670073  29.128121 -2.398489\n",
      "2   28.857133 -2.940681  29.127316 -2.669009\n",
      "3   29.129841 -1.588116  29.399398 -1.316832\n",
      "4   29.129293 -1.858813  29.398969 -1.587446\n",
      "5   29.128660 -2.129509  29.398460 -1.858059\n",
      "6   29.127941 -2.400203  29.397871 -2.128671\n",
      "7   29.127136 -2.670897  29.397201 -2.399282\n",
      "8   29.126244 -2.941589  29.396451 -2.669892\n",
      "9   29.398789 -1.588571  29.668395 -1.317238\n",
      "10  29.398280 -1.859345  29.667998 -1.587935\n",
      "11  29.397691 -2.130118  29.667526 -1.858632\n",
      "12  29.397021 -2.400891  29.666981 -2.129328\n",
      "13  29.396271 -2.671662  29.666361 -2.400022\n",
      "14  29.395441 -2.942431  29.665667 -2.670716\n",
      "15  29.668215 -1.318144  29.937763 -1.046839\n",
      "16  29.667818 -1.588990  29.937466 -1.317615\n",
      "17  29.667347 -1.859836  29.937101 -1.588390\n",
      "18  29.666801 -2.130681  29.936667 -1.859164\n",
      "19  29.666181 -2.401525  29.936166 -2.129937\n",
      "20  29.665487 -2.672367  29.935596 -2.400710\n",
      "21  29.664719 -2.943209  29.934958 -2.671480\n",
      "22  29.937286 -1.318462  30.206876 -1.047115\n",
      "23  29.936921 -1.589374  30.206605 -1.317963\n",
      "24  29.936487 -1.860286  30.206272 -1.588809\n",
      "25  29.935986 -2.131196  30.205876 -1.859655\n",
      "26  29.935416 -2.402106  30.205419 -2.130500\n",
      "27  29.934778 -2.673014  30.204899 -2.401344\n",
      "28  30.206425 -1.318752  30.476051 -1.047369\n",
      "29  30.206092 -1.589724  30.475806 -1.318281\n",
      "30  30.205696 -1.860694  30.475505 -1.589194\n",
      "31  30.205239 -2.131665  30.475148 -1.860105\n",
      "32  30.204719 -2.402633  30.474734 -2.131015\n",
      "33  30.475627 -1.319012  30.745283 -1.047599\n",
      "34  30.475325 -1.590037  30.745064 -1.318571\n",
      "35  30.474968 -1.861062  30.744795 -1.589543\n",
      "36  30.474554 -2.132085  30.744475 -1.860513\n",
      "37  30.474084 -2.403108  30.744106 -2.131483\n",
      "38  30.473558 -2.674129  30.743686 -2.402452\n",
      "39  30.744615 -1.590316  31.014371 -1.318831\n",
      "40  30.744295 -1.861388  31.014134 -1.589856\n",
      "41  30.743926 -2.132459  31.013853 -1.860881\n",
      "42  30.743506 -2.403529  31.013527 -2.131904\n",
      "loaded random forest models:\n",
      " RandomForestClassifier(n_jobs=1)\n"
     ]
    }
   ],
   "source": [
    "%matplotlib inline\n",
    "import os\n",
    "import datacube\n",
    "import warnings\n",
    "import time\n",
    "import numpy as np\n",
    "from scipy import stats\n",
    "import pandas as pd\n",
    "import geopandas as gpd\n",
    "import matplotlib.pyplot as plt\n",
    "from odc.io.cgroups import get_cpu_quota\n",
    "from odc.algo import xr_geomedian\n",
    "import xarray as xr\n",
    "from joblib import load\n",
    "from deafrica_tools.classification import predict_xr\n",
    "from deafrica_tools.dask import create_local_dask_cluster\n",
    "from deafrica_tools.datahandling import load_ard\n",
    "from deafrica_tools.bandindices import calculate_indices\n",
    "from deafrica_tools.plotting import display_map\n",
    "from datacube.utils.cog import write_cog\n",
    "\n",
    "# file paths and attributes\n",
    "# rwanda_tiles_shp='Results/Rwanda_random_sampling_AOIs.geojson' # randomly selected small regions\n",
    "rwanda_tiles_shp='Data/Rwanda_tiles_epsg32736_smaller.shp' # tiles covering the entire country\n",
    "\n",
    "# rf_model_path='Results/RF_model_Rwanda_2021_using_2015_scheme2_stratified_samples.joblib'\n",
    "rf_model_path='Results/RF_model_Rwanda_2021_using_2015_scheme2_manual_random_samples.joblib' # trained random forest model\n",
    "\n",
    "class_name = 'LC_Class_I' # class label in integer format\n",
    "crs='epsg:4326' # input crs: WGS84\n",
    "output_crs='epsg:32735' # output crs: WGS84/UTM Zone 35S\n",
    "fill_nan_value=-999 # value to replace nans in query results\n",
    "\n",
    "# load and get bounding boxes of tiles covering Rwanda\n",
    "rwanda_tiles=gpd.read_file(rwanda_tiles_shp).to_crs(crs)\n",
    "tile_bboxes=rwanda_tiles.bounds\n",
    "print('tile boundaries for Rwanda: \\n',tile_bboxes)\n",
    "\n",
    "# load trained model\n",
    "rf_model = load(rf_model_path).set_params(n_jobs=1)\n",
    "print('loaded random forest models:\\n',rf_model)\n",
    "\n",
    "# band mesurements for query\n",
    "measurements = ['blue','green','red','red_edge_1','red_edge_2', 'red_edge_3','nir_1','nir_2','swir_1','swir_2']\n",
    "\n",
    "# Set up a dask cluster\n",
    "create_local_dask_cluster(n_workers=1)"
   ]
  },
  {
   "cell_type": "code",
   "execution_count": null,
   "id": "222c8c86-bb7e-40e7-a653-351a938144de",
   "metadata": {},
   "outputs": [],
   "source": [
    "# define a function to feature layers\n",
    "def feature_layers(query): \n",
    "    #connect to the datacube\n",
    "    dc = datacube.Datacube(app='feature_layers')\n",
    "    # query bands\n",
    "    ds = load_ard(dc=dc,\n",
    "                  products=['s2_l2a'],\n",
    "                  group_by='solar_day',\n",
    "                  verbose=False,\n",
    "                  #mask_filters=[(\"opening\", 2)], # morphological opening by 2 pixels to remove small masked regions\n",
    "                  **query)\n",
    "    # calculate NDVI\n",
    "    ds_index = calculate_indices(ds,index=['NDVI'],drop=False,satellite_mission='s2')\n",
    "    del ds\n",
    "    # calculate geomedians within each two-month interval\n",
    "    ds_geomedian=ds_index.resample(time='2MS').map(xr_geomedian)\n",
    "    del ds_index\n",
    "#     # rechunk to a single array along time dimension so that interpolate_na can be applied: note: this may consume more memory\n",
    "#     ds_geomedian=ds_geomedian.chunk({'time':-1})\n",
    "#     # interpolate nodata using mean of previous and next observation\n",
    "#     ds_geomedian=ds_geomedian.interpolate_na(dim='time',method='linear',use_coordinate=False)\n",
    "    # stack multi-temporal measurements and rename them\n",
    "    n_time=ds_geomedian.dims['time']\n",
    "    list_measurements=list(ds_geomedian.keys())\n",
    "    list_stack_measures=[]\n",
    "    for j in range(len(list_measurements)):\n",
    "        for k in range(n_time):\n",
    "            variable_name=list_measurements[j]+'_'+str(k)\n",
    "            measure_single=ds_geomedian[list_measurements[j]].isel(time=k).rename(variable_name)\n",
    "            list_stack_measures.append(measure_single)\n",
    "    ds_stacked=xr.merge(list_stack_measures,compat='override')\n",
    "    return ds_stacked"
   ]
  },
  {
   "cell_type": "code",
   "execution_count": null,
   "id": "d782ae8b-bcc8-4b3e-8e67-2fa2f910daef",
   "metadata": {
    "tags": []
   },
   "outputs": [],
   "source": [
    "# loop through all tiles and predict land cover\n",
    "for i in range(0,len(tile_bboxes)):\n",
    "    minx,miny,maxx,maxy=tile_bboxes.iloc[i]\n",
    "    print('bounding box for tile ',i,': minx: ',minx,'miny: ',miny,'maxx: ',maxx,'maxy: ',maxy)\n",
    "    # load Sentinel-2 data\n",
    "    query = {\n",
    "        'x': (minx,maxx),\n",
    "        'y': (miny,maxy),\n",
    "        'time': ('2021-01', '2021-12'),\n",
    "        'measurements': measurements,\n",
    "        'resolution': (-10, 10),\n",
    "        'crs':crs,\n",
    "        'output_crs':output_crs,\n",
    "#         'dask_chunks' : {'x':-1, 'y':-1}\n",
    "        'dask_chunks' : {'x':1700, 'y':1700}\n",
    "    }\n",
    "    all_data = feature_layers(query) #calculate features\n",
    "    print('stacked Sentinel-2 dataset:\\n',all_data)\n",
    "    start_time = time.time() # start timing how long it takes for the prediction\n",
    "    predicted = predict_xr(rf_model,all_data,persist=False,clean=True).compute() # predict classes of all data using the RF model\n",
    "    print(\"%s seconds spent on predicting\" % (time.time() - start_time))  # print time spent on prediction\n",
    "    \n",
    "    # write final prediction as cog file\n",
    "    print('writing cog file...')\n",
    "#     outname_prediction='Results/Land_cover_prediction_Rwanda_2021_using_2015_sheme2_manual_random_samples_AOI_'+str(i)+'.tif'\n",
    "    outname_prediction='Results/Land_cover_prediction_Rwanda_2021_using_2015_sheme2_stratified_samples_balanced_smaller_tile_'+str(i)+'.tif'\n",
    "#     outname_prediction='Results/Land_cover_prediction_Rwanda_2021_using_2015_sheme2_stratified_samples_AOI_'+str(i)+'.tif'\n",
    "    write_cog(predicted.Predictions, outname_prediction, overwrite=True)"
   ]
  },
  {
   "cell_type": "code",
   "execution_count": 3,
   "id": "dc66bf69-1e02-4fc4-b10b-454f58bca40a",
   "metadata": {},
   "outputs": [
    {
     "name": "stdout",
     "output_type": "stream",
     "text": [
      "0...10...20...30...40...50...60...70...80...90...100 - done.\n"
     ]
    }
   ],
   "source": [
    "# merge multiple tiles as a mosaic tif\n",
    "# ! gdal_merge.py -o Results/Land_cover_prediction_Rwanda_2021_using_2015_sheme2_manual_random_samples_AOIs_mosaic.tif -co COMPRESS=Deflate -ot Byte Results/Land_cover_prediction_Rwanda_2021_using_2015_sheme2_manual_random_samples_AOI_*.tif\n",
    "! gdal_merge.py -o Results/Land_cover_prediction_Rwanda_2021_using_2015_sheme2_stratified_samples_balanced_smaller_mosaic.tif -co COMPRESS=Deflate -ot Byte Results/Land_cover_prediction_Rwanda_2021_using_2015_sheme2_stratified_samples_balanced_smaller_tile_*.tif\n",
    "# ! gdal_merge.py -o Results/Land_cover_prediction_Rwanda_2021_using_2015_sheme2_stratified_samples_balanced_AOIs_mosaic.tif -co COMPRESS=Deflate -ot Byte Results/Land_cover_prediction_Rwanda_2021_using_2015_sheme2_stratified_samples_balanced_AOI_*.tif"
   ]
  }
 ],
 "metadata": {
  "kernelspec": {
   "display_name": "Python 3 (ipykernel)",
   "language": "python",
   "name": "python3"
  },
  "language_info": {
   "codemirror_mode": {
    "name": "ipython",
    "version": 3
   },
   "file_extension": ".py",
   "mimetype": "text/x-python",
   "name": "python",
   "nbconvert_exporter": "python",
   "pygments_lexer": "ipython3",
   "version": "3.8.10"
  }
 },
 "nbformat": 4,
 "nbformat_minor": 5
}
